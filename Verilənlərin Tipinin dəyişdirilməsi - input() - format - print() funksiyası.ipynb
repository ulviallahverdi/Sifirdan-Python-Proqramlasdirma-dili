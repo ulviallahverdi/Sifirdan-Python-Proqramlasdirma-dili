{
 "cells": [
  {
   "cell_type": "code",
   "execution_count": 1,
   "id": "9a2e922b",
   "metadata": {},
   "outputs": [
    {
     "data": {
      "text/plain": [
       "2.0"
      ]
     },
     "execution_count": 1,
     "metadata": {},
     "output_type": "execute_result"
    }
   ],
   "source": [
    "# Verilenler Tipinin Deyisdirilmesi\n",
    "\n",
    "# * change data types (pow( one way to find)) - \n",
    "# * print() function and formatting\n",
    "# * input() - get input from a user\n",
    "\n",
    "4/2\n"
   ]
  },
  {
   "cell_type": "code",
   "execution_count": 2,
   "id": "22699be7",
   "metadata": {},
   "outputs": [
    {
     "data": {
      "text/plain": [
       "2.0"
      ]
     },
     "execution_count": 2,
     "metadata": {},
     "output_type": "execute_result"
    }
   ],
   "source": [
    "float(2)"
   ]
  },
  {
   "cell_type": "code",
   "execution_count": 3,
   "id": "04128849",
   "metadata": {},
   "outputs": [
    {
     "data": {
      "text/plain": [
       "2.0"
      ]
     },
     "execution_count": 3,
     "metadata": {},
     "output_type": "execute_result"
    }
   ],
   "source": [
    "4/2"
   ]
  },
  {
   "cell_type": "code",
   "execution_count": 5,
   "id": "fe4dbbe4",
   "metadata": {},
   "outputs": [
    {
     "data": {
      "text/plain": [
       "8.0"
      ]
     },
     "execution_count": 5,
     "metadata": {},
     "output_type": "execute_result"
    }
   ],
   "source": [
    "float(4*2)"
   ]
  },
  {
   "cell_type": "code",
   "execution_count": 8,
   "id": "b9f65772",
   "metadata": {},
   "outputs": [
    {
     "data": {
      "text/plain": [
       "2"
      ]
     },
     "execution_count": 8,
     "metadata": {},
     "output_type": "execute_result"
    }
   ],
   "source": [
    "int(4/2)"
   ]
  },
  {
   "cell_type": "code",
   "execution_count": 9,
   "id": "45441a7b",
   "metadata": {},
   "outputs": [
    {
     "data": {
      "text/plain": [
       "-1.0"
      ]
     },
     "execution_count": 9,
     "metadata": {},
     "output_type": "execute_result"
    }
   ],
   "source": [
    "float(-1)"
   ]
  },
  {
   "cell_type": "code",
   "execution_count": 10,
   "id": "59113443",
   "metadata": {},
   "outputs": [
    {
     "data": {
      "text/plain": [
       "9.0"
      ]
     },
     "execution_count": 10,
     "metadata": {},
     "output_type": "execute_result"
    }
   ],
   "source": [
    "float(9)"
   ]
  },
  {
   "cell_type": "code",
   "execution_count": 11,
   "id": "26f4a752",
   "metadata": {},
   "outputs": [
    {
     "data": {
      "text/plain": [
       "4"
      ]
     },
     "execution_count": 11,
     "metadata": {},
     "output_type": "execute_result"
    }
   ],
   "source": [
    "int(4.78)"
   ]
  },
  {
   "cell_type": "code",
   "execution_count": 12,
   "id": "eb08c7cd",
   "metadata": {},
   "outputs": [
    {
     "data": {
      "text/plain": [
       "78"
      ]
     },
     "execution_count": 12,
     "metadata": {},
     "output_type": "execute_result"
    }
   ],
   "source": [
    "int(78.3458374953748537495843)"
   ]
  },
  {
   "cell_type": "code",
   "execution_count": 14,
   "id": "ff9ed85f",
   "metadata": {},
   "outputs": [
    {
     "data": {
      "text/plain": [
       "3"
      ]
     },
     "execution_count": 14,
     "metadata": {},
     "output_type": "execute_result"
    }
   ],
   "source": [
    "a = 4\n",
    "b = 12\n",
    "int(b/a)"
   ]
  },
  {
   "cell_type": "code",
   "execution_count": 18,
   "id": "1175e371",
   "metadata": {},
   "outputs": [
    {
     "data": {
      "text/plain": [
       "str"
      ]
     },
     "execution_count": 18,
     "metadata": {},
     "output_type": "execute_result"
    }
   ],
   "source": [
    "a = 343743\n",
    "b = str(a)\n",
    "b\n",
    "type(b)"
   ]
  },
  {
   "cell_type": "code",
   "execution_count": 20,
   "id": "3131e3a2",
   "metadata": {},
   "outputs": [
    {
     "data": {
      "text/plain": [
       "6"
      ]
     },
     "execution_count": 20,
     "metadata": {},
     "output_type": "execute_result"
    }
   ],
   "source": [
    "a = 343743\n",
    "b = str(a)\n",
    "len(b)"
   ]
  },
  {
   "cell_type": "code",
   "execution_count": 24,
   "id": "c03c55c1",
   "metadata": {},
   "outputs": [
    {
     "data": {
      "text/plain": [
       "int"
      ]
     },
     "execution_count": 24,
     "metadata": {},
     "output_type": "execute_result"
    }
   ],
   "source": [
    "#String to Integer\n",
    "a = \"98834795\"\n",
    "b = int(a)\n",
    "b\n",
    "type(b)"
   ]
  },
  {
   "cell_type": "code",
   "execution_count": 26,
   "id": "eed962b2",
   "metadata": {
    "scrolled": true
   },
   "outputs": [
    {
     "ename": "ValueError",
     "evalue": "invalid literal for int() with base 10: '123salam'",
     "output_type": "error",
     "traceback": [
      "\u001b[1;31m---------------------------------------------------------------------------\u001b[0m",
      "\u001b[1;31mValueError\u001b[0m                                Traceback (most recent call last)",
      "\u001b[1;32m<ipython-input-26-8d666f4890a6>\u001b[0m in \u001b[0;36m<module>\u001b[1;34m\u001b[0m\n\u001b[0;32m      1\u001b[0m \u001b[0mdeyer\u001b[0m \u001b[1;33m=\u001b[0m \u001b[1;34m\"123salam\"\u001b[0m\u001b[1;33m\u001b[0m\u001b[1;33m\u001b[0m\u001b[0m\n\u001b[1;32m----> 2\u001b[1;33m \u001b[0mcevrilmis\u001b[0m \u001b[1;33m=\u001b[0m \u001b[0mint\u001b[0m\u001b[1;33m(\u001b[0m\u001b[0mdeyer\u001b[0m\u001b[1;33m)\u001b[0m\u001b[1;33m\u001b[0m\u001b[1;33m\u001b[0m\u001b[0m\n\u001b[0m\u001b[0;32m      3\u001b[0m \u001b[0mcevrilmis\u001b[0m\u001b[1;33m\u001b[0m\u001b[1;33m\u001b[0m\u001b[0m\n",
      "\u001b[1;31mValueError\u001b[0m: invalid literal for int() with base 10: '123salam'"
     ]
    }
   ],
   "source": [
    "deyer = \"123salam\"\n",
    "cevrilmis = int(deyer)\n",
    "cevrilmis\n",
    "#built-in functions"
   ]
  },
  {
   "cell_type": "code",
   "execution_count": 29,
   "id": "1158160f",
   "metadata": {},
   "outputs": [
    {
     "ename": "ValueError",
     "evalue": "could not convert string to float: '3.178943574s'",
     "output_type": "error",
     "traceback": [
      "\u001b[1;31m---------------------------------------------------------------------------\u001b[0m",
      "\u001b[1;31mValueError\u001b[0m                                Traceback (most recent call last)",
      "\u001b[1;32m<ipython-input-29-9012819b10a2>\u001b[0m in \u001b[0;36m<module>\u001b[1;34m\u001b[0m\n\u001b[0;32m      1\u001b[0m \u001b[0ma\u001b[0m \u001b[1;33m=\u001b[0m \u001b[1;34m\"3.178943574s\"\u001b[0m\u001b[1;33m\u001b[0m\u001b[1;33m\u001b[0m\u001b[0m\n\u001b[1;32m----> 2\u001b[1;33m \u001b[0mb\u001b[0m \u001b[1;33m=\u001b[0m \u001b[0mfloat\u001b[0m\u001b[1;33m(\u001b[0m\u001b[0ma\u001b[0m\u001b[1;33m)\u001b[0m\u001b[1;33m\u001b[0m\u001b[1;33m\u001b[0m\u001b[0m\n\u001b[0m\u001b[0;32m      3\u001b[0m \u001b[0mb\u001b[0m\u001b[1;33m\u001b[0m\u001b[1;33m\u001b[0m\u001b[0m\n",
      "\u001b[1;31mValueError\u001b[0m: could not convert string to float: '3.178943574s'"
     ]
    }
   ],
   "source": [
    "a = \"3.178943574s\"\n",
    "b = float(a)\n",
    "b"
   ]
  },
  {
   "cell_type": "code",
   "execution_count": 30,
   "id": "7209964a",
   "metadata": {},
   "outputs": [
    {
     "ename": "ValueError",
     "evalue": "could not convert string to float: '45.5656.4545'",
     "output_type": "error",
     "traceback": [
      "\u001b[1;31m---------------------------------------------------------------------------\u001b[0m",
      "\u001b[1;31mValueError\u001b[0m                                Traceback (most recent call last)",
      "\u001b[1;32m<ipython-input-30-ce29d7f1b874>\u001b[0m in \u001b[0;36m<module>\u001b[1;34m\u001b[0m\n\u001b[0;32m      1\u001b[0m \u001b[0ma\u001b[0m \u001b[1;33m=\u001b[0m \u001b[1;34m\"45.5656.4545\"\u001b[0m\u001b[1;33m\u001b[0m\u001b[1;33m\u001b[0m\u001b[0m\n\u001b[1;32m----> 2\u001b[1;33m \u001b[0mb\u001b[0m \u001b[1;33m=\u001b[0m \u001b[0mfloat\u001b[0m\u001b[1;33m(\u001b[0m\u001b[0ma\u001b[0m\u001b[1;33m)\u001b[0m\u001b[1;33m\u001b[0m\u001b[1;33m\u001b[0m\u001b[0m\n\u001b[0m\u001b[0;32m      3\u001b[0m \u001b[0mb\u001b[0m\u001b[1;33m\u001b[0m\u001b[1;33m\u001b[0m\u001b[0m\n",
      "\u001b[1;31mValueError\u001b[0m: could not convert string to float: '45.5656.4545'"
     ]
    }
   ],
   "source": [
    "a = \"45.5656.4545\"\n",
    "b = float(a)\n",
    "b"
   ]
  },
  {
   "cell_type": "code",
   "execution_count": 36,
   "id": "df461e6f",
   "metadata": {},
   "outputs": [
    {
     "data": {
      "text/plain": [
       "1"
      ]
     },
     "execution_count": 36,
     "metadata": {},
     "output_type": "execute_result"
    }
   ],
   "source": [
    "# Operatorlar\n",
    "\n",
    "# +\n",
    "# -\n",
    "# *\n",
    "# /\n",
    "# ** veya pow()\n",
    "# %\n",
    "# //\n",
    "\n",
    "# pow(2,6)\n",
    "len(str(int(float(pow(9,1/2)))))"
   ]
  },
  {
   "cell_type": "code",
   "execution_count": 37,
   "id": "d64cfe48",
   "metadata": {},
   "outputs": [
    {
     "name": "stdout",
     "output_type": "stream",
     "text": [
      "2\n"
     ]
    }
   ],
   "source": [
    "# print() funksiyasi ve formatlama\n",
    "\n",
    "a = 2\n",
    "print(a)"
   ]
  },
  {
   "cell_type": "code",
   "execution_count": 39,
   "id": "ad08b2ad",
   "metadata": {},
   "outputs": [
    {
     "data": {
      "text/plain": [
       "'2'"
      ]
     },
     "execution_count": 39,
     "metadata": {},
     "output_type": "execute_result"
    }
   ],
   "source": [
    "a = \"2\"\n",
    "a"
   ]
  },
  {
   "cell_type": "code",
   "execution_count": 42,
   "id": "dee68179",
   "metadata": {},
   "outputs": [
    {
     "name": "stdout",
     "output_type": "stream",
     "text": [
      "2\n"
     ]
    }
   ],
   "source": [
    "print(a)"
   ]
  },
  {
   "cell_type": "code",
   "execution_count": 43,
   "id": "bb7f8f20",
   "metadata": {},
   "outputs": [
    {
     "name": "stdout",
     "output_type": "stream",
     "text": [
      "123\n"
     ]
    }
   ],
   "source": [
    "print(123)"
   ]
  },
  {
   "cell_type": "code",
   "execution_count": 44,
   "id": "4e62fdb4",
   "metadata": {},
   "outputs": [
    {
     "name": "stdout",
     "output_type": "stream",
     "text": [
      "salam\n"
     ]
    }
   ],
   "source": [
    "print(\"salam\")"
   ]
  },
  {
   "cell_type": "code",
   "execution_count": 45,
   "id": "dac010e4",
   "metadata": {},
   "outputs": [
    {
     "name": "stdout",
     "output_type": "stream",
     "text": [
      "salamsalam\n"
     ]
    }
   ],
   "source": [
    "print(\"salam\"\"salam\")"
   ]
  },
  {
   "cell_type": "code",
   "execution_count": 49,
   "id": "b7ce805d",
   "metadata": {},
   "outputs": [
    {
     "name": "stdout",
     "output_type": "stream",
     "text": [
      "123 ,salam ,azerbaycan ,Orxan\n"
     ]
    }
   ],
   "source": [
    "print(123,\",salam\",\",azerbaycan\",\",Orxan\")\n"
   ]
  },
  {
   "cell_type": "code",
   "execution_count": 52,
   "id": "cef56a1c",
   "metadata": {},
   "outputs": [
    {
     "name": "stdout",
     "output_type": "stream",
     "text": [
      "salamazerbaycan ulvi\n"
     ]
    }
   ],
   "source": [
    "print(\"salam\"+\"azerbaycan\",\"ulvi\")"
   ]
  },
  {
   "cell_type": "code",
   "execution_count": 51,
   "id": "e6798d85",
   "metadata": {},
   "outputs": [
    {
     "data": {
      "text/plain": [
       "'salamazerbaycan'"
      ]
     },
     "execution_count": 51,
     "metadata": {},
     "output_type": "execute_result"
    }
   ],
   "source": [
    "\"salam\"+\"azerbaycan\""
   ]
  },
  {
   "cell_type": "code",
   "execution_count": 57,
   "id": "829115a0",
   "metadata": {},
   "outputs": [
    {
     "name": "stdout",
     "output_type": "stream",
     "text": [
      "2 + 4 = 6\n"
     ]
    }
   ],
   "source": [
    "a = 2\n",
    "b = 4\n",
    "print(a,\"+\",b,\"=\",a+b)"
   ]
  },
  {
   "cell_type": "code",
   "execution_count": 58,
   "id": "90353ff0",
   "metadata": {},
   "outputs": [
    {
     "name": "stdout",
     "output_type": "stream",
     "text": [
      "101\n"
     ]
    }
   ],
   "source": [
    "print(34+67)"
   ]
  },
  {
   "cell_type": "code",
   "execution_count": 59,
   "id": "a4b14b7c",
   "metadata": {},
   "outputs": [
    {
     "data": {
      "text/plain": [
       "101"
      ]
     },
     "execution_count": 59,
     "metadata": {},
     "output_type": "execute_result"
    }
   ],
   "source": [
    "34+67"
   ]
  },
  {
   "cell_type": "code",
   "execution_count": 62,
   "id": "61313c80",
   "metadata": {},
   "outputs": [
    {
     "name": "stdout",
     "output_type": "stream",
     "text": [
      "Menim ayliq xercim:  270 AZN-dir!\n"
     ]
    }
   ],
   "source": [
    "# Noyabr ayi ucun xerclerim hesablansin\n",
    "# 1. gunlerik xercleriniz\n",
    "# ayin gunleri\n",
    "gundelik_yemek = 3\n",
    "gundelik_neqliyyat = 2\n",
    "gundelik_casual = 4\n",
    "noyabr = 30\n",
    "ayliq_xercim = noyabr * (gundelik_yemek+gundelik_neqliyyat+gundelik_casual)\n",
    "print(\"Menim ayliq xercim: \",ayliq_xercim,\"AZN-dir!\")"
   ]
  },
  {
   "cell_type": "code",
   "execution_count": 71,
   "id": "18f02dc9",
   "metadata": {},
   "outputs": [
    {
     "name": "stdout",
     "output_type": "stream",
     "text": [
      "salam**Ulvi**necesen?**1990**1900!"
     ]
    }
   ],
   "source": [
    "print(\"salam\",\"Ulvi\",\"necesen?\",\"1990\",\"1900\",sep=\"**\",end=\"!\") # seperation - ayirma #end - son"
   ]
  },
  {
   "cell_type": "code",
   "execution_count": 70,
   "id": "9df14cd6",
   "metadata": {},
   "outputs": [
    {
     "name": "stdout",
     "output_type": "stream",
     "text": [
      "Ulvi!"
     ]
    }
   ],
   "source": [
    "print(\"Ulvi\",end=\"!\")"
   ]
  },
  {
   "cell_type": "code",
   "execution_count": 72,
   "id": "5d7a6a7e",
   "metadata": {},
   "outputs": [
    {
     "name": "stdout",
     "output_type": "stream",
     "text": [
      "Salam \n",
      "Ulvi\n"
     ]
    }
   ],
   "source": [
    "#default parameters - evvelceden teyin edilmis deyerler.\n",
    "# escape \n",
    "# \\n - new line\n",
    "# \\t - tab line (4 spaces - 4 bosluq)\n",
    "\n",
    "\n",
    "print(\"Salam\",\"\\nUlvi\")"
   ]
  },
  {
   "cell_type": "code",
   "execution_count": 73,
   "id": "536a1727",
   "metadata": {},
   "outputs": [
    {
     "data": {
      "text/plain": [
       "' \\\\ '"
      ]
     },
     "execution_count": 73,
     "metadata": {},
     "output_type": "execute_result"
    }
   ],
   "source": [
    "# \\ - disable function\n",
    "\"\"\" \\ \"\"\""
   ]
  },
  {
   "cell_type": "code",
   "execution_count": 74,
   "id": "15984ff8",
   "metadata": {},
   "outputs": [
    {
     "data": {
      "text/plain": [
       "'\\n'"
      ]
     },
     "execution_count": 74,
     "metadata": {},
     "output_type": "execute_result"
    }
   ],
   "source": [
    "\"\\n\""
   ]
  },
  {
   "cell_type": "code",
   "execution_count": 75,
   "id": "b9992d51",
   "metadata": {},
   "outputs": [
    {
     "data": {
      "text/plain": [
       "'Sala \\nUlvi'"
      ]
     },
     "execution_count": 75,
     "metadata": {},
     "output_type": "execute_result"
    }
   ],
   "source": [
    "\"Sala \\nUlvi\""
   ]
  },
  {
   "cell_type": "code",
   "execution_count": 76,
   "id": "fce7b00f",
   "metadata": {},
   "outputs": [
    {
     "name": "stdout",
     "output_type": "stream",
     "text": [
      "Salam\n",
      " Ulvi\n"
     ]
    }
   ],
   "source": [
    "print(\"Salam\\n\",\"Ulvi\")"
   ]
  },
  {
   "cell_type": "code",
   "execution_count": 77,
   "id": "1936c657",
   "metadata": {},
   "outputs": [
    {
     "name": "stdout",
     "output_type": "stream",
     "text": [
      "Salam \n",
      " Ulvi\n"
     ]
    }
   ],
   "source": [
    "print(\"Salam\",\"\\n\",\"Ulvi\")"
   ]
  },
  {
   "cell_type": "code",
   "execution_count": 84,
   "id": "1e629eb7",
   "metadata": {},
   "outputs": [
    {
     "name": "stdout",
     "output_type": "stream",
     "text": [
      "Salam\n",
      "Ulvi\n"
     ]
    }
   ],
   "source": [
    "print(\"Salam\",\"\\n\",\"Ulvi\",sep=\"\")"
   ]
  },
  {
   "cell_type": "code",
   "execution_count": 85,
   "id": "1011c17c",
   "metadata": {},
   "outputs": [
    {
     "name": "stdout",
     "output_type": "stream",
     "text": [
      "Hello \n",
      "World \n",
      "How are you?\n"
     ]
    }
   ],
   "source": [
    "print(\"Hello\",\"\\nWorld\",\"\\nHow are you?\")"
   ]
  },
  {
   "cell_type": "code",
   "execution_count": 86,
   "id": "65f02293",
   "metadata": {},
   "outputs": [
    {
     "name": "stdout",
     "output_type": "stream",
     "text": [
      "Hello \tWorld \tHow are you?\n"
     ]
    }
   ],
   "source": [
    "print(\"Hello\",\"\\tWorld\",\"\\tHow are you?\")"
   ]
  },
  {
   "cell_type": "code",
   "execution_count": 87,
   "id": "56c15455",
   "metadata": {},
   "outputs": [
    {
     "name": "stdout",
     "output_type": "stream",
     "text": [
      "Hello \\World \tHow are you?\n"
     ]
    }
   ],
   "source": [
    "print(\"Hello\",\"\\World\",\"\\tHow are you?\")"
   ]
  },
  {
   "cell_type": "code",
   "execution_count": 88,
   "id": "034a25a6",
   "metadata": {},
   "outputs": [
    {
     "name": "stdout",
     "output_type": "stream",
     "text": [
      "Hello \torld \tHow are you?\n"
     ]
    }
   ],
   "source": [
    "print(\"Hello\",\"\\torld\",\"\\tHow are you?\")"
   ]
  },
  {
   "cell_type": "code",
   "execution_count": 89,
   "id": "578e6642",
   "metadata": {},
   "outputs": [
    {
     "name": "stdout",
     "output_type": "stream",
     "text": [
      "\u0007\n"
     ]
    }
   ],
   "source": [
    "print(\"\\a\")"
   ]
  },
  {
   "cell_type": "code",
   "execution_count": 91,
   "id": "23519253",
   "metadata": {},
   "outputs": [
    {
     "name": "stdout",
     "output_type": "stream",
     "text": [
      "Hello\n",
      "World\n",
      "How are you?, bu menim son deyerim idi!"
     ]
    }
   ],
   "source": [
    "print(\"Hello\",\"World\",\"How are you?\",sep=\"\\n\",end=\", bu menim son deyerim idi!\")"
   ]
  },
  {
   "cell_type": "code",
   "execution_count": 95,
   "id": "9c8a17ea",
   "metadata": {},
   "outputs": [
    {
     "name": "stdout",
     "output_type": "stream",
     "text": [
      "3,4,5,6,7,8,9\n"
     ]
    }
   ],
   "source": [
    "print(3,4,5,6,7,8,9,sep=\",\")\n"
   ]
  },
  {
   "cell_type": "code",
   "execution_count": 96,
   "id": "a008ee3c",
   "metadata": {},
   "outputs": [
    {
     "name": "stdout",
     "output_type": "stream",
     "text": [
      "11/03/1900\n"
     ]
    }
   ],
   "source": [
    "print(\"11\",\"03\",\"1900\",sep=\"/\")"
   ]
  },
  {
   "cell_type": "code",
   "execution_count": 98,
   "id": "be669b38",
   "metadata": {},
   "outputs": [
    {
     "name": "stdout",
     "output_type": "stream",
     "text": [
      "P y t h o n\n"
     ]
    }
   ],
   "source": [
    "# Ulduzlu parametr\n",
    "print(*\"Python\")"
   ]
  },
  {
   "cell_type": "code",
   "execution_count": 99,
   "id": "bc52d6dd",
   "metadata": {},
   "outputs": [
    {
     "name": "stdout",
     "output_type": "stream",
     "text": [
      "P y t h o n\n"
     ]
    }
   ],
   "source": [
    "print(\"P\",\"y\",\"t\",\"h\",\"o\",\"n\")"
   ]
  },
  {
   "cell_type": "code",
   "execution_count": 101,
   "id": "df49c75e",
   "metadata": {},
   "outputs": [
    {
     "name": "stdout",
     "output_type": "stream",
     "text": [
      "P.y.t.h.o.n\n"
     ]
    }
   ],
   "source": [
    "print(*\"Python\",sep=\".\")"
   ]
  },
  {
   "cell_type": "code",
   "execution_count": 104,
   "id": "5acbd4d4",
   "metadata": {},
   "outputs": [
    {
     "name": "stdout",
     "output_type": "stream",
     "text": [
      "i\n",
      "s\n",
      "a\n",
      "k\n",
      "i\n",
      "l\n",
      "b\n",
      "u\n",
      "p\n",
      "s\n",
      "e\n",
      "R\n",
      " \n",
      "n\n",
      "a\n",
      "c\n",
      "y\n",
      "a\n",
      "b\n",
      "r\n",
      "e\n",
      "z\n",
      "A\n"
     ]
    }
   ],
   "source": [
    "a = \"Azerbaycan Respublikasi\"\n",
    "print(*a[::-1],sep=\"\\n\")"
   ]
  },
  {
   "cell_type": "code",
   "execution_count": 105,
   "id": "c87a9004",
   "metadata": {},
   "outputs": [],
   "source": [
    "# Formatlama .format()\n"
   ]
  },
  {
   "cell_type": "code",
   "execution_count": 119,
   "id": "f72db576",
   "metadata": {},
   "outputs": [
    {
     "name": "stdout",
     "output_type": "stream",
     "text": [
      "30 / ( 10 + 20 ) = 1\n",
      "30 / 10 + 20 = 1\n"
     ]
    }
   ],
   "source": [
    "a = 10\n",
    "b = 20\n",
    "c = 30\n",
    "toplam = c / (a+b)\n",
    "print(c,\"/\",\"(\",a,\"+\",b,\")\",\"=\",int(c/(a+b)))\n",
    "print(\"{} / {} + {} = {}\".format(c,a,b,int(toplam)))"
   ]
  },
  {
   "cell_type": "code",
   "execution_count": 120,
   "id": "1d15f562",
   "metadata": {},
   "outputs": [
    {
     "name": "stdout",
     "output_type": "stream",
     "text": [
      "30 / ( 10 + 20 ) = 1\n",
      "10 / 30 + 20 = 1\n"
     ]
    }
   ],
   "source": [
    "a = 10\n",
    "b = 20\n",
    "c = 30\n",
    "toplam = c / (a+b)\n",
    "print(c,\"/\",\"(\",a,\"+\",b,\")\",\"=\",int(c/(a+b)))\n",
    "print(\"{1} / {0} + {2} = {3}\".format(c,a,b,int(toplam)))"
   ]
  },
  {
   "cell_type": "code",
   "execution_count": 123,
   "id": "ca73b18b",
   "metadata": {},
   "outputs": [
    {
     "name": "stdout",
     "output_type": "stream",
     "text": [
      "Menim Adim Allahverdiyev, Soyadim ise Ulvi-dir!\n"
     ]
    }
   ],
   "source": [
    "ad = \"Ulvi\"\n",
    "soyad= \"Allahverdiyev\"\n",
    "print(\"Menim Adim {1}, Soyadim ise {0}-dir!\".format(ad,soyad))"
   ]
  },
  {
   "cell_type": "code",
   "execution_count": 124,
   "id": "aeee1184",
   "metadata": {},
   "outputs": [
    {
     "name": "stdout",
     "output_type": "stream",
     "text": [
      "3.45 5.67 8.120\n"
     ]
    }
   ],
   "source": [
    "print(\"{:.2f} {:.2f} {:.3f}\".format(3.45,5.67,8.12))"
   ]
  },
  {
   "cell_type": "code",
   "execution_count": 127,
   "id": "a4906ae8",
   "metadata": {},
   "outputs": [
    {
     "name": "stdout",
     "output_type": "stream",
     "text": [
      "3.46 5.68 8.12345345\n"
     ]
    }
   ],
   "source": [
    "print(\"{:.2f} {:.2f} {:.8f}\".format(3.4578537498543,5.67545345345,8.1234534543))"
   ]
  },
  {
   "cell_type": "code",
   "execution_count": 129,
   "id": "177c7479",
   "metadata": {},
   "outputs": [
    {
     "name": "stdout",
     "output_type": "stream",
     "text": [
      "a=34\n",
      "b=56\n",
      "a-nin tipi <class 'str'> b-nin tipi <class 'str'> ve neticemiz 3456\n"
     ]
    }
   ],
   "source": [
    "# Istifadeciden deyer almaq ucun input() istifade edirik ve default aldigi deyer - STRING olacaq!\n",
    "\n",
    "a = input(\"a=\")\n",
    "b = input(\"b=\")\n",
    "toplam = a+b\n",
    "print(\"a-nin tipi\",type(a),\"b-nin tipi\",type(b), \"ve neticemiz\",toplam)"
   ]
  },
  {
   "cell_type": "code",
   "execution_count": 130,
   "id": "e3546417",
   "metadata": {},
   "outputs": [
    {
     "data": {
      "text/plain": [
       "'3456'"
      ]
     },
     "execution_count": 130,
     "metadata": {},
     "output_type": "execute_result"
    }
   ],
   "source": [
    "\"34\" + \"56\""
   ]
  },
  {
   "cell_type": "code",
   "execution_count": 131,
   "id": "5d5607db",
   "metadata": {},
   "outputs": [
    {
     "name": "stdout",
     "output_type": "stream",
     "text": [
      "a=34\n",
      "b=23\n",
      "a-nin tipi <class 'int'> b-nin tipi <class 'int'> ve neticemiz 57\n"
     ]
    }
   ],
   "source": [
    "a = int(input(\"a=\"))\n",
    "b = int(input(\"b=\"))\n",
    "toplam = a+b\n",
    "print(\"a-nin tipi\",type(a),\"b-nin tipi\",type(b), \"ve neticemiz\",toplam)"
   ]
  },
  {
   "cell_type": "code",
   "execution_count": 132,
   "id": "5ea913ee",
   "metadata": {},
   "outputs": [
    {
     "name": "stdout",
     "output_type": "stream",
     "text": [
      "a=34\n",
      "b=23\n",
      "a-nin tipi <class 'float'> b-nin tipi <class 'float'> ve neticemiz 57.0\n"
     ]
    }
   ],
   "source": [
    "a = float(input(\"a=\"))\n",
    "b = float(input(\"b=\"))\n",
    "toplam = a+b\n",
    "print(\"a-nin tipi\",type(a),\"b-nin tipi\",type(b), \"ve neticemiz\",toplam)"
   ]
  },
  {
   "cell_type": "code",
   "execution_count": 133,
   "id": "c71ecb8c",
   "metadata": {},
   "outputs": [
    {
     "name": "stdout",
     "output_type": "stream",
     "text": [
      "a=45\n",
      "b=34\n",
      "a-nin tipi <class 'str'> b-nin tipi <class 'str'> ve neticemiz 79\n"
     ]
    }
   ],
   "source": [
    "a = input(\"a=\")\n",
    "b = input(\"b=\")\n",
    "toplam = int(a)+int(b)\n",
    "print(\"a-nin tipi\",type(a),\"b-nin tipi\",type(b), \"ve neticemiz\",toplam)"
   ]
  },
  {
   "cell_type": "code",
   "execution_count": 135,
   "id": "a9f27bf9",
   "metadata": {},
   "outputs": [
    {
     "name": "stdout",
     "output_type": "stream",
     "text": [
      "Gundelik yemek xerciniz: 34\n",
      "Gundelikn neqliyyat xerciniz: 23\n",
      "Gundelik ehtiyaclariniz: 12\n",
      "Cari oldugunuz ayda nece gun var: 30\n",
      "Menim ayliq xercim:  2070 AZN-dir!\n"
     ]
    }
   ],
   "source": [
    "# Noyabr ayi ucun xerclerim hesablansin\n",
    "# 1. gunlerik xercleriniz\n",
    "# ayin gunleri\n",
    "gundelik_yemek = int(input(\"Gundelik yemek xerciniz: \"))\n",
    "gundelik_neqliyyat = int(input(\"Gundelikn neqliyyat xerciniz: \"))\n",
    "gundelik_casual = int(input(\"Gundelik ehtiyaclariniz: \"))\n",
    "ay = int(input(\"Cari oldugunuz ayda nece gun var: \"))\n",
    "ayliq_xercim = ay * (gundelik_yemek+gundelik_neqliyyat+gundelik_casual)\n",
    "print(\"Menim ayliq xercim: \",ayliq_xercim,\"AZN-dir!\")"
   ]
  },
  {
   "cell_type": "code",
   "execution_count": 136,
   "id": "765e06d5",
   "metadata": {},
   "outputs": [
    {
     "name": "stdout",
     "output_type": "stream",
     "text": [
      "Bir deyer yazin!34758394\n"
     ]
    },
    {
     "data": {
      "text/plain": [
       "str"
      ]
     },
     "execution_count": 136,
     "metadata": {},
     "output_type": "execute_result"
    }
   ],
   "source": [
    "type(input(\"Bir deyer yazin!\"))"
   ]
  },
  {
   "cell_type": "code",
   "execution_count": 139,
   "id": "3aba3226",
   "metadata": {},
   "outputs": [
    {
     "name": "stdout",
     "output_type": "stream",
     "text": [
      "Zehmet olmasa bir deyer yazin! : salam\n",
      "s.a.l.a.m.s.a.l.a.m.s.a.l.a.m\n"
     ]
    }
   ],
   "source": [
    "a = input(\"Zehmet olmasa bir deyer yazin! : \")\n",
    "print(*(a * 3),sep=\".\")\n"
   ]
  },
  {
   "cell_type": "code",
   "execution_count": 141,
   "id": "dc8011c0",
   "metadata": {},
   "outputs": [
    {
     "name": "stdout",
     "output_type": "stream",
     "text": [
      "Zehmet olmasa bir deyer yazin! : 34\n",
      "102\n"
     ]
    }
   ],
   "source": [
    "a = int(input(\"Zehmet olmasa bir deyer yazin! : \"))\n",
    "print(a * 3)"
   ]
  },
  {
   "cell_type": "code",
   "execution_count": 143,
   "id": "e43e408d",
   "metadata": {},
   "outputs": [
    {
     "name": "stdout",
     "output_type": "stream",
     "text": [
      "a1=23\n",
      "a2=34\n",
      "a3=45\n",
      "Ededlerin toplami 102\n"
     ]
    }
   ],
   "source": [
    "a1 = input(\"a1=\")\n",
    "a2 = input(\"a2=\")\n",
    "a3 = input(\"a3=\")\n",
    "\n",
    "print(\"Ededlerin toplami\",int(a1)+int(a2)+int(a3))"
   ]
  },
  {
   "cell_type": "code",
   "execution_count": null,
   "id": "ac327e07",
   "metadata": {},
   "outputs": [],
   "source": []
  }
 ],
 "metadata": {
  "kernelspec": {
   "display_name": "Python 3",
   "language": "python",
   "name": "python3"
  },
  "language_info": {
   "codemirror_mode": {
    "name": "ipython",
    "version": 3
   },
   "file_extension": ".py",
   "mimetype": "text/x-python",
   "name": "python",
   "nbconvert_exporter": "python",
   "pygments_lexer": "ipython3",
   "version": "3.8.8"
  }
 },
 "nbformat": 4,
 "nbformat_minor": 5
}
