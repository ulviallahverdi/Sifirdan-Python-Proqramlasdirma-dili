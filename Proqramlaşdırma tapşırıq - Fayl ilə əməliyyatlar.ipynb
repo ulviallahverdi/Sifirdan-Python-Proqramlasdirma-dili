{
 "cells": [
  {
   "cell_type": "markdown",
   "metadata": {},
   "source": [
    "## Programlaşdırma tapşırıq - Fayl ilə əməliyyatlar\n",
    "\n",
    "### Proyekt 1 \n",
    "\n",
    "Kodlaşdırma məşğələmizdə bir sinfin hərf qiymətlərini hesabladığımız proqramı inkişaf etdiririk və kəsilənləri \"kesilenler.txt\" faylına və keçənləri \"kecenler.txt\" faylına yazmağa çalışırıq.\n"
   ]
  },
  {
   "cell_type": "markdown",
   "metadata": {},
   "source": [
    "### Proyekt 2\n",
    " \n",
    "\n",
    "\"futbolcular.txt\" adında bir fayl yaradın və içərisinə Qarabağ, Qələbə və Neftçilərdə oynayan futbolçuları təsadüfi olaraq yerləşdirin. Bu fayldan bir komandanın futbolçularını \"qarabag.txt\", \"qelebe.txt\" , \"neftciler.txt\" adlarında 3 fərqli fayl yaradın.\n",
    "\n",
    "\"futbolcular.txt\" faylının standartı belə olsun:\n",
    "\n",
    "\n",
    "                    Emil Balayev,Qarabağ\n",
    "                    Amin Ramazanov,Qarabağ\n",
    "                    Tərlan Əhmə,Fenerbahçe\n",
    "                               //\n",
    "                               //\n",
    "                               //\n",
    "                               //\n",
    "                               //\n"
   ]
  },
  {
   "cell_type": "code",
   "execution_count": null,
   "metadata": {
    "collapsed": true
   },
   "outputs": [],
   "source": []
  }
 ],
 "metadata": {
  "kernelspec": {
   "display_name": "Python 3",
   "language": "python",
   "name": "python3"
  },
  "language_info": {
   "codemirror_mode": {
    "name": "ipython",
    "version": 3
   },
   "file_extension": ".py",
   "mimetype": "text/x-python",
   "name": "python",
   "nbconvert_exporter": "python",
   "pygments_lexer": "ipython3",
   "version": "3.8.8"
  }
 },
 "nbformat": 4,
 "nbformat_minor": 2
}
