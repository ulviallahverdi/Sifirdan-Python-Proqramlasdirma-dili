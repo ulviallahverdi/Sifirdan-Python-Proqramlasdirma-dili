{
 "cells": [
  {
   "cell_type": "markdown",
   "id": "067f1cf9",
   "metadata": {},
   "source": [
    "# Obyekt yönümlü proqramlaşdırma məntiqi "
   ]
  },
  {
   "cell_type": "markdown",
   "id": "7e759b7a",
   "metadata": {},
   "source": [
    "Bu mövzu ilə biz Obyekt yönümlü proqramlaşdırmanı təqdim edirik və bu mövzuda Obyekt yönümlü proqramlaşdırma haqqında bir az danışacağıq. **Obyektyönümlü Proqramlaşdırma** və ya ingilis adı ilə **Object oriented Programming** ən sadə mənada real həyatda proqramlaşdırmanın uyğunlaşdırılması kimi düşünülə bilər. Məsələn, biz tələbə avtomatlaşdırma sistemini yazmaq istəyirik. Bunun üçün müəllimləri, tələbələri, kursları obyekt kimi yaratmalıyıq. Belə bir sistemi proqramlı şəkildə həyata keçirmək üçün əslində hər bir obyektin strukturunu müəyyən etməli və sonra bu strukturlardan obyektlər hazırlamalıyıq. **Obyektyönümlü Proqramlaşdırma** ən sadə mənada belədir. İndi **obyekt və ya obyektin** nə olduğunu anlamağa çalışaq. "
   ]
  },
  {
   "cell_type": "markdown",
   "id": "c7c44c54",
   "metadata": {},
   "source": [
    "### Obyekt nədir? "
   ]
  },
  {
   "cell_type": "markdown",
   "id": "57815956",
   "metadata": {},
   "source": [
    "Ətrafımıza baxanda görürük ki, hər bir əşya bir obyektdir. Məsələn, televizorun pultunu nəzərdən keçirək. Bu pult özlüyündə fərqli xüsusiyyətlərə (**atribut**) və funksiyalara (**metod**) malikdir. Məsələn, pultun markası və düymələri əslində bu pultun atributlarıdır (**atribut**). Pultun qırmızı düyməsini basdığımız zaman televizoru söndürmək və səssiz düyməsini basdığımız zaman televizorun səsini azaltmaq bu pultun metodlarıdır. Eynilə, Python-da hər şey bir **obyektdir.** Məsələn, siyahılara baxsaq, bu siyahı obyektləri əslində bir çox metod və xüsusiyyətlərə malikdir. "
   ]
  },
  {
   "cell_type": "code",
   "execution_count": 2,
   "id": "a33ee4b8",
   "metadata": {},
   "outputs": [],
   "source": [
    "listim  = [1,2,3,4,5] # list obyekti yaratdiq"
   ]
  },
  {
   "cell_type": "code",
   "execution_count": 5,
   "id": "c670d248",
   "metadata": {},
   "outputs": [],
   "source": [
    "listim.append(6) # append metodu ile liste deyer elave eledik"
   ]
  },
  {
   "cell_type": "code",
   "execution_count": 4,
   "id": "81fa1ea5",
   "metadata": {},
   "outputs": [
    {
     "data": {
      "text/plain": [
       "[1, 2, 3, 4, 5, 6]"
      ]
     },
     "execution_count": 4,
     "metadata": {},
     "output_type": "execute_result"
    }
   ],
   "source": [
    "listim"
   ]
  },
  {
   "cell_type": "code",
   "execution_count": 6,
   "id": "8b18ae84",
   "metadata": {},
   "outputs": [
    {
     "data": {
      "text/plain": [
       "list"
      ]
     },
     "execution_count": 6,
     "metadata": {},
     "output_type": "execute_result"
    }
   ],
   "source": [
    "type(listim)"
   ]
  },
  {
   "cell_type": "code",
   "execution_count": 7,
   "id": "7f9e9dcd",
   "metadata": {},
   "outputs": [
    {
     "data": {
      "text/plain": [
       "dict"
      ]
     },
     "execution_count": 7,
     "metadata": {},
     "output_type": "execute_result"
    }
   ],
   "source": [
    "test = dict()\n",
    "type(test)"
   ]
  },
  {
   "cell_type": "code",
   "execution_count": 8,
   "id": "d72f800b",
   "metadata": {},
   "outputs": [
    {
     "data": {
      "text/plain": [
       "tuple"
      ]
     },
     "execution_count": 8,
     "metadata": {},
     "output_type": "execute_result"
    }
   ],
   "source": [
    "type((1,2,3,4))"
   ]
  },
  {
   "cell_type": "code",
   "execution_count": 9,
   "id": "472fc12b",
   "metadata": {},
   "outputs": [],
   "source": [
    "def topla(a,b):\n",
    "    return a+b"
   ]
  },
  {
   "cell_type": "code",
   "execution_count": 10,
   "id": "90e64964",
   "metadata": {},
   "outputs": [
    {
     "data": {
      "text/plain": [
       "function"
      ]
     },
     "execution_count": 10,
     "metadata": {},
     "output_type": "execute_result"
    }
   ],
   "source": [
    "type(topla)"
   ]
  },
  {
   "cell_type": "markdown",
   "id": "2a81816e",
   "metadata": {},
   "source": []
  },
  {
   "cell_type": "markdown",
   "id": "ccaecbb0",
   "metadata": {},
   "source": [
    "# Obyekt Yönümlü proqramlaşdırma - Siniflər!"
   ]
  },
  {
   "cell_type": "code",
   "execution_count": 12,
   "id": "8cc0d010",
   "metadata": {},
   "outputs": [],
   "source": [
    "class Masin():\n",
    "    model = \"Mercedes Benz\"\n",
    "    reng = \"Ag\"                            # Sinifimizin attributlari\n",
    "    motor_gucu = 110\n",
    "    silindir = 4"
   ]
  },
  {
   "cell_type": "markdown",
   "id": "7796400d",
   "metadata": {},
   "source": [
    "obyektin_adi = Classin_adi(parameterler(options))"
   ]
  },
  {
   "cell_type": "code",
   "execution_count": 13,
   "id": "5a235f52",
   "metadata": {},
   "outputs": [],
   "source": [
    "masin1 = Masin()"
   ]
  },
  {
   "cell_type": "code",
   "execution_count": 14,
   "id": "b68fe02e",
   "metadata": {},
   "outputs": [
    {
     "data": {
      "text/plain": [
       "<__main__.Masin at 0x161b962a820>"
      ]
     },
     "execution_count": 14,
     "metadata": {},
     "output_type": "execute_result"
    }
   ],
   "source": [
    "masin1"
   ]
  },
  {
   "cell_type": "code",
   "execution_count": 15,
   "id": "634e95f0",
   "metadata": {},
   "outputs": [
    {
     "data": {
      "text/plain": [
       "__main__.Masin"
      ]
     },
     "execution_count": 15,
     "metadata": {},
     "output_type": "execute_result"
    }
   ],
   "source": [
    "type(masin1)"
   ]
  },
  {
   "cell_type": "code",
   "execution_count": 16,
   "id": "324b377f",
   "metadata": {},
   "outputs": [
    {
     "data": {
      "text/plain": [
       "'Mercedes Benz'"
      ]
     },
     "execution_count": 16,
     "metadata": {},
     "output_type": "execute_result"
    }
   ],
   "source": [
    "masin1.model"
   ]
  },
  {
   "cell_type": "code",
   "execution_count": 17,
   "id": "e5040eb7",
   "metadata": {},
   "outputs": [
    {
     "data": {
      "text/plain": [
       "'Ag'"
      ]
     },
     "execution_count": 17,
     "metadata": {},
     "output_type": "execute_result"
    }
   ],
   "source": [
    "masin1.reng"
   ]
  },
  {
   "cell_type": "code",
   "execution_count": 18,
   "id": "30898eec",
   "metadata": {},
   "outputs": [
    {
     "data": {
      "text/plain": [
       "110"
      ]
     },
     "execution_count": 18,
     "metadata": {},
     "output_type": "execute_result"
    }
   ],
   "source": [
    "masin1.motor_gucu"
   ]
  },
  {
   "cell_type": "code",
   "execution_count": 20,
   "id": "ac687f1f",
   "metadata": {},
   "outputs": [
    {
     "data": {
      "text/plain": [
       "4"
      ]
     },
     "execution_count": 20,
     "metadata": {},
     "output_type": "execute_result"
    }
   ],
   "source": [
    "masin1.silindir"
   ]
  },
  {
   "cell_type": "code",
   "execution_count": 21,
   "id": "1f91ea82",
   "metadata": {},
   "outputs": [],
   "source": [
    "masin2 = Masin()"
   ]
  },
  {
   "cell_type": "code",
   "execution_count": 22,
   "id": "cc776a45",
   "metadata": {},
   "outputs": [
    {
     "data": {
      "text/plain": [
       "<__main__.Masin at 0x161ba5f39a0>"
      ]
     },
     "execution_count": 22,
     "metadata": {},
     "output_type": "execute_result"
    }
   ],
   "source": [
    "masin2"
   ]
  },
  {
   "cell_type": "code",
   "execution_count": 23,
   "id": "02d7324e",
   "metadata": {},
   "outputs": [
    {
     "data": {
      "text/plain": [
       "'Ag'"
      ]
     },
     "execution_count": 23,
     "metadata": {},
     "output_type": "execute_result"
    }
   ],
   "source": [
    "Masin.reng"
   ]
  },
  {
   "cell_type": "code",
   "execution_count": 24,
   "id": "493f25b2",
   "metadata": {},
   "outputs": [
    {
     "data": {
      "text/plain": [
       "[1, 2, 3, 4, 5, 6, 6]"
      ]
     },
     "execution_count": 24,
     "metadata": {},
     "output_type": "execute_result"
    }
   ],
   "source": [
    "listim"
   ]
  },
  {
   "cell_type": "code",
   "execution_count": 25,
   "id": "78bb5036",
   "metadata": {},
   "outputs": [
    {
     "data": {
      "text/plain": [
       "['__add__',\n",
       " '__class__',\n",
       " '__contains__',\n",
       " '__delattr__',\n",
       " '__delitem__',\n",
       " '__dir__',\n",
       " '__doc__',\n",
       " '__eq__',\n",
       " '__format__',\n",
       " '__ge__',\n",
       " '__getattribute__',\n",
       " '__getitem__',\n",
       " '__gt__',\n",
       " '__hash__',\n",
       " '__iadd__',\n",
       " '__imul__',\n",
       " '__init__',\n",
       " '__init_subclass__',\n",
       " '__iter__',\n",
       " '__le__',\n",
       " '__len__',\n",
       " '__lt__',\n",
       " '__mul__',\n",
       " '__ne__',\n",
       " '__new__',\n",
       " '__reduce__',\n",
       " '__reduce_ex__',\n",
       " '__repr__',\n",
       " '__reversed__',\n",
       " '__rmul__',\n",
       " '__setattr__',\n",
       " '__setitem__',\n",
       " '__sizeof__',\n",
       " '__str__',\n",
       " '__subclasshook__',\n",
       " 'append',\n",
       " 'clear',\n",
       " 'copy',\n",
       " 'count',\n",
       " 'extend',\n",
       " 'index',\n",
       " 'insert',\n",
       " 'pop',\n",
       " 'remove',\n",
       " 'reverse',\n",
       " 'sort']"
      ]
     },
     "execution_count": 25,
     "metadata": {},
     "output_type": "execute_result"
    }
   ],
   "source": [
    "dir(listim)"
   ]
  },
  {
   "cell_type": "code",
   "execution_count": 26,
   "id": "8f273b97",
   "metadata": {},
   "outputs": [
    {
     "data": {
      "text/plain": [
       "['__class__',\n",
       " '__delattr__',\n",
       " '__dict__',\n",
       " '__dir__',\n",
       " '__doc__',\n",
       " '__eq__',\n",
       " '__format__',\n",
       " '__ge__',\n",
       " '__getattribute__',\n",
       " '__gt__',\n",
       " '__hash__',\n",
       " '__init__',\n",
       " '__init_subclass__',\n",
       " '__le__',\n",
       " '__lt__',\n",
       " '__module__',\n",
       " '__ne__',\n",
       " '__new__',\n",
       " '__reduce__',\n",
       " '__reduce_ex__',\n",
       " '__repr__',\n",
       " '__setattr__',\n",
       " '__sizeof__',\n",
       " '__str__',\n",
       " '__subclasshook__',\n",
       " '__weakref__',\n",
       " 'model',\n",
       " 'motor_gucu',\n",
       " 'reng',\n",
       " 'silindir']"
      ]
     },
     "execution_count": 26,
     "metadata": {},
     "output_type": "execute_result"
    }
   ],
   "source": [
    "dir(masin1)"
   ]
  },
  {
   "cell_type": "code",
   "execution_count": 27,
   "id": "58734280",
   "metadata": {},
   "outputs": [],
   "source": [
    "class Masin():\n",
    "    # Indilik Class attributlarina ehtiyacimiz yoxdur!\n",
    "    \n",
    "    def __init__(self): # init-  Initialize - Icra edilir...., icra edilen...\n",
    "        print(\"init funksiyamiz cagirildi!!!\")"
   ]
  },
  {
   "cell_type": "code",
   "execution_count": 28,
   "id": "a9e4f751",
   "metadata": {},
   "outputs": [
    {
     "name": "stdout",
     "output_type": "stream",
     "text": [
      "init funksiyamiz cagirildi!!!\n"
     ]
    }
   ],
   "source": [
    "masin1 = Masin() # masin1 obyekti yaradilan zaman avtomatik olaraq __init__ metodu cagirilacaq!"
   ]
  },
  {
   "cell_type": "code",
   "execution_count": 29,
   "id": "0810a190",
   "metadata": {},
   "outputs": [],
   "source": [
    "class Masin():\n",
    "    \n",
    "    def __init__(self,model,reng,motor_gucu,silindir):\n",
    "        self.model = model\n",
    "        self.reng = reng\n",
    "        self.motor_gucu = motor_gucu\n",
    "        self.silindir = silindir"
   ]
  },
  {
   "cell_type": "code",
   "execution_count": 30,
   "id": "745887ca",
   "metadata": {},
   "outputs": [],
   "source": [
    "masin1 = Masin(\"Kia\",\"Mavi\",90,2)"
   ]
  },
  {
   "cell_type": "code",
   "execution_count": 33,
   "id": "5e93889d",
   "metadata": {},
   "outputs": [
    {
     "data": {
      "text/plain": [
       "<__main__.Masin at 0x161baf9e1f0>"
      ]
     },
     "execution_count": 33,
     "metadata": {},
     "output_type": "execute_result"
    }
   ],
   "source": [
    "masin1"
   ]
  },
  {
   "cell_type": "code",
   "execution_count": 32,
   "id": "98d3e33a",
   "metadata": {},
   "outputs": [
    {
     "ename": "TypeError",
     "evalue": "__init__() missing 4 required positional arguments: 'model', 'reng', 'motor_gucu', and 'silindir'",
     "output_type": "error",
     "traceback": [
      "\u001b[1;31m---------------------------------------------------------------------------\u001b[0m",
      "\u001b[1;31mTypeError\u001b[0m                                 Traceback (most recent call last)",
      "\u001b[1;32m<ipython-input-32-737850f764d3>\u001b[0m in \u001b[0;36m<module>\u001b[1;34m\u001b[0m\n\u001b[1;32m----> 1\u001b[1;33m \u001b[0mMasin\u001b[0m\u001b[1;33m(\u001b[0m\u001b[1;33m)\u001b[0m\u001b[1;33m\u001b[0m\u001b[1;33m\u001b[0m\u001b[0m\n\u001b[0m",
      "\u001b[1;31mTypeError\u001b[0m: __init__() missing 4 required positional arguments: 'model', 'reng', 'motor_gucu', and 'silindir'"
     ]
    }
   ],
   "source": [
    "Masin()"
   ]
  },
  {
   "cell_type": "code",
   "execution_count": 34,
   "id": "df11036d",
   "metadata": {},
   "outputs": [
    {
     "ename": "TypeError",
     "evalue": "__init__() missing 4 required positional arguments: 'model', 'reng', 'motor_gucu', and 'silindir'",
     "output_type": "error",
     "traceback": [
      "\u001b[1;31m---------------------------------------------------------------------------\u001b[0m",
      "\u001b[1;31mTypeError\u001b[0m                                 Traceback (most recent call last)",
      "\u001b[1;32m<ipython-input-34-2ecea7d8e639>\u001b[0m in \u001b[0;36m<module>\u001b[1;34m\u001b[0m\n\u001b[1;32m----> 1\u001b[1;33m \u001b[0mmasin1\u001b[0m \u001b[1;33m=\u001b[0m \u001b[0mMasin\u001b[0m\u001b[1;33m(\u001b[0m\u001b[1;33m)\u001b[0m\u001b[1;33m\u001b[0m\u001b[1;33m\u001b[0m\u001b[0m\n\u001b[0m",
      "\u001b[1;31mTypeError\u001b[0m: __init__() missing 4 required positional arguments: 'model', 'reng', 'motor_gucu', and 'silindir'"
     ]
    }
   ],
   "source": [
    "masin1 = Masin()"
   ]
  },
  {
   "cell_type": "code",
   "execution_count": 35,
   "id": "23523705",
   "metadata": {},
   "outputs": [],
   "source": [
    "masin1 = Masin(\"Kia\",\"Mavi\",90,2)"
   ]
  },
  {
   "cell_type": "code",
   "execution_count": 36,
   "id": "5a7501df",
   "metadata": {},
   "outputs": [
    {
     "data": {
      "text/plain": [
       "'Kia'"
      ]
     },
     "execution_count": 36,
     "metadata": {},
     "output_type": "execute_result"
    }
   ],
   "source": [
    "masin1.model"
   ]
  },
  {
   "cell_type": "code",
   "execution_count": 37,
   "id": "446ad00b",
   "metadata": {},
   "outputs": [
    {
     "data": {
      "text/plain": [
       "'Mavi'"
      ]
     },
     "execution_count": 37,
     "metadata": {},
     "output_type": "execute_result"
    }
   ],
   "source": [
    "masin1.reng"
   ]
  },
  {
   "cell_type": "code",
   "execution_count": 38,
   "id": "bb692de2",
   "metadata": {},
   "outputs": [
    {
     "data": {
      "text/plain": [
       "90"
      ]
     },
     "execution_count": 38,
     "metadata": {},
     "output_type": "execute_result"
    }
   ],
   "source": [
    "masin1.motor_gucu"
   ]
  },
  {
   "cell_type": "code",
   "execution_count": 39,
   "id": "dccbc6d2",
   "metadata": {},
   "outputs": [
    {
     "data": {
      "text/plain": [
       "2"
      ]
     },
     "execution_count": 39,
     "metadata": {},
     "output_type": "execute_result"
    }
   ],
   "source": [
    "masin1.silindir"
   ]
  },
  {
   "cell_type": "code",
   "execution_count": 40,
   "id": "dc23e60b",
   "metadata": {},
   "outputs": [],
   "source": [
    "class Masin():\n",
    "    \n",
    "    def __init__(self,model = \"Melumat yoxdur\",reng=\"Melumat yoxdur\",motor_gucu=\"Melumat yoxdur\",silindir=\"Melumat yoxdur\"):\n",
    "        self.model = model\n",
    "        self.reng = reng\n",
    "        self.motor_gucu = motor_gucu\n",
    "        self.silindir = silindir"
   ]
  },
  {
   "cell_type": "code",
   "execution_count": 41,
   "id": "d0f5580d",
   "metadata": {},
   "outputs": [
    {
     "data": {
      "text/plain": [
       "<__main__.Masin at 0x161baf9a610>"
      ]
     },
     "execution_count": 41,
     "metadata": {},
     "output_type": "execute_result"
    }
   ],
   "source": [
    "Masin()"
   ]
  },
  {
   "cell_type": "code",
   "execution_count": 42,
   "id": "f855488b",
   "metadata": {},
   "outputs": [],
   "source": [
    "masin3 = Masin()"
   ]
  },
  {
   "cell_type": "code",
   "execution_count": 43,
   "id": "f274de93",
   "metadata": {},
   "outputs": [
    {
     "data": {
      "text/plain": [
       "'Melumat yoxdur'"
      ]
     },
     "execution_count": 43,
     "metadata": {},
     "output_type": "execute_result"
    }
   ],
   "source": [
    "masin3.model"
   ]
  },
  {
   "cell_type": "code",
   "execution_count": 44,
   "id": "b49a38f1",
   "metadata": {},
   "outputs": [],
   "source": [
    "masin3 = Masin(\"Kia\")"
   ]
  },
  {
   "cell_type": "code",
   "execution_count": 45,
   "id": "e6441c8b",
   "metadata": {},
   "outputs": [
    {
     "data": {
      "text/plain": [
       "'Kia'"
      ]
     },
     "execution_count": 45,
     "metadata": {},
     "output_type": "execute_result"
    }
   ],
   "source": [
    "masin3.model"
   ]
  },
  {
   "cell_type": "code",
   "execution_count": 46,
   "id": "d14b4f55",
   "metadata": {},
   "outputs": [
    {
     "data": {
      "text/plain": [
       "'Melumat yoxdur'"
      ]
     },
     "execution_count": 46,
     "metadata": {},
     "output_type": "execute_result"
    }
   ],
   "source": [
    "masin3.silindir"
   ]
  },
  {
   "cell_type": "code",
   "execution_count": 47,
   "id": "01ff79c9",
   "metadata": {},
   "outputs": [],
   "source": [
    "class Developer():\n",
    "    \n",
    "    def __init__(self,ad,soyad,nomre,maas,diller):\n",
    "        self.ad = ad\n",
    "        self.soyad = soyad                                    # Developer obyektlerimizin ozellikleri\n",
    "        self.nomre = nomre\n",
    "        self.maas = maas\n",
    "        self.diller = diller"
   ]
  },
  {
   "cell_type": "code",
   "execution_count": 48,
   "id": "e93875d0",
   "metadata": {},
   "outputs": [],
   "source": [
    "#developer1 objeytki yaradiriq\n",
    "developer1 = Developer(\"Ulvi\",\"Allahverdiyev\",12345,1000,[\"Python\",\"C++\",\"Go\"])"
   ]
  },
  {
   "cell_type": "code",
   "execution_count": 49,
   "id": "92d1b384",
   "metadata": {},
   "outputs": [],
   "source": [
    "developer2 = Developer(\"Elvin\",\"Ibrahimov\",23456,2000,[\"Matlab\",\"R\",\"Python\"])"
   ]
  },
  {
   "cell_type": "code",
   "execution_count": 50,
   "id": "b7a548a4",
   "metadata": {},
   "outputs": [
    {
     "data": {
      "text/plain": [
       "['Python', 'C++', 'Go']"
      ]
     },
     "execution_count": 50,
     "metadata": {},
     "output_type": "execute_result"
    }
   ],
   "source": [
    "developer1.diller"
   ]
  },
  {
   "cell_type": "code",
   "execution_count": 51,
   "id": "46fa4387",
   "metadata": {},
   "outputs": [
    {
     "data": {
      "text/plain": [
       "['Matlab', 'R', 'Python']"
      ]
     },
     "execution_count": 51,
     "metadata": {},
     "output_type": "execute_result"
    }
   ],
   "source": [
    "developer2.diller"
   ]
  },
  {
   "cell_type": "code",
   "execution_count": 52,
   "id": "9c129913",
   "metadata": {},
   "outputs": [
    {
     "data": {
      "text/plain": [
       "'Allahverdiyev'"
      ]
     },
     "execution_count": 52,
     "metadata": {},
     "output_type": "execute_result"
    }
   ],
   "source": [
    "developer1.soyad"
   ]
  },
  {
   "cell_type": "code",
   "execution_count": 53,
   "id": "0c314a03",
   "metadata": {},
   "outputs": [
    {
     "data": {
      "text/plain": [
       "'Ibrahimov'"
      ]
     },
     "execution_count": 53,
     "metadata": {},
     "output_type": "execute_result"
    }
   ],
   "source": [
    "developer2.soyad"
   ]
  },
  {
   "cell_type": "code",
   "execution_count": 65,
   "id": "3ef2c553",
   "metadata": {},
   "outputs": [],
   "source": [
    "class Developer():\n",
    "    \n",
    "    def __init__(self,ad,soyad,nomre,maas,diller):\n",
    "        self.ad = ad\n",
    "        self.soyad = soyad                                    # Developer obyektlerimizin ozellikleri\n",
    "        self.nomre = nomre\n",
    "        self.maas = maas\n",
    "        self.diller = diller\n",
    "    def melumatlari_goster(self):\n",
    "        print(\"\"\"\n",
    "        Proqramist haqqinda melumatlar:\n",
    "        \n",
    "        Ad: {}\n",
    "        \n",
    "        Soyad: {}\n",
    "        \n",
    "        Nomre: {}\n",
    "        \n",
    "        Maas: {}\n",
    "        \n",
    "        Diller: {}        \n",
    "        \"\"\".format(self.ad,self.soyad,self.nomre,self.maas,self.diller))"
   ]
  },
  {
   "cell_type": "code",
   "execution_count": 66,
   "id": "5d6cfcfd",
   "metadata": {},
   "outputs": [],
   "source": [
    "developer3 = Developer(\"Orxan\",\"Aliyev\",56789,3000,[\"1C\",\"Python\",\"SPSS\"])"
   ]
  },
  {
   "cell_type": "code",
   "execution_count": 67,
   "id": "1c81eb9f",
   "metadata": {},
   "outputs": [
    {
     "name": "stdout",
     "output_type": "stream",
     "text": [
      "\n",
      "        Proqramist haqqinda melumatlar:\n",
      "        \n",
      "        Ad: Orxan\n",
      "        \n",
      "        Soyad: Aliyev\n",
      "        \n",
      "        Nomre: 56789\n",
      "        \n",
      "        Maas: 3000\n",
      "        \n",
      "        Diller: ['1C', 'Python', 'SPSS']        \n",
      "        \n"
     ]
    }
   ],
   "source": [
    "developer3.melumatlari_goster()"
   ]
  },
  {
   "cell_type": "code",
   "execution_count": 68,
   "id": "2c5a6f3f",
   "metadata": {},
   "outputs": [],
   "source": [
    "class Developer():\n",
    "    \n",
    "    def __init__(self,ad,soyad,nomre,maas,diller):\n",
    "        self.ad = ad\n",
    "        self.soyad = soyad                                    # Developer obyektlerimizin ozellikleri\n",
    "        self.nomre = nomre\n",
    "        self.maas = maas\n",
    "        self.diller = diller\n",
    "    def melumatlari_goster(self):\n",
    "        print(\"\"\"\n",
    "        Proqramist haqqinda melumatlar:\n",
    "        \n",
    "        Ad: {}\n",
    "        \n",
    "        Soyad: {}\n",
    "        \n",
    "        Nomre: {}\n",
    "        \n",
    "        Maas: {}\n",
    "        \n",
    "        Diller: {}        \n",
    "        \"\"\".format(self.ad,self.soyad,self.nomre,self.maas,self.diller))\n",
    "    def dil_elavesi(self,yeni_dil):\n",
    "        print(\"Dil elave olunur...\")\n",
    "        self.diller.append(yeni_dil)\n",
    "    def maas_artimi(self,artan_mebleg):\n",
    "        print(\"Maas artirilir...\")\n",
    "        self.maas += artan_mebleg"
   ]
  },
  {
   "cell_type": "code",
   "execution_count": 71,
   "id": "f1c1f579",
   "metadata": {},
   "outputs": [],
   "source": [
    "developer1 = Developer(\"Gunel\",\"Musayeva\",95860945,4000,[\"Python\",\"Go\",\"Java\"])"
   ]
  },
  {
   "cell_type": "code",
   "execution_count": 72,
   "id": "ce7a6994",
   "metadata": {},
   "outputs": [
    {
     "name": "stdout",
     "output_type": "stream",
     "text": [
      "\n",
      "        Proqramist haqqinda melumatlar:\n",
      "        \n",
      "        Ad: Gunel\n",
      "        \n",
      "        Soyad: Musayeva\n",
      "        \n",
      "        Nomre: 95860945\n",
      "        \n",
      "        Maas: 4000\n",
      "        \n",
      "        Diller: ['Python', 'Go', 'Java']        \n",
      "        \n"
     ]
    }
   ],
   "source": [
    "developer1.melumatlari_goster()"
   ]
  },
  {
   "cell_type": "code",
   "execution_count": 75,
   "id": "917a9be2",
   "metadata": {},
   "outputs": [
    {
     "name": "stdout",
     "output_type": "stream",
     "text": [
      "Maas artirilir...\n"
     ]
    }
   ],
   "source": [
    "developer1.maas_artimi(500)"
   ]
  },
  {
   "cell_type": "code",
   "execution_count": 74,
   "id": "4245eb38",
   "metadata": {},
   "outputs": [
    {
     "data": {
      "text/plain": [
       "4500"
      ]
     },
     "execution_count": 74,
     "metadata": {},
     "output_type": "execute_result"
    }
   ],
   "source": [
    "developer1.maas"
   ]
  },
  {
   "cell_type": "code",
   "execution_count": 76,
   "id": "bd2458b4",
   "metadata": {},
   "outputs": [
    {
     "data": {
      "text/plain": [
       "5000"
      ]
     },
     "execution_count": 76,
     "metadata": {},
     "output_type": "execute_result"
    }
   ],
   "source": [
    "developer1.maas"
   ]
  },
  {
   "cell_type": "code",
   "execution_count": 77,
   "id": "635207a4",
   "metadata": {},
   "outputs": [
    {
     "name": "stdout",
     "output_type": "stream",
     "text": [
      "Dil elave olunur...\n"
     ]
    }
   ],
   "source": [
    "developer1.dil_elavesi(\"Javascript\")"
   ]
  },
  {
   "cell_type": "code",
   "execution_count": 78,
   "id": "a9adef6f",
   "metadata": {},
   "outputs": [
    {
     "data": {
      "text/plain": [
       "['Python', 'Go', 'Java', 'Javascript']"
      ]
     },
     "execution_count": 78,
     "metadata": {},
     "output_type": "execute_result"
    }
   ],
   "source": [
    "developer1.diller"
   ]
  },
  {
   "cell_type": "code",
   "execution_count": 98,
   "id": "346fd8ad",
   "metadata": {},
   "outputs": [],
   "source": [
    "class Isci():\n",
    "    def __init__(self,ad,maas,sobe):\n",
    "        print(\"Isci sinifinin init funksiyasi\")\n",
    "        self.ad = ad\n",
    "        self.maas = maas\n",
    "        self.sobe = sobe\n",
    "    def melumatlari_goster(self):\n",
    "        print(\"Isci sinifinin melumatlari....\")\n",
    "        \n",
    "        print(\"Ad : {} \\nMass: {} \\nSobe : {}\\n\".format(self.ad,self.maas,self.sobe))\n",
    "    def sobe_deyisdir(self,yeni_sobe):\n",
    "        print(\"Sobe deyisilir...\")\n",
    "        self.sobe = yeni_sobe"
   ]
  },
  {
   "cell_type": "code",
   "execution_count": 99,
   "id": "d2056e05",
   "metadata": {},
   "outputs": [],
   "source": [
    "class Rehber(Isci): # Isci sinifinden miras (inheritance) aliriq\n",
    "    pass # Pass sozu bir bloku sonraya ertelemek ucundur,istediyim zaman istifade ederem"
   ]
  },
  {
   "cell_type": "code",
   "execution_count": 100,
   "id": "2864bae9",
   "metadata": {},
   "outputs": [
    {
     "name": "stdout",
     "output_type": "stream",
     "text": [
      "Isci sinifinin init funksiyasi\n"
     ]
    }
   ],
   "source": [
    "rehber1 = Rehber(\"Ulvi Allahverdiyev\",1000,\"Human Resources\") # Rehber classinin obyekti"
   ]
  },
  {
   "cell_type": "code",
   "execution_count": 96,
   "id": "a1013ac2",
   "metadata": {},
   "outputs": [
    {
     "data": {
      "text/plain": [
       "'Ulvi Allahverdiyev'"
      ]
     },
     "execution_count": 96,
     "metadata": {},
     "output_type": "execute_result"
    }
   ],
   "source": [
    "rehber1.ad"
   ]
  },
  {
   "cell_type": "code",
   "execution_count": 85,
   "id": "fb39462b",
   "metadata": {},
   "outputs": [
    {
     "data": {
      "text/plain": [
       "1000"
      ]
     },
     "execution_count": 85,
     "metadata": {},
     "output_type": "execute_result"
    }
   ],
   "source": [
    "rehber1.maas"
   ]
  },
  {
   "cell_type": "code",
   "execution_count": 86,
   "id": "47757191",
   "metadata": {},
   "outputs": [
    {
     "data": {
      "text/plain": [
       "'Human Resources'"
      ]
     },
     "execution_count": 86,
     "metadata": {},
     "output_type": "execute_result"
    }
   ],
   "source": [
    "rehber1.sobe"
   ]
  },
  {
   "cell_type": "code",
   "execution_count": 101,
   "id": "d7381021",
   "metadata": {},
   "outputs": [
    {
     "name": "stdout",
     "output_type": "stream",
     "text": [
      "Isci sinifinin melumatlari....\n",
      "Ad : Ulvi Allahverdiyev \n",
      "Mass: 1000 \n",
      "Sobe : Human Resources\n",
      "\n"
     ]
    }
   ],
   "source": [
    "rehber1.melumatlari_goster()"
   ]
  },
  {
   "cell_type": "code",
   "execution_count": 102,
   "id": "ddebe73d",
   "metadata": {},
   "outputs": [
    {
     "name": "stdout",
     "output_type": "stream",
     "text": [
      "Sobe deyisilir...\n"
     ]
    }
   ],
   "source": [
    "rehber1.sobe_deyisdir(\"IT\")"
   ]
  },
  {
   "cell_type": "code",
   "execution_count": 103,
   "id": "da36e786",
   "metadata": {},
   "outputs": [
    {
     "data": {
      "text/plain": [
       "'IT'"
      ]
     },
     "execution_count": 103,
     "metadata": {},
     "output_type": "execute_result"
    }
   ],
   "source": [
    "rehber1.sobe"
   ]
  },
  {
   "cell_type": "code",
   "execution_count": 104,
   "id": "8e1e541e",
   "metadata": {},
   "outputs": [
    {
     "data": {
      "text/plain": [
       "['__add__',\n",
       " '__class__',\n",
       " '__contains__',\n",
       " '__delattr__',\n",
       " '__delitem__',\n",
       " '__dir__',\n",
       " '__doc__',\n",
       " '__eq__',\n",
       " '__format__',\n",
       " '__ge__',\n",
       " '__getattribute__',\n",
       " '__getitem__',\n",
       " '__gt__',\n",
       " '__hash__',\n",
       " '__iadd__',\n",
       " '__imul__',\n",
       " '__init__',\n",
       " '__init_subclass__',\n",
       " '__iter__',\n",
       " '__le__',\n",
       " '__len__',\n",
       " '__lt__',\n",
       " '__mul__',\n",
       " '__ne__',\n",
       " '__new__',\n",
       " '__reduce__',\n",
       " '__reduce_ex__',\n",
       " '__repr__',\n",
       " '__reversed__',\n",
       " '__rmul__',\n",
       " '__setattr__',\n",
       " '__setitem__',\n",
       " '__sizeof__',\n",
       " '__str__',\n",
       " '__subclasshook__',\n",
       " 'append',\n",
       " 'clear',\n",
       " 'copy',\n",
       " 'count',\n",
       " 'extend',\n",
       " 'index',\n",
       " 'insert',\n",
       " 'pop',\n",
       " 'remove',\n",
       " 'reverse',\n",
       " 'sort']"
      ]
     },
     "execution_count": 104,
     "metadata": {},
     "output_type": "execute_result"
    }
   ],
   "source": [
    "dir(list)"
   ]
  },
  {
   "cell_type": "code",
   "execution_count": 105,
   "id": "fc30b0c1",
   "metadata": {},
   "outputs": [
    {
     "data": {
      "text/plain": [
       "['__class__',\n",
       " '__delattr__',\n",
       " '__dict__',\n",
       " '__dir__',\n",
       " '__doc__',\n",
       " '__eq__',\n",
       " '__format__',\n",
       " '__ge__',\n",
       " '__getattribute__',\n",
       " '__gt__',\n",
       " '__hash__',\n",
       " '__init__',\n",
       " '__init_subclass__',\n",
       " '__le__',\n",
       " '__lt__',\n",
       " '__module__',\n",
       " '__ne__',\n",
       " '__new__',\n",
       " '__reduce__',\n",
       " '__reduce_ex__',\n",
       " '__repr__',\n",
       " '__setattr__',\n",
       " '__sizeof__',\n",
       " '__str__',\n",
       " '__subclasshook__',\n",
       " '__weakref__',\n",
       " 'ad',\n",
       " 'maas',\n",
       " 'melumatlari_goster',\n",
       " 'sobe',\n",
       " 'sobe_deyisdir']"
      ]
     },
     "execution_count": 105,
     "metadata": {},
     "output_type": "execute_result"
    }
   ],
   "source": [
    "dir(rehber1)"
   ]
  },
  {
   "cell_type": "code",
   "execution_count": 106,
   "id": "53ce8d6b",
   "metadata": {},
   "outputs": [],
   "source": [
    "class Rehber(Isci):\n",
    "    def maas_artir(self,artan_mebleg):\n",
    "        print(\"Maasa artim gelir ...\")\n",
    "        self.maas += artan_mebleg"
   ]
  },
  {
   "cell_type": "code",
   "execution_count": 107,
   "id": "bd65fc75",
   "metadata": {},
   "outputs": [
    {
     "name": "stdout",
     "output_type": "stream",
     "text": [
      "Isci sinifinin init funksiyasi\n"
     ]
    }
   ],
   "source": [
    "rehber2 = Rehber(\"Adil Qafarov\",500,\"Engineering\")"
   ]
  },
  {
   "cell_type": "code",
   "execution_count": 108,
   "id": "14c9686a",
   "metadata": {},
   "outputs": [
    {
     "name": "stdout",
     "output_type": "stream",
     "text": [
      "Maasa artim gelir ...\n"
     ]
    }
   ],
   "source": [
    "rehber2.maas_artir(400)"
   ]
  },
  {
   "cell_type": "code",
   "execution_count": 109,
   "id": "3dc6d973",
   "metadata": {},
   "outputs": [
    {
     "data": {
      "text/plain": [
       "900"
      ]
     },
     "execution_count": 109,
     "metadata": {},
     "output_type": "execute_result"
    }
   ],
   "source": [
    "rehber2.maas"
   ]
  },
  {
   "cell_type": "code",
   "execution_count": 110,
   "id": "9532ab90",
   "metadata": {},
   "outputs": [
    {
     "name": "stdout",
     "output_type": "stream",
     "text": [
      "Maasa artim gelir ...\n"
     ]
    }
   ],
   "source": [
    "rehber2.maas_artir(100)"
   ]
  },
  {
   "cell_type": "code",
   "execution_count": 111,
   "id": "5c9dde72",
   "metadata": {},
   "outputs": [
    {
     "data": {
      "text/plain": [
       "1000"
      ]
     },
     "execution_count": 111,
     "metadata": {},
     "output_type": "execute_result"
    }
   ],
   "source": [
    "rehber2.maas"
   ]
  },
  {
   "cell_type": "code",
   "execution_count": 112,
   "id": "494ff9b7",
   "metadata": {},
   "outputs": [
    {
     "name": "stdout",
     "output_type": "stream",
     "text": [
      "Maasa artim gelir ...\n",
      "Maasa artim gelir ...\n",
      "Maasa artim gelir ...\n",
      "Maasa artim gelir ...\n",
      "Maasa artim gelir ...\n",
      "Maasa artim gelir ...\n",
      "Maasa artim gelir ...\n",
      "Maasa artim gelir ...\n",
      "Maasa artim gelir ...\n",
      "Maasa artim gelir ...\n"
     ]
    }
   ],
   "source": [
    "for i in range(10):\n",
    "    rehber2.maas_artir(200)"
   ]
  },
  {
   "cell_type": "code",
   "execution_count": 113,
   "id": "62e24497",
   "metadata": {},
   "outputs": [
    {
     "data": {
      "text/plain": [
       "3000"
      ]
     },
     "execution_count": 113,
     "metadata": {},
     "output_type": "execute_result"
    }
   ],
   "source": [
    "rehber2.maas"
   ]
  },
  {
   "cell_type": "code",
   "execution_count": 114,
   "id": "0b2af06d",
   "metadata": {},
   "outputs": [
    {
     "data": {
      "text/plain": [
       "method"
      ]
     },
     "execution_count": 114,
     "metadata": {},
     "output_type": "execute_result"
    }
   ],
   "source": [
    "type(rehber1.melumatlari_goster)"
   ]
  },
  {
   "cell_type": "code",
   "execution_count": 115,
   "id": "1739602b",
   "metadata": {},
   "outputs": [
    {
     "data": {
      "text/plain": [
       "str"
      ]
     },
     "execution_count": 115,
     "metadata": {},
     "output_type": "execute_result"
    }
   ],
   "source": [
    "type(rehber1.ad)"
   ]
  },
  {
   "cell_type": "code",
   "execution_count": 116,
   "id": "97925f59",
   "metadata": {},
   "outputs": [
    {
     "data": {
      "text/plain": [
       "['__add__',\n",
       " '__class__',\n",
       " '__contains__',\n",
       " '__delattr__',\n",
       " '__delitem__',\n",
       " '__dir__',\n",
       " '__doc__',\n",
       " '__eq__',\n",
       " '__format__',\n",
       " '__ge__',\n",
       " '__getattribute__',\n",
       " '__getitem__',\n",
       " '__gt__',\n",
       " '__hash__',\n",
       " '__iadd__',\n",
       " '__imul__',\n",
       " '__init__',\n",
       " '__init_subclass__',\n",
       " '__iter__',\n",
       " '__le__',\n",
       " '__len__',\n",
       " '__lt__',\n",
       " '__mul__',\n",
       " '__ne__',\n",
       " '__new__',\n",
       " '__reduce__',\n",
       " '__reduce_ex__',\n",
       " '__repr__',\n",
       " '__reversed__',\n",
       " '__rmul__',\n",
       " '__setattr__',\n",
       " '__setitem__',\n",
       " '__sizeof__',\n",
       " '__str__',\n",
       " '__subclasshook__',\n",
       " 'append',\n",
       " 'clear',\n",
       " 'copy',\n",
       " 'count',\n",
       " 'extend',\n",
       " 'index',\n",
       " 'insert',\n",
       " 'pop',\n",
       " 'remove',\n",
       " 'reverse',\n",
       " 'sort']"
      ]
     },
     "execution_count": 116,
     "metadata": {},
     "output_type": "execute_result"
    }
   ],
   "source": [
    "dir(list)"
   ]
  },
  {
   "cell_type": "code",
   "execution_count": 119,
   "id": "c5d5dd02",
   "metadata": {},
   "outputs": [
    {
     "data": {
      "text/plain": [
       "method_descriptor"
      ]
     },
     "execution_count": 119,
     "metadata": {},
     "output_type": "execute_result"
    }
   ],
   "source": [
    "type(list.append)"
   ]
  },
  {
   "cell_type": "code",
   "execution_count": 121,
   "id": "8e849e8c",
   "metadata": {},
   "outputs": [
    {
     "ename": "AttributeError",
     "evalue": "type object 'Isci' has no attribute 'ad'",
     "output_type": "error",
     "traceback": [
      "\u001b[1;31m---------------------------------------------------------------------------\u001b[0m",
      "\u001b[1;31mAttributeError\u001b[0m                            Traceback (most recent call last)",
      "\u001b[1;32m<ipython-input-121-a1f54448bb7b>\u001b[0m in \u001b[0;36m<module>\u001b[1;34m\u001b[0m\n\u001b[1;32m----> 1\u001b[1;33m \u001b[0mtype\u001b[0m\u001b[1;33m(\u001b[0m\u001b[0mIsci\u001b[0m\u001b[1;33m.\u001b[0m\u001b[0mad\u001b[0m\u001b[1;33m)\u001b[0m\u001b[1;33m\u001b[0m\u001b[1;33m\u001b[0m\u001b[0m\n\u001b[0m",
      "\u001b[1;31mAttributeError\u001b[0m: type object 'Isci' has no attribute 'ad'"
     ]
    }
   ],
   "source": []
  },
  {
   "cell_type": "code",
   "execution_count": 123,
   "id": "a22b91be",
   "metadata": {},
   "outputs": [
    {
     "name": "stdout",
     "output_type": "stream",
     "text": [
      "__class__\n",
      "__delattr__\n",
      "__dict__\n",
      "__dir__\n",
      "__doc__\n",
      "__eq__\n",
      "__format__\n",
      "__ge__\n",
      "__getattribute__\n",
      "__gt__\n",
      "__hash__\n",
      "__init__\n",
      "__init_subclass__\n",
      "__le__\n",
      "__lt__\n",
      "__module__\n",
      "__ne__\n",
      "__new__\n",
      "__reduce__\n",
      "__reduce_ex__\n",
      "__repr__\n",
      "__setattr__\n",
      "__sizeof__\n",
      "__str__\n",
      "__subclasshook__\n",
      "__weakref__\n",
      "ad\n",
      "maas\n",
      "melumatlari_goster\n",
      "sobe\n",
      "sobe_deyisdir\n"
     ]
    }
   ],
   "source": [
    "for i in dir(rehber1):\n",
    "    print(i)"
   ]
  },
  {
   "cell_type": "markdown",
   "id": "2c714149",
   "metadata": {},
   "source": [
    "# Overriding (legv etme)"
   ]
  },
  {
   "cell_type": "code",
   "execution_count": null,
   "id": "684a5c4d",
   "metadata": {},
   "outputs": [],
   "source": [
    "class Isci():\n",
    "    def __init__(self,ad,maas,sobe):\n",
    "        print(\"Isci sinifinin init funksiyasi\")\n",
    "        self.ad = ad\n",
    "        self.maas = maas\n",
    "        self.sobe = sobe\n",
    "    def melumatlari_goster(self):\n",
    "        print(\"Isci sinifinin melumatlari....\")\n",
    "        \n",
    "        print(\"Ad : {} \\nMass: {} \\nSobe : {}\\n\".format(self.ad,self.maas,self.sobe))\n",
    "    def sobe_deyisdir(self,yeni_sobe):\n",
    "        print(\"Sobe deyisilir...\")\n",
    "        self.sobe = yeni_sobe"
   ]
  },
  {
   "cell_type": "code",
   "execution_count": 124,
   "id": "8cefce9d",
   "metadata": {},
   "outputs": [],
   "source": [
    "class Rehber(Isci):\n",
    "    def __init__(self,ad,maas,sobe,isci_sayi): # Mesuliyyet dasidigi komandadaki iscilerin sayi\n",
    "        print(\"Rehber sinifinin init funksiyasi\")\n",
    "        self.ad = ad\n",
    "        self.maas = maas\n",
    "        self.sobe = sobe\n",
    "        self.isci_sayi = isci_sayi\n",
    "    def maas_artir(self,artan_mebleg):\n",
    "        print(\"Maas artirilir...\")\n",
    "        self.maas+=artan_mebleg"
   ]
  },
  {
   "cell_type": "code",
   "execution_count": 125,
   "id": "9b59944c",
   "metadata": {},
   "outputs": [
    {
     "name": "stdout",
     "output_type": "stream",
     "text": [
      "Rehber sinifinin init funksiyasi\n"
     ]
    }
   ],
   "source": [
    "a = Rehber(\"Ulvi Allahverdiyev\",1000,\"IT\",1) # Rehber sinfinin init funksiyasi ovverride olunur"
   ]
  },
  {
   "cell_type": "code",
   "execution_count": 126,
   "id": "56f772fd",
   "metadata": {},
   "outputs": [
    {
     "name": "stdout",
     "output_type": "stream",
     "text": [
      "Maas artirilir...\n"
     ]
    }
   ],
   "source": [
    "a.maas_artir(20)"
   ]
  },
  {
   "cell_type": "code",
   "execution_count": 127,
   "id": "a92a2c64",
   "metadata": {},
   "outputs": [
    {
     "data": {
      "text/plain": [
       "1020"
      ]
     },
     "execution_count": 127,
     "metadata": {},
     "output_type": "execute_result"
    }
   ],
   "source": [
    "a.maas\n"
   ]
  },
  {
   "cell_type": "code",
   "execution_count": 129,
   "id": "704f01a8",
   "metadata": {},
   "outputs": [
    {
     "name": "stdout",
     "output_type": "stream",
     "text": [
      "Isci sinifinin melumatlari....\n",
      "Ad : Ulvi Allahverdiyev \n",
      "Mass: 1020 \n",
      "Sobe : IT\n",
      "\n"
     ]
    }
   ],
   "source": [
    "a.melumatlari_goster()"
   ]
  },
  {
   "cell_type": "code",
   "execution_count": 130,
   "id": "2d966cd0",
   "metadata": {},
   "outputs": [
    {
     "name": "stdout",
     "output_type": "stream",
     "text": [
      "Sobe deyisilir...\n"
     ]
    }
   ],
   "source": [
    "a.sobe_deyisdir(\"HR\")"
   ]
  },
  {
   "cell_type": "code",
   "execution_count": 131,
   "id": "de49c51d",
   "metadata": {},
   "outputs": [
    {
     "data": {
      "text/plain": [
       "'HR'"
      ]
     },
     "execution_count": 131,
     "metadata": {},
     "output_type": "execute_result"
    }
   ],
   "source": [
    "a.sobe"
   ]
  },
  {
   "cell_type": "markdown",
   "id": "daedb932",
   "metadata": {},
   "source": [
    "# super keyword (açar söz)"
   ]
  },
  {
   "cell_type": "code",
   "execution_count": 132,
   "id": "61075c7c",
   "metadata": {},
   "outputs": [],
   "source": [
    "class Isci():\n",
    "    def __init__(self,ad,maas,sobe):\n",
    "        print(\"Isci sinifinin init funksiyasi\")\n",
    "        self.ad = ad\n",
    "        self.maas = maas\n",
    "        self.sobe = sobe\n",
    "    def melumatlari_goster(self):\n",
    "        print(\"Isci sinifinin melumatlari....\")\n",
    "        \n",
    "        print(\"Ad : {} \\nMass: {} \\nSobe : {}\\n\".format(self.ad,self.maas,self.sobe))\n",
    "    def sobe_deyisdir(self,yeni_sobe):\n",
    "        print(\"Sobe deyisilir...\")\n",
    "        self.sobe = yeni_sobe"
   ]
  },
  {
   "cell_type": "code",
   "execution_count": 134,
   "id": "470934e3",
   "metadata": {},
   "outputs": [],
   "source": [
    "class Rehber(Isci):\n",
    "    def __init__(self,ad,maas,sobe,isci_sayi): # Mesuliyyet dasidigi komandadaki iscilerin sayi\n",
    "        super().__init__(ad,maas,sobe) # 3 eded ozellik Isci funksiyasinin init funksiyasi ile hell edirik.\n",
    "        \n",
    "        print(\"rehber sinifinin init funksiyasi\")\n",
    "        \n",
    "        self.isci_sayi = isci_sayi # Ekstra ozellik (attribute) de ozumuz elave edirik.\n",
    "    def melumatlari_goster(self):\n",
    "        \n",
    "        print(\"Rehber sinifinin melumatlari...\")\n",
    "        \n",
    "        print(\"Ad : {} \\nMass: {} \\nSobe : {}\\n Mesuliyyet dasidigi isci sayi: {}\\n\".format(self.ad,\n",
    "                                                                                            self.maas,\n",
    "                                                                                            self.sobe,\n",
    "                                                                                            self.isci_sayi))\n",
    "    def maas_artir(self,artan_mebleg):\n",
    "        print(\"Maas artirilir...\")\n",
    "        self.maas+=artan_mebleg"
   ]
  },
  {
   "cell_type": "code",
   "execution_count": 135,
   "id": "5aedf9f1",
   "metadata": {},
   "outputs": [
    {
     "name": "stdout",
     "output_type": "stream",
     "text": [
      "Isci sinifinin init funksiyasi\n",
      "rehber sinifinin init funksiyasi\n"
     ]
    }
   ],
   "source": [
    "c = Rehber(\"Adil Qedirov\",1000,\"HR\",4)"
   ]
  },
  {
   "cell_type": "code",
   "execution_count": 136,
   "id": "af9d23be",
   "metadata": {},
   "outputs": [],
   "source": [
    "class Kitab():\n",
    "    pass"
   ]
  },
  {
   "cell_type": "code",
   "execution_count": 137,
   "id": "61201aef",
   "metadata": {},
   "outputs": [],
   "source": [
    "kitab1 = Kitab() #__init__ metodu cagirilacaq"
   ]
  },
  {
   "cell_type": "code",
   "execution_count": 138,
   "id": "24c76c79",
   "metadata": {},
   "outputs": [
    {
     "ename": "TypeError",
     "evalue": "object of type 'Kitab' has no len()",
     "output_type": "error",
     "traceback": [
      "\u001b[1;31m---------------------------------------------------------------------------\u001b[0m",
      "\u001b[1;31mTypeError\u001b[0m                                 Traceback (most recent call last)",
      "\u001b[1;32m<ipython-input-138-93591b6cbd5a>\u001b[0m in \u001b[0;36m<module>\u001b[1;34m\u001b[0m\n\u001b[1;32m----> 1\u001b[1;33m \u001b[0mlen\u001b[0m\u001b[1;33m(\u001b[0m\u001b[0mkitab1\u001b[0m\u001b[1;33m)\u001b[0m\u001b[1;33m\u001b[0m\u001b[1;33m\u001b[0m\u001b[0m\n\u001b[0m",
      "\u001b[1;31mTypeError\u001b[0m: object of type 'Kitab' has no len()"
     ]
    }
   ],
   "source": [
    "len(kitab1)"
   ]
  },
  {
   "cell_type": "code",
   "execution_count": 141,
   "id": "8d3a91fb",
   "metadata": {},
   "outputs": [
    {
     "ename": "TypeError",
     "evalue": "object of type 'Kitab' has no len()",
     "output_type": "error",
     "traceback": [
      "\u001b[1;31m---------------------------------------------------------------------------\u001b[0m",
      "\u001b[1;31mTypeError\u001b[0m                                 Traceback (most recent call last)",
      "\u001b[1;32m<ipython-input-141-93591b6cbd5a>\u001b[0m in \u001b[0;36m<module>\u001b[1;34m\u001b[0m\n\u001b[1;32m----> 1\u001b[1;33m \u001b[0mlen\u001b[0m\u001b[1;33m(\u001b[0m\u001b[0mkitab1\u001b[0m\u001b[1;33m)\u001b[0m\u001b[1;33m\u001b[0m\u001b[1;33m\u001b[0m\u001b[0m\n\u001b[0m",
      "\u001b[1;31mTypeError\u001b[0m: object of type 'Kitab' has no len()"
     ]
    }
   ],
   "source": [
    "len(kitab1)"
   ]
  },
  {
   "cell_type": "code",
   "execution_count": 142,
   "id": "fbf7d270",
   "metadata": {},
   "outputs": [
    {
     "name": "stdout",
     "output_type": "stream",
     "text": [
      "<__main__.Kitab object at 0x00000161BAB5F3A0>\n"
     ]
    }
   ],
   "source": [
    "print(kitab1)"
   ]
  },
  {
   "cell_type": "code",
   "execution_count": 143,
   "id": "444d0dd9",
   "metadata": {},
   "outputs": [
    {
     "data": {
      "text/plain": [
       "<__main__.Kitab at 0x161bab5f3a0>"
      ]
     },
     "execution_count": 143,
     "metadata": {},
     "output_type": "execute_result"
    }
   ],
   "source": [
    "kitab1"
   ]
  },
  {
   "cell_type": "code",
   "execution_count": 145,
   "id": "a3cb4849",
   "metadata": {},
   "outputs": [],
   "source": [
    "class Kitab():\n",
    "    def __init__(self,name,author,page_count,novu):\n",
    "        print(\"Kitab obyekti yaradilir...\")\n",
    "        self.name = name\n",
    "        self.author = author\n",
    "        self.page_count = page_count\n",
    "        self.novu = novu\n",
    "        "
   ]
  },
  {
   "cell_type": "code",
   "execution_count": 146,
   "id": "9dd1eb54",
   "metadata": {},
   "outputs": [
    {
     "name": "stdout",
     "output_type": "stream",
     "text": [
      "Kitab obyekti yaradilir...\n"
     ]
    }
   ],
   "source": [
    "kitab1 = Kitab(\"I Kill\",\"Girgoe Faletti\",800,\"Detective\")"
   ]
  },
  {
   "cell_type": "code",
   "execution_count": 147,
   "id": "c1def925",
   "metadata": {},
   "outputs": [
    {
     "name": "stdout",
     "output_type": "stream",
     "text": [
      "<__main__.Kitab object at 0x00000161BAFA5310>\n"
     ]
    }
   ],
   "source": [
    "print(kitab1)"
   ]
  },
  {
   "cell_type": "code",
   "execution_count": 149,
   "id": "2928e011",
   "metadata": {},
   "outputs": [
    {
     "data": {
      "text/plain": [
       "'<__main__.Kitab object at 0x00000161BAFA5310>'"
      ]
     },
     "execution_count": 149,
     "metadata": {},
     "output_type": "execute_result"
    }
   ],
   "source": [
    "str(kitab1)"
   ]
  },
  {
   "cell_type": "code",
   "execution_count": 150,
   "id": "c34f86d6",
   "metadata": {},
   "outputs": [],
   "source": [
    "class Kitab():\n",
    "    def __init__(self,name,author,page_count,novu):\n",
    "        print(\"Kitab obyekti yaradilir...\")\n",
    "        self.name = name\n",
    "        self.author = author\n",
    "        self.page_count = page_count\n",
    "        self.novu = novu\n",
    "    def __str__(self):\n",
    "        #Return istifade etmemis sertdir\n",
    "        return \"Name: {} \\nAuthor: {} \\nPage Count: {} \\nType of Book: {}\\n\".format(\n",
    "            self.name,\n",
    "            self.author,\n",
    "            self.page_count,\n",
    "            self.novu\n",
    "        )"
   ]
  },
  {
   "cell_type": "code",
   "execution_count": 151,
   "id": "b266911a",
   "metadata": {},
   "outputs": [
    {
     "name": "stdout",
     "output_type": "stream",
     "text": [
      "Kitab obyekti yaradilir...\n"
     ]
    }
   ],
   "source": [
    "kitab1 = Kitab(\"I Kill\",\"Girgoe Faletti\",800,\"Detective\")"
   ]
  },
  {
   "cell_type": "code",
   "execution_count": 152,
   "id": "4bca55f9",
   "metadata": {},
   "outputs": [
    {
     "name": "stdout",
     "output_type": "stream",
     "text": [
      "Name: I Kill \n",
      "Author: Girgoe Faletti \n",
      "Page Count: 800 \n",
      "Type of Book: Detective\n",
      "\n"
     ]
    }
   ],
   "source": [
    "print(kitab1)"
   ]
  },
  {
   "cell_type": "code",
   "execution_count": 153,
   "id": "5ef97aa4",
   "metadata": {},
   "outputs": [
    {
     "ename": "TypeError",
     "evalue": "object of type 'Kitab' has no len()",
     "output_type": "error",
     "traceback": [
      "\u001b[1;31m---------------------------------------------------------------------------\u001b[0m",
      "\u001b[1;31mTypeError\u001b[0m                                 Traceback (most recent call last)",
      "\u001b[1;32m<ipython-input-153-93591b6cbd5a>\u001b[0m in \u001b[0;36m<module>\u001b[1;34m\u001b[0m\n\u001b[1;32m----> 1\u001b[1;33m \u001b[0mlen\u001b[0m\u001b[1;33m(\u001b[0m\u001b[0mkitab1\u001b[0m\u001b[1;33m)\u001b[0m\u001b[1;33m\u001b[0m\u001b[1;33m\u001b[0m\u001b[0m\n\u001b[0m",
      "\u001b[1;31mTypeError\u001b[0m: object of type 'Kitab' has no len()"
     ]
    }
   ],
   "source": [
    "len(kitab1)"
   ]
  },
  {
   "cell_type": "code",
   "execution_count": 156,
   "id": "3e21f084",
   "metadata": {},
   "outputs": [],
   "source": [
    "class Kitab():\n",
    "    def __init__(self,name,author,page_count,novu):\n",
    "        print(\"Kitab obyekti yaradilir...\")\n",
    "        self.name = name\n",
    "        self.author = author\n",
    "        self.page_count = page_count\n",
    "        self.novu = novu\n",
    "    def __str__(self):\n",
    "        #Return istifade etmemis sertdir\n",
    "        return \"Name: {} \\nAuthor: {} \\nPage Count: {} \\nType of Book: {}\\n\".format(\n",
    "            self.name,\n",
    "            self.author,\n",
    "            self.page_count,\n",
    "            self.novu\n",
    "        )\n",
    "    def __len__(self):\n",
    "        return self.page_count"
   ]
  },
  {
   "cell_type": "code",
   "execution_count": 157,
   "id": "09b65044",
   "metadata": {},
   "outputs": [
    {
     "name": "stdout",
     "output_type": "stream",
     "text": [
      "Kitab obyekti yaradilir...\n"
     ]
    }
   ],
   "source": [
    "kitab1 = Kitab(\"I Kill\",\"Girgoe Faletti\",800,\"Detective\")"
   ]
  },
  {
   "cell_type": "code",
   "execution_count": 158,
   "id": "ad81866a",
   "metadata": {},
   "outputs": [
    {
     "data": {
      "text/plain": [
       "800"
      ]
     },
     "execution_count": 158,
     "metadata": {},
     "output_type": "execute_result"
    }
   ],
   "source": [
    "len(kitab1)"
   ]
  },
  {
   "cell_type": "markdown",
   "id": "2cfe415a",
   "metadata": {},
   "source": [
    "# del metodu"
   ]
  },
  {
   "cell_type": "code",
   "execution_count": 159,
   "id": "f008b9c1",
   "metadata": {},
   "outputs": [
    {
     "data": {
      "text/plain": [
       "1"
      ]
     },
     "execution_count": 159,
     "metadata": {},
     "output_type": "execute_result"
    }
   ],
   "source": [
    "a =1\n",
    "a\n"
   ]
  },
  {
   "cell_type": "code",
   "execution_count": 160,
   "id": "aed67864",
   "metadata": {},
   "outputs": [],
   "source": [
    "del a"
   ]
  },
  {
   "cell_type": "code",
   "execution_count": 162,
   "id": "26bfe3f3",
   "metadata": {},
   "outputs": [
    {
     "data": {
      "text/plain": [
       "<__main__.Kitab at 0x161ba978340>"
      ]
     },
     "execution_count": 162,
     "metadata": {},
     "output_type": "execute_result"
    }
   ],
   "source": [
    "kitab1"
   ]
  },
  {
   "cell_type": "code",
   "execution_count": 163,
   "id": "b5172a95",
   "metadata": {},
   "outputs": [],
   "source": [
    "del kitab1"
   ]
  },
  {
   "cell_type": "code",
   "execution_count": 164,
   "id": "81285302",
   "metadata": {},
   "outputs": [
    {
     "ename": "NameError",
     "evalue": "name 'kitab1' is not defined",
     "output_type": "error",
     "traceback": [
      "\u001b[1;31m---------------------------------------------------------------------------\u001b[0m",
      "\u001b[1;31mNameError\u001b[0m                                 Traceback (most recent call last)",
      "\u001b[1;32m<ipython-input-164-d2f73f5825b5>\u001b[0m in \u001b[0;36m<module>\u001b[1;34m\u001b[0m\n\u001b[1;32m----> 1\u001b[1;33m \u001b[0mkitab1\u001b[0m\u001b[1;33m\u001b[0m\u001b[1;33m\u001b[0m\u001b[0m\n\u001b[0m",
      "\u001b[1;31mNameError\u001b[0m: name 'kitab1' is not defined"
     ]
    }
   ],
   "source": [
    "kitab1"
   ]
  },
  {
   "cell_type": "code",
   "execution_count": 166,
   "id": "46371382",
   "metadata": {},
   "outputs": [],
   "source": [
    "class Kitab():\n",
    "    def __init__(self,name,author,page_count,novu):\n",
    "        print(\"Kitab obyekti yaradilir...\")\n",
    "        self.name = name\n",
    "        self.author = author\n",
    "        self.page_count = page_count\n",
    "        self.novu = novu\n",
    "    def __str__(self):\n",
    "        #Return istifade etmemis sertdir\n",
    "        return \"Name: {} \\nAuthor: {} \\nPage Count: {} \\nType of Book: {}\\n\".format(\n",
    "            self.name,\n",
    "            self.author,\n",
    "            self.page_count,\n",
    "            self.novu\n",
    "        )\n",
    "    def __len__(self):\n",
    "        return self.page_count\n",
    "    def __del__(self):\n",
    "        print(\"Kitab silinirrrr .....\")"
   ]
  },
  {
   "cell_type": "code",
   "execution_count": 167,
   "id": "444e8bbb",
   "metadata": {},
   "outputs": [
    {
     "name": "stdout",
     "output_type": "stream",
     "text": [
      "Kitab obyekti yaradilir...\n"
     ]
    }
   ],
   "source": [
    "kitab1 = Kitab(\"I Kill\",\"Girgoe Faletti\",800,\"Detective\")"
   ]
  },
  {
   "cell_type": "code",
   "execution_count": 168,
   "id": "9f36f914",
   "metadata": {
    "scrolled": true
   },
   "outputs": [
    {
     "name": "stdout",
     "output_type": "stream",
     "text": [
      "Kitab silinirrrr .....\n"
     ]
    }
   ],
   "source": [
    "del(kitab1)"
   ]
  },
  {
   "cell_type": "code",
   "execution_count": null,
   "id": "97439708",
   "metadata": {},
   "outputs": [],
   "source": []
  }
 ],
 "metadata": {
  "kernelspec": {
   "display_name": "Python 3",
   "language": "python",
   "name": "python3"
  },
  "language_info": {
   "codemirror_mode": {
    "name": "ipython",
    "version": 3
   },
   "file_extension": ".py",
   "mimetype": "text/x-python",
   "name": "python",
   "nbconvert_exporter": "python",
   "pygments_lexer": "ipython3",
   "version": "3.8.8"
  }
 },
 "nbformat": 4,
 "nbformat_minor": 5
}
