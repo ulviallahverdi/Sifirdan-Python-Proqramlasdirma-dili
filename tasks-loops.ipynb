{
 "cells": [
  {
   "cell_type": "markdown",
   "metadata": {},
   "source": [
    "## TAPŞIRIQ-  Loop (while, for)\n",
    "\n",
    "Təbrik edirik! Siz bölməni uğurla tamamladınız. İndi öyrəndiklərinizi yadda saxlamaq üçün ev tapşırığını yerinə yetirməyin vaxtıdır!*\n",
    "\n",
    "***Qeyd: Buradakı bütün problemlər alqoritm bacarıqlarınızı xeyli təkmilləşdirəcək. Odur ki, çətinlik çəkəndə təslim olmayın. Bu barədə düşünməyə və cəhd etməyə davam edin.***"
   ]
  },
  {
   "cell_type": "markdown",
   "metadata": {},
   "source": [
    "### Mələsə 1\n",
    "\n",
    "İstifadəçidən aldığınız nömrənin mükəmməl olub olmadığını öyrənməyə çalışın.\n",
    "\n",
    "\n",
    "*Bölənlərin cəmi özünə bərabər olan ədədə “mükəmməl ədəd” deyilir. Məsələn, 6 mükəmməl rəqəmdir. (1 + 2 + 3 = 6)*"
   ]
  },
  {
   "cell_type": "markdown",
   "metadata": {},
   "source": [
    "### Məsələ 2"
   ]
  },
  {
   "cell_type": "markdown",
   "metadata": {},
   "source": [
    "İstifadəçidən aldığınız nömrənin \"Armstrong\" nömrəsi olub olmadığını öyrənməyə çalışın.\n",
    "\n",
    "*Məsələn, əgər ədədin 4 rəqəmi varsa və onu təşkil edən rəqəmlərin hər birinin 4-cü dərəcəsinin cəmi (3 rəqəmli ədədlər üçün 3-cü dərəcə) həmin rəqəmə bərabərdirsə, bu ədəd “Armstronq” nömrəsi adlanır. .*\n",
    "\n",
    "*Məsələn: 1634 = 1^4 + 6^4 + 3^4 + 4^4*"
   ]
  },
  {
   "cell_type": "markdown",
   "metadata": {},
   "source": [
    "### Məsələ 3\n",
    "\n",
    "1-dən 10-a qədər rəqəmlərlə vurma cədvəlini çap etməyə çalışın.\n",
    "\n",
    "***Sadə köməklik: Döngələr üçün 2 yuva istifadə edin. Həmçinin range() funksiyasından istifadə edərək nömrələri əldə edin.***"
   ]
  },
  {
   "cell_type": "markdown",
   "metadata": {},
   "source": [
    "### Məsələ 4\n",
    "\n",
    "Hər bir while dövrəsində istifadəçidən nömrə götürün və istifadəçinin daxil etdiyi nömrələri “sum” adlı dəyişənə əlavə edin. İstifadəçi \"q\" düyməsini basdıqda, dövrəni dayandırın və \"cəm dəyişənini\" ekrana çap edin.\n",
    "\n",
    "***Sadə köməklik: sonsuz şərtlə while dövrəsinə başlayın və istifadəçi q düyməsini basarsa, döngəni pozun.***"
   ]
  },
  {
   "cell_type": "markdown",
   "metadata": {},
   "source": [
    "### Məsələ 5\n",
    "\n",
    "1-dən 100-ə qədər olan ədədlərdən yalnız 3-ə bölünən ədədləri çap edin. Bunu ***continue*** ilə etməyə çalışın."
   ]
  },
  {
   "cell_type": "markdown",
   "metadata": {},
   "source": [
    "### Məsələ 6\n",
    "\n",
    "Burada problemin həllini xüsusilə dərslərimizdə öyrənməmişik. Siyahıya əsaslanaraq və siyahını başa düşməkdən istifadə edərək siyahıya yalnız 1-dən 100-ə qədər cüt ədədlər qoymağa çalışın.\n",
    "\n",
    "*Qeyd: Proqramlaşdırmada hər detalı öyrənə bilmərik. Bunun üçün bəzi yerlərdə sınaq və səhv yolu ilə öyrəndiyimiz şeylər var. Bu problemdə siz sınaq və səhv yolu ilə şərti hallarla siyahı anlamadan istifadə etməyi öyrənəcəksiniz.*\n",
    "\n",
    "*Sadə köməklik (tips): Sadə düşünməyə çalışın.*\n"
   ]
  },
  {
   "cell_type": "code",
   "execution_count": null,
   "metadata": {},
   "outputs": [],
   "source": []
  }
 ],
 "metadata": {
  "kernelspec": {
   "display_name": "Python 3",
   "language": "python",
   "name": "python3"
  },
  "language_info": {
   "codemirror_mode": {
    "name": "ipython",
    "version": 3
   },
   "file_extension": ".py",
   "mimetype": "text/x-python",
   "name": "python",
   "nbconvert_exporter": "python",
   "pygments_lexer": "ipython3",
   "version": "3.8.8"
  }
 },
 "nbformat": 4,
 "nbformat_minor": 2
}
