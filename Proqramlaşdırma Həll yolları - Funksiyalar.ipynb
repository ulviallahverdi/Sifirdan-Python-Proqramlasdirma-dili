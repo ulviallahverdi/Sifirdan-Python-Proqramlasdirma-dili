{
 "cells": [
  {
   "cell_type": "markdown",
   "metadata": {},
   "source": [
    "## Həll yolları\n",
    "\n",
    "### Problem 1"
   ]
  },
  {
   "cell_type": "code",
   "execution_count": 2,
   "metadata": {},
   "outputs": [
    {
     "name": "stdout",
     "output_type": "stream",
     "text": [
      "Mukemmel reqem: 6\n",
      "Mukemmel reqem: 28\n",
      "Mukemmel reqem: 496\n"
     ]
    }
   ],
   "source": [
    "def mukemmel(reqem):\n",
    "    cem = 0\n",
    "    toplam = 0\n",
    "    \n",
    "    for i in range(1,reqem):\n",
    "        \n",
    "        if (reqem % i == 0):\n",
    "            cem += i\n",
    "            \n",
    "    return cem == reqem\n",
    "\n",
    "\n",
    "for i in range(1,1001):\n",
    "    if (mukemmel(i)):\n",
    "        print(\"Mukemmel reqem:\",i)\n",
    "    "
   ]
  },
  {
   "cell_type": "markdown",
   "metadata": {},
   "source": [
    "### Problem 2"
   ]
  },
  {
   "cell_type": "code",
   "execution_count": 4,
   "metadata": {},
   "outputs": [
    {
     "name": "stdout",
     "output_type": "stream",
     "text": [
      "Reqem-1:30\n",
      "Reqem-2:40\n",
      "Ebob: 10\n"
     ]
    }
   ],
   "source": [
    "def ebob_tapma(reqem1,reqem2):\n",
    "    \n",
    "    i = 1\n",
    "    ebob = 1\n",
    "    while (i <= reqem1 and i <= reqem2 ):\n",
    "\n",
    "        if ( not (reqem1 % i) and not (reqem2 % i)):\n",
    "            ebob = i\n",
    "        i += 1\n",
    "    return ebob\n",
    "reqem1 = int(input(\"Reqem-1:\"))\n",
    "reqem2 = int(input(\"Reqem-2:\"))\n",
    "\n",
    "print(\"Ebob:\",ebob_tapma(reqem1,reqem2))"
   ]
  },
  {
   "cell_type": "markdown",
   "metadata": {},
   "source": [
    "### Problem 3"
   ]
  },
  {
   "cell_type": "code",
   "execution_count": 6,
   "metadata": {},
   "outputs": [
    {
     "name": "stdout",
     "output_type": "stream",
     "text": [
      "Reqem-1:4\n",
      "Reqem-2:8\n",
      "Ekob: 8\n"
     ]
    }
   ],
   "source": [
    "def ekob_tapma(reqem1,reqem2):\n",
    "    \n",
    "    i = 2\n",
    "    ekob = 1\n",
    "    while True:\n",
    "        if (reqem1 % i == 0 and reqem2 % i == 0):\n",
    "            ekob *= i\n",
    "\n",
    "            reqem1 //= i\n",
    "            reqem2 //= i\n",
    "\n",
    "\n",
    "        elif (reqem1 % i ==  0 and reqem2 % i != 0):\n",
    "            ekob *= i\n",
    "\n",
    "            reqem1 //= i\n",
    "\n",
    "\n",
    "        elif (reqem1 % i != 0 and reqem2 % i == 0):\n",
    "            ekob *= i\n",
    "\n",
    "            reqem2 //= i\n",
    "        else:\n",
    "            i += 1\n",
    "        if (reqem1 == 1 and reqem2 == 1):\n",
    "            break\n",
    "    return ekob\n",
    "\n",
    "reqem1 = int(input(\"Reqem-1:\"))\n",
    "reqem2 = int(input(\"Reqem-2:\"))\n",
    "\n",
    "print(\"Ekob:\",ekob_tapma(reqem1,reqem2))"
   ]
  },
  {
   "cell_type": "markdown",
   "metadata": {},
   "source": [
    "### Problem 4"
   ]
  },
  {
   "cell_type": "code",
   "execution_count": 12,
   "metadata": {},
   "outputs": [
    {
     "name": "stdout",
     "output_type": "stream",
     "text": [
      "Reqem:34\n",
      "Otuz Dörd\n"
     ]
    }
   ],
   "source": [
    "birlikler =  [\"\",\"Bir\",\"İki\",\"Üç\",\"Dörd\",\"Beş\",\"Altı\",\"Yeddi\",\"Səkkiz\",\"Doqquz\"]\n",
    "onluqlar = [\"\",\"On\",\"İyirmi\",\"Otuz\",\"Qırx\",\"Əlli\",\"Altmış\",\"Yetmiş\",\"Səksən\",\"Doxsan\"]\n",
    "\n",
    "def oxunus(reqem):\n",
    "    birinci = reqem % 10\n",
    "    ikinci = reqem // 10\n",
    "    \n",
    "    return onluqlar[ikinci] + \" \" + birler[birinci]\n",
    "\n",
    "    \n",
    "reqem =  int(input(\"Reqem:\"))\n",
    "\n",
    "print(oxunus(reqem))"
   ]
  },
  {
   "cell_type": "markdown",
   "metadata": {},
   "source": [
    "### Problem 5"
   ]
  },
  {
   "cell_type": "code",
   "execution_count": 15,
   "metadata": {},
   "outputs": [
    {
     "name": "stdout",
     "output_type": "stream",
     "text": [
      "(3, 4, 5)\n",
      "(4, 3, 5)\n",
      "(5, 12, 13)\n",
      "(6, 8, 10)\n",
      "(7, 24, 25)\n",
      "(8, 6, 10)\n",
      "(8, 15, 17)\n",
      "(9, 12, 15)\n",
      "(9, 40, 41)\n",
      "(10, 24, 26)\n",
      "(11, 60, 61)\n",
      "(12, 5, 13)\n",
      "(12, 9, 15)\n",
      "(12, 16, 20)\n",
      "(12, 35, 37)\n",
      "(13, 84, 85)\n",
      "(14, 48, 50)\n",
      "(15, 8, 17)\n",
      "(15, 20, 25)\n",
      "(15, 36, 39)\n",
      "(16, 12, 20)\n",
      "(16, 30, 34)\n",
      "(16, 63, 65)\n",
      "(18, 24, 30)\n",
      "(18, 80, 82)\n",
      "(20, 15, 25)\n",
      "(20, 21, 29)\n",
      "(20, 48, 52)\n",
      "(20, 99, 101)\n",
      "(21, 20, 29)\n",
      "(21, 28, 35)\n",
      "(21, 72, 75)\n",
      "(24, 7, 25)\n",
      "(24, 10, 26)\n",
      "(24, 18, 30)\n",
      "(24, 32, 40)\n",
      "(24, 45, 51)\n",
      "(24, 70, 74)\n",
      "(25, 60, 65)\n",
      "(27, 36, 45)\n",
      "(28, 21, 35)\n",
      "(28, 45, 53)\n",
      "(28, 96, 100)\n",
      "(30, 16, 34)\n",
      "(30, 40, 50)\n",
      "(30, 72, 78)\n",
      "(32, 24, 40)\n",
      "(32, 60, 68)\n",
      "(33, 44, 55)\n",
      "(33, 56, 65)\n",
      "(35, 12, 37)\n",
      "(35, 84, 91)\n",
      "(36, 15, 39)\n",
      "(36, 27, 45)\n",
      "(36, 48, 60)\n",
      "(36, 77, 85)\n",
      "(39, 52, 65)\n",
      "(39, 80, 89)\n",
      "(40, 9, 41)\n",
      "(40, 30, 50)\n",
      "(40, 42, 58)\n",
      "(40, 75, 85)\n",
      "(40, 96, 104)\n",
      "(42, 40, 58)\n",
      "(42, 56, 70)\n",
      "(44, 33, 55)\n",
      "(45, 24, 51)\n",
      "(45, 28, 53)\n",
      "(45, 60, 75)\n",
      "(48, 14, 50)\n",
      "(48, 20, 52)\n",
      "(48, 36, 60)\n",
      "(48, 55, 73)\n",
      "(48, 64, 80)\n",
      "(48, 90, 102)\n",
      "(51, 68, 85)\n",
      "(52, 39, 65)\n",
      "(54, 72, 90)\n",
      "(55, 48, 73)\n",
      "(56, 33, 65)\n",
      "(56, 42, 70)\n",
      "(56, 90, 106)\n",
      "(57, 76, 95)\n",
      "(60, 11, 61)\n",
      "(60, 25, 65)\n",
      "(60, 32, 68)\n",
      "(60, 45, 75)\n",
      "(60, 63, 87)\n",
      "(60, 80, 100)\n",
      "(60, 91, 109)\n",
      "(63, 16, 65)\n",
      "(63, 60, 87)\n",
      "(63, 84, 105)\n",
      "(64, 48, 80)\n",
      "(65, 72, 97)\n",
      "(66, 88, 110)\n",
      "(68, 51, 85)\n",
      "(69, 92, 115)\n",
      "(70, 24, 74)\n",
      "(72, 21, 75)\n",
      "(72, 30, 78)\n",
      "(72, 54, 90)\n",
      "(72, 65, 97)\n",
      "(72, 96, 120)\n",
      "(75, 40, 85)\n",
      "(75, 100, 125)\n",
      "(76, 57, 95)\n",
      "(77, 36, 85)\n",
      "(80, 18, 82)\n",
      "(80, 39, 89)\n",
      "(80, 60, 100)\n",
      "(80, 84, 116)\n",
      "(84, 13, 85)\n",
      "(84, 35, 91)\n",
      "(84, 63, 105)\n",
      "(84, 80, 116)\n",
      "(88, 66, 110)\n",
      "(90, 48, 102)\n",
      "(90, 56, 106)\n",
      "(91, 60, 109)\n",
      "(92, 69, 115)\n",
      "(96, 28, 100)\n",
      "(96, 40, 104)\n",
      "(96, 72, 120)\n",
      "(99, 20, 101)\n",
      "(100, 75, 125)\n"
     ]
    }
   ],
   "source": [
    "def pifaqor_tapma():\n",
    "    \n",
    "    pifaqor_listi = list()\n",
    "    for i in range(1,101):\n",
    "        for j in range(1,101):\n",
    "\n",
    "            c = (i ** 2 + j ** 2) ** 0.5\n",
    "\n",
    "            if (c == int(c) ):\n",
    "                pifaqor_listi.append((i,j,int(c)))\n",
    "\n",
    "    return pifaqor_listi\n",
    "\n",
    "for i in pifaqor_tapma():\n",
    "    print(i)"
   ]
  },
  {
   "cell_type": "code",
   "execution_count": null,
   "metadata": {
    "collapsed": true
   },
   "outputs": [],
   "source": []
  }
 ],
 "metadata": {
  "kernelspec": {
   "display_name": "Python 3",
   "language": "python",
   "name": "python3"
  },
  "language_info": {
   "codemirror_mode": {
    "name": "ipython",
    "version": 3
   },
   "file_extension": ".py",
   "mimetype": "text/x-python",
   "name": "python",
   "nbconvert_exporter": "python",
   "pygments_lexer": "ipython3",
   "version": "3.8.8"
  }
 },
 "nbformat": 4,
 "nbformat_minor": 2
}
