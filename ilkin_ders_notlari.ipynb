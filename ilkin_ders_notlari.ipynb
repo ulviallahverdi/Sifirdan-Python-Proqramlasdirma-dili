{
 "cells": [
  {
   "cell_type": "code",
   "execution_count": 6,
   "id": "8c5271b2",
   "metadata": {},
   "outputs": [],
   "source": [
    "#Men 50 deyerinin uzerine 1 geleceyem ve neticeni sonda a ededine teyin edeceyem!\n",
    "a = 50\n",
    "a += 1"
   ]
  },
  {
   "cell_type": "code",
   "execution_count": 7,
   "id": "a8d114de",
   "metadata": {},
   "outputs": [
    {
     "data": {
      "text/plain": [
       "51"
      ]
     },
     "execution_count": 7,
     "metadata": {},
     "output_type": "execute_result"
    }
   ],
   "source": [
    "a"
   ]
  },
  {
   "cell_type": "code",
   "execution_count": 3,
   "id": "2c8732bb",
   "metadata": {
    "scrolled": true
   },
   "outputs": [
    {
     "data": {
      "text/plain": [
       "51"
      ]
     },
     "execution_count": 3,
     "metadata": {},
     "output_type": "execute_result"
    }
   ],
   "source": [
    "a"
   ]
  },
  {
   "cell_type": "code",
   "execution_count": 5,
   "id": "9f400085",
   "metadata": {},
   "outputs": [],
   "source": [
    "#Commentingdfms\n",
    "#sdfsdfs"
   ]
  },
  {
   "cell_type": "code",
   "execution_count": 8,
   "id": "fa76d7bb",
   "metadata": {},
   "outputs": [],
   "source": [
    "# Integer, Float  ve Riyazi emeliyyatlar"
   ]
  },
  {
   "cell_type": "code",
   "execution_count": 9,
   "id": "eba31cce",
   "metadata": {},
   "outputs": [],
   "source": [
    "# STRING - yazi tipleri"
   ]
  },
  {
   "cell_type": "code",
   "execution_count": 11,
   "id": "5e9203e2",
   "metadata": {},
   "outputs": [
    {
     "data": {
      "text/plain": [
       "'2'"
      ]
     },
     "execution_count": 11,
     "metadata": {},
     "output_type": "execute_result"
    }
   ],
   "source": [
    "\"2\""
   ]
  },
  {
   "cell_type": "code",
   "execution_count": 12,
   "id": "06be4b94",
   "metadata": {},
   "outputs": [
    {
     "data": {
      "text/plain": [
       "2"
      ]
     },
     "execution_count": 12,
     "metadata": {},
     "output_type": "execute_result"
    }
   ],
   "source": [
    "2"
   ]
  },
  {
   "cell_type": "code",
   "execution_count": 13,
   "id": "9957eeb2",
   "metadata": {},
   "outputs": [
    {
     "data": {
      "text/plain": [
       "'2+3'"
      ]
     },
     "execution_count": 13,
     "metadata": {},
     "output_type": "execute_result"
    }
   ],
   "source": [
    "\"2+3\""
   ]
  },
  {
   "cell_type": "code",
   "execution_count": 14,
   "id": "0cb9f0e6",
   "metadata": {},
   "outputs": [
    {
     "ename": "TypeError",
     "evalue": "unsupported operand type(s) for +: 'int' and 'str'",
     "output_type": "error",
     "traceback": [
      "\u001b[1;31m---------------------------------------------------------------------------\u001b[0m",
      "\u001b[1;31mTypeError\u001b[0m                                 Traceback (most recent call last)",
      "\u001b[1;32m<ipython-input-14-80052203e394>\u001b[0m in \u001b[0;36m<module>\u001b[1;34m\u001b[0m\n\u001b[1;32m----> 1\u001b[1;33m \u001b[1;36m2\u001b[0m \u001b[1;33m+\u001b[0m \u001b[1;34m\"2\"\u001b[0m\u001b[1;33m\u001b[0m\u001b[1;33m\u001b[0m\u001b[0m\n\u001b[0m",
      "\u001b[1;31mTypeError\u001b[0m: unsupported operand type(s) for +: 'int' and 'str'"
     ]
    }
   ],
   "source": [
    "2 + \"2\""
   ]
  },
  {
   "cell_type": "code",
   "execution_count": 15,
   "id": "34ef6a47",
   "metadata": {},
   "outputs": [
    {
     "ename": "TypeError",
     "evalue": "can only concatenate str (not \"int\") to str",
     "output_type": "error",
     "traceback": [
      "\u001b[1;31m---------------------------------------------------------------------------\u001b[0m",
      "\u001b[1;31mTypeError\u001b[0m                                 Traceback (most recent call last)",
      "\u001b[1;32m<ipython-input-15-f0f2d8afca17>\u001b[0m in \u001b[0;36m<module>\u001b[1;34m\u001b[0m\n\u001b[1;32m----> 1\u001b[1;33m \u001b[1;34m\"Salam AZerbaycan\"\u001b[0m \u001b[1;33m+\u001b[0m \u001b[1;36m3\u001b[0m\u001b[1;33m\u001b[0m\u001b[1;33m\u001b[0m\u001b[0m\n\u001b[0m",
      "\u001b[1;31mTypeError\u001b[0m: can only concatenate str (not \"int\") to str"
     ]
    }
   ],
   "source": [
    "\"Salam AZerbaycan\" + 3"
   ]
  },
  {
   "cell_type": "code",
   "execution_count": 16,
   "id": "52bf1d6d",
   "metadata": {},
   "outputs": [
    {
     "data": {
      "text/plain": [
       "'SalamSalam'"
      ]
     },
     "execution_count": 16,
     "metadata": {},
     "output_type": "execute_result"
    }
   ],
   "source": [
    "\"Salam\" * 2"
   ]
  },
  {
   "cell_type": "code",
   "execution_count": 17,
   "id": "41da70ab",
   "metadata": {},
   "outputs": [
    {
     "data": {
      "text/plain": [
       "8"
      ]
     },
     "execution_count": 17,
     "metadata": {},
     "output_type": "execute_result"
    }
   ],
   "source": [
    "4 + 4"
   ]
  },
  {
   "cell_type": "code",
   "execution_count": 18,
   "id": "cbc5a280",
   "metadata": {},
   "outputs": [
    {
     "data": {
      "text/plain": [
       "'SalamSalam'"
      ]
     },
     "execution_count": 18,
     "metadata": {},
     "output_type": "execute_result"
    }
   ],
   "source": [
    "\"Salam\" + \"Salam\""
   ]
  },
  {
   "cell_type": "code",
   "execution_count": 19,
   "id": "9761e074",
   "metadata": {},
   "outputs": [
    {
     "data": {
      "text/plain": [
       "'24'"
      ]
     },
     "execution_count": 19,
     "metadata": {},
     "output_type": "execute_result"
    }
   ],
   "source": [
    "\"2\" + \"4\""
   ]
  },
  {
   "cell_type": "code",
   "execution_count": 20,
   "id": "e70c71c1",
   "metadata": {},
   "outputs": [
    {
     "ename": "SyntaxError",
     "evalue": "invalid syntax (<ipython-input-20-668cb878850b>, line 1)",
     "output_type": "error",
     "traceback": [
      "\u001b[1;36m  File \u001b[1;32m\"<ipython-input-20-668cb878850b>\"\u001b[1;36m, line \u001b[1;32m1\u001b[0m\n\u001b[1;33m    \"Menim\" +\u001b[0m\n\u001b[1;37m              ^\u001b[0m\n\u001b[1;31mSyntaxError\u001b[0m\u001b[1;31m:\u001b[0m invalid syntax\n"
     ]
    }
   ],
   "source": [
    "\"Menim\" + "
   ]
  },
  {
   "cell_type": "code",
   "execution_count": null,
   "id": "3a14857c",
   "metadata": {},
   "outputs": [],
   "source": []
  },
  {
   "cell_type": "code",
   "execution_count": 21,
   "id": "e7e63f0a",
   "metadata": {},
   "outputs": [
    {
     "ename": "SyntaxError",
     "evalue": "invalid syntax (<ipython-input-21-668cb878850b>, line 1)",
     "output_type": "error",
     "traceback": [
      "\u001b[1;36m  File \u001b[1;32m\"<ipython-input-21-668cb878850b>\"\u001b[1;36m, line \u001b[1;32m1\u001b[0m\n\u001b[1;33m    \"Menim\" +\u001b[0m\n\u001b[1;37m              ^\u001b[0m\n\u001b[1;31mSyntaxError\u001b[0m\u001b[1;31m:\u001b[0m invalid syntax\n"
     ]
    }
   ],
   "source": [
    "\"Menim\" + "
   ]
  },
  {
   "cell_type": "code",
   "execution_count": null,
   "id": "52f42345",
   "metadata": {},
   "outputs": [],
   "source": []
  },
  {
   "cell_type": "code",
   "execution_count": 22,
   "id": "622985ed",
   "metadata": {},
   "outputs": [
    {
     "data": {
      "text/plain": [
       "'MenimadimUlvidir'"
      ]
     },
     "execution_count": 22,
     "metadata": {},
     "output_type": "execute_result"
    }
   ],
   "source": [
    "\"Menim\" + \"adim\" + \"Ulvidir\""
   ]
  },
  {
   "cell_type": "code",
   "execution_count": 23,
   "id": "29c47631",
   "metadata": {},
   "outputs": [
    {
     "data": {
      "text/plain": [
       "'Menim adim Ulvidir'"
      ]
     },
     "execution_count": 23,
     "metadata": {},
     "output_type": "execute_result"
    }
   ],
   "source": [
    "\"Menim\" + \" \" + \"adim\" + \" \" + \"Ulvidir\""
   ]
  },
  {
   "cell_type": "code",
   "execution_count": 24,
   "id": "b2bb6008",
   "metadata": {},
   "outputs": [
    {
     "data": {
      "text/plain": [
       "'Menim adim Ulvidir'"
      ]
     },
     "execution_count": 24,
     "metadata": {},
     "output_type": "execute_result"
    }
   ],
   "source": [
    "\"Menim\" + \" adim\" + \" Ulvidir\""
   ]
  },
  {
   "cell_type": "code",
   "execution_count": 25,
   "id": "6d33965e",
   "metadata": {},
   "outputs": [
    {
     "data": {
      "text/plain": [
       "' '"
      ]
     },
     "execution_count": 25,
     "metadata": {},
     "output_type": "execute_result"
    }
   ],
   "source": [
    "\" \""
   ]
  },
  {
   "cell_type": "code",
   "execution_count": 27,
   "id": "5ef138d7",
   "metadata": {},
   "outputs": [
    {
     "data": {
      "text/plain": [
       "'www.baku.com'"
      ]
     },
     "execution_count": 27,
     "metadata": {},
     "output_type": "execute_result"
    }
   ],
   "source": [
    "\"www\" + \".baku\" + \".com\""
   ]
  },
  {
   "cell_type": "code",
   "execution_count": 28,
   "id": "56a974b8",
   "metadata": {},
   "outputs": [
    {
     "data": {
      "text/plain": [
       "'salam'"
      ]
     },
     "execution_count": 28,
     "metadata": {},
     "output_type": "execute_result"
    }
   ],
   "source": [
    "'salam'"
   ]
  },
  {
   "cell_type": "code",
   "execution_count": 29,
   "id": "67ee5573",
   "metadata": {},
   "outputs": [
    {
     "data": {
      "text/plain": [
       "'salam'"
      ]
     },
     "execution_count": 29,
     "metadata": {},
     "output_type": "execute_result"
    }
   ],
   "source": [
    "\"salam\""
   ]
  },
  {
   "cell_type": "code",
   "execution_count": 30,
   "id": "6e70a7a5",
   "metadata": {},
   "outputs": [
    {
     "data": {
      "text/plain": [
       "' salam '"
      ]
     },
     "execution_count": 30,
     "metadata": {},
     "output_type": "execute_result"
    }
   ],
   "source": [
    "\"\"\" salam \"\"\""
   ]
  },
  {
   "cell_type": "code",
   "execution_count": 34,
   "id": "4d285349",
   "metadata": {},
   "outputs": [
    {
     "data": {
      "text/plain": [
       "'Salam Ulvinin dostu'"
      ]
     },
     "execution_count": 34,
     "metadata": {},
     "output_type": "execute_result"
    }
   ],
   "source": [
    "#Salam Ulvi'nin dostu\n",
    "'Salam Ulvi''nin dostu'"
   ]
  },
  {
   "cell_type": "code",
   "execution_count": 35,
   "id": "9c721f83",
   "metadata": {},
   "outputs": [
    {
     "data": {
      "text/plain": [
       "\"Salam Ulvi'nin dostu \""
      ]
     },
     "execution_count": 35,
     "metadata": {},
     "output_type": "execute_result"
    }
   ],
   "source": [
    "\"Salam Ulvi'nin dostu \""
   ]
  },
  {
   "cell_type": "code",
   "execution_count": 37,
   "id": "440b4470",
   "metadata": {},
   "outputs": [
    {
     "data": {
      "text/plain": [
       "'Salam Ulvi\"nin dostu'"
      ]
     },
     "execution_count": 37,
     "metadata": {},
     "output_type": "execute_result"
    }
   ],
   "source": [
    "#Salam Ulvi\"nin dostu\n",
    "'Salam Ulvi\"nin dostu'\n"
   ]
  },
  {
   "cell_type": "code",
   "execution_count": 38,
   "id": "81dcb691",
   "metadata": {},
   "outputs": [
    {
     "data": {
      "text/plain": [
       "'\\n\\nskjflksjdflksd\\' \\'s\"lsfjldskf\\'\\ns2+ksldjfksdjflks sdjflkdsjflkdsjflkds\\n\\n\\n'"
      ]
     },
     "execution_count": 38,
     "metadata": {},
     "output_type": "execute_result"
    }
   ],
   "source": [
    "\"\"\"\n",
    "\n",
    "skjflksjdflksd' 's\"lsfjldskf'\n",
    "s2+ksldjfksdjflks sdjflkdsjflkdsjflkds\n",
    "\n",
    "\n",
    "\"\"\""
   ]
  },
  {
   "cell_type": "code",
   "execution_count": 39,
   "id": "076d38d8",
   "metadata": {},
   "outputs": [
    {
     "ename": "SyntaxError",
     "evalue": "EOL while scanning string literal (<ipython-input-39-9ade818cbaa3>, line 1)",
     "output_type": "error",
     "traceback": [
      "\u001b[1;36m  File \u001b[1;32m\"<ipython-input-39-9ade818cbaa3>\"\u001b[1;36m, line \u001b[1;32m1\u001b[0m\n\u001b[1;33m    \"Ulvi'\u001b[0m\n\u001b[1;37m          ^\u001b[0m\n\u001b[1;31mSyntaxError\u001b[0m\u001b[1;31m:\u001b[0m EOL while scanning string literal\n"
     ]
    }
   ],
   "source": [
    "\"Ulvi'"
   ]
  },
  {
   "cell_type": "code",
   "execution_count": 40,
   "id": "932cedcd",
   "metadata": {},
   "outputs": [
    {
     "data": {
      "text/plain": [
       "'Salam Ulvi'"
      ]
     },
     "execution_count": 40,
     "metadata": {},
     "output_type": "execute_result"
    }
   ],
   "source": [
    "a = \"Ulvi\"\n",
    "b = \"Salam\"\n",
    "b + \" \" + a"
   ]
  },
  {
   "cell_type": "code",
   "execution_count": 41,
   "id": "9995e8bd",
   "metadata": {},
   "outputs": [],
   "source": [
    "# INdeksleme ve Parcalama"
   ]
  },
  {
   "cell_type": "code",
   "execution_count": 42,
   "id": "534db9db",
   "metadata": {},
   "outputs": [],
   "source": [
    "a = \"salam\""
   ]
  },
  {
   "cell_type": "code",
   "execution_count": 43,
   "id": "adba4706",
   "metadata": {},
   "outputs": [
    {
     "data": {
      "text/plain": [
       "'s'"
      ]
     },
     "execution_count": 43,
     "metadata": {},
     "output_type": "execute_result"
    }
   ],
   "source": [
    "a[0]"
   ]
  },
  {
   "cell_type": "code",
   "execution_count": 44,
   "id": "445f6622",
   "metadata": {},
   "outputs": [
    {
     "data": {
      "text/plain": [
       "'m'"
      ]
     },
     "execution_count": 44,
     "metadata": {},
     "output_type": "execute_result"
    }
   ],
   "source": [
    "a[4]"
   ]
  },
  {
   "cell_type": "code",
   "execution_count": 45,
   "id": "f483ff85",
   "metadata": {},
   "outputs": [],
   "source": [
    "#String is immutable"
   ]
  },
  {
   "cell_type": "code",
   "execution_count": 46,
   "id": "5351e99d",
   "metadata": {},
   "outputs": [
    {
     "ename": "TypeError",
     "evalue": "'str' object does not support item assignment",
     "output_type": "error",
     "traceback": [
      "\u001b[1;31m---------------------------------------------------------------------------\u001b[0m",
      "\u001b[1;31mTypeError\u001b[0m                                 Traceback (most recent call last)",
      "\u001b[1;32m<ipython-input-46-936d38e222c4>\u001b[0m in \u001b[0;36m<module>\u001b[1;34m\u001b[0m\n\u001b[1;32m----> 1\u001b[1;33m \u001b[0ma\u001b[0m\u001b[1;33m[\u001b[0m\u001b[1;36m4\u001b[0m\u001b[1;33m]\u001b[0m \u001b[1;33m=\u001b[0m \u001b[1;34m\"t\"\u001b[0m\u001b[1;33m\u001b[0m\u001b[1;33m\u001b[0m\u001b[0m\n\u001b[0m",
      "\u001b[1;31mTypeError\u001b[0m: 'str' object does not support item assignment"
     ]
    }
   ],
   "source": [
    "a[4] = \"t\""
   ]
  },
  {
   "cell_type": "code",
   "execution_count": 47,
   "id": "898cda46",
   "metadata": {},
   "outputs": [],
   "source": [
    "a = \"salam\""
   ]
  },
  {
   "cell_type": "code",
   "execution_count": 48,
   "id": "74d0e652",
   "metadata": {},
   "outputs": [],
   "source": [
    "a = \"salam1\""
   ]
  },
  {
   "cell_type": "code",
   "execution_count": 49,
   "id": "5856b60f",
   "metadata": {},
   "outputs": [
    {
     "data": {
      "text/plain": [
       "'salam1'"
      ]
     },
     "execution_count": 49,
     "metadata": {},
     "output_type": "execute_result"
    }
   ],
   "source": [
    "a"
   ]
  },
  {
   "cell_type": "code",
   "execution_count": 50,
   "id": "6331c17a",
   "metadata": {},
   "outputs": [],
   "source": [
    "a = \"salam\""
   ]
  },
  {
   "cell_type": "code",
   "execution_count": 51,
   "id": "d896d687",
   "metadata": {},
   "outputs": [
    {
     "data": {
      "text/plain": [
       "'salam'"
      ]
     },
     "execution_count": 51,
     "metadata": {},
     "output_type": "execute_result"
    }
   ],
   "source": [
    "a"
   ]
  },
  {
   "cell_type": "code",
   "execution_count": 52,
   "id": "a3134533",
   "metadata": {},
   "outputs": [],
   "source": [
    "b = \"ulvi\""
   ]
  },
  {
   "cell_type": "code",
   "execution_count": 53,
   "id": "8fb327e6",
   "metadata": {},
   "outputs": [],
   "source": [
    "a = b"
   ]
  },
  {
   "cell_type": "code",
   "execution_count": 54,
   "id": "531b0cbc",
   "metadata": {},
   "outputs": [
    {
     "data": {
      "text/plain": [
       "'ulvi'"
      ]
     },
     "execution_count": 54,
     "metadata": {},
     "output_type": "execute_result"
    }
   ],
   "source": [
    "a"
   ]
  },
  {
   "cell_type": "code",
   "execution_count": 57,
   "id": "a4f4b99e",
   "metadata": {},
   "outputs": [
    {
     "data": {
      "text/plain": [
       "'salam'"
      ]
     },
     "execution_count": 57,
     "metadata": {},
     "output_type": "execute_result"
    }
   ],
   "source": [
    "a = \"salam\"\n",
    "b = \"ulvi\"\n",
    "a[0]+b"
   ]
  },
  {
   "cell_type": "code",
   "execution_count": 59,
   "id": "71ea4ff9",
   "metadata": {},
   "outputs": [],
   "source": [
    "a = \"salam\"\n",
    "b = \"ulvi\"\n",
    "c = a[1]+b"
   ]
  },
  {
   "cell_type": "code",
   "execution_count": 61,
   "id": "c6bee860",
   "metadata": {},
   "outputs": [
    {
     "data": {
      "text/plain": [
       "'aulvi'"
      ]
     },
     "execution_count": 61,
     "metadata": {},
     "output_type": "execute_result"
    }
   ],
   "source": [
    "c"
   ]
  },
  {
   "cell_type": "code",
   "execution_count": 62,
   "id": "bf13b7d1",
   "metadata": {},
   "outputs": [
    {
     "data": {
      "text/plain": [
       "'a'"
      ]
     },
     "execution_count": 62,
     "metadata": {},
     "output_type": "execute_result"
    }
   ],
   "source": [
    "c[0]"
   ]
  },
  {
   "cell_type": "code",
   "execution_count": 63,
   "id": "011b89ec",
   "metadata": {},
   "outputs": [
    {
     "data": {
      "text/plain": [
       "'salam'"
      ]
     },
     "execution_count": 63,
     "metadata": {},
     "output_type": "execute_result"
    }
   ],
   "source": [
    "a"
   ]
  },
  {
   "cell_type": "code",
   "execution_count": 65,
   "id": "070f9a1f",
   "metadata": {},
   "outputs": [
    {
     "data": {
      "text/plain": [
       "'a'"
      ]
     },
     "execution_count": 65,
     "metadata": {},
     "output_type": "execute_result"
    }
   ],
   "source": [
    "a[-2]"
   ]
  },
  {
   "cell_type": "code",
   "execution_count": 66,
   "id": "75b51d3e",
   "metadata": {},
   "outputs": [],
   "source": [
    "cumle = \"Python Programming Language\""
   ]
  },
  {
   "cell_type": "code",
   "execution_count": 67,
   "id": "533b2127",
   "metadata": {},
   "outputs": [
    {
     "data": {
      "text/plain": [
       "'on Pro'"
      ]
     },
     "execution_count": 67,
     "metadata": {},
     "output_type": "execute_result"
    }
   ],
   "source": [
    "cumle[4:10]"
   ]
  },
  {
   "cell_type": "code",
   "execution_count": 68,
   "id": "73a63e69",
   "metadata": {},
   "outputs": [
    {
     "data": {
      "text/plain": [
       "'Python Pro'"
      ]
     },
     "execution_count": 68,
     "metadata": {},
     "output_type": "execute_result"
    }
   ],
   "source": [
    "cumle[:10]"
   ]
  },
  {
   "cell_type": "code",
   "execution_count": 69,
   "id": "6061146b",
   "metadata": {},
   "outputs": [
    {
     "data": {
      "text/plain": [
       "'on Programming Language'"
      ]
     },
     "execution_count": 69,
     "metadata": {},
     "output_type": "execute_result"
    }
   ],
   "source": [
    "cumle[4:]"
   ]
  },
  {
   "cell_type": "code",
   "execution_count": 70,
   "id": "8e3c454d",
   "metadata": {},
   "outputs": [
    {
     "data": {
      "text/plain": [
       "'salam'"
      ]
     },
     "execution_count": 70,
     "metadata": {},
     "output_type": "execute_result"
    }
   ],
   "source": [
    "a[:]"
   ]
  },
  {
   "cell_type": "code",
   "execution_count": 72,
   "id": "d7e32f10",
   "metadata": {},
   "outputs": [
    {
     "data": {
      "text/plain": [
       "'P'"
      ]
     },
     "execution_count": 72,
     "metadata": {},
     "output_type": "execute_result"
    }
   ],
   "source": [
    "cumle[:1]"
   ]
  },
  {
   "cell_type": "code",
   "execution_count": 73,
   "id": "e5fc1ce5",
   "metadata": {},
   "outputs": [
    {
     "data": {
      "text/plain": [
       "'Python Programming Languag'"
      ]
     },
     "execution_count": 73,
     "metadata": {},
     "output_type": "execute_result"
    }
   ],
   "source": [
    "cumle[:-1]"
   ]
  },
  {
   "cell_type": "code",
   "execution_count": 74,
   "id": "7f696dd8",
   "metadata": {},
   "outputs": [
    {
     "data": {
      "text/plain": [
       "'e'"
      ]
     },
     "execution_count": 74,
     "metadata": {},
     "output_type": "execute_result"
    }
   ],
   "source": [
    "cumle[-1:]"
   ]
  },
  {
   "cell_type": "code",
   "execution_count": 75,
   "id": "ca2a921e",
   "metadata": {},
   "outputs": [
    {
     "data": {
      "text/plain": [
       "'Pto rgamn agae'"
      ]
     },
     "execution_count": 75,
     "metadata": {},
     "output_type": "execute_result"
    }
   ],
   "source": [
    "cumle[::2]"
   ]
  },
  {
   "cell_type": "code",
   "execution_count": 77,
   "id": "8fe1e30b",
   "metadata": {},
   "outputs": [
    {
     "data": {
      "text/plain": [
       "'Ph oai na'"
      ]
     },
     "execution_count": 77,
     "metadata": {},
     "output_type": "execute_result"
    }
   ],
   "source": [
    "cumle[::3]"
   ]
  },
  {
   "cell_type": "code",
   "execution_count": 78,
   "id": "41540e1b",
   "metadata": {},
   "outputs": [
    {
     "data": {
      "text/plain": [
       "'oPg'"
      ]
     },
     "execution_count": 78,
     "metadata": {},
     "output_type": "execute_result"
    }
   ],
   "source": [
    "cumle[4:12:3]"
   ]
  },
  {
   "cell_type": "code",
   "execution_count": 79,
   "id": "13c5645e",
   "metadata": {},
   "outputs": [
    {
     "data": {
      "text/plain": [
       "'Python Programming Language'"
      ]
     },
     "execution_count": 79,
     "metadata": {},
     "output_type": "execute_result"
    }
   ],
   "source": [
    "cumle"
   ]
  },
  {
   "cell_type": "code",
   "execution_count": 80,
   "id": "b600acca",
   "metadata": {},
   "outputs": [
    {
     "data": {
      "text/plain": [
       "'egaugnaL gnimmargorP nohtyP'"
      ]
     },
     "execution_count": 80,
     "metadata": {},
     "output_type": "execute_result"
    }
   ],
   "source": [
    "cumle[::-1]"
   ]
  },
  {
   "cell_type": "code",
   "execution_count": 81,
   "id": "faabe084",
   "metadata": {},
   "outputs": [],
   "source": [
    "# len() - length uzunluq yeni! "
   ]
  },
  {
   "cell_type": "code",
   "execution_count": 82,
   "id": "043495cb",
   "metadata": {},
   "outputs": [
    {
     "data": {
      "text/plain": [
       "5"
      ]
     },
     "execution_count": 82,
     "metadata": {},
     "output_type": "execute_result"
    }
   ],
   "source": [
    "len(\"salam\")"
   ]
  },
  {
   "cell_type": "code",
   "execution_count": 83,
   "id": "5cafeb7d",
   "metadata": {},
   "outputs": [
    {
     "data": {
      "text/plain": [
       "27"
      ]
     },
     "execution_count": 83,
     "metadata": {},
     "output_type": "execute_result"
    }
   ],
   "source": [
    "len(cumle)"
   ]
  },
  {
   "cell_type": "code",
   "execution_count": 85,
   "id": "488017a3",
   "metadata": {},
   "outputs": [],
   "source": [
    "cumle1 = \"PythonProgrammingLanguage\""
   ]
  },
  {
   "cell_type": "code",
   "execution_count": 86,
   "id": "d5e84a88",
   "metadata": {},
   "outputs": [
    {
     "data": {
      "text/plain": [
       "'PythonProgrammingLanguage'"
      ]
     },
     "execution_count": 86,
     "metadata": {},
     "output_type": "execute_result"
    }
   ],
   "source": [
    "cumle1"
   ]
  },
  {
   "cell_type": "code",
   "execution_count": 87,
   "id": "4ddc85e2",
   "metadata": {},
   "outputs": [
    {
     "data": {
      "text/plain": [
       "25"
      ]
     },
     "execution_count": 87,
     "metadata": {},
     "output_type": "execute_result"
    }
   ],
   "source": [
    "len(cumle1)"
   ]
  },
  {
   "cell_type": "code",
   "execution_count": 88,
   "id": "f931c555",
   "metadata": {},
   "outputs": [],
   "source": [
    "# 1 bayt - 8 bitdir"
   ]
  },
  {
   "cell_type": "code",
   "execution_count": 89,
   "id": "a654e652",
   "metadata": {},
   "outputs": [],
   "source": [
    "a = 9490594059435375984375983475987439579843759837498543"
   ]
  },
  {
   "cell_type": "code",
   "execution_count": 90,
   "id": "5540991c",
   "metadata": {},
   "outputs": [
    {
     "data": {
      "text/plain": [
       "9490594059435375984375983475987439579843759837498543"
      ]
     },
     "execution_count": 90,
     "metadata": {},
     "output_type": "execute_result"
    }
   ],
   "source": [
    "a"
   ]
  },
  {
   "cell_type": "code",
   "execution_count": 91,
   "id": "fc5e4dc6",
   "metadata": {},
   "outputs": [
    {
     "data": {
      "text/plain": [
       "2847178217830612795312795042796231873953127951249562900"
      ]
     },
     "execution_count": 91,
     "metadata": {},
     "output_type": "execute_result"
    }
   ],
   "source": [
    "a * 300"
   ]
  },
  {
   "cell_type": "code",
   "execution_count": 92,
   "id": "ce7ebc8d",
   "metadata": {},
   "outputs": [
    {
     "ename": "TypeError",
     "evalue": "object of type 'int' has no len()",
     "output_type": "error",
     "traceback": [
      "\u001b[1;31m---------------------------------------------------------------------------\u001b[0m",
      "\u001b[1;31mTypeError\u001b[0m                                 Traceback (most recent call last)",
      "\u001b[1;32m<ipython-input-92-07faeda2d62c>\u001b[0m in \u001b[0;36m<module>\u001b[1;34m\u001b[0m\n\u001b[1;32m----> 1\u001b[1;33m \u001b[0mlen\u001b[0m\u001b[1;33m(\u001b[0m\u001b[1;36m34\u001b[0m\u001b[1;33m)\u001b[0m\u001b[1;33m\u001b[0m\u001b[1;33m\u001b[0m\u001b[0m\n\u001b[0m",
      "\u001b[1;31mTypeError\u001b[0m: object of type 'int' has no len()"
     ]
    }
   ],
   "source": [
    "len(34)"
   ]
  },
  {
   "cell_type": "code",
   "execution_count": 93,
   "id": "9b360899",
   "metadata": {},
   "outputs": [
    {
     "ename": "NameError",
     "evalue": "name 'a2' is not defined",
     "output_type": "error",
     "traceback": [
      "\u001b[1;31m---------------------------------------------------------------------------\u001b[0m",
      "\u001b[1;31mNameError\u001b[0m                                 Traceback (most recent call last)",
      "\u001b[1;32m<ipython-input-93-e9331cb31bed>\u001b[0m in \u001b[0;36m<module>\u001b[1;34m\u001b[0m\n\u001b[1;32m----> 1\u001b[1;33m \u001b[0mlen\u001b[0m\u001b[1;33m(\u001b[0m\u001b[0ma2\u001b[0m\u001b[1;33m)\u001b[0m\u001b[1;33m\u001b[0m\u001b[1;33m\u001b[0m\u001b[0m\n\u001b[0m",
      "\u001b[1;31mNameError\u001b[0m: name 'a2' is not defined"
     ]
    }
   ],
   "source": [
    "len(a2)"
   ]
  },
  {
   "cell_type": "code",
   "execution_count": 96,
   "id": "e6b0ae9e",
   "metadata": {},
   "outputs": [
    {
     "ename": "SyntaxError",
     "evalue": "invalid syntax (<ipython-input-96-cce2f151dc66>, line 1)",
     "output_type": "error",
     "traceback": [
      "\u001b[1;36m  File \u001b[1;32m\"<ipython-input-96-cce2f151dc66>\"\u001b[1;36m, line \u001b[1;32m1\u001b[0m\n\u001b[1;33m    len(2a)\u001b[0m\n\u001b[1;37m         ^\u001b[0m\n\u001b[1;31mSyntaxError\u001b[0m\u001b[1;31m:\u001b[0m invalid syntax\n"
     ]
    }
   ],
   "source": [
    "len(2a)"
   ]
  },
  {
   "cell_type": "code",
   "execution_count": 95,
   "id": "f09e17ec",
   "metadata": {},
   "outputs": [],
   "source": [
    "a= 2\n"
   ]
  },
  {
   "cell_type": "code",
   "execution_count": 97,
   "id": "ebc01f56",
   "metadata": {},
   "outputs": [
    {
     "ename": "TypeError",
     "evalue": "object of type 'int' has no len()",
     "output_type": "error",
     "traceback": [
      "\u001b[1;31m---------------------------------------------------------------------------\u001b[0m",
      "\u001b[1;31mTypeError\u001b[0m                                 Traceback (most recent call last)",
      "\u001b[1;32m<ipython-input-97-17e77bfec93b>\u001b[0m in \u001b[0;36m<module>\u001b[1;34m\u001b[0m\n\u001b[1;32m----> 1\u001b[1;33m \u001b[0mlen\u001b[0m\u001b[1;33m(\u001b[0m\u001b[1;36m2\u001b[0m\u001b[1;33m+\u001b[0m\u001b[0ma\u001b[0m\u001b[1;33m)\u001b[0m\u001b[1;33m\u001b[0m\u001b[1;33m\u001b[0m\u001b[0m\n\u001b[0m",
      "\u001b[1;31mTypeError\u001b[0m: object of type 'int' has no len()"
     ]
    }
   ],
   "source": [
    "len(2+a)"
   ]
  },
  {
   "cell_type": "code",
   "execution_count": 98,
   "id": "9b96ee02",
   "metadata": {},
   "outputs": [
    {
     "data": {
      "text/plain": [
       "21"
      ]
     },
     "execution_count": 98,
     "metadata": {},
     "output_type": "execute_result"
    }
   ],
   "source": [
    "len(\"stringler ucundur len\")"
   ]
  },
  {
   "cell_type": "code",
   "execution_count": 99,
   "id": "ca1125b0",
   "metadata": {},
   "outputs": [
    {
     "data": {
      "text/plain": [
       "3"
      ]
     },
     "execution_count": 99,
     "metadata": {},
     "output_type": "execute_result"
    }
   ],
   "source": [
    "a = \"123\"\n",
    "len(a)"
   ]
  },
  {
   "cell_type": "code",
   "execution_count": 100,
   "id": "8dbaf7ba",
   "metadata": {},
   "outputs": [
    {
     "data": {
      "text/plain": [
       "3"
      ]
     },
     "execution_count": 100,
     "metadata": {},
     "output_type": "execute_result"
    }
   ],
   "source": [
    "3"
   ]
  },
  {
   "cell_type": "code",
   "execution_count": 101,
   "id": "b48c6580",
   "metadata": {},
   "outputs": [
    {
     "data": {
      "text/plain": [
       "4.0"
      ]
     },
     "execution_count": 101,
     "metadata": {},
     "output_type": "execute_result"
    }
   ],
   "source": [
    "4.0"
   ]
  },
  {
   "cell_type": "code",
   "execution_count": 102,
   "id": "ac0223da",
   "metadata": {},
   "outputs": [
    {
     "data": {
      "text/plain": [
       "'salam'"
      ]
     },
     "execution_count": 102,
     "metadata": {},
     "output_type": "execute_result"
    }
   ],
   "source": [
    "\"salam\""
   ]
  },
  {
   "cell_type": "code",
   "execution_count": 103,
   "id": "fac462f9",
   "metadata": {},
   "outputs": [
    {
     "data": {
      "text/plain": [
       "str"
      ]
     },
     "execution_count": 103,
     "metadata": {},
     "output_type": "execute_result"
    }
   ],
   "source": [
    "type(\"salam\")"
   ]
  },
  {
   "cell_type": "code",
   "execution_count": 104,
   "id": "98a0d84c",
   "metadata": {},
   "outputs": [
    {
     "data": {
      "text/plain": [
       "int"
      ]
     },
     "execution_count": 104,
     "metadata": {},
     "output_type": "execute_result"
    }
   ],
   "source": [
    "type(2)"
   ]
  },
  {
   "cell_type": "code",
   "execution_count": 105,
   "id": "ce060882",
   "metadata": {},
   "outputs": [
    {
     "data": {
      "text/plain": [
       "float"
      ]
     },
     "execution_count": 105,
     "metadata": {},
     "output_type": "execute_result"
    }
   ],
   "source": [
    "type(3.0)"
   ]
  },
  {
   "cell_type": "code",
   "execution_count": 106,
   "id": "26448209",
   "metadata": {},
   "outputs": [
    {
     "data": {
      "text/plain": [
       "8"
      ]
     },
     "execution_count": 106,
     "metadata": {},
     "output_type": "execute_result"
    }
   ],
   "source": [
    "# 2^4=8\n",
    "pow(2,3)"
   ]
  },
  {
   "cell_type": "code",
   "execution_count": 109,
   "id": "0f1e836d",
   "metadata": {},
   "outputs": [
    {
     "data": {
      "text/plain": [
       "32768"
      ]
     },
     "execution_count": 109,
     "metadata": {},
     "output_type": "execute_result"
    }
   ],
   "source": [
    "2**15"
   ]
  },
  {
   "cell_type": "code",
   "execution_count": 110,
   "id": "2d748f63",
   "metadata": {},
   "outputs": [
    {
     "data": {
      "text/plain": [
       "1.25"
      ]
     },
     "execution_count": 110,
     "metadata": {},
     "output_type": "execute_result"
    }
   ],
   "source": [
    "5 /4"
   ]
  },
  {
   "cell_type": "code",
   "execution_count": 111,
   "id": "37acd025",
   "metadata": {},
   "outputs": [
    {
     "data": {
      "text/plain": [
       "1"
      ]
     },
     "execution_count": 111,
     "metadata": {},
     "output_type": "execute_result"
    }
   ],
   "source": [
    "5 // 4"
   ]
  },
  {
   "cell_type": "code",
   "execution_count": 112,
   "id": "86f4cad4",
   "metadata": {},
   "outputs": [
    {
     "data": {
      "text/plain": [
       "1"
      ]
     },
     "execution_count": 112,
     "metadata": {},
     "output_type": "execute_result"
    }
   ],
   "source": [
    "5%4"
   ]
  },
  {
   "cell_type": "code",
   "execution_count": 113,
   "id": "00ec8935",
   "metadata": {},
   "outputs": [
    {
     "data": {
      "text/plain": [
       "34"
      ]
     },
     "execution_count": 113,
     "metadata": {},
     "output_type": "execute_result"
    }
   ],
   "source": [
    "34%78"
   ]
  },
  {
   "cell_type": "code",
   "execution_count": 114,
   "id": "161245b8",
   "metadata": {},
   "outputs": [
    {
     "data": {
      "text/plain": [
       "0.4358974358974359"
      ]
     },
     "execution_count": 114,
     "metadata": {},
     "output_type": "execute_result"
    }
   ],
   "source": [
    "34/78"
   ]
  },
  {
   "cell_type": "code",
   "execution_count": 115,
   "id": "434b4a35",
   "metadata": {},
   "outputs": [
    {
     "data": {
      "text/plain": [
       "10"
      ]
     },
     "execution_count": 115,
     "metadata": {},
     "output_type": "execute_result"
    }
   ],
   "source": [
    "78%34"
   ]
  },
  {
   "cell_type": "code",
   "execution_count": 116,
   "id": "093737ca",
   "metadata": {},
   "outputs": [
    {
     "data": {
      "text/plain": [
       "1.5"
      ]
     },
     "execution_count": 116,
     "metadata": {},
     "output_type": "execute_result"
    }
   ],
   "source": [
    "3/2"
   ]
  },
  {
   "cell_type": "code",
   "execution_count": 117,
   "id": "1badb72c",
   "metadata": {},
   "outputs": [
    {
     "data": {
      "text/plain": [
       "1"
      ]
     },
     "execution_count": 117,
     "metadata": {},
     "output_type": "execute_result"
    }
   ],
   "source": [
    "3%2"
   ]
  },
  {
   "cell_type": "code",
   "execution_count": 118,
   "id": "fc607efc",
   "metadata": {},
   "outputs": [
    {
     "data": {
      "text/plain": [
       "3"
      ]
     },
     "execution_count": 118,
     "metadata": {},
     "output_type": "execute_result"
    }
   ],
   "source": [
    "15%12"
   ]
  },
  {
   "cell_type": "code",
   "execution_count": 119,
   "id": "e710f97e",
   "metadata": {},
   "outputs": [
    {
     "data": {
      "text/plain": [
       "0.012345679012345678"
      ]
     },
     "execution_count": 119,
     "metadata": {},
     "output_type": "execute_result"
    }
   ],
   "source": [
    "pow(9,-2)"
   ]
  },
  {
   "cell_type": "code",
   "execution_count": null,
   "id": "cf2e9558",
   "metadata": {},
   "outputs": [],
   "source": []
  }
 ],
 "metadata": {
  "kernelspec": {
   "display_name": "Python 3",
   "language": "python",
   "name": "python3"
  },
  "language_info": {
   "codemirror_mode": {
    "name": "ipython",
    "version": 3
   },
   "file_extension": ".py",
   "mimetype": "text/x-python",
   "name": "python",
   "nbconvert_exporter": "python",
   "pygments_lexer": "ipython3",
   "version": "3.8.8"
  }
 },
 "nbformat": 4,
 "nbformat_minor": 5
}
