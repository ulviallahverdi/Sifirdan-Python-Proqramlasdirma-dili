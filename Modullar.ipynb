{
 "cells": [
  {
   "cell_type": "markdown",
   "metadata": {},
   "source": [
    "## Proqramlaşdırma  - Modullar\n",
    "\n",
    "\n",
    "### Proyekt 1 \n",
    "\n",
    "**Math** modulundakı hazır funksiyaları istifadə edərək inkişaf etmiş bir kalkulyator yaratmağa çalışın.\n",
    "\n",
    "### Proyekt 1 \n",
    "\n",
    "**Math** modulunda istifadə etdiyiniz funksiyaları özünüzdə ayrı bir modulmodülünde kullandığınız fonksiyonları kendiniz de ayrı bir modüle (Python dosyasına) yazmaya çalışın ve bu yazdığınız modülü kullanarak gelişmiş bir hesap makinesi yazın.\n",
    "\n"
   ]
  }
 ],
 "metadata": {
  "kernelspec": {
   "display_name": "Python 3",
   "language": "python",
   "name": "python3"
  },
  "language_info": {
   "codemirror_mode": {
    "name": "ipython",
    "version": 3
   },
   "file_extension": ".py",
   "mimetype": "text/x-python",
   "name": "python",
   "nbconvert_exporter": "python",
   "pygments_lexer": "ipython3",
   "version": "3.8.8"
  }
 },
 "nbformat": 4,
 "nbformat_minor": 2
}
