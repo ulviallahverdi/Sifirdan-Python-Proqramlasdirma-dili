{
 "cells": [
  {
   "cell_type": "markdown",
   "metadata": {},
   "source": [
    "## Programlaşdırma Tapşırıq - Funksiyalar\n",
    "\n",
    "*Təbrik edirik! Siz bölməni uğurla tamamladınız. İndi öyrəndiklərinizi yadda saxlamaq üçün ev tapşırığını yerinə yetirməyin vaxtıdır!*\n",
    "\n",
    "***Qeyd: Buradakı bütün problemlər alqoritm bacarıqlarınızı xeyli təkmilləşdirəcək. Odur ki, çətinlik çəkəndə təslim olmayın. Bu barədə düşünməyə və cəhd etməyə davam edin.*** "
   ]
  },
  {
   "cell_type": "markdown",
   "metadata": {},
   "source": [
    "### Problem 1\n",
    "\n",
    "Ekranda 1-dən 1000-ə qədər mükəmməl rəqəmləri çap edin. Bunun üçün ədədin mükəmməl olub olmadığını qaytaran funksiya yazın. \n",
    "\n",
    "*Bölənlərin cəmi özünə bərabər olan ədəd mükəmməl ədəddir. Məsələn, 6 mükəmməl rəqəmdir (1 + 2 + 3 = 6).* "
   ]
  },
  {
   "cell_type": "markdown",
   "metadata": {},
   "source": [
    "### Problem 2\n",
    "\n",
    "İstifadəçidən 2 ədəd alan və bu ədədlərin ən böyük ortaq bölənini (EBOB) qaytaran funksiya yazın."
   ]
  },
  {
   "cell_type": "markdown",
   "metadata": {},
   "source": [
    "### Problem 3\n",
    "\n",
    "İstifadəçidən 2 ədəd alan və bu ədədlərin EKOB qaytaran funksiya yazın.\n",
    "\n",
    "Problem üçün bu saytı yoxlaya bilərsiniz; "
   ]
  },
  {
   "cell_type": "markdown",
   "metadata": {},
   "source": [
    "### Problem 4\n",
    "\n",
    "İstifadəçidən 2 rəqəmli nömrə götürün və həmin rəqəmin tələffüzünü tapan funksiya yazın.\n",
    "\n",
    "*Nümunə: 97 ---------> Doxsan Yeddi* "
   ]
  },
  {
   "cell_type": "markdown",
   "metadata": {},
   "source": [
    "### Problem 5\n",
    "\n",
    "Pifaqor üçbucağını əmələ gətirən 1-dən 100-ə qədər rəqəmləri çap edən funksiyanı yazın.(a <= 100,b <= 100) "
   ]
  },
  {
   "cell_type": "code",
   "execution_count": null,
   "metadata": {
    "collapsed": true
   },
   "outputs": [],
   "source": []
  }
 ],
 "metadata": {
  "kernelspec": {
   "display_name": "Python 3",
   "language": "python",
   "name": "python3"
  },
  "language_info": {
   "codemirror_mode": {
    "name": "ipython",
    "version": 3
   },
   "file_extension": ".py",
   "mimetype": "text/x-python",
   "name": "python",
   "nbconvert_exporter": "python",
   "pygments_lexer": "ipython3",
   "version": "3.8.8"
  }
 },
 "nbformat": 4,
 "nbformat_minor": 2
}
