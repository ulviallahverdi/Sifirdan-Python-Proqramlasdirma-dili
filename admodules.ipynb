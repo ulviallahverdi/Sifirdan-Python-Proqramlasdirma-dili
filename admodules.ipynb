{
 "cells": [
  {
   "cell_type": "code",
   "execution_count": 1,
   "id": "964e3fce",
   "metadata": {},
   "outputs": [],
   "source": [
    "# Datetime modulu"
   ]
  },
  {
   "cell_type": "code",
   "execution_count": 2,
   "id": "e539bb39",
   "metadata": {},
   "outputs": [],
   "source": [
    "from datetime import datetime"
   ]
  },
  {
   "cell_type": "code",
   "execution_count": 3,
   "id": "49466a5b",
   "metadata": {},
   "outputs": [
    {
     "data": {
      "text/plain": [
       "['__add__',\n",
       " '__class__',\n",
       " '__delattr__',\n",
       " '__dir__',\n",
       " '__doc__',\n",
       " '__eq__',\n",
       " '__format__',\n",
       " '__ge__',\n",
       " '__getattribute__',\n",
       " '__gt__',\n",
       " '__hash__',\n",
       " '__init__',\n",
       " '__init_subclass__',\n",
       " '__le__',\n",
       " '__lt__',\n",
       " '__ne__',\n",
       " '__new__',\n",
       " '__radd__',\n",
       " '__reduce__',\n",
       " '__reduce_ex__',\n",
       " '__repr__',\n",
       " '__rsub__',\n",
       " '__setattr__',\n",
       " '__sizeof__',\n",
       " '__str__',\n",
       " '__sub__',\n",
       " '__subclasshook__',\n",
       " 'astimezone',\n",
       " 'combine',\n",
       " 'ctime',\n",
       " 'date',\n",
       " 'day',\n",
       " 'dst',\n",
       " 'fold',\n",
       " 'fromisocalendar',\n",
       " 'fromisoformat',\n",
       " 'fromordinal',\n",
       " 'fromtimestamp',\n",
       " 'hour',\n",
       " 'isocalendar',\n",
       " 'isoformat',\n",
       " 'isoweekday',\n",
       " 'max',\n",
       " 'microsecond',\n",
       " 'min',\n",
       " 'minute',\n",
       " 'month',\n",
       " 'now',\n",
       " 'replace',\n",
       " 'resolution',\n",
       " 'second',\n",
       " 'strftime',\n",
       " 'strptime',\n",
       " 'time',\n",
       " 'timestamp',\n",
       " 'timetuple',\n",
       " 'timetz',\n",
       " 'today',\n",
       " 'toordinal',\n",
       " 'tzinfo',\n",
       " 'tzname',\n",
       " 'utcfromtimestamp',\n",
       " 'utcnow',\n",
       " 'utcoffset',\n",
       " 'utctimetuple',\n",
       " 'weekday',\n",
       " 'year']"
      ]
     },
     "execution_count": 3,
     "metadata": {},
     "output_type": "execute_result"
    }
   ],
   "source": [
    "dir(datetime)"
   ]
  },
  {
   "cell_type": "code",
   "execution_count": 4,
   "id": "5f2516a1",
   "metadata": {},
   "outputs": [],
   "source": [
    "indiki_zaman = datetime.now()"
   ]
  },
  {
   "cell_type": "code",
   "execution_count": 5,
   "id": "67181bda",
   "metadata": {},
   "outputs": [
    {
     "data": {
      "text/plain": [
       "datetime.datetime(2021, 12, 22, 20, 21, 25, 578076)"
      ]
     },
     "execution_count": 5,
     "metadata": {},
     "output_type": "execute_result"
    }
   ],
   "source": [
    "indiki_zaman"
   ]
  },
  {
   "cell_type": "code",
   "execution_count": 6,
   "id": "ef8bd4f6",
   "metadata": {},
   "outputs": [
    {
     "data": {
      "text/plain": [
       "22"
      ]
     },
     "execution_count": 6,
     "metadata": {},
     "output_type": "execute_result"
    }
   ],
   "source": [
    "indiki_zaman.day"
   ]
  },
  {
   "cell_type": "code",
   "execution_count": 7,
   "id": "54a9424b",
   "metadata": {},
   "outputs": [
    {
     "data": {
      "text/plain": [
       "12"
      ]
     },
     "execution_count": 7,
     "metadata": {},
     "output_type": "execute_result"
    }
   ],
   "source": [
    "indiki_zaman.month"
   ]
  },
  {
   "cell_type": "code",
   "execution_count": 8,
   "id": "55441fa3",
   "metadata": {},
   "outputs": [
    {
     "data": {
      "text/plain": [
       "20"
      ]
     },
     "execution_count": 8,
     "metadata": {},
     "output_type": "execute_result"
    }
   ],
   "source": [
    "indiki_zaman.hour\n"
   ]
  },
  {
   "cell_type": "code",
   "execution_count": 9,
   "id": "1bc47b41",
   "metadata": {},
   "outputs": [
    {
     "data": {
      "text/plain": [
       "21"
      ]
     },
     "execution_count": 9,
     "metadata": {},
     "output_type": "execute_result"
    }
   ],
   "source": [
    "indiki_zaman.minute"
   ]
  },
  {
   "cell_type": "code",
   "execution_count": 10,
   "id": "5d02246d",
   "metadata": {},
   "outputs": [
    {
     "data": {
      "text/plain": [
       "25"
      ]
     },
     "execution_count": 10,
     "metadata": {},
     "output_type": "execute_result"
    }
   ],
   "source": [
    "indiki_zaman.second"
   ]
  },
  {
   "cell_type": "code",
   "execution_count": 14,
   "id": "df7e626f",
   "metadata": {},
   "outputs": [
    {
     "data": {
      "text/plain": [
       "578076"
      ]
     },
     "execution_count": 14,
     "metadata": {},
     "output_type": "execute_result"
    }
   ],
   "source": [
    "indiki_zaman.microsecond"
   ]
  },
  {
   "cell_type": "code",
   "execution_count": 15,
   "id": "27b77eb6",
   "metadata": {},
   "outputs": [
    {
     "name": "stdout",
     "output_type": "stream",
     "text": [
      "Wed Dec 22 20:21:25 2021\n"
     ]
    }
   ],
   "source": [
    "print(datetime.ctime(indiki_zaman))"
   ]
  },
  {
   "cell_type": "code",
   "execution_count": 17,
   "id": "4bc455e6",
   "metadata": {},
   "outputs": [],
   "source": [
    "i = datetime.now()"
   ]
  },
  {
   "cell_type": "code",
   "execution_count": 19,
   "id": "6322b1e7",
   "metadata": {},
   "outputs": [
    {
     "data": {
      "text/plain": [
       "datetime.datetime(2021, 12, 22, 20, 24, 4, 708769)"
      ]
     },
     "execution_count": 19,
     "metadata": {},
     "output_type": "execute_result"
    }
   ],
   "source": [
    "i"
   ]
  },
  {
   "cell_type": "code",
   "execution_count": 21,
   "id": "0d9c596d",
   "metadata": {},
   "outputs": [
    {
     "name": "stdout",
     "output_type": "stream",
     "text": [
      "2021\n"
     ]
    }
   ],
   "source": [
    "print(datetime.strftime(i, \"%Y\"))"
   ]
  },
  {
   "cell_type": "code",
   "execution_count": 22,
   "id": "e15339af",
   "metadata": {},
   "outputs": [
    {
     "name": "stdout",
     "output_type": "stream",
     "text": [
      "December\n"
     ]
    }
   ],
   "source": [
    "print(datetime.strftime(i, \"%B\"))"
   ]
  },
  {
   "cell_type": "code",
   "execution_count": 23,
   "id": "378ba03f",
   "metadata": {},
   "outputs": [
    {
     "name": "stdout",
     "output_type": "stream",
     "text": [
      "20:24:04\n"
     ]
    }
   ],
   "source": [
    "print(datetime.strftime(i, \"%X\"))"
   ]
  },
  {
   "cell_type": "code",
   "execution_count": 24,
   "id": "cc1fdf21",
   "metadata": {},
   "outputs": [
    {
     "name": "stdout",
     "output_type": "stream",
     "text": [
      "12/22/21\n"
     ]
    }
   ],
   "source": [
    "print(datetime.strftime(i, \"%D\"))"
   ]
  },
  {
   "cell_type": "code",
   "execution_count": 25,
   "id": "6d0eca2e",
   "metadata": {},
   "outputs": [
    {
     "name": "stdout",
     "output_type": "stream",
     "text": [
      "20:24:04 December Wednesday\n"
     ]
    }
   ],
   "source": [
    "print(datetime.strftime(i, \"%X %B %A\"))"
   ]
  },
  {
   "cell_type": "code",
   "execution_count": 26,
   "id": "81ce76b3",
   "metadata": {},
   "outputs": [],
   "source": [
    "import locale"
   ]
  },
  {
   "cell_type": "code",
   "execution_count": 27,
   "id": "fabcc7ea",
   "metadata": {},
   "outputs": [
    {
     "name": "stdout",
     "output_type": "stream",
     "text": [
      "English_United States.1252\n"
     ]
    }
   ],
   "source": [
    "print(locale.setlocale(locale.LC_ALL,\"\"))"
   ]
  },
  {
   "cell_type": "code",
   "execution_count": 28,
   "id": "cca838f9",
   "metadata": {},
   "outputs": [],
   "source": [
    "# timestamp() ve fromtimestamp()"
   ]
  },
  {
   "cell_type": "code",
   "execution_count": 29,
   "id": "3c5252a8",
   "metadata": {},
   "outputs": [
    {
     "data": {
      "text/plain": [
       "datetime.datetime(2021, 12, 22, 20, 24, 4, 708769)"
      ]
     },
     "execution_count": 29,
     "metadata": {},
     "output_type": "execute_result"
    }
   ],
   "source": [
    "i"
   ]
  },
  {
   "cell_type": "code",
   "execution_count": 30,
   "id": "2108b83e",
   "metadata": {},
   "outputs": [
    {
     "data": {
      "text/plain": [
       "1640190244.708769"
      ]
     },
     "execution_count": 30,
     "metadata": {},
     "output_type": "execute_result"
    }
   ],
   "source": [
    "datetime.timestamp(i)"
   ]
  },
  {
   "cell_type": "code",
   "execution_count": 31,
   "id": "f0bce50c",
   "metadata": {},
   "outputs": [],
   "source": [
    "saniye = datetime.timestamp(i)"
   ]
  },
  {
   "cell_type": "code",
   "execution_count": 32,
   "id": "13ffe353",
   "metadata": {},
   "outputs": [
    {
     "data": {
      "text/plain": [
       "1640190244.708769"
      ]
     },
     "execution_count": 32,
     "metadata": {},
     "output_type": "execute_result"
    }
   ],
   "source": [
    "saniye"
   ]
  },
  {
   "cell_type": "code",
   "execution_count": 33,
   "id": "433ab3cd",
   "metadata": {},
   "outputs": [],
   "source": [
    "zaman = datetime.fromtimestamp(saniye)"
   ]
  },
  {
   "cell_type": "code",
   "execution_count": 34,
   "id": "0828c245",
   "metadata": {},
   "outputs": [
    {
     "data": {
      "text/plain": [
       "datetime.datetime(2021, 12, 22, 20, 24, 4, 708769)"
      ]
     },
     "execution_count": 34,
     "metadata": {},
     "output_type": "execute_result"
    }
   ],
   "source": [
    "zaman"
   ]
  },
  {
   "cell_type": "code",
   "execution_count": 35,
   "id": "826d369e",
   "metadata": {},
   "outputs": [],
   "source": [
    "zaman = datetime.fromtimestamp(0)"
   ]
  },
  {
   "cell_type": "code",
   "execution_count": 36,
   "id": "bb01ae27",
   "metadata": {},
   "outputs": [
    {
     "data": {
      "text/plain": [
       "datetime.datetime(1970, 1, 1, 4, 0)"
      ]
     },
     "execution_count": 36,
     "metadata": {},
     "output_type": "execute_result"
    }
   ],
   "source": [
    "zaman"
   ]
  },
  {
   "cell_type": "code",
   "execution_count": 37,
   "id": "8ff27ca0",
   "metadata": {},
   "outputs": [],
   "source": [
    "tarix = datetime(2019,12,1)"
   ]
  },
  {
   "cell_type": "code",
   "execution_count": 38,
   "id": "c72fc9e2",
   "metadata": {},
   "outputs": [
    {
     "data": {
      "text/plain": [
       "datetime.datetime(2019, 12, 1, 0, 0)"
      ]
     },
     "execution_count": 38,
     "metadata": {},
     "output_type": "execute_result"
    }
   ],
   "source": [
    "tarix"
   ]
  },
  {
   "cell_type": "code",
   "execution_count": 39,
   "id": "698235ca",
   "metadata": {},
   "outputs": [],
   "source": [
    "i = datetime.now()"
   ]
  },
  {
   "cell_type": "code",
   "execution_count": 40,
   "id": "e66e0114",
   "metadata": {},
   "outputs": [],
   "source": [
    "ferq = tarix - i"
   ]
  },
  {
   "cell_type": "code",
   "execution_count": 41,
   "id": "45eb58ce",
   "metadata": {},
   "outputs": [
    {
     "data": {
      "text/plain": [
       "datetime.timedelta(days=-753, seconds=12587, microseconds=735647)"
      ]
     },
     "execution_count": 41,
     "metadata": {},
     "output_type": "execute_result"
    }
   ],
   "source": [
    "ferq"
   ]
  },
  {
   "cell_type": "code",
   "execution_count": 42,
   "id": "306e0ab1",
   "metadata": {},
   "outputs": [
    {
     "data": {
      "text/plain": [
       "-753"
      ]
     },
     "execution_count": 42,
     "metadata": {},
     "output_type": "execute_result"
    }
   ],
   "source": [
    "ferq.days"
   ]
  },
  {
   "cell_type": "code",
   "execution_count": 43,
   "id": "5c110176",
   "metadata": {},
   "outputs": [
    {
     "data": {
      "text/plain": [
       "12587"
      ]
     },
     "execution_count": 43,
     "metadata": {},
     "output_type": "execute_result"
    }
   ],
   "source": [
    "ferq.seconds"
   ]
  },
  {
   "cell_type": "code",
   "execution_count": 44,
   "id": "dbbea931",
   "metadata": {},
   "outputs": [],
   "source": [
    "# os modulu"
   ]
  },
  {
   "cell_type": "code",
   "execution_count": 45,
   "id": "f3f715a6",
   "metadata": {},
   "outputs": [],
   "source": [
    "import os"
   ]
  },
  {
   "cell_type": "code",
   "execution_count": null,
   "id": "2427e22f",
   "metadata": {},
   "outputs": [],
   "source": []
  },
  {
   "cell_type": "code",
   "execution_count": 47,
   "id": "e283b5db",
   "metadata": {},
   "outputs": [
    {
     "data": {
      "text/plain": [
       "'C:\\\\Users\\\\uallahverdiyev\\\\Desktop'"
      ]
     },
     "execution_count": 47,
     "metadata": {},
     "output_type": "execute_result"
    }
   ],
   "source": [
    "os.getcwd()"
   ]
  },
  {
   "cell_type": "code",
   "execution_count": 48,
   "id": "04c6da2b",
   "metadata": {},
   "outputs": [],
   "source": [
    "os.mkdir(\"GUNEL\")"
   ]
  },
  {
   "cell_type": "code",
   "execution_count": 49,
   "id": "90ca2d62",
   "metadata": {},
   "outputs": [],
   "source": [
    "os.mkdir(\"AQIL\")"
   ]
  },
  {
   "cell_type": "code",
   "execution_count": 50,
   "id": "9f68f76e",
   "metadata": {},
   "outputs": [],
   "source": [
    "os.mkdir(\"SANAN\")"
   ]
  },
  {
   "cell_type": "code",
   "execution_count": 52,
   "id": "b68cebcc",
   "metadata": {},
   "outputs": [],
   "source": [
    "os.mkdir(\"AQIL/SANAN\")"
   ]
  },
  {
   "cell_type": "code",
   "execution_count": 53,
   "id": "78e9c96f",
   "metadata": {},
   "outputs": [
    {
     "ename": "FileNotFoundError",
     "evalue": "[WinError 3] The system cannot find the path specified: 'AQIL/SANAN'",
     "output_type": "error",
     "traceback": [
      "\u001b[1;31m---------------------------------------------------------------------------\u001b[0m",
      "\u001b[1;31mFileNotFoundError\u001b[0m                         Traceback (most recent call last)",
      "\u001b[1;32m<ipython-input-53-ed6c6d8bff1b>\u001b[0m in \u001b[0;36m<module>\u001b[1;34m\u001b[0m\n\u001b[1;32m----> 1\u001b[1;33m \u001b[0mos\u001b[0m\u001b[1;33m.\u001b[0m\u001b[0mmkdir\u001b[0m\u001b[1;33m(\u001b[0m\u001b[1;34m\"AQIL/SANAN\"\u001b[0m\u001b[1;33m)\u001b[0m\u001b[1;33m\u001b[0m\u001b[1;33m\u001b[0m\u001b[0m\n\u001b[0m",
      "\u001b[1;31mFileNotFoundError\u001b[0m: [WinError 3] The system cannot find the path specified: 'AQIL/SANAN'"
     ]
    }
   ],
   "source": [
    "os.mkdir(\"AQIL/SANAN\")"
   ]
  },
  {
   "cell_type": "code",
   "execution_count": 54,
   "id": "e3c538ce",
   "metadata": {},
   "outputs": [],
   "source": [
    "os.makedirs(\"AQIL/SANAN\")"
   ]
  },
  {
   "cell_type": "code",
   "execution_count": 55,
   "id": "cd1473a8",
   "metadata": {},
   "outputs": [],
   "source": [
    "os.rename(\"SANAN\",\"AQIL\")"
   ]
  },
  {
   "cell_type": "code",
   "execution_count": 57,
   "id": "34a5b1e8",
   "metadata": {},
   "outputs": [],
   "source": [
    "d = os.stat(\"AQIL\").st_mtime"
   ]
  },
  {
   "cell_type": "code",
   "execution_count": 58,
   "id": "95ab1172",
   "metadata": {},
   "outputs": [
    {
     "data": {
      "text/plain": [
       "1640190789.6716802"
      ]
     },
     "execution_count": 58,
     "metadata": {},
     "output_type": "execute_result"
    }
   ],
   "source": [
    "d"
   ]
  },
  {
   "cell_type": "code",
   "execution_count": 59,
   "id": "183249cc",
   "metadata": {},
   "outputs": [
    {
     "name": "stdout",
     "output_type": "stream",
     "text": [
      "2021-12-22 20:33:09.671680\n"
     ]
    }
   ],
   "source": [
    "print(datetime.fromtimestamp(d))"
   ]
  },
  {
   "cell_type": "code",
   "execution_count": null,
   "id": "c0938210",
   "metadata": {},
   "outputs": [],
   "source": []
  },
  {
   "cell_type": "code",
   "execution_count": 1,
   "id": "09322b86",
   "metadata": {},
   "outputs": [],
   "source": [
    "import os\n",
    "from datetime import datetime\n",
    "\n",
    "for qovluq_yolu, qovluq_adlari,fayl_adlari in os.walk(\"C:\\\\Users\\\\uallahverdiyev\\\\Desktop\"):\n",
    "    for i in qovluq_adlari:\n",
    "        if (i.startswith(\"a\")):\n",
    "            pass"
   ]
  },
  {
   "cell_type": "code",
   "execution_count": 2,
   "id": "df2b821a",
   "metadata": {},
   "outputs": [],
   "source": [
    "for qovluq_yolu, qovluq_adlari,fayl_adlari in os.walk(\"C:\\\\Users\\\\uallahverdiyev\\\\Desktop\"):\n",
    "    for i in fayl_adlari:\n",
    "        pass"
   ]
  },
  {
   "cell_type": "code",
   "execution_count": 66,
   "id": "46c3a07a",
   "metadata": {},
   "outputs": [
    {
     "name": "stdout",
     "output_type": "stream",
     "text": [
      "salam\n"
     ]
    }
   ],
   "source": [
    "print(\"salam\")"
   ]
  },
  {
   "cell_type": "code",
   "execution_count": 67,
   "id": "3a5f699e",
   "metadata": {},
   "outputs": [
    {
     "name": "stdout",
     "output_type": "stream",
     "text": [
      "a:a\n",
      "b:s\n"
     ]
    },
    {
     "ename": "SystemExit",
     "evalue": "",
     "output_type": "error",
     "traceback": [
      "An exception has occurred, use %tb to see the full traceback.\n",
      "\u001b[1;31mSystemExit\u001b[0m\n"
     ]
    },
    {
     "name": "stderr",
     "output_type": "stream",
     "text": [
      "C:\\Users\\uallahverdiyev\\Anaconda3\\lib\\site-packages\\IPython\\core\\interactiveshell.py:3445: UserWarning: To exit: use 'exit', 'quit', or Ctrl-D.\n",
      "  warn(\"To exit: use 'exit', 'quit', or Ctrl-D.\", stacklevel=1)\n"
     ]
    }
   ],
   "source": [
    "import sys\n",
    "a = input(\"a:\")\n",
    "b = input(\"b:\")\n",
    "\n",
    "sys.exit()\n",
    "\n",
    "c = input(\"c:\")"
   ]
  },
  {
   "cell_type": "code",
   "execution_count": null,
   "id": "f265936a",
   "metadata": {},
   "outputs": [],
   "source": [
    "stderr ve stdout"
   ]
  },
  {
   "cell_type": "code",
   "execution_count": 68,
   "id": "4b0d00f9",
   "metadata": {},
   "outputs": [
    {
     "name": "stdout",
     "output_type": "stream",
     "text": [
      "salam"
     ]
    }
   ],
   "source": [
    "print(\"salam\",sep=\"\",end=\"\",file=sys.stdout)"
   ]
  },
  {
   "cell_type": "code",
   "execution_count": null,
   "id": "02e2aee1",
   "metadata": {},
   "outputs": [],
   "source": [
    "# sys.stdout - Bu standart fayl, proessin ekrana cixmasini temin edir\n",
    "# stdin - Bu standart processin istifadecin input almasini temin edir\n",
    "# stderr Bu standart fayl, prosesin xeta mesajlarini ekrana cap etmesini temin edir"
   ]
  },
  {
   "cell_type": "code",
   "execution_count": 69,
   "id": "39b58b0d",
   "metadata": {},
   "outputs": [],
   "source": [
    "import sys"
   ]
  },
  {
   "cell_type": "code",
   "execution_count": 70,
   "id": "70e1e364",
   "metadata": {},
   "outputs": [
    {
     "name": "stderr",
     "output_type": "stream",
     "text": [
      "Bura bir xeta mesaji\n"
     ]
    }
   ],
   "source": [
    "sys.stderr.write(\"Bura bir xeta mesaji\\n\")"
   ]
  },
  {
   "cell_type": "code",
   "execution_count": 71,
   "id": "99205308",
   "metadata": {},
   "outputs": [
    {
     "ename": "TypeError",
     "evalue": "unsupported operand type(s) for +: 'int' and 'str'",
     "output_type": "error",
     "traceback": [
      "\u001b[1;31m---------------------------------------------------------------------------\u001b[0m",
      "\u001b[1;31mTypeError\u001b[0m                                 Traceback (most recent call last)",
      "\u001b[1;32m<ipython-input-71-03b0bc6ba911>\u001b[0m in \u001b[0;36m<module>\u001b[1;34m\u001b[0m\n\u001b[1;32m----> 1\u001b[1;33m \u001b[1;36m2\u001b[0m \u001b[1;33m+\u001b[0m \u001b[1;34m\"a\"\u001b[0m\u001b[1;33m\u001b[0m\u001b[1;33m\u001b[0m\u001b[0m\n\u001b[0m",
      "\u001b[1;31mTypeError\u001b[0m: unsupported operand type(s) for +: 'int' and 'str'"
     ]
    }
   ],
   "source": [
    "2 + \"a\"\n"
   ]
  },
  {
   "cell_type": "code",
   "execution_count": 72,
   "id": "397453cd",
   "metadata": {},
   "outputs": [],
   "source": [
    "sys.stderr.flush()"
   ]
  },
  {
   "cell_type": "code",
   "execution_count": 73,
   "id": "c83d58f9",
   "metadata": {},
   "outputs": [
    {
     "name": "stdout",
     "output_type": "stream",
     "text": [
      "Normal print olunan yazimiz !!!\n"
     ]
    }
   ],
   "source": [
    "sys.stdout.write(\"Normal print olunan yazimiz !!!\\n\")"
   ]
  },
  {
   "cell_type": "code",
   "execution_count": 74,
   "id": "5795cd75",
   "metadata": {},
   "outputs": [],
   "source": [
    "# Requests and BeautifulSoup modulu"
   ]
  },
  {
   "cell_type": "code",
   "execution_count": null,
   "id": "eb9740b2",
   "metadata": {},
   "outputs": [],
   "source": []
  }
 ],
 "metadata": {
  "kernelspec": {
   "display_name": "Python 3",
   "language": "python",
   "name": "python3"
  },
  "language_info": {
   "codemirror_mode": {
    "name": "ipython",
    "version": 3
   },
   "file_extension": ".py",
   "mimetype": "text/x-python",
   "name": "python",
   "nbconvert_exporter": "python",
   "pygments_lexer": "ipython3",
   "version": "3.8.8"
  }
 },
 "nbformat": 4,
 "nbformat_minor": 5
}
