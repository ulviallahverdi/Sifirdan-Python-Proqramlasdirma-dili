{
 "cells": [
  {
   "cell_type": "markdown",
   "id": "1c99afe6",
   "metadata": {},
   "source": [
    "# SQLite verilənlər bazası və cədvəlin(stol) yaradılması\n",
    "\n",
    "Bu mövzu ilə biz Sqlite verilənlər bazasından Python ilə necə istifadə edəcəyimizi öyrənməyə çalışacağıq. Verilənlər bazası mövzusu çox uzun müddət araşdırılması lazım olan bir mövzu olduğundan, bu bölmədə biz yalnız sadə mənada Sqlite verilənlər bazasını tədqiq etməyə çalışacağıq.\n",
    "\n",
    "### Verilənlər bazası nədir?\n",
    "\n",
    "Verilənlər bazası lazımi məlumatları tətbiqlərimizdə, veb saytlarımızda və ya ən ümumi mənada proqramlarımızda saxladığımız bir quruluşdur. Məsələn, Facebook istifadəçiləri onun yazılar saxladığı verilənlər bazalarını bəyənirlər. Bu gün istifadə olunan verilənlər bazası növlərindən bəziləri;\n",
    "\n",
    "                Əlaqəli verilənlər bazası: Cədvəllərdən ibarətdir. Mysql, SQLite vs.\n",
    "                DocumentBased Database: Sənədlərdən ibarətdir. MongoDb, Azure DocumentDb\n",
    "                                   //\n",
    "                                   //\n",
    "                                   //\n",
    "                                   \n",
    "Bu bölmədə araşdıracağımız verilənlər bazası Sqlite relational verilənlər bazasıdır və bu verilənlər bazası cədvəllərdən ibarətdir. Hər bir cədvəl verilənlər bazasında müəyyən qruplaşdırılmış məlumatları saxlayır. Nümunə cədvəl strukturu aşağıdakı kimidir; "
   ]
  },
  {
   "cell_type": "markdown",
   "id": "e030c4c9",
   "metadata": {},
   "source": [
    "Buradakı cədvəldə **Ad, Müəllif, Nəşriyyatçı, Səhifələrin sayı** kimi xüsusiyyətlər cədvəlimizin **xassələridir** və hər bir sətirdə istənilən kitabın xüsusiyyətləri saxlanılır. Siz cədvəlləri excel faylı kimi düşünə bilərsiniz. "
   ]
  },
  {
   "cell_type": "markdown",
   "id": "bea33590",
   "metadata": {},
   "source": [
    "### SQLite verilənlər bazası\n",
    "\n",
    "Bu bölmədə görəcəyimiz Sqlite verilənlər bazası digər verilənlər bazaları kimi server qurmağımızı tələb etmir, yəni serversiz verilənlər bazasıdır. Bu mənada o, birbaşa proqramlarımızın hər hansı birinin yanında quraşdırıla bilər. Bəs biz bu verilənlər bazasına cədvəllər yaratmaq və məlumat əlavə etmək kimi əməliyyatları necə yerinə yetiririk? Əlaqəli verilənlər bazaları **SQL(Structured Query Language)** adlı sorğu dili ilə cədvəl əməliyyatlarını yerinə yetirir. Lakin bu sorğu dili çox əhatəli olduğu üçün mən bu bölmədə yalnız müəyyən sorğuları göstərməyə çalışacağam.\n",
    "\n",
    "SQL dilini yoxlamaq istəyirsinizsə, bu saytı yoxlaya bilərsiniz: https://www.w3schools.com/SQL/deFault.asp\n",
    "\n",
    "### İstifadə üçün proqram\n",
    "\n",
    "Sqlite verilənlər bazasında əməliyyatları yerinə yetirdikdən sonra verilənlər bazasını yoxlamaq üçün gözəl proqram var. Bu dərsimizdə bu proqramdan birlikdə istifadə edəcəyik.\n",
    "Bu proqramı buradan asanlıqla yükləyə və quraşdıra bilərsiniz. http://sqlitbrowser.org/\n",
    "\n",
    "İstəyirsinizsə, yavaş-yavaş bu verilənlər bazasını öyrənməyə başlayaq.\n",
    "\n",
    "***Qeyd: Növbəti kodları buradan kompüterimizdə görməyə çalışacağıq. Bununla belə, mən onları burada yenidən yazacağam. Daha sonra işləmək üçün istifadə edə bilərsiniz. Mən də xatırlatmaq istəyirəm ki, kodları paylaşacam. ***"
   ]
  },
  {
   "cell_type": "code",
   "execution_count": 3,
   "id": "6f8191c8",
   "metadata": {},
   "outputs": [],
   "source": [
    "import sqlite3 # sqlite-i daxil edirik sisteme\n",
    "\n",
    "con = sqlite3.connect(\"kitabxana.db\") # Kitabxana-ya baglaniriq!\n",
    "\n",
    "cursor = con.cursor() # cursor adli deyisen verilenler bazasi ustunde emeliyyat etmek ucun istifade edeceyimiz aletdir\n",
    "\n",
    "con.close()"
   ]
  },
  {
   "cell_type": "markdown",
   "id": "8f1661f3",
   "metadata": {},
   "source": [
    "*** CREATE TABLE kitablar (Ad TEXT, Yazici TEXT, Nesriyyat TEXT, sehife_sayi INT)\n",
    "*** CREATE TABLE IF NOT EXISTS Kitablar (Ad TEXT, Yazici TEXT, Nesriyyat TEXT, sehife_sayi INT)"
   ]
  },
  {
   "cell_type": "code",
   "execution_count": 4,
   "id": "8fa3cdf5",
   "metadata": {},
   "outputs": [],
   "source": [
    "import sqlite3\n",
    "\n",
    "con = sqlite3.connect(\"kitabxana.db\")\n",
    "\n",
    "cursor = con.cursor()\n",
    "\n",
    "def stol_yarat():\n",
    "    cursor.execute(\"CREATE TABLE IF NOT EXISTS kitablar (Ad TEXT, Yazici TEXT, Nesriyyat TEXT, sehife_sayi INT)\") # sorgunun icrasi olan bolmedir\n",
    "    con.commit() # Sorgunun verilenler bazarsi usunde kecerli olmasi ucun commi emeliyyati mecburdur!\n",
    "    \n",
    "stol_yarat()\n",
    "con.close()"
   ]
  },
  {
   "cell_type": "code",
   "execution_count": null,
   "id": "9f009af3",
   "metadata": {},
   "outputs": [],
   "source": []
  },
  {
   "cell_type": "markdown",
   "id": "04d3dea3",
   "metadata": {},
   "source": [
    "### Datalarin elave olunmasi ucun numuneler:\n"
   ]
  },
  {
   "cell_type": "markdown",
   "id": "928e2cf1",
   "metadata": {},
   "source": [
    "INSERT INTO kitablar VALUES ('Men Oldururem','Giergo Faletti','Baku',1976)\n",
    "insert into kitablar values ('Men Oldururem','Giergo Faletti','Baku',1976)\n",
    "Insert Into kirablar Values ('Men Oldururem','Giergo Faletti','Baku',1976)"
   ]
  },
  {
   "cell_type": "code",
   "execution_count": 12,
   "id": "17ca7a72",
   "metadata": {
    "scrolled": true
   },
   "outputs": [
    {
     "name": "stdout",
     "output_type": "stream",
     "text": [
      "Ad: I kill\n",
      "Yazici: g faletti\n",
      "Yayin evi: baku media\n",
      "Sehife Sayi: 450\n"
     ]
    }
   ],
   "source": [
    "import sqlite3\n",
    "\n",
    "conn = sqlite3.connect(\"kitabxana1.db\")\n",
    "\n",
    "cursor = conn.cursor()\n",
    "\n",
    "def stol_yarat():\n",
    "    cursor.execute(\"CREATE TABLE IF NOT EXISTS kitablar (Ad TEXT, Yazici TEXT, Nesriyyat TEXT, sehife_sayi INT)\") # sorgunun icrasi olan bolmedir\n",
    "    conn.commit() # Sorgunun verilenler bazarsi usunde kecerli olmasi ucun commi emeliyyati mecburdur!\n",
    "    \n",
    "def melumat_elavesi(ad,yazici,nesriyyat,sehife_sayi):\n",
    "    cursor.execute(\"INSERT INTO kitablar VALUES ('Men Oldururem','Giergo Faletti','Baku',1976)\")\n",
    "    conn.commit()\n",
    "stol_yarat()\n",
    "ad = input(\"Ad: \")\n",
    "yazici = input(\"Yazici: \")\n",
    "nesriyyat = input(\"Yayin evi: \")\n",
    "sehife_sayi = int(input(\"Sehife Sayi: \"))\n",
    "\n",
    "melumat_elavesi(ad,yazici,nesriyyat,sehife_sayi)\n",
    "conn.close()"
   ]
  },
  {
   "cell_type": "code",
   "execution_count": 14,
   "id": "e659b5cc",
   "metadata": {},
   "outputs": [
    {
     "name": "stdout",
     "output_type": "stream",
     "text": [
      "Ad: ali nino\n",
      "Yazici: test\n",
      "Yayin evi: test\n",
      "Sehife Sayi: 1900\n"
     ]
    }
   ],
   "source": [
    "import sqlite3\n",
    "\n",
    "conn = sqlite3.connect(\"kitabxana1.db\")\n",
    "\n",
    "cursor = conn.cursor()\n",
    "\n",
    "def stol_yarat():\n",
    "    cursor.execute(\"CREATE TABLE IF NOT EXISTS kitablar (Ad TEXT, Yazici TEXT, Nesriyyat TEXT, sehife_sayi INT)\") # sorgunun icrasi olan bolmedir\n",
    "    conn.commit() # Sorgunun verilenler bazarsi usunde kecerli olmasi ucun commi emeliyyati mecburdur!\n",
    "    \n",
    "def melumat_elavesi(ad,yazici,nesriyyat,sehife_sayi):\n",
    "    cursor.execute(\"INSERT INTO kitablar VALUES (?,?,?,?)\",(ad,yazici,nesriyyat,sehife_sayi))\n",
    "    conn.commit()\n",
    "\n",
    "ad = input(\"Ad: \")\n",
    "yazici = input(\"Yazici: \")\n",
    "nesriyyat = input(\"Yayin evi: \")\n",
    "sehife_sayi = int(input(\"Sehife Sayi: \"))\n",
    "\n",
    "melumat_elavesi(ad,yazici,nesriyyat,sehife_sayi)\n",
    "conn.close()"
   ]
  },
  {
   "cell_type": "code",
   "execution_count": 15,
   "id": "b6f5db56",
   "metadata": {},
   "outputs": [],
   "source": [
    "# SQL sorgusu ile database-den datalari nece cekirik?\n",
    "#  select * from kitablar     - Stoldaki butun melumatlari cekmeyimizi temin edir\n",
    "# select ad,yazici from kitablar - SToldaki butun melumatlari sadece Ad ve Yazici ozelliklerini almagimiz temin edir\n",
    "# select * from kitablar where nesriyyat='Baku' - Sadece nesriyyati Baki olan butun kitablari getirir"
   ]
  },
  {
   "cell_type": "code",
   "execution_count": 24,
   "id": "75fb7df3",
   "metadata": {},
   "outputs": [
    {
     "ename": "ProgrammingError",
     "evalue": "Incorrect number of bindings supplied. The current statement uses 1, and there are 4 supplied.",
     "output_type": "error",
     "traceback": [
      "\u001b[1;31m---------------------------------------------------------------------------\u001b[0m",
      "\u001b[1;31mProgrammingError\u001b[0m                          Traceback (most recent call last)",
      "\u001b[1;32m<ipython-input-24-c2166c82fdec>\u001b[0m in \u001b[0;36m<module>\u001b[1;34m\u001b[0m\n\u001b[0;32m     31\u001b[0m     \u001b[1;32mfor\u001b[0m \u001b[0mi\u001b[0m \u001b[1;32min\u001b[0m \u001b[0mdata\u001b[0m\u001b[1;33m:\u001b[0m\u001b[1;33m\u001b[0m\u001b[1;33m\u001b[0m\u001b[0m\n\u001b[0;32m     32\u001b[0m         \u001b[0mprint\u001b[0m\u001b[1;33m(\u001b[0m\u001b[0mi\u001b[0m\u001b[1;33m)\u001b[0m\u001b[1;33m\u001b[0m\u001b[1;33m\u001b[0m\u001b[0m\n\u001b[1;32m---> 33\u001b[1;33m \u001b[0mverilenleri_cekmain\u001b[0m\u001b[1;33m(\u001b[0m\u001b[1;34m\"Baku\"\u001b[0m\u001b[1;33m)\u001b[0m\u001b[1;33m\u001b[0m\u001b[1;33m\u001b[0m\u001b[0m\n\u001b[0m\u001b[0;32m     34\u001b[0m \u001b[0mconn\u001b[0m\u001b[1;33m.\u001b[0m\u001b[0mclose\u001b[0m\u001b[1;33m(\u001b[0m\u001b[1;33m)\u001b[0m\u001b[1;33m\u001b[0m\u001b[1;33m\u001b[0m\u001b[0m\n",
      "\u001b[1;32m<ipython-input-24-c2166c82fdec>\u001b[0m in \u001b[0;36mverilenleri_cekmain\u001b[1;34m(nesriyyat)\u001b[0m\n\u001b[0;32m     26\u001b[0m         \u001b[0mprint\u001b[0m\u001b[1;33m(\u001b[0m\u001b[0mi\u001b[0m\u001b[1;33m)\u001b[0m\u001b[1;33m\u001b[0m\u001b[1;33m\u001b[0m\u001b[0m\n\u001b[0;32m     27\u001b[0m \u001b[1;32mdef\u001b[0m \u001b[0mverilenleri_cekmain\u001b[0m\u001b[1;33m(\u001b[0m\u001b[0mnesriyyat\u001b[0m\u001b[1;33m)\u001b[0m\u001b[1;33m:\u001b[0m\u001b[1;33m\u001b[0m\u001b[1;33m\u001b[0m\u001b[0m\n\u001b[1;32m---> 28\u001b[1;33m     \u001b[0mcursor\u001b[0m\u001b[1;33m.\u001b[0m\u001b[0mexecute\u001b[0m\u001b[1;33m(\u001b[0m\u001b[1;34m\"select * from kitablar where nesriyyat = ?\"\u001b[0m\u001b[1;33m,\u001b[0m\u001b[1;33m(\u001b[0m\u001b[0mnesriyyat\u001b[0m\u001b[1;33m)\u001b[0m\u001b[1;33m)\u001b[0m \u001b[1;31m# Sadece nesriyyati istifadeciden aldigim deyeri olan kitablari aliriq\u001b[0m\u001b[1;33m\u001b[0m\u001b[1;33m\u001b[0m\u001b[0m\n\u001b[0m\u001b[0;32m     29\u001b[0m     \u001b[0mdata\u001b[0m \u001b[1;33m=\u001b[0m \u001b[0mcursor\u001b[0m\u001b[1;33m.\u001b[0m\u001b[0mfetchall\u001b[0m\u001b[1;33m(\u001b[0m\u001b[1;33m)\u001b[0m\u001b[1;33m\u001b[0m\u001b[1;33m\u001b[0m\u001b[0m\n\u001b[0;32m     30\u001b[0m     \u001b[0mprint\u001b[0m\u001b[1;33m(\u001b[0m\u001b[1;34m\"Kitablar stolunun melumatlari...\"\u001b[0m\u001b[1;33m)\u001b[0m\u001b[1;33m\u001b[0m\u001b[1;33m\u001b[0m\u001b[0m\n",
      "\u001b[1;31mProgrammingError\u001b[0m: Incorrect number of bindings supplied. The current statement uses 1, and there are 4 supplied."
     ]
    }
   ],
   "source": [
    "import sqlite3\n",
    "\n",
    "conn = sqlite3.connect(\"kitabxana1.db\")\n",
    "\n",
    "cursor = conn.cursor()\n",
    "\n",
    "def stol_yarat():\n",
    "    cursor.execute(\"CREATE TABLE IF NOT EXISTS kitablar (Ad TEXT, Yazici TEXT, Nesriyyat TEXT, sehife_sayi INT)\") # sorgunun icrasi olan bolmedir\n",
    "    conn.commit() # Sorgunun verilenler bazarsi usunde kecerli olmasi ucun commi emeliyyati mecburdur!\n",
    "    \n",
    "def melumat_elavesi(ad,yazici,nesriyyat,sehife_sayi):\n",
    "    cursor.execute(\"INSERT INTO kitablar VALUES ('Men Oldururem','Giergo Faletti','Baku',1976)\")\n",
    "    conn.commit()\n",
    "def verilenleri_cek():\n",
    "    cursor.execute(\"select * from kitablar\") # butun melumatlari cekirik\n",
    "    data = cursor.fetchall() # Verilenler bazasindaki melumatlari cekmek ucun fetchall() istifade edirik\n",
    "    print(\"Kitablar Stolunun melumatlari....\")\n",
    "    for i in data:\n",
    "        print(type(i))\n",
    "    #con.commit() emeliyyatina ehtiyac yoxdur, cunki stolda herhansi bir update(deyisiklik) etmedik.\n",
    "def verilenleri_cek2():\n",
    "    cursor.execute(\"select ad,yazici from kitablar\") # Sadece Ad ve Yazii ozelliklerini aliriq\n",
    "    data = cursor.fetchall()\n",
    "    print(\"Kitablar stolunun melumtlari...\")\n",
    "    for i in data:\n",
    "        print(i)\n",
    "def verilenleri_cekmain(nesriyyat):\n",
    "    cursor.execute(\"select * from kitablar where nesriyyat = ?\",(nesriyyat)) # Sadece nesriyyati istifadeciden aldigim deyeri olan kitablari aliriq\n",
    "    data = cursor.fetchall()\n",
    "    print(\"Kitablar stolunun melumatlari...\")\n",
    "    for i in data:\n",
    "        print(i)\n",
    "verilenleri_cekmain(\"Baku\")\n",
    "conn.close()"
   ]
  },
  {
   "cell_type": "code",
   "execution_count": 41,
   "id": "c36f8217",
   "metadata": {},
   "outputs": [],
   "source": [
    "import sqlite3\n",
    "\n",
    "conn = sqlite3.connect(\"kitabxana1.db\")\n",
    "\n",
    "cursor = conn.cursor()\n",
    "\n",
    "def stol_yarat():\n",
    "    cursor.execute(\"CREATE TABLE IF NOT EXISTS kitablar (Ad TEXT, Yazici TEXT, Nesriyyat TEXT, sehife_sayi INT)\") # sorgunun icrasi olan bolmedir\n",
    "    conn.commit() # Sorgunun verilenler bazarsi usunde kecerli olmasi ucun commi emeliyyati mecburdur!\n",
    "    \n",
    "def melumat_elavesi(ad,yazici,nesriyyat,sehife_sayi):\n",
    "    cursor.execute(\"INSERT INTO kitablar VALUES ('Men Oldururem','Giergo Faletti','Baku',1976)\")\n",
    "    conn.commit()\n",
    "def verilenleri_cek():\n",
    "    cursor.execute(\"select * from kitablar\") # butun melumatlari cekirik\n",
    "    data = cursor.fetchall() # Verilenler bazasindaki melumatlari cekmek ucun fetchall() istifade edirik\n",
    "    print(\"Kitablar Stolunun melumatlari....\")\n",
    "    for i in data:\n",
    "        print(type(i))\n",
    "    #con.commit() emeliyyatina ehtiyac yoxdur, cunki stolda herhansi bir update(deyisiklik) etmedik.\n",
    "def verilenleri_cek2():\n",
    "    cursor.execute(\"select ad,yazici from kitablar\") # Sadece Ad ve Yazii ozelliklerini aliriq\n",
    "    data = cursor.fetchall()\n",
    "    print(\"Kitablar stolunun melumtlari...\")\n",
    "    for i in data:\n",
    "        print(i)\n",
    "def verilenleri_yenile(nesriyyat):\n",
    "    cursor.execute(\"Update kitablar set Nesriyyat = ? where Nesriyyat = ?\",(nesriyyat,\"test\"))\n",
    "    conn.commit()\n",
    "def delete_data():\n",
    "    cursor.execute(\"Delete from kitablar where yazici = 'test'\")\n",
    "    conn.commit()\n",
    "\n",
    "delete_data()\n",
    "conn.close()"
   ]
  },
  {
   "cell_type": "code",
   "execution_count": 27,
   "id": "d0a3dcb9",
   "metadata": {},
   "outputs": [],
   "source": [
    "# Update kitablar set nesriyyat=\"Gence Media\" where Nesriyyat=\"Baku\" --"
   ]
  },
  {
   "cell_type": "code",
   "execution_count": null,
   "id": "e7db8c42",
   "metadata": {},
   "outputs": [],
   "source": [
    "# Baglanti oyrendik\n",
    "# onlara nece veirlenler elave edilir\n",
    "# ordaki datalari nece cekdik onu oyrendik\n",
    "# update ve delete"
   ]
  }
 ],
 "metadata": {
  "kernelspec": {
   "display_name": "Python 3",
   "language": "python",
   "name": "python3"
  },
  "language_info": {
   "codemirror_mode": {
    "name": "ipython",
    "version": 3
   },
   "file_extension": ".py",
   "mimetype": "text/x-python",
   "name": "python",
   "nbconvert_exporter": "python",
   "pygments_lexer": "ipython3",
   "version": "3.8.8"
  }
 },
 "nbformat": 4,
 "nbformat_minor": 5
}
