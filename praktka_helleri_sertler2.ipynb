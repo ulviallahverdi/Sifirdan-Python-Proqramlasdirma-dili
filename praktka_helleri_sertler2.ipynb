{
 "cells": [
  {
   "cell_type": "markdown",
   "metadata": {},
   "source": [
    "## Həlləri\n",
    "\n",
    "### Məsələ 1"
   ]
  },
  {
   "cell_type": "code",
   "execution_count": 1,
   "metadata": {},
   "outputs": [
    {
     "name": "stdout",
     "output_type": "stream",
     "text": [
      "Boyunuzu yazın:175\n",
      "Çəkinizi yazın:70\n",
      "Zəif\n"
     ]
    }
   ],
   "source": [
    "boy = float(input(\"Boyunuzu yazın:\"))\n",
    "ceki = int(input(\"Çəkinizi yazın:\"))\n",
    "\n",
    "bki =  ceki / (boy ** 2)\n",
    "\n",
    "if (bki < 18.5):\n",
    "    print(\"Zəif\")\n",
    "elif (bki >= 18.5 and bki < 25):\n",
    "    print(\"Normal\")\n",
    "elif (bki >= 25 and bki < 30):\n",
    "    print(\"Çox çəkili\")\n",
    "else:\n",
    "    print(\"Obez\")"
   ]
  },
  {
   "cell_type": "markdown",
   "metadata": {},
   "source": [
    "### Məsələ 2\n",
    "\n"
   ]
  },
  {
   "cell_type": "code",
   "execution_count": 2,
   "metadata": {},
   "outputs": [
    {
     "name": "stdout",
     "output_type": "stream",
     "text": [
      "a:12\n",
      "b:34\n",
      "c:32\n",
      "Ən böyük rəqəm: 34\n"
     ]
    }
   ],
   "source": [
    "a =  int(input(\"a:\"))\n",
    "\n",
    "b = int(input(\"b:\"))\n",
    "\n",
    "c = int(input(\"c:\"))\n",
    "\n",
    "if (a >= b and a >= c):\n",
    "    print(\"Ən böyük rəqəm:\",a)\n",
    "elif (b >= a and b >= c):\n",
    "    print(\"Ən böyük rəqəm:\",b)\n",
    "elif (c >= a and c >= b):\n",
    "    print(\"Ən böyük rəqəm:\",c)    "
   ]
  },
  {
   "cell_type": "markdown",
   "metadata": {},
   "source": [
    "### Məsələ 3"
   ]
  },
  {
   "cell_type": "code",
   "execution_count": 5,
   "metadata": {},
   "outputs": [
    {
     "name": "stdout",
     "output_type": "stream",
     "text": [
      "Semeter1:70\n",
      "Semester2:80\n",
      "Final:90\n",
      "BB\n"
     ]
    }
   ],
   "source": [
    "semester1 = int(input(\"Semeter1:\"))\n",
    "semester2 = int(input(\"Semester2:\"))\n",
    "son_semester = int(input(\"Final:\"))\n",
    "\n",
    "\n",
    "son_qiymet =  semester1 * 3/10 + semester2 * 3/10 + son_semester * 4/10\n",
    "\n",
    "if (son_qiymet >= 90):\n",
    "    print(\"AA\")\n",
    "elif (son_qiymet >= 85):\n",
    "    print(\"BA\")\n",
    "elif (son_qiymet >= 80):\n",
    "    print(\"BB\")\n",
    "elif (son_qiymet >= 75):\n",
    "    print(\"CB\")\n",
    "elif (son_qiymet >= 70):\n",
    "    print(\"CC\")\n",
    "elif (son_qiymet >= 65):\n",
    "    print(\"DC\")\n",
    "elif (son_qiymet >= 60):\n",
    "    print(\"DD\")\n",
    "elif (son_qiymet >= 55):\n",
    "    print(\"FD\")\n",
    "else:\n",
    "    print(\"FF\")\n",
    "    "
   ]
  },
  {
   "cell_type": "markdown",
   "metadata": {},
   "source": [
    "### Məsələ 4"
   ]
  },
  {
   "cell_type": "code",
   "execution_count": 7,
   "metadata": {},
   "outputs": [
    {
     "name": "stdout",
     "output_type": "stream",
     "text": [
      "Hansı fiqurun şəklini (tipini) öyrənmək istəyirsən?Üçkünc\n",
      "Tərəf-1:10\n",
      "Tərəf-2:20\n",
      "Tərəf-3:20\n",
      "Bərabəryanlı üçbucaq....\n"
     ]
    }
   ],
   "source": [
    "sekil =  input(\"Hansı fiqurun şəklini (tipini) öyrənmək istəyirsən?\")\n",
    "\n",
    "if (sekil == \"Dörtbucaq\"):\n",
    "    print(\"Zəhmət olmasa tərəflərini ardıcıl yazın.\")\n",
    "    a = int(input(\"Tərəf-1:\"))\n",
    "    b = int(input(\"Tərəf-2:\"))\n",
    "    c = int(input(\"Tərəf-3:\"))\n",
    "    d = int(input(\"Tərəf-4:\"))\n",
    "    \n",
    "    if (a == b and a == c and a == d):\n",
    "        print(\"Bərabərtərəfli\")\n",
    "    elif (a == c and b == d):\n",
    "        print(\"Düzbucaqlı\")\n",
    "    else:\n",
    "        print(\"Dörkünc\")\n",
    "        \n",
    "    \n",
    "    \n",
    "elif (sekil == \"Üçkünc\"):\n",
    "    a = int(input(\"Tərəf-1:\"))\n",
    "    b = int(input(\"Tərəf-2:\"))\n",
    "    c = int(input(\"Tərəf-3:\"))\n",
    "    if ( abs(a+b) > c and abs(a+c) > b and abs(b+c) > a):\n",
    "        if (a == b and a == c ):\n",
    "            print(\"Bərabərtərəfli...\")\n",
    "        elif ((a == b and a != c) or (a == c and a != b) or (b == c and b != a)):\n",
    "            print(\"Bərabəryanlı üçbucaq....\")\n",
    "        else:\n",
    "            print(\"Üçbucaq digər\")\n",
    "    else:\n",
    "        print(\"Üçkünc tanınmadı...\")\n",
    "        \n",
    "else:\n",
    "    print(\"Keçərsiz fiqur...\")\n",
    "    "
   ]
  },
  {
   "cell_type": "markdown",
   "metadata": {},
   "source": [
    "### "
   ]
  }
 ],
 "metadata": {
  "kernelspec": {
   "display_name": "Python 3",
   "language": "python",
   "name": "python3"
  },
  "language_info": {
   "codemirror_mode": {
    "name": "ipython",
    "version": 3
   },
   "file_extension": ".py",
   "mimetype": "text/x-python",
   "name": "python",
   "nbconvert_exporter": "python",
   "pygments_lexer": "ipython3",
   "version": "3.8.8"
  }
 },
 "nbformat": 4,
 "nbformat_minor": 2
}
