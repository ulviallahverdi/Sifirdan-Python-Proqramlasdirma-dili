{
 "cells": [
  {
   "cell_type": "markdown",
   "id": "4f81d5a3",
   "metadata": {},
   "source": [
    "try, except, finally"
   ]
  },
  {
   "cell_type": "code",
   "execution_count": 1,
   "id": "604a7649",
   "metadata": {},
   "outputs": [
    {
     "ename": "TypeError",
     "evalue": "unsupported operand type(s) for /: 'int' and 'str'",
     "output_type": "error",
     "traceback": [
      "\u001b[1;31m---------------------------------------------------------------------------\u001b[0m",
      "\u001b[1;31mTypeError\u001b[0m                                 Traceback (most recent call last)",
      "\u001b[1;32m<ipython-input-1-101ea3c2ed8e>\u001b[0m in \u001b[0;36m<module>\u001b[1;34m\u001b[0m\n\u001b[1;32m----> 1\u001b[1;33m \u001b[1;36m2\u001b[0m\u001b[1;33m/\u001b[0m\u001b[1;34m\"A\"\u001b[0m\u001b[1;33m\u001b[0m\u001b[1;33m\u001b[0m\u001b[0m\n\u001b[0m",
      "\u001b[1;31mTypeError\u001b[0m: unsupported operand type(s) for /: 'int' and 'str'"
     ]
    }
   ],
   "source": [
    "2/\"A\""
   ]
  },
  {
   "cell_type": "code",
   "execution_count": 2,
   "id": "aa1549eb",
   "metadata": {},
   "outputs": [
    {
     "ename": "ZeroDivisionError",
     "evalue": "division by zero",
     "output_type": "error",
     "traceback": [
      "\u001b[1;31m---------------------------------------------------------------------------\u001b[0m",
      "\u001b[1;31mZeroDivisionError\u001b[0m                         Traceback (most recent call last)",
      "\u001b[1;32m<ipython-input-2-e8326a161779>\u001b[0m in \u001b[0;36m<module>\u001b[1;34m\u001b[0m\n\u001b[1;32m----> 1\u001b[1;33m \u001b[1;36m2\u001b[0m\u001b[1;33m/\u001b[0m\u001b[1;36m0\u001b[0m\u001b[1;33m\u001b[0m\u001b[1;33m\u001b[0m\u001b[0m\n\u001b[0m",
      "\u001b[1;31mZeroDivisionError\u001b[0m: division by zero"
     ]
    }
   ],
   "source": [
    "2/0"
   ]
  },
  {
   "cell_type": "code",
   "execution_count": 3,
   "id": "28243ed3",
   "metadata": {},
   "outputs": [
    {
     "ename": "NameError",
     "evalue": "name 'a' is not defined",
     "output_type": "error",
     "traceback": [
      "\u001b[1;31m---------------------------------------------------------------------------\u001b[0m",
      "\u001b[1;31mNameError\u001b[0m                                 Traceback (most recent call last)",
      "\u001b[1;32m<ipython-input-3-bca0e2660b9f>\u001b[0m in \u001b[0;36m<module>\u001b[1;34m\u001b[0m\n\u001b[1;32m----> 1\u001b[1;33m \u001b[0mprint\u001b[0m\u001b[1;33m(\u001b[0m\u001b[0ma\u001b[0m\u001b[1;33m)\u001b[0m\u001b[1;33m\u001b[0m\u001b[1;33m\u001b[0m\u001b[0m\n\u001b[0m",
      "\u001b[1;31mNameError\u001b[0m: name 'a' is not defined"
     ]
    }
   ],
   "source": [
    "print(a)"
   ]
  },
  {
   "cell_type": "code",
   "execution_count": 4,
   "id": "247ec7b8",
   "metadata": {},
   "outputs": [
    {
     "ename": "TypeError",
     "evalue": "unsupported operand type(s) for /: 'int' and 'str'",
     "output_type": "error",
     "traceback": [
      "\u001b[1;31m---------------------------------------------------------------------------\u001b[0m",
      "\u001b[1;31mTypeError\u001b[0m                                 Traceback (most recent call last)",
      "\u001b[1;32m<ipython-input-4-45d65bc24b6f>\u001b[0m in \u001b[0;36m<module>\u001b[1;34m\u001b[0m\n\u001b[0;32m      1\u001b[0m \u001b[0ma\u001b[0m \u001b[1;33m=\u001b[0m \u001b[1;36m2\u001b[0m\u001b[1;33m\u001b[0m\u001b[1;33m\u001b[0m\u001b[0m\n\u001b[0;32m      2\u001b[0m \u001b[0mb\u001b[0m \u001b[1;33m=\u001b[0m \u001b[1;34m\"salam\"\u001b[0m\u001b[1;33m\u001b[0m\u001b[1;33m\u001b[0m\u001b[0m\n\u001b[1;32m----> 3\u001b[1;33m \u001b[0ma\u001b[0m\u001b[1;33m/\u001b[0m\u001b[0mb\u001b[0m\u001b[1;33m\u001b[0m\u001b[1;33m\u001b[0m\u001b[0m\n\u001b[0m",
      "\u001b[1;31mTypeError\u001b[0m: unsupported operand type(s) for /: 'int' and 'str'"
     ]
    }
   ],
   "source": [
    "a = 2\n",
    "b = \"salam\"\n",
    "a/b"
   ]
  },
  {
   "cell_type": "code",
   "execution_count": 5,
   "id": "23b1bbb7",
   "metadata": {},
   "outputs": [
    {
     "ename": "ZeroDivisionError",
     "evalue": "float division by zero",
     "output_type": "error",
     "traceback": [
      "\u001b[1;31m---------------------------------------------------------------------------\u001b[0m",
      "\u001b[1;31mZeroDivisionError\u001b[0m                         Traceback (most recent call last)",
      "\u001b[1;32m<ipython-input-5-71f13771214b>\u001b[0m in \u001b[0;36m<module>\u001b[1;34m\u001b[0m\n\u001b[1;32m----> 1\u001b[1;33m \u001b[1;36m3.4\u001b[0m\u001b[1;33m/\u001b[0m\u001b[1;36m0\u001b[0m\u001b[1;33m\u001b[0m\u001b[1;33m\u001b[0m\u001b[0m\n\u001b[0m",
      "\u001b[1;31mZeroDivisionError\u001b[0m: float division by zero"
     ]
    }
   ],
   "source": [
    "3.4/0"
   ]
  },
  {
   "cell_type": "markdown",
   "id": "c9c2304e",
   "metadata": {},
   "source": [
    "##### Xəta tutma - try, except\n",
    "\n",
    "try:\n",
    "    Xeta cixarda bilecek kodlari buraya yazirsiz ...\n",
    "    Eger xeta cixsa proqram uygun olan except blokuna gonderecek\n",
    "    Xeta yaransa try blokunun geride qalan emeliyyatlar hecbiri islemeyecek\n",
    "except Xeta1:\n",
    "    Xeta1 yarananda bura isleyecek\n",
    "except Xeta2:\n",
    "    Xeta2 yarananda bura isleyecek"
   ]
  },
  {
   "cell_type": "code",
   "execution_count": 7,
   "id": "9cbfd0e0",
   "metadata": {},
   "outputs": [
    {
     "ename": "ValueError",
     "evalue": "invalid literal for int() with base 10: '7934759843dsflk'",
     "output_type": "error",
     "traceback": [
      "\u001b[1;31m---------------------------------------------------------------------------\u001b[0m",
      "\u001b[1;31mValueError\u001b[0m                                Traceback (most recent call last)",
      "\u001b[1;32m<ipython-input-7-31ea5ab63d6a>\u001b[0m in \u001b[0;36m<module>\u001b[1;34m\u001b[0m\n\u001b[1;32m----> 1\u001b[1;33m \u001b[0ma\u001b[0m \u001b[1;33m=\u001b[0m \u001b[0mint\u001b[0m\u001b[1;33m(\u001b[0m\u001b[1;34m\"7934759843dsflk\"\u001b[0m\u001b[1;33m)\u001b[0m\u001b[1;33m\u001b[0m\u001b[1;33m\u001b[0m\u001b[0m\n\u001b[0m",
      "\u001b[1;31mValueError\u001b[0m: invalid literal for int() with base 10: '7934759843dsflk'"
     ]
    }
   ],
   "source": [
    "a = int(\"7934759843dsflk\")"
   ]
  },
  {
   "cell_type": "code",
   "execution_count": 8,
   "id": "e816852e",
   "metadata": {},
   "outputs": [
    {
     "name": "stdout",
     "output_type": "stream",
     "text": [
      "Xeta bas verdi!!!\n",
      "Proqram basa catdi\n"
     ]
    }
   ],
   "source": [
    "try:\n",
    "    a = int(\"dhfskdjfkdsj3453798584759\")\n",
    "    print(\"Proqram buradadir....\")\n",
    "except:\n",
    "    print(\"Xeta bas verdi!!!\")\n",
    "    \n",
    "print(\"Proqram basa catdi\")"
   ]
  },
  {
   "cell_type": "code",
   "execution_count": 9,
   "id": "31bfe0f9",
   "metadata": {},
   "outputs": [
    {
     "ename": "ValueError",
     "evalue": "invalid literal for int() with base 10: 'dhfskdjfkdsj3453798584759'",
     "output_type": "error",
     "traceback": [
      "\u001b[1;31m---------------------------------------------------------------------------\u001b[0m",
      "\u001b[1;31mValueError\u001b[0m                                Traceback (most recent call last)",
      "\u001b[1;32m<ipython-input-9-d65b19e36f97>\u001b[0m in \u001b[0;36m<module>\u001b[1;34m\u001b[0m\n\u001b[1;32m----> 1\u001b[1;33m \u001b[0ma\u001b[0m \u001b[1;33m=\u001b[0m \u001b[0mint\u001b[0m\u001b[1;33m(\u001b[0m\u001b[1;34m\"dhfskdjfkdsj3453798584759\"\u001b[0m\u001b[1;33m)\u001b[0m\u001b[1;33m\u001b[0m\u001b[1;33m\u001b[0m\u001b[0m\n\u001b[0m\u001b[0;32m      2\u001b[0m \u001b[0mprint\u001b[0m\u001b[1;33m(\u001b[0m\u001b[1;34m\"Proqram buradadir....\"\u001b[0m\u001b[1;33m)\u001b[0m\u001b[1;33m\u001b[0m\u001b[1;33m\u001b[0m\u001b[0m\n",
      "\u001b[1;31mValueError\u001b[0m: invalid literal for int() with base 10: 'dhfskdjfkdsj3453798584759'"
     ]
    }
   ],
   "source": [
    "a = int(\"dhfskdjfkdsj3453798584759\")\n",
    "print(\"Proqram buradadir....\")"
   ]
  },
  {
   "cell_type": "code",
   "execution_count": 10,
   "id": "22991f07",
   "metadata": {},
   "outputs": [
    {
     "name": "stdout",
     "output_type": "stream",
     "text": [
      "Bele bir ferqli iki tip cevrile bilmez!!!\n",
      "Proqram basa catdi\n"
     ]
    }
   ],
   "source": [
    "try:\n",
    "    a = int(\"dhfskdjfkdsj3453798584759\")\n",
    "    print(\"Proqram buradadir....\")\n",
    "except ValueError:\n",
    "    print(\"Bele bir ferqli iki tip cevrile bilmez!!!\")\n",
    "    \n",
    "print(\"Proqram basa catdi\")"
   ]
  },
  {
   "cell_type": "code",
   "execution_count": 13,
   "id": "208054d4",
   "metadata": {},
   "outputs": [
    {
     "name": "stdout",
     "output_type": "stream",
     "text": [
      "Reqem 1 : 3\n",
      "Reqem 2 : 0\n",
      "ikinci eded 0 ola bilmez, cunki 0-a bolme yoxdur!\n"
     ]
    }
   ],
   "source": [
    "try:\n",
    "    a = int(input(\"Reqem 1 : \"))\n",
    "    b = int(input(\"Reqem 2 : \"))\n",
    "    print(a/b)\n",
    "except ValueError:\n",
    "    print(\"Zehmet olmasa inputlari dogru yazin.\")\n",
    "except ZeroDivisionError:\n",
    "    print(\"ikinci eded 0 ola bilmez, cunki 0-a bolme yoxdur!\")"
   ]
  },
  {
   "cell_type": "code",
   "execution_count": 14,
   "id": "61dc3338",
   "metadata": {},
   "outputs": [
    {
     "name": "stdout",
     "output_type": "stream",
     "text": [
      "Reqem 1 : 2\n",
      "Reqem 2 : 0\n",
      "ValueError veya ZeroDivisionError xetasi verdi sistem.\n"
     ]
    }
   ],
   "source": [
    "try:\n",
    "    a = int(input(\"Reqem 1 : \"))\n",
    "    b = int(input(\"Reqem 2 : \"))\n",
    "    print(a/b)\n",
    "except (ValueError,ZeroDivisionError):\n",
    "    print(\"ValueError veya ZeroDivisionError xetasi verdi sistem.\")\n",
    "    "
   ]
  },
  {
   "cell_type": "markdown",
   "id": "b2a93a01",
   "metadata": {},
   "source": [
    "##### Xəta tutma - try, except\n",
    "\n",
    "try:\n",
    "    Xeta cixarda bilecek kodlari buraya yazirsiz ...\n",
    "    Eger xeta cixsa proqram uygun olan except blokuna gonderecek\n",
    "    Xeta yaransa try blokunun geride qalan emeliyyatlar hecbiri islemeyecek\n",
    "except Xeta1:\n",
    "    Xeta1 yarananda bura isleyecek\n",
    "except Xeta2:\n",
    "    Xeta2 yarananda bura isleyecek\n",
    "finally:\n",
    "    Mutleq sekilde* islemesi lazim olan yer blok buradir\n",
    "    bu blok mutleq isleyecek"
   ]
  },
  {
   "cell_type": "code",
   "execution_count": 15,
   "id": "a0bd5627",
   "metadata": {},
   "outputs": [
    {
     "name": "stdout",
     "output_type": "stream",
     "text": [
      "a= 2\n",
      "b= 4\n",
      "0.5\n",
      "Men her versiyada isleyecem!\n"
     ]
    }
   ],
   "source": [
    "try:\n",
    "    a = int(input(\"a= \"))\n",
    "    b = int(input(\"b= \"))\n",
    "    print(a/b)\n",
    "except ValueError:\n",
    "    print(\"Zehmet olmasa deyerleri duzgun yazin...\")\n",
    "except ZeroDivisionError:\n",
    "    print(\"Bir reqem 0-a bolune bilmez\")\n",
    "finally:\n",
    "    print(\"Men her versiyada isleyecem!\")"
   ]
  },
  {
   "cell_type": "code",
   "execution_count": 16,
   "id": "421e920e",
   "metadata": {},
   "outputs": [],
   "source": [
    "# raise XetaAdi(isteye gore xeta mesaji)"
   ]
  },
  {
   "cell_type": "code",
   "execution_count": 17,
   "id": "adbdf320",
   "metadata": {},
   "outputs": [],
   "source": [
    "# Verilen stringi ters cevirek\n",
    "\n",
    "def terscevir(s):\n",
    "    if (type(s) != str):\n",
    "        raise ValueError(\"Zehmet olmasa duzgun bir input yazin.\")\n",
    "    else:\n",
    "        return s[::-1]"
   ]
  },
  {
   "cell_type": "code",
   "execution_count": 18,
   "id": "6a43e1cf",
   "metadata": {},
   "outputs": [
    {
     "ename": "ValueError",
     "evalue": "Zehmet olmasa duzgun bir input yazin.",
     "output_type": "error",
     "traceback": [
      "\u001b[1;31m---------------------------------------------------------------------------\u001b[0m",
      "\u001b[1;31mValueError\u001b[0m                                Traceback (most recent call last)",
      "\u001b[1;32m<ipython-input-18-ca92582930ce>\u001b[0m in \u001b[0;36m<module>\u001b[1;34m\u001b[0m\n\u001b[1;32m----> 1\u001b[1;33m \u001b[0mterscevir\u001b[0m\u001b[1;33m(\u001b[0m\u001b[1;36m345\u001b[0m\u001b[1;33m)\u001b[0m\u001b[1;33m\u001b[0m\u001b[1;33m\u001b[0m\u001b[0m\n\u001b[0m",
      "\u001b[1;32m<ipython-input-17-2bfa6a674a90>\u001b[0m in \u001b[0;36mterscevir\u001b[1;34m(s)\u001b[0m\n\u001b[0;32m      3\u001b[0m \u001b[1;32mdef\u001b[0m \u001b[0mterscevir\u001b[0m\u001b[1;33m(\u001b[0m\u001b[0ms\u001b[0m\u001b[1;33m)\u001b[0m\u001b[1;33m:\u001b[0m\u001b[1;33m\u001b[0m\u001b[1;33m\u001b[0m\u001b[0m\n\u001b[0;32m      4\u001b[0m     \u001b[1;32mif\u001b[0m \u001b[1;33m(\u001b[0m\u001b[0mtype\u001b[0m\u001b[1;33m(\u001b[0m\u001b[0ms\u001b[0m\u001b[1;33m)\u001b[0m \u001b[1;33m!=\u001b[0m \u001b[0mstr\u001b[0m\u001b[1;33m)\u001b[0m\u001b[1;33m:\u001b[0m\u001b[1;33m\u001b[0m\u001b[1;33m\u001b[0m\u001b[0m\n\u001b[1;32m----> 5\u001b[1;33m         \u001b[1;32mraise\u001b[0m \u001b[0mValueError\u001b[0m\u001b[1;33m(\u001b[0m\u001b[1;34m\"Zehmet olmasa duzgun bir input yazin.\"\u001b[0m\u001b[1;33m)\u001b[0m\u001b[1;33m\u001b[0m\u001b[1;33m\u001b[0m\u001b[0m\n\u001b[0m\u001b[0;32m      6\u001b[0m     \u001b[1;32melse\u001b[0m\u001b[1;33m:\u001b[0m\u001b[1;33m\u001b[0m\u001b[1;33m\u001b[0m\u001b[0m\n\u001b[0;32m      7\u001b[0m         \u001b[1;32mreturn\u001b[0m \u001b[0ms\u001b[0m\u001b[1;33m[\u001b[0m\u001b[1;33m:\u001b[0m\u001b[1;33m:\u001b[0m\u001b[1;33m-\u001b[0m\u001b[1;36m1\u001b[0m\u001b[1;33m]\u001b[0m\u001b[1;33m\u001b[0m\u001b[1;33m\u001b[0m\u001b[0m\n",
      "\u001b[1;31mValueError\u001b[0m: Zehmet olmasa duzgun bir input yazin."
     ]
    }
   ],
   "source": [
    "terscevir(345)"
   ]
  },
  {
   "cell_type": "code",
   "execution_count": 19,
   "id": "6763c25f",
   "metadata": {},
   "outputs": [
    {
     "data": {
      "text/plain": [
       "'malas'"
      ]
     },
     "execution_count": 19,
     "metadata": {},
     "output_type": "execute_result"
    }
   ],
   "source": [
    "terscevir(\"salam\")"
   ]
  },
  {
   "cell_type": "code",
   "execution_count": null,
   "id": "99e778aa",
   "metadata": {},
   "outputs": [],
   "source": []
  }
 ],
 "metadata": {
  "kernelspec": {
   "display_name": "Python 3",
   "language": "python",
   "name": "python3"
  },
  "language_info": {
   "codemirror_mode": {
    "name": "ipython",
    "version": 3
   },
   "file_extension": ".py",
   "mimetype": "text/x-python",
   "name": "python",
   "nbconvert_exporter": "python",
   "pygments_lexer": "ipython3",
   "version": "3.8.8"
  }
 },
 "nbformat": 4,
 "nbformat_minor": 5
}
