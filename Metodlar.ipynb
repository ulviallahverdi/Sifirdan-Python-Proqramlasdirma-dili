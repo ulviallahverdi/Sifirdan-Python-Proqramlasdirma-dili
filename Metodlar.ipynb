{
 "cells": [
  {
   "cell_type": "markdown",
   "id": "cc354acf",
   "metadata": {},
   "source": [
    "# Metodlar - Funksiyalar"
   ]
  },
  {
   "cell_type": "markdown",
   "id": "5f8c9c10",
   "metadata": {},
   "source": [
    "## obyekt.herhansi_bir_metod(deyerler(options))"
   ]
  },
  {
   "cell_type": "code",
   "execution_count": 1,
   "id": "c2e3f99a",
   "metadata": {},
   "outputs": [],
   "source": [
    "listim = [1,2,3,4,5,6]\n",
    "\n",
    "listim.insert(1,\"Ulvi\")"
   ]
  },
  {
   "cell_type": "code",
   "execution_count": 2,
   "id": "7f5abf4f",
   "metadata": {},
   "outputs": [
    {
     "data": {
      "text/plain": [
       "[1, 'Ulvi', 2, 3, 4, 5, 6]"
      ]
     },
     "execution_count": 2,
     "metadata": {},
     "output_type": "execute_result"
    }
   ],
   "source": [
    "listim"
   ]
  },
  {
   "cell_type": "code",
   "execution_count": 3,
   "id": "6fc9c103",
   "metadata": {},
   "outputs": [
    {
     "data": {
      "text/plain": [
       "6"
      ]
     },
     "execution_count": 3,
     "metadata": {},
     "output_type": "execute_result"
    }
   ],
   "source": [
    "listim.pop()"
   ]
  },
  {
   "cell_type": "code",
   "execution_count": 4,
   "id": "747bafa6",
   "metadata": {},
   "outputs": [
    {
     "data": {
      "text/plain": [
       "[1, 'Ulvi', 2, 3, 4, 5]"
      ]
     },
     "execution_count": 4,
     "metadata": {},
     "output_type": "execute_result"
    }
   ],
   "source": [
    "listim"
   ]
  },
  {
   "cell_type": "code",
   "execution_count": 5,
   "id": "30f19010",
   "metadata": {},
   "outputs": [
    {
     "data": {
      "text/plain": [
       "[1, 'Ulvi', 2, 3, 4, 5]"
      ]
     },
     "execution_count": 5,
     "metadata": {},
     "output_type": "execute_result"
    }
   ],
   "source": [
    "listim"
   ]
  },
  {
   "cell_type": "code",
   "execution_count": 6,
   "id": "59183a37",
   "metadata": {},
   "outputs": [
    {
     "name": "stdout",
     "output_type": "stream",
     "text": [
      "Help on built-in function insert:\n",
      "\n",
      "insert(index, object, /) method of builtins.list instance\n",
      "    Insert object before index.\n",
      "\n"
     ]
    }
   ],
   "source": [
    "help(listim.insert)"
   ]
  },
  {
   "cell_type": "code",
   "execution_count": 7,
   "id": "eb6b676a",
   "metadata": {},
   "outputs": [],
   "source": [
    "# Object Oriented Language - Obyekt yonumlu proqramlasdirma!"
   ]
  },
  {
   "cell_type": "code",
   "execution_count": 8,
   "id": "c7231bc4",
   "metadata": {},
   "outputs": [],
   "source": [
    "# Funksiyalar"
   ]
  },
  {
   "cell_type": "markdown",
   "id": "e17b6bd3",
   "metadata": {},
   "source": [
    "# Funksiyalarin teyin edilmesi!\n",
    "\n",
    "        def funksiyanin_adi(parametr1,parametr2,parametr3 .... (options)):\n",
    "            #funksiya bloku\n",
    "            edilecek emeliyyatlar\n",
    "            # geri donecek deyer - Options\n",
    "\n"
   ]
  },
  {
   "cell_type": "code",
   "execution_count": 9,
   "id": "8cdf92b1",
   "metadata": {},
   "outputs": [
    {
     "data": {
      "text/plain": [
       "str"
      ]
     },
     "execution_count": 9,
     "metadata": {},
     "output_type": "execute_result"
    }
   ],
   "source": [
    "type(str())"
   ]
  },
  {
   "cell_type": "code",
   "execution_count": 10,
   "id": "cd26a368",
   "metadata": {},
   "outputs": [
    {
     "ename": "NameError",
     "evalue": "name 'salamla' is not defined",
     "output_type": "error",
     "traceback": [
      "\u001b[1;31m---------------------------------------------------------------------------\u001b[0m",
      "\u001b[1;31mNameError\u001b[0m                                 Traceback (most recent call last)",
      "\u001b[1;32m<ipython-input-10-215b53ba2eb7>\u001b[0m in \u001b[0;36m<module>\u001b[1;34m\u001b[0m\n\u001b[1;32m----> 1\u001b[1;33m \u001b[0mtype\u001b[0m\u001b[1;33m(\u001b[0m\u001b[0msalamla\u001b[0m\u001b[1;33m)\u001b[0m\u001b[1;33m\u001b[0m\u001b[1;33m\u001b[0m\u001b[0m\n\u001b[0m",
      "\u001b[1;31mNameError\u001b[0m: name 'salamla' is not defined"
     ]
    }
   ],
   "source": [
    "type(salamla)"
   ]
  },
  {
   "cell_type": "code",
   "execution_count": 11,
   "id": "55d98a78",
   "metadata": {},
   "outputs": [],
   "source": [
    "def salamla():\n",
    "    print(\"Salam herkese...\")\n",
    "    print(\"Necesiniz?\")"
   ]
  },
  {
   "cell_type": "code",
   "execution_count": 12,
   "id": "0b77bb4f",
   "metadata": {},
   "outputs": [
    {
     "data": {
      "text/plain": [
       "function"
      ]
     },
     "execution_count": 12,
     "metadata": {},
     "output_type": "execute_result"
    }
   ],
   "source": [
    "type(salamla)"
   ]
  },
  {
   "cell_type": "markdown",
   "id": "17ad8333",
   "metadata": {},
   "source": [
    "funksiyanin_adi(argument1,argument2....)"
   ]
  },
  {
   "cell_type": "code",
   "execution_count": 13,
   "id": "c635cf80",
   "metadata": {},
   "outputs": [
    {
     "data": {
      "text/plain": [
       "function"
      ]
     },
     "execution_count": 13,
     "metadata": {},
     "output_type": "execute_result"
    }
   ],
   "source": [
    "type(salamla)"
   ]
  },
  {
   "cell_type": "code",
   "execution_count": 14,
   "id": "eb9b61ef",
   "metadata": {},
   "outputs": [
    {
     "data": {
      "text/plain": [
       "<function __main__.salamla()>"
      ]
     },
     "execution_count": 14,
     "metadata": {},
     "output_type": "execute_result"
    }
   ],
   "source": [
    "salamla"
   ]
  },
  {
   "cell_type": "code",
   "execution_count": 15,
   "id": "dd4e2de9",
   "metadata": {},
   "outputs": [
    {
     "name": "stdout",
     "output_type": "stream",
     "text": [
      "Salam herkese...\n",
      "Necesiniz?\n"
     ]
    }
   ],
   "source": [
    "salamla()"
   ]
  },
  {
   "cell_type": "code",
   "execution_count": 16,
   "id": "e7dc67f7",
   "metadata": {},
   "outputs": [
    {
     "name": "stdout",
     "output_type": "stream",
     "text": [
      "Salam herkese...\n",
      "Necesiniz?\n"
     ]
    }
   ],
   "source": [
    "salamla()"
   ]
  },
  {
   "cell_type": "code",
   "execution_count": 17,
   "id": "f78690f2",
   "metadata": {},
   "outputs": [
    {
     "name": "stdout",
     "output_type": "stream",
     "text": [
      "Salam herkese...\n",
      "Necesiniz?\n"
     ]
    }
   ],
   "source": [
    "salamla()"
   ]
  },
  {
   "cell_type": "code",
   "execution_count": 18,
   "id": "f156b80d",
   "metadata": {},
   "outputs": [
    {
     "ename": "TypeError",
     "evalue": "salamla() takes 0 positional arguments but 1 was given",
     "output_type": "error",
     "traceback": [
      "\u001b[1;31m---------------------------------------------------------------------------\u001b[0m",
      "\u001b[1;31mTypeError\u001b[0m                                 Traceback (most recent call last)",
      "\u001b[1;32m<ipython-input-18-a2adb2ac2474>\u001b[0m in \u001b[0;36m<module>\u001b[1;34m\u001b[0m\n\u001b[1;32m----> 1\u001b[1;33m \u001b[0msalamla\u001b[0m\u001b[1;33m(\u001b[0m\u001b[1;34m\"python\"\u001b[0m\u001b[1;33m)\u001b[0m\u001b[1;33m\u001b[0m\u001b[1;33m\u001b[0m\u001b[0m\n\u001b[0m",
      "\u001b[1;31mTypeError\u001b[0m: salamla() takes 0 positional arguments but 1 was given"
     ]
    }
   ],
   "source": [
    "salamla(\"python\")"
   ]
  },
  {
   "cell_type": "code",
   "execution_count": 19,
   "id": "d95c58f8",
   "metadata": {},
   "outputs": [],
   "source": [
    "def salamla(ad):\n",
    "    print(\"Salam\",ad)"
   ]
  },
  {
   "cell_type": "code",
   "execution_count": 20,
   "id": "7e014ceb",
   "metadata": {},
   "outputs": [
    {
     "data": {
      "text/plain": [
       "function"
      ]
     },
     "execution_count": 20,
     "metadata": {},
     "output_type": "execute_result"
    }
   ],
   "source": [
    "type(salamla)"
   ]
  },
  {
   "cell_type": "code",
   "execution_count": 21,
   "id": "efb05335",
   "metadata": {},
   "outputs": [
    {
     "name": "stdout",
     "output_type": "stream",
     "text": [
      "Salam Ulvi\n"
     ]
    }
   ],
   "source": [
    "salamla(\"Ulvi\")"
   ]
  },
  {
   "cell_type": "code",
   "execution_count": 23,
   "id": "0f6c77b0",
   "metadata": {},
   "outputs": [
    {
     "name": "stdout",
     "output_type": "stream",
     "text": [
      "Salam Adil\n"
     ]
    }
   ],
   "source": [
    "salamla(\"Adil\")"
   ]
  },
  {
   "cell_type": "code",
   "execution_count": 28,
   "id": "b8d3e5a0",
   "metadata": {},
   "outputs": [],
   "source": [
    "# Toplama funksiyasi\n",
    "def topla(a,b,c):\n",
    "    print(\"Cemi: \",a+b+c)"
   ]
  },
  {
   "cell_type": "code",
   "execution_count": 29,
   "id": "083beb64",
   "metadata": {},
   "outputs": [
    {
     "name": "stdout",
     "output_type": "stream",
     "text": [
      "Cemi:  15\n"
     ]
    }
   ],
   "source": [
    "toplama(1,2,12)"
   ]
  },
  {
   "cell_type": "code",
   "execution_count": 27,
   "id": "6f7e14ed",
   "metadata": {},
   "outputs": [
    {
     "name": "stdout",
     "output_type": "stream",
     "text": [
      "Cemi:  60\n"
     ]
    }
   ],
   "source": [
    "toplama(10,20,30)"
   ]
  },
  {
   "cell_type": "code",
   "execution_count": 30,
   "id": "2b9b2150",
   "metadata": {},
   "outputs": [
    {
     "name": "stdout",
     "output_type": "stream",
     "text": [
      "Cemi:  15\n"
     ]
    }
   ],
   "source": [
    "topla(4,5,6)"
   ]
  },
  {
   "cell_type": "code",
   "execution_count": 32,
   "id": "19abfce6",
   "metadata": {},
   "outputs": [
    {
     "name": "stdout",
     "output_type": "stream",
     "text": [
      "Cemi: 15\n"
     ]
    }
   ],
   "source": [
    "print(\"Cemi:\",4+5+6)"
   ]
  },
  {
   "cell_type": "code",
   "execution_count": 33,
   "id": "b4c5e72f",
   "metadata": {},
   "outputs": [],
   "source": [
    "def faktoriyal(reqem):\n",
    "    faktoriyal = 1\n",
    "    if (reqem == 0 or reqem == 1):\n",
    "        print(\"Faktoriyal\",faktoriyal)\n",
    "    else:\n",
    "        while (reqem >= 1):\n",
    "            faktoriyal *= reqem\n",
    "            reqem -= 1\n",
    "        print(\"Faktoriyal\",faktoriyal)"
   ]
  },
  {
   "cell_type": "code",
   "execution_count": 34,
   "id": "4d38b440",
   "metadata": {},
   "outputs": [
    {
     "name": "stdout",
     "output_type": "stream",
     "text": [
      "Faktoriyal 120\n"
     ]
    }
   ],
   "source": [
    "faktoriyal(5)"
   ]
  },
  {
   "cell_type": "code",
   "execution_count": 37,
   "id": "34e65dc7",
   "metadata": {},
   "outputs": [
    {
     "name": "stdout",
     "output_type": "stream",
     "text": [
      "Faktoriyal 1\n"
     ]
    }
   ],
   "source": [
    "faktoriyal(1)"
   ]
  },
  {
   "cell_type": "code",
   "execution_count": 39,
   "id": "159492bd",
   "metadata": {},
   "outputs": [
    {
     "name": "stdout",
     "output_type": "stream",
     "text": [
      "Faktoriyal 93326215443944152681699238856266700490715968264381621468592963895217599993229915608941463976156518286253697920827223758251185210916864000000000000000000000000\n"
     ]
    }
   ],
   "source": [
    "faktoriyal(100)"
   ]
  },
  {
   "cell_type": "code",
   "execution_count": 41,
   "id": "b9f45845",
   "metadata": {},
   "outputs": [
    {
     "name": "stdout",
     "output_type": "stream",
     "text": [
      "5\n"
     ]
    },
    {
     "ename": "TypeError",
     "evalue": "unsupported operand type(s) for +: 'NoneType' and 'int'",
     "output_type": "error",
     "traceback": [
      "\u001b[1;31m---------------------------------------------------------------------------\u001b[0m",
      "\u001b[1;31mTypeError\u001b[0m                                 Traceback (most recent call last)",
      "\u001b[1;32m<ipython-input-41-5011c4b6e0a0>\u001b[0m in \u001b[0;36m<module>\u001b[1;34m\u001b[0m\n\u001b[1;32m----> 1\u001b[1;33m \u001b[0mprint\u001b[0m\u001b[1;33m(\u001b[0m\u001b[1;36m2\u001b[0m\u001b[1;33m+\u001b[0m\u001b[1;36m3\u001b[0m\u001b[1;33m)\u001b[0m \u001b[1;33m+\u001b[0m \u001b[1;36m5\u001b[0m\u001b[1;33m\u001b[0m\u001b[1;33m\u001b[0m\u001b[0m\n\u001b[0m",
      "\u001b[1;31mTypeError\u001b[0m: unsupported operand type(s) for +: 'NoneType' and 'int'"
     ]
    }
   ],
   "source": [
    "print(2+3) + 5"
   ]
  },
  {
   "cell_type": "code",
   "execution_count": 42,
   "id": "5db69bb1",
   "metadata": {},
   "outputs": [],
   "source": [
    "def topla(a,b,c): # Birinci funksiya\n",
    "    print(\"Cemi:\",a+b+c)\n",
    "\n",
    "def ikivur(a): # IKinci funksiya\n",
    "    print(\"2-ye vurulmus hali: \", a *2)"
   ]
  },
  {
   "cell_type": "code",
   "execution_count": 44,
   "id": "2e0877cf",
   "metadata": {},
   "outputs": [
    {
     "name": "stdout",
     "output_type": "stream",
     "text": [
      "Cemi: 9\n"
     ]
    },
    {
     "data": {
      "text/plain": [
       "NoneType"
      ]
     },
     "execution_count": 44,
     "metadata": {},
     "output_type": "execute_result"
    }
   ],
   "source": [
    "cem = topla(2,3,4)\n",
    "\n",
    "type(cem)"
   ]
  },
  {
   "cell_type": "code",
   "execution_count": 45,
   "id": "f1405476",
   "metadata": {},
   "outputs": [],
   "source": [
    "def topla(a,b,c):\n",
    "    return a+b+c\n",
    "\n",
    "def ikiyevur(a):\n",
    "    return a * 2"
   ]
  },
  {
   "cell_type": "code",
   "execution_count": 48,
   "id": "70f47c16",
   "metadata": {},
   "outputs": [
    {
     "data": {
      "text/plain": [
       "int"
      ]
     },
     "execution_count": 48,
     "metadata": {},
     "output_type": "execute_result"
    }
   ],
   "source": [
    "cem = topla(2,3,4)\n",
    "type(cem)\n"
   ]
  },
  {
   "cell_type": "code",
   "execution_count": null,
   "id": "72560331",
   "metadata": {},
   "outputs": [],
   "source": [
    "soganlar(deyerleri)"
   ]
  },
  {
   "cell_type": "code",
   "execution_count": 53,
   "id": "dbc8af9c",
   "metadata": {},
   "outputs": [],
   "source": [
    "def ucevur(a):\n",
    "    print(\"1.funksiya isledi\")\n",
    "    return a * 3\n",
    "\n",
    "def ikiiletopla(a):\n",
    "    print(\"2. funksiya isledi\")\n",
    "    return a+2\n",
    "    \n",
    "def dordebol(a):\n",
    "    print(\"3. funksiya isledi\")\n",
    "    return a/4\n",
    "\n"
   ]
  },
  {
   "cell_type": "code",
   "execution_count": 54,
   "id": "ff7fa965",
   "metadata": {},
   "outputs": [
    {
     "name": "stdout",
     "output_type": "stream",
     "text": [
      "1.funksiya isledi\n",
      "2. funksiya isledi\n",
      "3. funksiya isledi\n",
      "4.25\n"
     ]
    }
   ],
   "source": [
    "print(dordebol(ikiiletopla(ucevur(5))))"
   ]
  },
  {
   "cell_type": "markdown",
   "id": "79b55868",
   "metadata": {},
   "source": [
    "## return-den sonra yazilacaq hecbir kod icra olunmur!!!"
   ]
  },
  {
   "cell_type": "code",
   "execution_count": 55,
   "id": "184508d4",
   "metadata": {},
   "outputs": [
    {
     "data": {
      "text/plain": [
       "9"
      ]
     },
     "execution_count": 55,
     "metadata": {},
     "output_type": "execute_result"
    }
   ],
   "source": [
    "def hesabla(a,b,c):\n",
    "    return a+b+c\n",
    "    print(\"salam azerbaycan\")\n",
    "    \n",
    "hesabla(2,3,4)"
   ]
  },
  {
   "cell_type": "markdown",
   "id": "973b39a7",
   "metadata": {},
   "source": [
    "#### Funksiyalarda cagrildigi her hans bir deyer geri dondere bilmirse bu funksiyalar VOID funksiyalar deyilir. "
   ]
  },
  {
   "cell_type": "markdown",
   "id": "4afe6646",
   "metadata": {},
   "source": [
    "# Funksiyalarda Parametrin Novleri"
   ]
  },
  {
   "cell_type": "code",
   "execution_count": 56,
   "id": "85a6ff30",
   "metadata": {},
   "outputs": [],
   "source": [
    "def xosgeldin(parametr):\n",
    "    print(\"Salam\",parametr,\"Xosgeldin!\")"
   ]
  },
  {
   "cell_type": "code",
   "execution_count": 57,
   "id": "48db2789",
   "metadata": {},
   "outputs": [
    {
     "name": "stdout",
     "output_type": "stream",
     "text": [
      "Salam Ulvi Xosgeldin!\n"
     ]
    }
   ],
   "source": [
    "xosgeldin(\"Ulvi\")"
   ]
  },
  {
   "cell_type": "code",
   "execution_count": 61,
   "id": "9bf3f9a5",
   "metadata": {},
   "outputs": [],
   "source": [
    "def melumat(ad =\"Melumat yoxdur\",soyad=\"Melumat yoxdur\", nomre = \"Melumat yoxdur\"):\n",
    "    print(\"Ad:\",ad,\"Soyad:\",soyad,\"Nomreniz:\",nomre)"
   ]
  },
  {
   "cell_type": "code",
   "execution_count": 62,
   "id": "b7a3cd50",
   "metadata": {},
   "outputs": [
    {
     "name": "stdout",
     "output_type": "stream",
     "text": [
      "Ad: Melumat yoxdur Soyad: Melumat yoxdur Nomreniz: Melumat yoxdur\n"
     ]
    }
   ],
   "source": [
    "melumat()"
   ]
  },
  {
   "cell_type": "code",
   "execution_count": 63,
   "id": "3bcc0b80",
   "metadata": {},
   "outputs": [
    {
     "name": "stdout",
     "output_type": "stream",
     "text": [
      "Ad: Ulvi Soyad: Melumat yoxdur Nomreniz: Melumat yoxdur\n"
     ]
    }
   ],
   "source": [
    "melumat(\"Ulvi\")"
   ]
  },
  {
   "cell_type": "code",
   "execution_count": 69,
   "id": "77539c45",
   "metadata": {},
   "outputs": [
    {
     "name": "stdout",
     "output_type": "stream",
     "text": [
      "Ad: Ulvi Soyad: Allahverdiyev Nomreniz: 444\n"
     ]
    }
   ],
   "source": [
    "melumat(\"Ulvi\",\"Allahverdiyev\",444)"
   ]
  },
  {
   "cell_type": "code",
   "execution_count": 70,
   "id": "0c4828e2",
   "metadata": {},
   "outputs": [
    {
     "name": "stdout",
     "output_type": "stream",
     "text": [
      "Help on built-in function print in module builtins:\n",
      "\n",
      "print(...)\n",
      "    print(value, ..., sep=' ', end='\\n', file=sys.stdout, flush=False)\n",
      "    \n",
      "    Prints the values to a stream, or to sys.stdout by default.\n",
      "    Optional keyword arguments:\n",
      "    file:  a file-like object (stream); defaults to the current sys.stdout.\n",
      "    sep:   string inserted between values, default a space.\n",
      "    end:   string appended after the last value, default a newline.\n",
      "    flush: whether to forcibly flush the stream.\n",
      "\n"
     ]
    }
   ],
   "source": [
    "help(print)"
   ]
  },
  {
   "cell_type": "code",
   "execution_count": 90,
   "id": "d992259f",
   "metadata": {},
   "outputs": [
    {
     "name": "stdout",
     "output_type": "stream",
     "text": [
      "23salam\n"
     ]
    }
   ],
   "source": [
    "def topla(a,b,c):\n",
    "    print(a+b+c)\n",
    "    \n",
    "topla(\"2\",\"3\",\"salam\")"
   ]
  },
  {
   "cell_type": "code",
   "execution_count": 73,
   "id": "c5c22af1",
   "metadata": {},
   "outputs": [
    {
     "ename": "TypeError",
     "evalue": "topla() missing 1 required positional argument: 'c'",
     "output_type": "error",
     "traceback": [
      "\u001b[1;31m---------------------------------------------------------------------------\u001b[0m",
      "\u001b[1;31mTypeError\u001b[0m                                 Traceback (most recent call last)",
      "\u001b[1;32m<ipython-input-73-a785cbfefecc>\u001b[0m in \u001b[0;36m<module>\u001b[1;34m\u001b[0m\n\u001b[1;32m----> 1\u001b[1;33m \u001b[0mtopla\u001b[0m\u001b[1;33m(\u001b[0m\u001b[1;36m2\u001b[0m\u001b[1;33m,\u001b[0m\u001b[1;36m3\u001b[0m\u001b[1;33m)\u001b[0m\u001b[1;33m\u001b[0m\u001b[1;33m\u001b[0m\u001b[0m\n\u001b[0m",
      "\u001b[1;31mTypeError\u001b[0m: topla() missing 1 required positional argument: 'c'"
     ]
    }
   ],
   "source": [
    "topla(2,3)"
   ]
  },
  {
   "cell_type": "code",
   "execution_count": 88,
   "id": "ceb720dc",
   "metadata": {},
   "outputs": [],
   "source": [
    "def toplama_test(*parametrler):\n",
    "    cem = 0\n",
    "    print(\"Parametrler:\",parametrler)\n",
    "    for i in parametrler:\n",
    "        cem+=i\n",
    "    return cem"
   ]
  },
  {
   "cell_type": "code",
   "execution_count": 84,
   "id": "6301f7dc",
   "metadata": {},
   "outputs": [
    {
     "name": "stdout",
     "output_type": "stream",
     "text": [
      "Parametrler: (3, 4, 5, 6, 7, 8, 9, 10, 11)\n",
      "63\n",
      "None\n"
     ]
    }
   ],
   "source": [
    "print(toplama(3,4,5,6,7,8,9,10,11))"
   ]
  },
  {
   "cell_type": "code",
   "execution_count": 87,
   "id": "9a2c7334",
   "metadata": {},
   "outputs": [
    {
     "name": "stdout",
     "output_type": "stream",
     "text": [
      "Parametrler: (1, 2)\n",
      "3\n"
     ]
    }
   ],
   "source": [
    "print(toplama_test(1,2))"
   ]
  },
  {
   "cell_type": "markdown",
   "id": "8bb4a1ac",
   "metadata": {},
   "source": [
    "## Global ve Local(yerli) deyisenler"
   ]
  },
  {
   "cell_type": "code",
   "execution_count": 91,
   "id": "39ed2745",
   "metadata": {},
   "outputs": [],
   "source": [
    "def funksiyam():\n",
    "    a = 5\n",
    "    print(a)"
   ]
  },
  {
   "cell_type": "code",
   "execution_count": 92,
   "id": "2ea27f80",
   "metadata": {},
   "outputs": [
    {
     "name": "stdout",
     "output_type": "stream",
     "text": [
      "5\n"
     ]
    }
   ],
   "source": [
    "funksiyam()"
   ]
  },
  {
   "cell_type": "code",
   "execution_count": 93,
   "id": "ed21c0a3",
   "metadata": {},
   "outputs": [
    {
     "ename": "NameError",
     "evalue": "name 'a' is not defined",
     "output_type": "error",
     "traceback": [
      "\u001b[1;31m---------------------------------------------------------------------------\u001b[0m",
      "\u001b[1;31mNameError\u001b[0m                                 Traceback (most recent call last)",
      "\u001b[1;32m<ipython-input-93-3f786850e387>\u001b[0m in \u001b[0;36m<module>\u001b[1;34m\u001b[0m\n\u001b[1;32m----> 1\u001b[1;33m \u001b[0ma\u001b[0m\u001b[1;33m\u001b[0m\u001b[1;33m\u001b[0m\u001b[0m\n\u001b[0m",
      "\u001b[1;31mNameError\u001b[0m: name 'a' is not defined"
     ]
    }
   ],
   "source": [
    "a"
   ]
  },
  {
   "cell_type": "code",
   "execution_count": 94,
   "id": "8be9e66b",
   "metadata": {},
   "outputs": [
    {
     "name": "stdout",
     "output_type": "stream",
     "text": [
      "5\n"
     ]
    }
   ],
   "source": [
    "a = 5\n",
    "\n",
    "def funksiyam():\n",
    "    print(a)\n",
    "\n",
    "funksiyam()"
   ]
  },
  {
   "cell_type": "code",
   "execution_count": 100,
   "id": "e22e7644",
   "metadata": {},
   "outputs": [
    {
     "ename": "NameError",
     "evalue": "name 's' is not defined",
     "output_type": "error",
     "traceback": [
      "\u001b[1;31m---------------------------------------------------------------------------\u001b[0m",
      "\u001b[1;31mNameError\u001b[0m                                 Traceback (most recent call last)",
      "\u001b[1;32m<ipython-input-100-08dd18d61713>\u001b[0m in \u001b[0;36m<module>\u001b[1;34m\u001b[0m\n\u001b[0;32m      2\u001b[0m     \u001b[0mprint\u001b[0m\u001b[1;33m(\u001b[0m\u001b[0ms\u001b[0m\u001b[1;33m)\u001b[0m\u001b[1;33m\u001b[0m\u001b[1;33m\u001b[0m\u001b[0m\n\u001b[0;32m      3\u001b[0m \u001b[1;33m\u001b[0m\u001b[0m\n\u001b[1;32m----> 4\u001b[1;33m \u001b[0mfunksiyam\u001b[0m\u001b[1;33m(\u001b[0m\u001b[1;33m)\u001b[0m\u001b[1;33m\u001b[0m\u001b[1;33m\u001b[0m\u001b[0m\n\u001b[0m\u001b[0;32m      5\u001b[0m \u001b[0ms\u001b[0m \u001b[1;33m=\u001b[0m \u001b[1;34m\"Python\"\u001b[0m\u001b[1;33m\u001b[0m\u001b[1;33m\u001b[0m\u001b[0m\n",
      "\u001b[1;32m<ipython-input-100-08dd18d61713>\u001b[0m in \u001b[0;36mfunksiyam\u001b[1;34m()\u001b[0m\n\u001b[0;32m      1\u001b[0m \u001b[1;32mdef\u001b[0m \u001b[0mfunksiyam\u001b[0m\u001b[1;33m(\u001b[0m\u001b[1;33m)\u001b[0m\u001b[1;33m:\u001b[0m\u001b[1;33m\u001b[0m\u001b[1;33m\u001b[0m\u001b[0m\n\u001b[1;32m----> 2\u001b[1;33m     \u001b[0mprint\u001b[0m\u001b[1;33m(\u001b[0m\u001b[0ms\u001b[0m\u001b[1;33m)\u001b[0m\u001b[1;33m\u001b[0m\u001b[1;33m\u001b[0m\u001b[0m\n\u001b[0m\u001b[0;32m      3\u001b[0m \u001b[1;33m\u001b[0m\u001b[0m\n\u001b[0;32m      4\u001b[0m \u001b[0mfunksiyam\u001b[0m\u001b[1;33m(\u001b[0m\u001b[1;33m)\u001b[0m\u001b[1;33m\u001b[0m\u001b[1;33m\u001b[0m\u001b[0m\n\u001b[0;32m      5\u001b[0m \u001b[0ms\u001b[0m \u001b[1;33m=\u001b[0m \u001b[1;34m\"Python\"\u001b[0m\u001b[1;33m\u001b[0m\u001b[1;33m\u001b[0m\u001b[0m\n",
      "\u001b[1;31mNameError\u001b[0m: name 's' is not defined"
     ]
    }
   ],
   "source": [
    "def funksiyam():\n",
    "    print(s)\n",
    "    \n",
    "funksiyam()\n",
    "s = \"Python\""
   ]
  },
  {
   "cell_type": "code",
   "execution_count": 101,
   "id": "db00b657",
   "metadata": {},
   "outputs": [],
   "source": [
    "a = 10"
   ]
  },
  {
   "cell_type": "code",
   "execution_count": 102,
   "id": "b70ab0cf",
   "metadata": {},
   "outputs": [
    {
     "data": {
      "text/plain": [
       "10"
      ]
     },
     "execution_count": 102,
     "metadata": {},
     "output_type": "execute_result"
    }
   ],
   "source": [
    "a"
   ]
  },
  {
   "cell_type": "code",
   "execution_count": 103,
   "id": "8f7d8e78",
   "metadata": {},
   "outputs": [],
   "source": [
    "del a"
   ]
  },
  {
   "cell_type": "code",
   "execution_count": 104,
   "id": "023caee6",
   "metadata": {},
   "outputs": [
    {
     "ename": "NameError",
     "evalue": "name 'a' is not defined",
     "output_type": "error",
     "traceback": [
      "\u001b[1;31m---------------------------------------------------------------------------\u001b[0m",
      "\u001b[1;31mNameError\u001b[0m                                 Traceback (most recent call last)",
      "\u001b[1;32m<ipython-input-104-3f786850e387>\u001b[0m in \u001b[0;36m<module>\u001b[1;34m\u001b[0m\n\u001b[1;32m----> 1\u001b[1;33m \u001b[0ma\u001b[0m\u001b[1;33m\u001b[0m\u001b[1;33m\u001b[0m\u001b[0m\n\u001b[0m",
      "\u001b[1;31mNameError\u001b[0m: name 'a' is not defined"
     ]
    }
   ],
   "source": [
    "a"
   ]
  },
  {
   "cell_type": "code",
   "execution_count": 106,
   "id": "80c9c8e9",
   "metadata": {},
   "outputs": [
    {
     "name": "stdout",
     "output_type": "stream",
     "text": [
      "Localdan cixir: 2\n",
      "Globaldan cixan deyer: 10\n"
     ]
    }
   ],
   "source": [
    "c = 10 # Globalda teyin olunmus bir deyisen\n",
    "\n",
    "def funksiya():\n",
    "    c = 2 # Localda teyin olunmus bir deyisen\n",
    "    print(\"Localdan cixir:\",c)\n",
    "funksiya()\n",
    "print(\"Globaldan cixan deyer:\",c)"
   ]
  },
  {
   "cell_type": "code",
   "execution_count": 107,
   "id": "1a7284e2",
   "metadata": {},
   "outputs": [
    {
     "name": "stdout",
     "output_type": "stream",
     "text": [
      "4\n",
      "4\n"
     ]
    }
   ],
   "source": [
    "d = 10 \n",
    "\n",
    "def funksiya():\n",
    "    global d\n",
    "    \n",
    "    d = 4\n",
    "    print(d)\n",
    "funksiya()\n",
    "print(d)"
   ]
  },
  {
   "cell_type": "code",
   "execution_count": 108,
   "id": "2e229f87",
   "metadata": {},
   "outputs": [
    {
     "name": "stdout",
     "output_type": "stream",
     "text": [
      "10\n",
      "10\n"
     ]
    }
   ],
   "source": [
    "if True:\n",
    "    t = 10\n",
    "    print(t)\n",
    "\n",
    "print(t)"
   ]
  },
  {
   "cell_type": "code",
   "execution_count": 110,
   "id": "b7b39bd3",
   "metadata": {},
   "outputs": [
    {
     "name": "stdout",
     "output_type": "stream",
     "text": [
      "10\n",
      "10\n"
     ]
    }
   ],
   "source": [
    "while True:\n",
    "    eded = 10\n",
    "    print(eded)\n",
    "    break\n",
    "\n",
    "    \n",
    "    \n",
    "print(eded)"
   ]
  },
  {
   "cell_type": "code",
   "execution_count": 113,
   "id": "2c9034b2",
   "metadata": {},
   "outputs": [
    {
     "name": "stdout",
     "output_type": "stream",
     "text": [
      "0\n",
      "1\n",
      "2\n",
      "3\n",
      "4\n",
      "5\n",
      "6\n",
      "7\n",
      "8\n",
      "9\n"
     ]
    }
   ],
   "source": [
    "for i in range(10):\n",
    "    if True:\n",
    "        pass\n",
    "    print(i)"
   ]
  },
  {
   "cell_type": "code",
   "execution_count": 112,
   "id": "32385b40",
   "metadata": {},
   "outputs": [],
   "source": [
    "# namespace"
   ]
  },
  {
   "cell_type": "markdown",
   "id": "14cec548",
   "metadata": {},
   "source": [
    "# Lambda ifadeleri"
   ]
  },
  {
   "cell_type": "code",
   "execution_count": 114,
   "id": "b446a898",
   "metadata": {},
   "outputs": [
    {
     "name": "stdout",
     "output_type": "stream",
     "text": [
      "[2, 4, 6, 8, 10]\n"
     ]
    }
   ],
   "source": [
    "list1 = [1,2,3,4,5]\n",
    "list2 = list()\n",
    "\n",
    "for i in list1:\n",
    "    list2.append(i*2)\n",
    "print(list2)"
   ]
  },
  {
   "cell_type": "code",
   "execution_count": 115,
   "id": "557c9df2",
   "metadata": {},
   "outputs": [
    {
     "name": "stdout",
     "output_type": "stream",
     "text": [
      "[2, 4, 6, 8, 10]\n"
     ]
    }
   ],
   "source": [
    "list3 = [1,2,3,4,5]\n",
    "list4 = [i*2 for i in list3] # List Comprehension!\n",
    "print(list4)"
   ]
  },
  {
   "cell_type": "markdown",
   "id": "25d61d0b",
   "metadata": {},
   "source": [
    "#### etiket = lambda parametr1,parametr2.... : Emeliyyat"
   ]
  },
  {
   "cell_type": "code",
   "execution_count": 116,
   "id": "00cd1868",
   "metadata": {},
   "outputs": [],
   "source": [
    "def ikiyevur(x):\n",
    "    return x * 2"
   ]
  },
  {
   "cell_type": "code",
   "execution_count": 117,
   "id": "ea8eff94",
   "metadata": {},
   "outputs": [
    {
     "data": {
      "text/plain": [
       "4"
      ]
     },
     "execution_count": 117,
     "metadata": {},
     "output_type": "execute_result"
    }
   ],
   "source": [
    "ikiyevur(2)"
   ]
  },
  {
   "cell_type": "code",
   "execution_count": 118,
   "id": "bc9e3399",
   "metadata": {},
   "outputs": [],
   "source": [
    "yeni_funksiya = lambda x: x * 2 #parametr x *2 return ifadesi ve ikiye vuran bir ifade yaratdi"
   ]
  },
  {
   "cell_type": "code",
   "execution_count": 121,
   "id": "b6faa056",
   "metadata": {},
   "outputs": [
    {
     "data": {
      "text/plain": [
       "90"
      ]
     },
     "execution_count": 121,
     "metadata": {},
     "output_type": "execute_result"
    }
   ],
   "source": [
    "yeni_funksiya(45)"
   ]
  },
  {
   "cell_type": "code",
   "execution_count": 122,
   "id": "c97b2652",
   "metadata": {},
   "outputs": [],
   "source": [
    "toplama = lambda x,y,z: x+y+z"
   ]
  },
  {
   "cell_type": "code",
   "execution_count": 123,
   "id": "549bd66f",
   "metadata": {},
   "outputs": [
    {
     "data": {
      "text/plain": [
       "69"
      ]
     },
     "execution_count": 123,
     "metadata": {},
     "output_type": "execute_result"
    }
   ],
   "source": [
    "toplama(1,23,45)"
   ]
  },
  {
   "cell_type": "code",
   "execution_count": 124,
   "id": "520a32bd",
   "metadata": {},
   "outputs": [],
   "source": [
    "def tersinecevir(s):\n",
    "    return s[::-1]"
   ]
  },
  {
   "cell_type": "code",
   "execution_count": 126,
   "id": "dcd6d154",
   "metadata": {},
   "outputs": [
    {
     "name": "stdout",
     "output_type": "stream",
     "text": [
      "pmactooB amridsalmarqorP nohtyP\n"
     ]
    }
   ],
   "source": [
    "print(tersinecevir(\"Python Proqramlasdirma Bootcamp\"))"
   ]
  },
  {
   "cell_type": "code",
   "execution_count": 127,
   "id": "caa67c64",
   "metadata": {},
   "outputs": [],
   "source": [
    "ters = lambda s: s[::-1]"
   ]
  },
  {
   "cell_type": "code",
   "execution_count": 128,
   "id": "e12d2001",
   "metadata": {},
   "outputs": [
    {
     "data": {
      "text/plain": [
       "'ivlU malaS'"
      ]
     },
     "execution_count": 128,
     "metadata": {},
     "output_type": "execute_result"
    }
   ],
   "source": [
    "ters(\"Salam Ulvi\")"
   ]
  },
  {
   "cell_type": "code",
   "execution_count": 129,
   "id": "5fd66bfb",
   "metadata": {},
   "outputs": [],
   "source": [
    "def cut_reqemdirmi(reqem):\n",
    "    return (reqem % 2 == 0)"
   ]
  },
  {
   "cell_type": "code",
   "execution_count": 132,
   "id": "516ba46f",
   "metadata": {},
   "outputs": [
    {
     "data": {
      "text/plain": [
       "True"
      ]
     },
     "execution_count": 132,
     "metadata": {},
     "output_type": "execute_result"
    }
   ],
   "source": [
    "cut_reqemdirmi(12)"
   ]
  },
  {
   "cell_type": "code",
   "execution_count": 133,
   "id": "8e8bb471",
   "metadata": {},
   "outputs": [
    {
     "name": "stdout",
     "output_type": "stream",
     "text": [
      "False\n"
     ]
    }
   ],
   "source": [
    "print(cut_reqemdirmi(11))"
   ]
  },
  {
   "cell_type": "code",
   "execution_count": 134,
   "id": "3d9e742b",
   "metadata": {},
   "outputs": [],
   "source": [
    "cuttek = lambda reqem: reqem % 2 == 0"
   ]
  },
  {
   "cell_type": "code",
   "execution_count": 135,
   "id": "7ee7803f",
   "metadata": {},
   "outputs": [
    {
     "data": {
      "text/plain": [
       "False"
      ]
     },
     "execution_count": 135,
     "metadata": {},
     "output_type": "execute_result"
    }
   ],
   "source": [
    "cuttek(45)"
   ]
  },
  {
   "cell_type": "code",
   "execution_count": 136,
   "id": "a390d134",
   "metadata": {},
   "outputs": [
    {
     "data": {
      "text/plain": [
       "True"
      ]
     },
     "execution_count": 136,
     "metadata": {},
     "output_type": "execute_result"
    }
   ],
   "source": [
    "cuttek(44)"
   ]
  },
  {
   "cell_type": "code",
   "execution_count": 137,
   "id": "3b2fcc55",
   "metadata": {},
   "outputs": [],
   "source": [
    "# Ozel reqemi tapma funksiyasi yazaq! Ozel reqem odurku yalniz 1 ve ozune bolunur!"
   ]
  },
  {
   "cell_type": "code",
   "execution_count": 139,
   "id": "802b2f12",
   "metadata": {},
   "outputs": [
    {
     "name": "stdout",
     "output_type": "stream",
     "text": [
      "Reqem: 7\n",
      "7 bir ozel reqemdir\n",
      "Reqem: 13\n",
      "13 bir ozel reqemdir\n",
      "Reqem: 37\n",
      "37 bir ozel reqemdir\n",
      "Reqem: 36\n",
      "36 bir ozel reqem deyil!\n",
      "Reqem: 24\n",
      "24 bir ozel reqem deyil!\n",
      "Reqem: 14\n",
      "14 bir ozel reqem deyil!\n",
      "Reqem: 15\n",
      "15 bir ozel reqem deyil!\n",
      "Reqem: q\n"
     ]
    }
   ],
   "source": [
    "def ozel(reqem):\n",
    "    if (reqem == 1):\n",
    "        return False\n",
    "    elif (reqem == 2):\n",
    "        return True\n",
    "    else:\n",
    "        for i in range(2,reqem):\n",
    "            if (reqem % i == 0):\n",
    "                return False\n",
    "        return True\n",
    "\n",
    "while True:\n",
    "    reqem = input(\"Reqem: \")\n",
    "    \n",
    "    if (reqem == \"q\"):\n",
    "        break\n",
    "    else:\n",
    "        reqem = int(reqem)\n",
    "        \n",
    "        if (ozel(reqem)):\n",
    "            print(reqem,\"bir ozel reqemdir\")\n",
    "        else:\n",
    "            print(reqem,\"bir ozel reqem deyil!\")"
   ]
  },
  {
   "cell_type": "code",
   "execution_count": 143,
   "id": "b4ada5b0",
   "metadata": {},
   "outputs": [
    {
     "name": "stdout",
     "output_type": "stream",
     "text": [
      "reqem: 34\n",
      "34 -nin tam bolenleri [2, 17]: \n",
      "reqem: q\n",
      "Proqramdan cixilir...\n"
     ]
    }
   ],
   "source": [
    "def tambolenlerinitapma(reqem):\n",
    "    tam_bolenler = []\n",
    "    \n",
    "    for i in range(2,reqem):\n",
    "        \n",
    "        if (reqem % i == 0):\n",
    "            tam_bolenler.append(i)\n",
    "    return tam_bolenler\n",
    "\n",
    "while True:\n",
    "    reqem = input(\"reqem: \")\n",
    "    \n",
    "    if (reqem == \"q\"):\n",
    "        print(\"Proqramdan cixilir...\")\n",
    "        break\n",
    "    else:\n",
    "        reqem = int(reqem)\n",
    "        \n",
    "        print(\"{} -nin tam bolenleri {}: \".format(reqem,tambolenlerinitapma(reqem)))"
   ]
  },
  {
   "cell_type": "code",
   "execution_count": null,
   "id": "fb01cbf4",
   "metadata": {},
   "outputs": [],
   "source": []
  },
  {
   "cell_type": "code",
   "execution_count": null,
   "id": "8158c42e",
   "metadata": {},
   "outputs": [],
   "source": []
  },
  {
   "cell_type": "code",
   "execution_count": null,
   "id": "7c90120b",
   "metadata": {},
   "outputs": [],
   "source": []
  },
  {
   "cell_type": "code",
   "execution_count": null,
   "id": "b0af15e3",
   "metadata": {},
   "outputs": [],
   "source": []
  }
 ],
 "metadata": {
  "kernelspec": {
   "display_name": "Python 3",
   "language": "python",
   "name": "python3"
  },
  "language_info": {
   "codemirror_mode": {
    "name": "ipython",
    "version": 3
   },
   "file_extension": ".py",
   "mimetype": "text/x-python",
   "name": "python",
   "nbconvert_exporter": "python",
   "pygments_lexer": "ipython3",
   "version": "3.8.8"
  }
 },
 "nbformat": 4,
 "nbformat_minor": 5
}
