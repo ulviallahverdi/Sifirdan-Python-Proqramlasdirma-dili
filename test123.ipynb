{
 "cells": [
  {
   "cell_type": "markdown",
   "id": "d5c2c735",
   "metadata": {},
   "source": [
    "# map funksiyasi"
   ]
  },
  {
   "cell_type": "code",
   "execution_count": 1,
   "id": "cb54a9bd",
   "metadata": {},
   "outputs": [],
   "source": [
    "def double(x):\n",
    "    return x * 2"
   ]
  },
  {
   "cell_type": "code",
   "execution_count": 2,
   "id": "6638cfad",
   "metadata": {},
   "outputs": [
    {
     "data": {
      "text/plain": [
       "<map at 0x25f1445bac0>"
      ]
     },
     "execution_count": 2,
     "metadata": {},
     "output_type": "execute_result"
    }
   ],
   "source": [
    "map(double,[1,2,3,4,5,6,7])"
   ]
  },
  {
   "cell_type": "code",
   "execution_count": 3,
   "id": "6650b7f6",
   "metadata": {},
   "outputs": [
    {
     "data": {
      "text/plain": [
       "[2, 4, 6, 8, 10, 12, 14]"
      ]
     },
     "execution_count": 3,
     "metadata": {},
     "output_type": "execute_result"
    }
   ],
   "source": [
    "list(map(double,[1,2,3,4,5,6,7]))"
   ]
  },
  {
   "cell_type": "code",
   "execution_count": 4,
   "id": "a7d3abd9",
   "metadata": {},
   "outputs": [
    {
     "data": {
      "text/plain": [
       "<map at 0x25f15580190>"
      ]
     },
     "execution_count": 4,
     "metadata": {},
     "output_type": "execute_result"
    }
   ],
   "source": [
    "map(lambda x: x ** 2,[1,2,3,4,5,6,7])"
   ]
  },
  {
   "cell_type": "code",
   "execution_count": 5,
   "id": "ca19d855",
   "metadata": {},
   "outputs": [
    {
     "data": {
      "text/plain": [
       "[1, 4, 9, 16, 25, 36, 49]"
      ]
     },
     "execution_count": 5,
     "metadata": {},
     "output_type": "execute_result"
    }
   ],
   "source": [
    "list(map(lambda x: x ** 2,[1,2,3,4,5,6,7]))"
   ]
  },
  {
   "cell_type": "code",
   "execution_count": 6,
   "id": "e819af94",
   "metadata": {},
   "outputs": [
    {
     "data": {
      "text/plain": [
       "<map at 0x25f155f2d90>"
      ]
     },
     "execution_count": 6,
     "metadata": {},
     "output_type": "execute_result"
    }
   ],
   "source": [
    "list1 = [1,2,3,4]\n",
    "list2 = [5,6,7,8]\n",
    "list3 = [9,10,11,12,13]\n",
    "\n",
    "map(lambda x,y : x * y, list1,list2)"
   ]
  },
  {
   "cell_type": "code",
   "execution_count": 7,
   "id": "a3c7e32c",
   "metadata": {},
   "outputs": [
    {
     "data": {
      "text/plain": [
       "[5, 12, 21, 32]"
      ]
     },
     "execution_count": 7,
     "metadata": {},
     "output_type": "execute_result"
    }
   ],
   "source": [
    "list(map(lambda x,y : x * y , list1, list2))"
   ]
  },
  {
   "cell_type": "code",
   "execution_count": 8,
   "id": "a0ed87cd",
   "metadata": {},
   "outputs": [
    {
     "data": {
      "text/plain": [
       "[14, 22, 32, 44]"
      ]
     },
     "execution_count": 8,
     "metadata": {},
     "output_type": "execute_result"
    }
   ],
   "source": [
    "list(map(lambda x,y,z : x * y + z , list1, list2, list3))"
   ]
  },
  {
   "cell_type": "markdown",
   "id": "0a163b76",
   "metadata": {},
   "source": [
    "# reduce"
   ]
  },
  {
   "cell_type": "code",
   "execution_count": 9,
   "id": "e688bf76",
   "metadata": {},
   "outputs": [],
   "source": [
    "from functools import reduce"
   ]
  },
  {
   "cell_type": "code",
   "execution_count": 10,
   "id": "20751cc2",
   "metadata": {},
   "outputs": [
    {
     "data": {
      "text/plain": [
       "60"
      ]
     },
     "execution_count": 10,
     "metadata": {},
     "output_type": "execute_result"
    }
   ],
   "source": [
    "reduce(lambda x,y : x + y, [12,18,20,10])"
   ]
  },
  {
   "cell_type": "code",
   "execution_count": 11,
   "id": "ebabc9ce",
   "metadata": {},
   "outputs": [
    {
     "data": {
      "text/plain": [
       "120"
      ]
     },
     "execution_count": 11,
     "metadata": {},
     "output_type": "execute_result"
    }
   ],
   "source": [
    "reduce(lambda x,y : x * y, [1,2,3,4,5])"
   ]
  },
  {
   "cell_type": "code",
   "execution_count": 12,
   "id": "9398ee99",
   "metadata": {},
   "outputs": [
    {
     "data": {
      "text/plain": [
       "9"
      ]
     },
     "execution_count": 12,
     "metadata": {},
     "output_type": "execute_result"
    }
   ],
   "source": [
    "max([1,2,3,4,5,6,7,8,9])"
   ]
  },
  {
   "cell_type": "code",
   "execution_count": 13,
   "id": "7e1430ad",
   "metadata": {},
   "outputs": [
    {
     "data": {
      "text/plain": [
       "100"
      ]
     },
     "execution_count": 13,
     "metadata": {},
     "output_type": "execute_result"
    }
   ],
   "source": [
    "def maksimum(x,y):\n",
    "    if (x>y):\n",
    "        return x\n",
    "    else:\n",
    "        return y\n",
    "reduce(maksimum, [-2,1,100,35,32])"
   ]
  },
  {
   "cell_type": "markdown",
   "id": "bcef2413",
   "metadata": {},
   "source": [
    "# filter funksiyasi"
   ]
  },
  {
   "cell_type": "code",
   "execution_count": 14,
   "id": "80101a95",
   "metadata": {},
   "outputs": [
    {
     "data": {
      "text/plain": [
       "<filter at 0x25f1609cb20>"
      ]
     },
     "execution_count": 14,
     "metadata": {},
     "output_type": "execute_result"
    }
   ],
   "source": [
    "filter(lambda x: x % 2 ==0, [1,2,3,4,5,6,7,8,9,10])"
   ]
  },
  {
   "cell_type": "code",
   "execution_count": 15,
   "id": "cb34f81a",
   "metadata": {},
   "outputs": [
    {
     "data": {
      "text/plain": [
       "[2, 4, 6, 8, 10]"
      ]
     },
     "execution_count": 15,
     "metadata": {},
     "output_type": "execute_result"
    }
   ],
   "source": [
    "list(filter(lambda x: x % 2 ==0, [1,2,3,4,5,6,7,8,9,10]))"
   ]
  },
  {
   "cell_type": "code",
   "execution_count": 60,
   "id": "50060584",
   "metadata": {},
   "outputs": [],
   "source": [
    "def test(x):\n",
    "    i = 2\n",
    "    if (x == 1):\n",
    "        return False # ozel reqem deyil\n",
    "    elif (x == 2):\n",
    "        return True # ozel reqemdir\n",
    "    else:\n",
    "        while (i < x):\n",
    "            if ( x % i == 0):\n",
    "                return False # ozel reqem deyil\n",
    "            i += 1\n",
    "    return True"
   ]
  },
  {
   "cell_type": "code",
   "execution_count": 58,
   "id": "03a2fd31",
   "metadata": {},
   "outputs": [
    {
     "data": {
      "text/plain": [
       "False"
      ]
     },
     "execution_count": 58,
     "metadata": {},
     "output_type": "execute_result"
    }
   ],
   "source": [
    "test(1)"
   ]
  },
  {
   "cell_type": "code",
   "execution_count": 59,
   "id": "890d0c40",
   "metadata": {},
   "outputs": [
    {
     "data": {
      "text/plain": [
       "False"
      ]
     },
     "execution_count": 59,
     "metadata": {},
     "output_type": "execute_result"
    }
   ],
   "source": [
    "test(71)"
   ]
  },
  {
   "cell_type": "code",
   "execution_count": 20,
   "id": "8bbab1cf",
   "metadata": {},
   "outputs": [
    {
     "data": {
      "text/plain": [
       "<filter at 0x25f16099970>"
      ]
     },
     "execution_count": 20,
     "metadata": {},
     "output_type": "execute_result"
    }
   ],
   "source": [
    "filter(test,range(1,100))"
   ]
  },
  {
   "cell_type": "code",
   "execution_count": 21,
   "id": "af5c6dba",
   "metadata": {},
   "outputs": [
    {
     "data": {
      "text/plain": [
       "[2,\n",
       " 3,\n",
       " 5,\n",
       " 7,\n",
       " 11,\n",
       " 13,\n",
       " 17,\n",
       " 19,\n",
       " 23,\n",
       " 29,\n",
       " 31,\n",
       " 37,\n",
       " 41,\n",
       " 43,\n",
       " 47,\n",
       " 53,\n",
       " 59,\n",
       " 61,\n",
       " 67,\n",
       " 71,\n",
       " 73,\n",
       " 79,\n",
       " 83,\n",
       " 89,\n",
       " 97]"
      ]
     },
     "execution_count": 21,
     "metadata": {},
     "output_type": "execute_result"
    }
   ],
   "source": [
    "list(filter(test,range(1,100)))"
   ]
  },
  {
   "cell_type": "markdown",
   "id": "32c7f2b0",
   "metadata": {},
   "source": [
    "# zip funksiyasi"
   ]
  },
  {
   "cell_type": "code",
   "execution_count": null,
   "id": "cb09f363",
   "metadata": {},
   "outputs": [],
   "source": [
    "list1 = [1,2,3,4,5]\n",
    "list2 = [6,7,8,9,10,11]\n",
    "\n",
    "# neticesi bele olsun: [(1,6),(2,7),(3,8),(4,9),(5,10)]"
   ]
  },
  {
   "cell_type": "code",
   "execution_count": 22,
   "id": "00c5c7de",
   "metadata": {},
   "outputs": [
    {
     "name": "stdout",
     "output_type": "stream",
     "text": [
      "[(1, 5), (2, 6), (3, 7), (4, 8)]\n"
     ]
    }
   ],
   "source": [
    "i =0\n",
    "netice = list()\n",
    "while (i < len(list1) and i < len(list2)):\n",
    "    netice.append((list1[i],list2[i]))\n",
    "    i+=1\n",
    "print(netice)"
   ]
  },
  {
   "cell_type": "code",
   "execution_count": 23,
   "id": "89f8af61",
   "metadata": {},
   "outputs": [
    {
     "data": {
      "text/plain": [
       "<zip at 0x25f15d8ba00>"
      ]
     },
     "execution_count": 23,
     "metadata": {},
     "output_type": "execute_result"
    }
   ],
   "source": [
    "zip(list1,list2)"
   ]
  },
  {
   "cell_type": "code",
   "execution_count": 24,
   "id": "ee5ccb7e",
   "metadata": {},
   "outputs": [
    {
     "data": {
      "text/plain": [
       "[(1, 5), (2, 6), (3, 7), (4, 8)]"
      ]
     },
     "execution_count": 24,
     "metadata": {},
     "output_type": "execute_result"
    }
   ],
   "source": [
    "list(zip(list1,list2))"
   ]
  },
  {
   "cell_type": "code",
   "execution_count": 26,
   "id": "576036fb",
   "metadata": {},
   "outputs": [
    {
     "data": {
      "text/plain": [
       "[(1, 6, 'Java'), (2, 7, 'Python'), (3, 8, 'C'), (4, 9, 'Javascript')]"
      ]
     },
     "execution_count": 26,
     "metadata": {},
     "output_type": "execute_result"
    }
   ],
   "source": [
    "list1 = [1,2,3,4,5]\n",
    "list2 = [6,7,8,9,10,11]\n",
    "list3 = [\"Java\",\"Python\",\"C\",\"Javascript\"]\n",
    "\n",
    "list(zip(list1,list2,list3))"
   ]
  },
  {
   "cell_type": "code",
   "execution_count": 27,
   "id": "90525966",
   "metadata": {},
   "outputs": [],
   "source": [
    "luget1 = {\"Alma\":1,\"Armud\":2,\"Gilas\":3}\n",
    "luget2 = {\"Sifir\":0,\"Bir\":1,\"Iki\":2}"
   ]
  },
  {
   "cell_type": "code",
   "execution_count": 28,
   "id": "39d4da27",
   "metadata": {},
   "outputs": [
    {
     "data": {
      "text/plain": [
       "[('Alma', 'Sifir'), ('Armud', 'Bir'), ('Gilas', 'Iki')]"
      ]
     },
     "execution_count": 28,
     "metadata": {},
     "output_type": "execute_result"
    }
   ],
   "source": [
    "list(zip(luget1,luget2))"
   ]
  },
  {
   "cell_type": "code",
   "execution_count": 29,
   "id": "94e5be8f",
   "metadata": {},
   "outputs": [
    {
     "data": {
      "text/plain": [
       "[(1, 0), (2, 1), (3, 2)]"
      ]
     },
     "execution_count": 29,
     "metadata": {},
     "output_type": "execute_result"
    }
   ],
   "source": [
    "list(zip(luget1.values(),luget2.values()))"
   ]
  },
  {
   "cell_type": "code",
   "execution_count": 30,
   "id": "2b918cad",
   "metadata": {},
   "outputs": [
    {
     "data": {
      "text/plain": [
       "dict_items([('Alma', 1), ('Armud', 2), ('Gilas', 3)])"
      ]
     },
     "execution_count": 30,
     "metadata": {},
     "output_type": "execute_result"
    }
   ],
   "source": [
    "luget1.items()"
   ]
  },
  {
   "cell_type": "markdown",
   "id": "d5aa35fd",
   "metadata": {},
   "source": [
    "## enumerate()"
   ]
  },
  {
   "cell_type": "code",
   "execution_count": 31,
   "id": "3e573fde",
   "metadata": {},
   "outputs": [
    {
     "name": "stdout",
     "output_type": "stream",
     "text": [
      "[(0, 'Alma'), (1, 'Armud'), (2, 'Banan'), (3, 'Gilas')]\n"
     ]
    }
   ],
   "source": [
    "listim = [\"Alma\",\"Armud\",\"Banan\",\"Gilas\"]\n",
    "\n",
    "# neticesi bele olsun: [(0,\"Alma\"),(1,\"Armud\")...]\n",
    "\n",
    "netice = list()\n",
    "\n",
    "i = 0\n",
    "for a in listim:\n",
    "    netice.append((i,a))\n",
    "    i+=1\n",
    "print(netice)"
   ]
  },
  {
   "cell_type": "code",
   "execution_count": 32,
   "id": "ac31dff8",
   "metadata": {},
   "outputs": [
    {
     "data": {
      "text/plain": [
       "[(0, 'Alma'), (1, 'Armud'), (2, 'Banan'), (3, 'Gilas')]"
      ]
     },
     "execution_count": 32,
     "metadata": {},
     "output_type": "execute_result"
    }
   ],
   "source": [
    "listim = [\"Alma\",\"Armud\",\"Banan\",\"Gilas\"]\n",
    "list(enumerate(listim))"
   ]
  },
  {
   "cell_type": "code",
   "execution_count": 37,
   "id": "0fa05a93",
   "metadata": {},
   "outputs": [
    {
     "name": "stdout",
     "output_type": "stream",
     "text": [
      "Deyer:  a\n",
      "Deyer:  c\n",
      "Deyer:  e\n",
      "Deyer:  g\n"
     ]
    }
   ],
   "source": [
    "list1 = [\"a\",\"b\",\"c\",\"d\",\"e\",\"f\",\"g\"]\n",
    "\n",
    "for index,deyer in enumerate(list1):\n",
    "    if (index % 2 == 0):\n",
    "        print(\"Deyer: \",deyer)"
   ]
  },
  {
   "cell_type": "markdown",
   "id": "170fd0f1",
   "metadata": {},
   "source": [
    "# All ve Any funksiyalari"
   ]
  },
  {
   "cell_type": "code",
   "execution_count": 43,
   "id": "c7600fb5",
   "metadata": {},
   "outputs": [],
   "source": [
    "def hamisi(listim):\n",
    "    for i in listim:\n",
    "        if not i:\n",
    "            return False\n",
    "    return True\n",
    "# Butun deyerler True-dursa en az biri False-dursa False geri dondurmek isteyirem\n",
    "listim = [True,False,True,True,False,True,False]"
   ]
  },
  {
   "cell_type": "code",
   "execution_count": 44,
   "id": "85993b37",
   "metadata": {},
   "outputs": [
    {
     "data": {
      "text/plain": [
       "False"
      ]
     },
     "execution_count": 44,
     "metadata": {},
     "output_type": "execute_result"
    }
   ],
   "source": [
    "hamisi(listim)"
   ]
  },
  {
   "cell_type": "code",
   "execution_count": 45,
   "id": "1419ff61",
   "metadata": {},
   "outputs": [
    {
     "data": {
      "text/plain": [
       "True"
      ]
     },
     "execution_count": 45,
     "metadata": {},
     "output_type": "execute_result"
    }
   ],
   "source": [
    "list1 = [1,2,3,4,5,6]\n",
    "hamisi(list1)"
   ]
  },
  {
   "cell_type": "code",
   "execution_count": 46,
   "id": "4d03b5dc",
   "metadata": {},
   "outputs": [],
   "source": [
    "list2 = []"
   ]
  },
  {
   "cell_type": "code",
   "execution_count": 47,
   "id": "28788d8c",
   "metadata": {},
   "outputs": [
    {
     "data": {
      "text/plain": [
       "False"
      ]
     },
     "execution_count": 47,
     "metadata": {},
     "output_type": "execute_result"
    }
   ],
   "source": [
    "bool(list2)"
   ]
  },
  {
   "cell_type": "code",
   "execution_count": 48,
   "id": "87bb705f",
   "metadata": {},
   "outputs": [
    {
     "data": {
      "text/plain": [
       "False"
      ]
     },
     "execution_count": 48,
     "metadata": {},
     "output_type": "execute_result"
    }
   ],
   "source": [
    "bool(0)"
   ]
  },
  {
   "cell_type": "code",
   "execution_count": 49,
   "id": "1384e0a6",
   "metadata": {},
   "outputs": [
    {
     "data": {
      "text/plain": [
       "False"
      ]
     },
     "execution_count": 49,
     "metadata": {},
     "output_type": "execute_result"
    }
   ],
   "source": [
    "bool(\"\")"
   ]
  },
  {
   "cell_type": "code",
   "execution_count": 56,
   "id": "2e6ded56",
   "metadata": {},
   "outputs": [
    {
     "data": {
      "text/plain": [
       "True"
      ]
     },
     "execution_count": 56,
     "metadata": {},
     "output_type": "execute_result"
    }
   ],
   "source": [
    "def herhansi(list2):\n",
    "    for i in list2:\n",
    "        if i:\n",
    "            return True\n",
    "    return False\n",
    "# Herhans bir deyer True-dursa True, hamisi False-dursa False geri dondermek isteyirik....\n",
    "\n",
    "list2 = [True,False,True,False,True]\n",
    "herhansi(list2)"
   ]
  },
  {
   "cell_type": "code",
   "execution_count": 51,
   "id": "2633dc3a",
   "metadata": {},
   "outputs": [
    {
     "data": {
      "text/plain": [
       "False"
      ]
     },
     "execution_count": 51,
     "metadata": {},
     "output_type": "execute_result"
    }
   ],
   "source": [
    "list2 = [0,0,0,0,0,0,0,0,0,0,0]\n",
    "herhansi(list2)"
   ]
  },
  {
   "cell_type": "code",
   "execution_count": 52,
   "id": "bfdd8f2d",
   "metadata": {},
   "outputs": [
    {
     "data": {
      "text/plain": [
       "False"
      ]
     },
     "execution_count": 52,
     "metadata": {},
     "output_type": "execute_result"
    }
   ],
   "source": [
    "list3 = [True,False,True,False,True]\n",
    "all(list3)"
   ]
  },
  {
   "cell_type": "code",
   "execution_count": 53,
   "id": "4e9c9b12",
   "metadata": {},
   "outputs": [
    {
     "data": {
      "text/plain": [
       "True"
      ]
     },
     "execution_count": 53,
     "metadata": {},
     "output_type": "execute_result"
    }
   ],
   "source": [
    "list4 = [1,2,3,4,5]\n",
    "all(list4)"
   ]
  },
  {
   "cell_type": "code",
   "execution_count": 55,
   "id": "c2a247b8",
   "metadata": {},
   "outputs": [
    {
     "data": {
      "text/plain": [
       "True"
      ]
     },
     "execution_count": 55,
     "metadata": {},
     "output_type": "execute_result"
    }
   ],
   "source": [
    "listim = [True,False,False,False,False]\n",
    "\n",
    "any(listim)"
   ]
  },
  {
   "cell_type": "code",
   "execution_count": null,
   "id": "eb67ecf8",
   "metadata": {},
   "outputs": [],
   "source": []
  }
 ],
 "metadata": {
  "kernelspec": {
   "display_name": "Python 3",
   "language": "python",
   "name": "python3"
  },
  "language_info": {
   "codemirror_mode": {
    "name": "ipython",
    "version": 3
   },
   "file_extension": ".py",
   "mimetype": "text/x-python",
   "name": "python",
   "nbconvert_exporter": "python",
   "pygments_lexer": "ipython3",
   "version": "3.8.8"
  }
 },
 "nbformat": 4,
 "nbformat_minor": 5
}
