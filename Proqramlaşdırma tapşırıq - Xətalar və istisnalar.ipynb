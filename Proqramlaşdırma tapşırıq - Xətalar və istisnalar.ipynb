{
 "cells": [
  {
   "cell_type": "markdown",
   "metadata": {},
   "source": [
    "## Proqramlaşdırma tapşırıq - Xətalar və istisnalar\n",
    "\n",
    "### Problem 1\n",
    "\n",
    "Düşünün ki, sizdə stringlərdən ibarət bir list var.\n",
    "\n",
    "*listim = [\"345\",\"sadas\",\"324a\",\"14\",\"adil\"]*\n",
    "\n",
    "Bu siyahıda yalnız rəqəmlərdən ibarət sətirləri ekrana çap edin. Bunu edərkən bloklardan başqa try except istifadə etməyi unutmayın.\n",
    "\n"
   ]
  },
  {
   "cell_type": "markdown",
   "metadata": {},
   "source": [
    "### Problem 2\n",
    "\n",
    "Ədədin cüt olub olmadığını soruşan funksiya yazın. Bu funksiya, ədəd cüt olarsa, ***return*** ilə bu dəyəri qaytarır. Bununla belə, əgər ədəd təkdirsə, ***raise*** funksiyası ***ValueError*** atır. Sonra, cüt və tək nömrələrdən ibarət siyahını təyin edin və siyahıda sürüşdürün və ekrana yalnız cüt ədədləri çap edin.\n"
   ]
  },
  {
   "cell_type": "code",
   "execution_count": null,
   "metadata": {},
   "outputs": [],
   "source": []
  }
 ],
 "metadata": {
  "kernelspec": {
   "display_name": "Python 3",
   "language": "python",
   "name": "python3"
  },
  "language_info": {
   "codemirror_mode": {
    "name": "ipython",
    "version": 3
   },
   "file_extension": ".py",
   "mimetype": "text/x-python",
   "name": "python",
   "nbconvert_exporter": "python",
   "pygments_lexer": "ipython3",
   "version": "3.8.8"
  }
 },
 "nbformat": 4,
 "nbformat_minor": 2
}
