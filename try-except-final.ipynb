{
 "cells": [
  {
   "cell_type": "markdown",
   "id": "cbc09655",
   "metadata": {},
   "source": [
    "##### Havayolu sistemi - Uçuşlar\n",
    "##### kod, gediş, gəliş, müddət, tutum, sərnişin"
   ]
  },
  {
   "cell_type": "code",
   "execution_count": 9,
   "id": "3f30bb92",
   "metadata": {},
   "outputs": [],
   "source": [
    "class Ucus():\n",
    "    \n",
    "    havayolu = \"AZAL\"\n",
    "    \n",
    "    def __init__(self, kod, gedis,gelis,muddet,tutum,sernisin):\n",
    "        self.kod = kod\n",
    "        self.gedis = gedis\n",
    "        self.gelis = gelis\n",
    "        self.muddet = muddet\n",
    "        self.tutum = tutum\n",
    "        self.sernisin = sernisin\n",
    "        \n",
    "    def anons_et(self):\n",
    "        return \"{} nomreli {}-{} olan ucusumuz {} deqiqe cekecekdir!\".format(\n",
    "        self.kod,\n",
    "        self.gedis,\n",
    "        self.gelis,\n",
    "        self.muddet)\n",
    "    def oturacaq_yenile(self):\n",
    "        return self.tutum - self.sernisin\n",
    "    \n",
    "    def bilet_satis(self,bilet_eded=1):\n",
    "        if self.sernisin + bilet_eded <= self.tutum:\n",
    "            self.sernisin += bilet_eded\n",
    "            self.oturacaq_yenile()\n",
    "            print(\"{} eded bilet satildi, qalan oturacaq sayi: {}\".format(bilet_eded,\n",
    "                                                                         self.oturacaq_yenile()))\n",
    "        else:\n",
    "            print(\"Emeliyyat ugursuz oldu, yetersiz oturacaq say...\")\n",
    "    \n",
    "    def bilet_cancel(self,bilet_eded=1):\n",
    "        if self.sernisin >= bilet_eded:\n",
    "            self.sernisin -= bilet_eded\n",
    "            print(\"{} eded bilet legv edilmisdir, qalan oturacaq sayi: {}\".format(\n",
    "            bilet_eded,\n",
    "            self.oturacaq_yenile()))\n",
    "        else:\n",
    "            print(\"Emeliyyat ugursuz oldu, Legv edilecek qeder sernisin yoxdur.\")\n",
    "        "
   ]
  },
  {
   "cell_type": "code",
   "execution_count": 10,
   "id": "17814f4c",
   "metadata": {},
   "outputs": [],
   "source": [
    "ucus1 = Ucus(\"AZ123\",\"BAK\",\"BUD\",60,250,200)"
   ]
  },
  {
   "cell_type": "code",
   "execution_count": 4,
   "id": "4ea519db",
   "metadata": {},
   "outputs": [
    {
     "data": {
      "text/plain": [
       "'AZ123 nomreli BAK-BUD olan ucusumuz 60 deqiqe cekecekdir!'"
      ]
     },
     "execution_count": 4,
     "metadata": {},
     "output_type": "execute_result"
    }
   ],
   "source": [
    "ucus1.anons_et()"
   ]
  },
  {
   "cell_type": "code",
   "execution_count": 7,
   "id": "984e9c1d",
   "metadata": {},
   "outputs": [
    {
     "data": {
      "text/plain": [
       "50"
      ]
     },
     "execution_count": 7,
     "metadata": {},
     "output_type": "execute_result"
    }
   ],
   "source": [
    "ucus1.oturacaq_yenile()"
   ]
  },
  {
   "cell_type": "code",
   "execution_count": 11,
   "id": "af5df490",
   "metadata": {},
   "outputs": [
    {
     "name": "stdout",
     "output_type": "stream",
     "text": [
      "4 eded bilet satildi, qalan oturacaq sayi: 46\n"
     ]
    }
   ],
   "source": [
    "ucus1.bilet_satis(4)"
   ]
  },
  {
   "cell_type": "code",
   "execution_count": 12,
   "id": "5fa737cd",
   "metadata": {},
   "outputs": [
    {
     "data": {
      "text/plain": [
       "46"
      ]
     },
     "execution_count": 12,
     "metadata": {},
     "output_type": "execute_result"
    }
   ],
   "source": [
    "ucus1.oturacaq_yenile()"
   ]
  },
  {
   "cell_type": "code",
   "execution_count": 13,
   "id": "8201d7fb",
   "metadata": {},
   "outputs": [
    {
     "name": "stdout",
     "output_type": "stream",
     "text": [
      "10 eded bilet satildi, qalan oturacaq sayi: 36\n"
     ]
    }
   ],
   "source": [
    "ucus1.bilet_satis(10)"
   ]
  },
  {
   "cell_type": "code",
   "execution_count": 14,
   "id": "74b120af",
   "metadata": {},
   "outputs": [
    {
     "name": "stdout",
     "output_type": "stream",
     "text": [
      "10 eded bilet legv edilmisdir, qalan oturacaq sayi: 46\n"
     ]
    }
   ],
   "source": [
    "ucus1.bilet_cancel(10)"
   ]
  }
 ],
 "metadata": {
  "kernelspec": {
   "display_name": "Python 3",
   "language": "python",
   "name": "python3"
  },
  "language_info": {
   "codemirror_mode": {
    "name": "ipython",
    "version": 3
   },
   "file_extension": ".py",
   "mimetype": "text/x-python",
   "name": "python",
   "nbconvert_exporter": "python",
   "pygments_lexer": "ipython3",
   "version": "3.8.8"
  }
 },
 "nbformat": 4,
 "nbformat_minor": 5
}
