{
 "cells": [
  {
   "cell_type": "markdown",
   "metadata": {},
   "source": [
    "## Programlaşdırma tapşırıq - Built-in Funksiyalar\n",
    "\n",
    "### Problem 1\n",
    "\n",
    "Elinizde bir dikdörtgenin kenarlarını ifade eden sayı çiftlerinin bulunduğu bir liste olsun.\n",
    "Əlinizdə bir düzbucaqlının kənarlarını ifadə edən rəqəm cütlüklərinin olduğu bir list olsun.\n",
    "\n",
    "             [(3,4),(10,3),(5,6),(1,9)]\n",
    " \n",
    "İndi isə kənar uzunluqlarına görə düzbucaqlının sahəsini hesablayan bir funksiya yazın və bu listin hər bir dəyərinə bu funksiyanı tətbiq edərək ekrana belə bir şey yazdırın.  \n",
    "\n",
    "             [12, 30, 30, 9]\n",
    "             \n",
    "***Qeyd : map() funksiyasının istifadə etməyə çalışın.***"
   ]
  },
  {
   "cell_type": "markdown",
   "metadata": {},
   "source": [
    "### Problem 2\n",
    "\n",
    "Əlinizdə hər bir dəyəri 3-lü olan bir tuple olan bir list olsun.\n",
    "   \n",
    "         [(3,4,5),(6,8,10),(3,10,7)]\n",
    "   \n",
    "İndi isə kənar uzunluqlarına görə bu kənarların bir üçbucaq olub olmadığını təyin edən bir funksiya yazın və sadəcə üçküncə uyğun olanlarını təyin edən bir listi ekrana çap edin.\n",
    "\n",
    "\n",
    "         [(3, 4, 5), (6, 8, 10)]\n",
    "         \n",
    "***Qeyd: filter() funksiyasını işlətməyə çalışın. *** "
   ]
  },
  {
   "cell_type": "markdown",
   "metadata": {},
   "source": [
    "### Problem 3\n",
    "\n",
    "Əlinizdə belə bir list olsun.\n",
    "\n",
    "        [1,2,3,4,5,6,7,8,9,10]\n",
    "\n",
    "Bu listin içindəki cüt rəqəmlərin cəmini ekrana çap edən bir funksiya yazın.\n",
    "\n",
    "***Qeyd: İlk öncə filter() funksiyası ilə cüt rəqəmləri ayırdın. Daha sonra isə reduce() funksiyasını istifadə edin.***"
   ]
  },
  {
   "cell_type": "markdown",
   "metadata": {},
   "source": [
    "### Problem 4\n",
    "\n",
    "Əlinizdə adların və soyadların olduğu iki ədəd list olsun.\n",
    "\n",
    "            adlar -----> [\"Ulvi\",\"Adil\",\"Rahim\",\"Orxan\",\"Samir\",\"Rehman\",\"Malik\"]\n",
    "            \n",
    "            soyadlar -----> [\"Allahverdiyev\",\"Qeniyev\",\"Bedelov\",\"Karimov\",\"Jabrayilov\",\"Tagiyev\",\"Heyderov\"]\n",
    " \n",
    "Bu adları və soyadları sırası ilə əlaqələndirən və ekrana alt-alta adları və soyadları çap edin. \n",
    "\n",
    "***Qeyd: zip() funksiyasını istifadə etməyə çalışın. ***\n"
   ]
  },
  {
   "cell_type": "code",
   "execution_count": null,
   "metadata": {},
   "outputs": [],
   "source": []
  }
 ],
 "metadata": {
  "kernelspec": {
   "display_name": "Python 3",
   "language": "python",
   "name": "python3"
  },
  "language_info": {
   "codemirror_mode": {
    "name": "ipython",
    "version": 3
   },
   "file_extension": ".py",
   "mimetype": "text/x-python",
   "name": "python",
   "nbconvert_exporter": "python",
   "pygments_lexer": "ipython3",
   "version": "3.8.8"
  }
 },
 "nbformat": 4,
 "nbformat_minor": 2
}
