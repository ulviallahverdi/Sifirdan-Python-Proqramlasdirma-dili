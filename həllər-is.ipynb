{
 "cells": [
  {
   "cell_type": "markdown",
   "metadata": {},
   "source": [
    "## Həllər\n",
    "\n",
    "### Problem 1 \n",
    "\n"
   ]
  },
  {
   "cell_type": "code",
   "execution_count": 4,
   "metadata": {
    "scrolled": true
   },
   "outputs": [
    {
     "name": "stdout",
     "output_type": "stream",
     "text": [
      "P : 1\n",
      "r : 11\n",
      "o : 1\n",
      "g : 1\n",
      "a : 5\n",
      "m : 2\n",
      "l : 6\n",
      "ş : 2\n",
      "d : 1\n",
      "ı : 4\n",
      "T : 1\n",
      "p : 2\n",
      "q : 1\n",
      "İ : 1\n",
      "ə : 7\n",
      "i : 4\n",
      "S : 2\n",
      "v : 2\n",
      "y : 4\n",
      "V : 1\n",
      "e : 2\n",
      "n : 2\n",
      "t : 3\n",
      "u : 2\n",
      "k : 2\n",
      "O : 2\n",
      "b : 3\n"
     ]
    }
   ],
   "source": [
    "s = \"ProgramlaşdırmaTapşırıqİrəliSəviyyəVerilənlərStrukturlarıvəObObyektləripynb\"\n",
    "frekans = dict()\n",
    "\n",
    "for xarakter in s:\n",
    "    if (xarakter in frekans):\n",
    "        frekans[xarakter] += 1\n",
    "    else:\n",
    "        frekans[xarakter] = 1\n",
    "for i,j in frekans.items():\n",
    "    \n",
    "    print(i,\":\",j)"
   ]
  },
  {
   "cell_type": "markdown",
   "metadata": {},
   "source": [
    "### Problem 2"
   ]
  },
  {
   "cell_type": "code",
   "execution_count": null,
   "metadata": {},
   "outputs": [],
   "source": [
    "bash_herfler = \"\"\n",
    "\n",
    "with open(\"seir.txt\",\"r\",encoding=\"utf-8\") as file:\n",
    "    for setir in file:\n",
    "        bash_herfler += setir[0]\n",
    "print(bash_herfler)"
   ]
  },
  {
   "cell_type": "markdown",
   "metadata": {},
   "source": [
    "### Problem 3 \n",
    "\n"
   ]
  },
  {
   "cell_type": "code",
   "execution_count": null,
   "metadata": {},
   "outputs": [],
   "source": [
    "with open(\"mailler.txt\",\"r\",encoding=\"utf-8\") as file:\n",
    "    for setir in file:\n",
    "        setir = setir[:-1]\n",
    "        if (setir.endswith(\".com\") and setir.find(\"@\") != -1):\n",
    "            print(setir)\n",
    "            "
   ]
  },
  {
   "cell_type": "markdown",
   "metadata": {},
   "source": [
    "### Problem 4\n",
    "\n"
   ]
  },
  {
   "cell_type": "code",
   "execution_count": 11,
   "metadata": {},
   "outputs": [
    {
     "name": "stdout",
     "output_type": "stream",
     "text": [
      "Ezgi Dağdeviren\n",
      "Kemal Atatürk\n",
      "Kerim Yılmaz\n",
      "Merve Polat\n",
      "Tarık Öztürk\n",
      "İlkay Dikmen\n",
      "Şükran Kaya\n"
     ]
    }
   ],
   "source": [
    "isim = [\"Kerim\",\"Tarık\",\"Ezgi\",\"Kemal\",\"İlkay\",\"Şükran\",\"Merve\"]\n",
    "\n",
    "soyisim = [\"Yılmaz\",\"Öztürk\",\"Dağdeviren\",\"Atatürk\",\"Dikmen\",\"Kaya\",\"Polat\"]\n",
    "\n",
    "liste = list(zip(isim,soyisim))\n",
    "\n",
    "liste.sort()\n",
    "\n",
    "for i,j in liste:\n",
    "    print(i,j)"
   ]
  }
 ],
 "metadata": {
  "kernelspec": {
   "display_name": "Python 3",
   "language": "python",
   "name": "python3"
  },
  "language_info": {
   "codemirror_mode": {
    "name": "ipython",
    "version": 3
   },
   "file_extension": ".py",
   "mimetype": "text/x-python",
   "name": "python",
   "nbconvert_exporter": "python",
   "pygments_lexer": "ipython3",
   "version": "3.8.8"
  }
 },
 "nbformat": 4,
 "nbformat_minor": 2
}
