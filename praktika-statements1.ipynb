{
 "cells": [
  {
   "cell_type": "markdown",
   "metadata": {},
   "source": [
    "## Proqramlaşdırma üzrə tapşırıq - Şərtlər\n",
    "\n",
    "*Tebriklər! Bu Bölümü uğurla bitirdiniz. İndi, öyrəndiklərinizin ağılda qalması üçün praktika vaxtıdır!*"
   ]
  },
  {
   "cell_type": "markdown",
   "metadata": {},
   "source": [
    "### Məsələ 1\n",
    "\n",
    "İstifadəçidən alının boy və çəki dəyərlərinə görə bədən kütlə indeksini hesablayın və bu qanunlara görə ekrana bu yazıları yazdırın.\n",
    "\n",
    "     Bədən kütlə indeksi: Çəki / Boy(m) *  Boy(m)\n",
    "    \n",
    "     BKİ 18.5'un altındadırsa -------> Zəif\n",
    "     \n",
    "     BKİ 18.5 ile 25 arasındadırsa ------> Normal\n",
    "     \n",
    "     BKİ 25 ile 30 arasındadırsa --------> Çox Çəkili\n",
    "     \n",
    "     BKİ 30'un üstündədirsə -------------> Obez\n",
    "     "
   ]
  },
  {
   "cell_type": "markdown",
   "metadata": {},
   "source": [
    "### Məsələ 2\n",
    "\n",
    "İstifadəçidən 3 dənə rəqəm alın və ən böyüyünü ekranda çap edin!"
   ]
  },
  {
   "cell_type": "markdown",
   "metadata": {},
   "source": [
    "### Məsələ 3"
   ]
  },
  {
   "cell_type": "markdown",
   "metadata": {},
   "source": [
    "İstifadəçinin daxil etdiyi **semester1,semester2,Final qiytmətlərinə** qiytmətlərinə görə hərf qiymətini hesablayın.\n",
    "\n",
    "        Semester1 toplam qiymətin %30'una təsir edəcək!\n",
    "\n",
    "        Semester2 toplam qiymətin %30'una təsir edəcək!\n",
    "\n",
    "        Final toplam qiymətin %40'ına təsir edəcək!\n",
    "\n",
    "\n",
    "        Toplam Qiymət >=  90 -----> AA\n",
    "\n",
    "        Toplam Qiymət >=  85 -----> BA\n",
    "\n",
    "        Toplam Qiymət >=  80 -----> BB\n",
    "\n",
    "        Toplam Qiymət >=  75 -----> CB\n",
    "\n",
    "        Toplam Qiymət >=  70 -----> CC\n",
    "\n",
    "        Toplam Qiymət >=  65 -----> DC\n",
    "\n",
    "        Toplam Qiymət >=  60 -----> DD\n",
    "\n",
    "        Toplam Qiymət >=  55 -----> FD\n",
    "\n",
    "        Toplam Qiymət <  55 -----> FF\n",
    "\n"
   ]
  },
  {
   "cell_type": "markdown",
   "metadata": {},
   "source": [
    "### Məsələ 4\n",
    " \n",
    "İndi də fiqurların şəklini hesablama əməliyyatı edək. İlk olaraq istifadəçidən üçgünc yoxsa dörtküncün görünüşünü tapmaq istədiyini soruşun.\n",
    "\n",
    "Əgər istifadəçi dörkünc cavabını versə, 4 dənə dörküncün kənarını istəyib bu dördküncün bərabərtərəfli, düzbücaqlı dörkünc mü yoxsa adi bir dörkünc olduğunu tapmağa çalışın.\n",
    "\n",
    "Əgər istifadəçi üçkünc cavabını versə, 3 dənə kənar istəyib bu üçküncün düzbucaqlı yoxsa adi üçkünc olduğunu tapmağa çalışan bir proqram yazın. Əgər verilən dəyərlərin üçkünc ilə uyğunluğu yoxdursa onda \"belə bir üçkünc yoxdur desin\"!\n",
    "\n",
    "* Əlavə olaraq bu məsələdə dəyər tapmağa ehtiyacınız olacaq, bunun üçün Pythonda hazır bir funksiya olan abs() funksiyasını istifadə edə bilirsiniz. İstifadə qaydası belədir;\n"
   ]
  },
  {
   "cell_type": "code",
   "execution_count": 1,
   "metadata": {},
   "outputs": [
    {
     "data": {
      "text/plain": [
       "4"
      ]
     },
     "execution_count": 1,
     "metadata": {},
     "output_type": "execute_result"
    }
   ],
   "source": [
    "abs(-4)"
   ]
  },
  {
   "cell_type": "code",
   "execution_count": 1,
   "metadata": {},
   "outputs": [
    {
     "data": {
      "text/plain": [
       "5"
      ]
     },
     "execution_count": 1,
     "metadata": {},
     "output_type": "execute_result"
    }
   ],
   "source": [
    "abs(5)"
   ]
  },
  {
   "cell_type": "markdown",
   "metadata": {
    "collapsed": true
   },
   "source": []
  },
  {
   "cell_type": "code",
   "execution_count": null,
   "metadata": {},
   "outputs": [],
   "source": []
  },
  {
   "cell_type": "code",
   "execution_count": null,
   "metadata": {},
   "outputs": [],
   "source": []
  }
 ],
 "metadata": {
  "kernelspec": {
   "display_name": "Python 3",
   "language": "python",
   "name": "python3"
  },
  "language_info": {
   "codemirror_mode": {
    "name": "ipython",
    "version": 3
   },
   "file_extension": ".py",
   "mimetype": "text/x-python",
   "name": "python",
   "nbconvert_exporter": "python",
   "pygments_lexer": "ipython3",
   "version": "3.8.8"
  }
 },
 "nbformat": 4,
 "nbformat_minor": 2
}
