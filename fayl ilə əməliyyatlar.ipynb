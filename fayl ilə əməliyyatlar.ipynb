{
 "cells": [
  {
   "cell_type": "markdown",
   "id": "a6409f29",
   "metadata": {},
   "source": [
    "# Faylın açılması və yazılması əməliyyatları "
   ]
  },
  {
   "cell_type": "markdown",
   "id": "5f77532f",
   "metadata": {},
   "source": [
    "Bu məsələ ilə fayl üzərində əməliyyatlar etməyə başlayacağıq. "
   ]
  },
  {
   "cell_type": "markdown",
   "id": "d37535be",
   "metadata": {},
   "source": [
    "### Faylın açılması\n",
    "\n",
    "Faylı açmaq üçün ***open()*** funksiyasından istifadə edirik. Onun strukturu aşağıdakı kimidir;\n",
    "\n",
    "                     open(fayl_adı,fayl_açış_rejimi)\n",
    "İstədiyimiz fayl adını verə bilərik. Fayla giriş rejimi fayl üzərində əməliyyatlarımızı müəyyən edir. Biz bunları dərslər boyu tədricən görəcəyik.\n",
    "\n",
    "#### fayl açma rejimi \"w\"\n",
    "\n",
    "Fayllarımızı açmaq və yazmaq üçün \"write\" üçün \"w\" rejimindən istifadə edirik. \"w\" rejimi yaratmaq istədiyimiz qovluqda belə fayl yoxdursa faylı yaradır, belə fayl varsa faylı silib yenidən yaradır. Yəni, açmaq istədiyimiz fayl artıq mövcuddursa və fayl doludursa, \"w\" rejimi fayldakı məlumatları silib yenidən yaradır. (Biraz Təhlükəli) \n"
   ]
  },
  {
   "cell_type": "code",
   "execution_count": 3,
   "id": "75cc48c9",
   "metadata": {},
   "outputs": [
    {
     "data": {
      "text/plain": [
       "<_io.TextIOWrapper name='sanan.txt' mode='w' encoding='cp1252'>"
      ]
     },
     "execution_count": 3,
     "metadata": {},
     "output_type": "execute_result"
    }
   ],
   "source": [
    "open(\"sanan.txt\",\"w\") # w - menasi - write demekdir!"
   ]
  },
  {
   "cell_type": "code",
   "execution_count": 4,
   "id": "9c8671ef",
   "metadata": {},
   "outputs": [],
   "source": [
    "import os"
   ]
  },
  {
   "cell_type": "code",
   "execution_count": 5,
   "id": "c3b8f409",
   "metadata": {},
   "outputs": [
    {
     "data": {
      "text/plain": [
       "'C:\\\\Users\\\\uallahverdiyev\\\\Desktop\\\\Desktop'"
      ]
     },
     "execution_count": 5,
     "metadata": {},
     "output_type": "execute_result"
    }
   ],
   "source": [
    "os.getcwd()"
   ]
  },
  {
   "cell_type": "code",
   "execution_count": 7,
   "id": "edee6a71",
   "metadata": {},
   "outputs": [],
   "source": [
    "os.chdir(\"C:\\\\Users\\\\uallahverdiyev\\\\Desktop\")"
   ]
  },
  {
   "cell_type": "code",
   "execution_count": 8,
   "id": "d092ba7c",
   "metadata": {},
   "outputs": [
    {
     "data": {
      "text/plain": [
       "'C:\\\\Users\\\\uallahverdiyev\\\\Desktop'"
      ]
     },
     "execution_count": 8,
     "metadata": {},
     "output_type": "execute_result"
    }
   ],
   "source": [
    "os.getcwd()"
   ]
  },
  {
   "cell_type": "code",
   "execution_count": 9,
   "id": "22921a6a",
   "metadata": {},
   "outputs": [
    {
     "data": {
      "text/plain": [
       "<_io.TextIOWrapper name='sanan.txt' mode='w' encoding='cp1252'>"
      ]
     },
     "execution_count": 9,
     "metadata": {},
     "output_type": "execute_result"
    }
   ],
   "source": [
    "open(\"sanan.txt\",\"w\") # w - menasi - write demekdir!"
   ]
  },
  {
   "cell_type": "code",
   "execution_count": 10,
   "id": "c4a44592",
   "metadata": {},
   "outputs": [],
   "source": [
    "file = open(\"sanan.txt\",\"w\")"
   ]
  },
  {
   "cell_type": "code",
   "execution_count": 11,
   "id": "04c02b35",
   "metadata": {},
   "outputs": [],
   "source": [
    "file.close()"
   ]
  },
  {
   "cell_type": "code",
   "execution_count": 12,
   "id": "a0b9bfcf",
   "metadata": {},
   "outputs": [],
   "source": [
    "file = open(\"sanan1.txt\",\"w\")"
   ]
  },
  {
   "cell_type": "code",
   "execution_count": 13,
   "id": "0e9a6815",
   "metadata": {},
   "outputs": [],
   "source": [
    "file.close()"
   ]
  },
  {
   "cell_type": "code",
   "execution_count": 21,
   "id": "77ff3522",
   "metadata": {},
   "outputs": [],
   "source": [
    "f = open(\"yazilar.txt\",\"w\",encoding=\"utf-8\")"
   ]
  },
  {
   "cell_type": "code",
   "execution_count": 22,
   "id": "81b03698",
   "metadata": {},
   "outputs": [
    {
     "data": {
      "text/plain": [
       "30"
      ]
     },
     "execution_count": 22,
     "metadata": {},
     "output_type": "execute_result"
    }
   ],
   "source": [
    "f.write(\"Ülvi Allahverdiyev, Azərbaycan\")"
   ]
  },
  {
   "cell_type": "code",
   "execution_count": 23,
   "id": "6d5b7a76",
   "metadata": {},
   "outputs": [],
   "source": [
    "f.close()"
   ]
  },
  {
   "cell_type": "code",
   "execution_count": 24,
   "id": "98b1406d",
   "metadata": {},
   "outputs": [],
   "source": [
    "# a - size append xarakterli elave etmeye komek edir"
   ]
  },
  {
   "cell_type": "code",
   "execution_count": 27,
   "id": "cb31cbf1",
   "metadata": {},
   "outputs": [],
   "source": [
    "file = open(\"yazilarim.txt\",\"a\",encoding=\"utf-8\")"
   ]
  },
  {
   "cell_type": "code",
   "execution_count": 28,
   "id": "54e066ae",
   "metadata": {},
   "outputs": [
    {
     "data": {
      "text/plain": [
       "49"
      ]
     },
     "execution_count": 28,
     "metadata": {},
     "output_type": "execute_result"
    }
   ],
   "source": [
    "file.write(\"Ülvi Allahverdiyev Firuz, Azərbaycan Respublikası\")"
   ]
  },
  {
   "cell_type": "code",
   "execution_count": 29,
   "id": "0ba358aa",
   "metadata": {},
   "outputs": [],
   "source": [
    "file.close()"
   ]
  },
  {
   "cell_type": "code",
   "execution_count": 30,
   "id": "c4f519de",
   "metadata": {},
   "outputs": [],
   "source": [
    "file = open(\"yazilarim.txt\",\"a\",encoding=\"utf-8\")"
   ]
  },
  {
   "cell_type": "code",
   "execution_count": 31,
   "id": "a48c245f",
   "metadata": {},
   "outputs": [
    {
     "data": {
      "text/plain": [
       "41"
      ]
     },
     "execution_count": 31,
     "metadata": {},
     "output_type": "execute_result"
    }
   ],
   "source": [
    "file.write(\"Sanan Samandarli, Azərbaycan Respublikası\")"
   ]
  },
  {
   "cell_type": "code",
   "execution_count": 32,
   "id": "c2ab9016",
   "metadata": {},
   "outputs": [],
   "source": [
    "file.close()"
   ]
  },
  {
   "cell_type": "code",
   "execution_count": 33,
   "id": "a0006ea2",
   "metadata": {},
   "outputs": [],
   "source": [
    "file = open(\"yazilarim.txt\",\"a\",encoding=\"utf-8\")"
   ]
  },
  {
   "cell_type": "code",
   "execution_count": 34,
   "id": "6283eec0",
   "metadata": {},
   "outputs": [],
   "source": [
    "file.close()"
   ]
  },
  {
   "cell_type": "markdown",
   "id": "e2132afe",
   "metadata": {},
   "source": [
    "# Fayl oxuma emeliyyatlari"
   ]
  },
  {
   "cell_type": "code",
   "execution_count": 35,
   "id": "4ad04466",
   "metadata": {},
   "outputs": [],
   "source": [
    "# r - ile acilir ve fayl yoxdursa \"FileNotFoundError\""
   ]
  },
  {
   "cell_type": "code",
   "execution_count": 36,
   "id": "ed00b589",
   "metadata": {},
   "outputs": [
    {
     "ename": "FileNotFoundError",
     "evalue": "[Errno 2] No such file or directory: 'yazilarim.txt'",
     "output_type": "error",
     "traceback": [
      "\u001b[1;31m---------------------------------------------------------------------------\u001b[0m",
      "\u001b[1;31mFileNotFoundError\u001b[0m                         Traceback (most recent call last)",
      "\u001b[1;32m<ipython-input-36-44ef2d23db3a>\u001b[0m in \u001b[0;36m<module>\u001b[1;34m\u001b[0m\n\u001b[1;32m----> 1\u001b[1;33m \u001b[0mfile\u001b[0m \u001b[1;33m=\u001b[0m \u001b[0mopen\u001b[0m\u001b[1;33m(\u001b[0m\u001b[1;34m\"yazilarim.txt\"\u001b[0m\u001b[1;33m,\u001b[0m\u001b[1;34m\"r\"\u001b[0m\u001b[1;33m,\u001b[0m\u001b[0mencoding\u001b[0m\u001b[1;33m=\u001b[0m\u001b[1;34m\"utf-8\"\u001b[0m\u001b[1;33m)\u001b[0m\u001b[1;33m\u001b[0m\u001b[1;33m\u001b[0m\u001b[0m\n\u001b[0m",
      "\u001b[1;31mFileNotFoundError\u001b[0m: [Errno 2] No such file or directory: 'yazilarim.txt'"
     ]
    }
   ],
   "source": [
    "file = open(\"yazilarim.txt\",\"r\",encoding=\"utf-8\")"
   ]
  },
  {
   "cell_type": "code",
   "execution_count": 37,
   "id": "0d584fdf",
   "metadata": {},
   "outputs": [],
   "source": [
    "file = open(\"yazilarim.txt\",\"r\",encoding=\"utf-8\")"
   ]
  },
  {
   "cell_type": "code",
   "execution_count": 38,
   "id": "d578ae38",
   "metadata": {},
   "outputs": [],
   "source": [
    "file.close()"
   ]
  },
  {
   "cell_type": "code",
   "execution_count": 39,
   "id": "58a70791",
   "metadata": {},
   "outputs": [
    {
     "name": "stdout",
     "output_type": "stream",
     "text": [
      "Bele bir fayl tapilmadi\n"
     ]
    }
   ],
   "source": [
    "try:\n",
    "    file = open(\"yazilarim.txt\",\"r\",encoding=\"utf-8\")\n",
    "except:\n",
    "    print(\"Bele bir fayl tapilmadi\")"
   ]
  },
  {
   "cell_type": "code",
   "execution_count": 47,
   "id": "c8206588",
   "metadata": {},
   "outputs": [],
   "source": [
    "f = open(\"yazilarim1.txt\",\"r\",encoding=\"utf-8\")"
   ]
  },
  {
   "cell_type": "code",
   "execution_count": 48,
   "id": "cc4d4f54",
   "metadata": {},
   "outputs": [
    {
     "name": "stdout",
     "output_type": "stream",
     "text": [
      "UlviSananArifGunelAdilOrxanElvin\n"
     ]
    }
   ],
   "source": [
    "for i in f:\n",
    "    print(i,end=\"\\n\")\n",
    "file.close()"
   ]
  },
  {
   "cell_type": "code",
   "execution_count": 55,
   "id": "bfc5bb6b",
   "metadata": {},
   "outputs": [],
   "source": [
    "file1 = open(\"yazilarim1.txt\",\"r\",encoding=\"utf-8\")\n",
    "file1.close()"
   ]
  },
  {
   "cell_type": "code",
   "execution_count": 50,
   "id": "017f2241",
   "metadata": {},
   "outputs": [],
   "source": [
    "yazi = file1.read()"
   ]
  },
  {
   "cell_type": "code",
   "execution_count": 51,
   "id": "b12ffaed",
   "metadata": {},
   "outputs": [
    {
     "data": {
      "text/plain": [
       "'Ulvi\\nSanan\\nArif\\nGunel\\nAdil\\nOrxan\\nElvin'"
      ]
     },
     "execution_count": 51,
     "metadata": {},
     "output_type": "execute_result"
    }
   ],
   "source": [
    "yazi"
   ]
  },
  {
   "cell_type": "code",
   "execution_count": 52,
   "id": "9f50a6cd",
   "metadata": {},
   "outputs": [],
   "source": [
    "yazi1 = file1.read()"
   ]
  },
  {
   "cell_type": "code",
   "execution_count": 53,
   "id": "dd339019",
   "metadata": {},
   "outputs": [
    {
     "data": {
      "text/plain": [
       "''"
      ]
     },
     "execution_count": 53,
     "metadata": {},
     "output_type": "execute_result"
    }
   ],
   "source": [
    "yazi1"
   ]
  },
  {
   "cell_type": "code",
   "execution_count": 54,
   "id": "80b7ef11",
   "metadata": {},
   "outputs": [],
   "source": [
    "# readline()"
   ]
  },
  {
   "cell_type": "code",
   "execution_count": 70,
   "id": "612483dd",
   "metadata": {},
   "outputs": [],
   "source": [
    "fayl = open(\"yazilarim1.txt\",\"r\",encoding=\"utf-8\")"
   ]
  },
  {
   "cell_type": "code",
   "execution_count": 58,
   "id": "4b4e026d",
   "metadata": {},
   "outputs": [
    {
     "name": "stdout",
     "output_type": "stream",
     "text": [
      "Ulvi\n",
      "\n"
     ]
    }
   ],
   "source": [
    "print(fayl.readline())"
   ]
  },
  {
   "cell_type": "code",
   "execution_count": 59,
   "id": "fb866c5e",
   "metadata": {},
   "outputs": [
    {
     "name": "stdout",
     "output_type": "stream",
     "text": [
      "Sanan\n",
      "\n"
     ]
    }
   ],
   "source": [
    "print(fayl.readline())"
   ]
  },
  {
   "cell_type": "code",
   "execution_count": 60,
   "id": "b9b0bc68",
   "metadata": {},
   "outputs": [
    {
     "name": "stdout",
     "output_type": "stream",
     "text": [
      "Arif\n",
      "\n"
     ]
    }
   ],
   "source": [
    "print(fayl.readline())"
   ]
  },
  {
   "cell_type": "code",
   "execution_count": 61,
   "id": "9f867945",
   "metadata": {},
   "outputs": [
    {
     "name": "stdout",
     "output_type": "stream",
     "text": [
      "Gunel\n",
      "\n"
     ]
    }
   ],
   "source": [
    "print(fayl.readline())"
   ]
  },
  {
   "cell_type": "code",
   "execution_count": 63,
   "id": "450c58aa",
   "metadata": {},
   "outputs": [
    {
     "name": "stdout",
     "output_type": "stream",
     "text": [
      "Orxan\n",
      "\n"
     ]
    }
   ],
   "source": [
    "print(fayl.readline())"
   ]
  },
  {
   "cell_type": "code",
   "execution_count": 64,
   "id": "97697502",
   "metadata": {},
   "outputs": [
    {
     "name": "stdout",
     "output_type": "stream",
     "text": [
      "Elvin\n"
     ]
    }
   ],
   "source": [
    "print(fayl.readline())"
   ]
  },
  {
   "cell_type": "code",
   "execution_count": 65,
   "id": "5858b4da",
   "metadata": {},
   "outputs": [
    {
     "name": "stdout",
     "output_type": "stream",
     "text": [
      "\n"
     ]
    }
   ],
   "source": [
    "print(fayl.readline())"
   ]
  },
  {
   "cell_type": "code",
   "execution_count": 68,
   "id": "e8b6dbcc",
   "metadata": {},
   "outputs": [],
   "source": [
    "# readlines()  funksiyadir - faylin butun setirlerini oxuyur!"
   ]
  },
  {
   "cell_type": "code",
   "execution_count": 71,
   "id": "b2afb15c",
   "metadata": {},
   "outputs": [],
   "source": [
    "fayl.close()"
   ]
  },
  {
   "cell_type": "code",
   "execution_count": 78,
   "id": "70b0a4e3",
   "metadata": {},
   "outputs": [],
   "source": [
    "fayl = open(\"yazilarim1.txt\",\"r\",encoding=\"utf-8\")"
   ]
  },
  {
   "cell_type": "code",
   "execution_count": 84,
   "id": "83e59079",
   "metadata": {},
   "outputs": [],
   "source": [
    "fayl.close()"
   ]
  },
  {
   "cell_type": "markdown",
   "id": "eb3e6c7e",
   "metadata": {},
   "source": [
    "### Fayllari avtomatik baglayan bir funksiya!!!\n",
    "\n",
    "            with open(faylin_adi,acma_rejimi) as file:\n",
    "                Fayl emeliyyatlari\n"
   ]
  },
  {
   "cell_type": "code",
   "execution_count": 85,
   "id": "80849fb3",
   "metadata": {},
   "outputs": [
    {
     "name": "stdout",
     "output_type": "stream",
     "text": [
      "Ulvi\n",
      "\n",
      "Sanan\n",
      "\n",
      "Arif\n",
      "\n",
      "Gunel\n",
      "\n",
      "Adil\n",
      "\n",
      "Orxan\n",
      "\n",
      "Elvin\n"
     ]
    }
   ],
   "source": [
    "with open(\"yazilarim1.txt\",\"r\",encoding=\"utf-8\") as fayl:\n",
    "    for i in fayl:\n",
    "        print(i)"
   ]
  },
  {
   "cell_type": "code",
   "execution_count": 87,
   "id": "22c7361d",
   "metadata": {},
   "outputs": [
    {
     "name": "stdout",
     "output_type": "stream",
     "text": [
      "6\n"
     ]
    }
   ],
   "source": [
    "with open(\"yazilarim1.txt\",\"r\",encoding=\"utf-8\") as fayl:\n",
    "    fayl.readline()\n",
    "    print(fayl.tell())"
   ]
  },
  {
   "cell_type": "code",
   "execution_count": 88,
   "id": "980a44d0",
   "metadata": {},
   "outputs": [
    {
     "ename": "ValueError",
     "evalue": "I/O operation on closed file.",
     "output_type": "error",
     "traceback": [
      "\u001b[1;31m---------------------------------------------------------------------------\u001b[0m",
      "\u001b[1;31mValueError\u001b[0m                                Traceback (most recent call last)",
      "\u001b[1;32m<ipython-input-88-6ab1fcbbc274>\u001b[0m in \u001b[0;36m<module>\u001b[1;34m\u001b[0m\n\u001b[1;32m----> 1\u001b[1;33m \u001b[0mfayl\u001b[0m\u001b[1;33m.\u001b[0m\u001b[0mreadline\u001b[0m\u001b[1;33m(\u001b[0m\u001b[1;33m)\u001b[0m\u001b[1;33m\u001b[0m\u001b[1;33m\u001b[0m\u001b[0m\n\u001b[0m",
      "\u001b[1;31mValueError\u001b[0m: I/O operation on closed file."
     ]
    }
   ],
   "source": [
    "fayl.readline()"
   ]
  },
  {
   "cell_type": "code",
   "execution_count": 90,
   "id": "17285b66",
   "metadata": {},
   "outputs": [],
   "source": [
    "# .tell() hansi baytda oldugumuzu deyir."
   ]
  },
  {
   "cell_type": "code",
   "execution_count": 93,
   "id": "a4b96867",
   "metadata": {},
   "outputs": [
    {
     "name": "stdout",
     "output_type": "stream",
     "text": [
      "5\n"
     ]
    }
   ],
   "source": [
    "with open(\"yazilarim1.txt\",\"r\",encoding=\"utf-8\") as fayl:\n",
    "    fayl.seek(5)\n",
    "    print(fayl.tell())"
   ]
  },
  {
   "cell_type": "code",
   "execution_count": 95,
   "id": "61a93c9a",
   "metadata": {},
   "outputs": [
    {
     "name": "stdout",
     "output_type": "stream",
     "text": [
      "\n",
      "Sanan\n",
      "Ari\n",
      "16\n"
     ]
    }
   ],
   "source": [
    "with open(\"yazilarim1.txt\",\"r\",encoding=\"utf-8\") as fayl:\n",
    "    fayl.seek(5)\n",
    "    content = fayl.read(10)\n",
    "    print(content)\n",
    "    print(fayl.tell())"
   ]
  },
  {
   "cell_type": "code",
   "execution_count": 96,
   "id": "4ce818db",
   "metadata": {},
   "outputs": [
    {
     "name": "stdout",
     "output_type": "stream",
     "text": [
      "Ulvi\n",
      "Sanan\n",
      "11\n"
     ]
    }
   ],
   "source": [
    "with open(\"yazilarim1.txt\",\"r\",encoding=\"utf-8\") as fayl:\n",
    "    content = fayl.read(10)\n",
    "    print(content)\n",
    "    print(fayl.tell())"
   ]
  },
  {
   "cell_type": "code",
   "execution_count": 97,
   "id": "2e85b66c",
   "metadata": {},
   "outputs": [],
   "source": [
    "# seek() and write()"
   ]
  },
  {
   "cell_type": "code",
   "execution_count": 98,
   "id": "1eefeff1",
   "metadata": {},
   "outputs": [
    {
     "name": "stdout",
     "output_type": "stream",
     "text": [
      "Ulvi\n",
      "Sanan\n",
      "Arif\n",
      "Gunel\n",
      "Adil\n",
      "Orxan\n",
      "Elvin\n"
     ]
    }
   ],
   "source": [
    "with open(\"yazilarim1.txt\",\"r\",encoding=\"utf-8\") as fayl:\n",
    "    print(fayl.read())"
   ]
  },
  {
   "cell_type": "code",
   "execution_count": 100,
   "id": "8c884867",
   "metadata": {},
   "outputs": [],
   "source": [
    "with open(\"yazilarim1.txt\",\"r+\",encoding=\"utf-8\") as fayl:\n",
    "    fayl.seek(5)\n",
    "    fayl.write(\"FLANKES FLANKESOV\")"
   ]
  },
  {
   "cell_type": "code",
   "execution_count": 101,
   "id": "e90c2a1e",
   "metadata": {},
   "outputs": [],
   "source": [
    "with open(\"yazilarim1.txt\",\"r+\",encoding=\"utf-8\") as fayl:\n",
    "    fayl.seek(10)\n",
    "    fayl.write(\"FLANKES FLANKESOV\")"
   ]
  },
  {
   "cell_type": "code",
   "execution_count": 102,
   "id": "cfca5741",
   "metadata": {},
   "outputs": [],
   "source": [
    "with open(\"yazilarim1.txt\",\"a\",encoding=\"utf-8\") as fayl:\n",
    "    fayl.write(\"Rahim\\n\")"
   ]
  },
  {
   "cell_type": "code",
   "execution_count": 103,
   "id": "94b0b519",
   "metadata": {},
   "outputs": [
    {
     "name": "stdout",
     "output_type": "stream",
     "text": [
      "['Ulvi\\n', 'Adil\\n', 'Rasim\\n', 'Rahim\\n', 'Edalet\\n', 'Orxan\\n', 'ElvinRahim\\n']\n"
     ]
    }
   ],
   "source": [
    "with open(\"yazilarim1.txt\",\"r+\",encoding=\"utf-8\") as fayl:\n",
    "    print(fayl.readlines())"
   ]
  },
  {
   "cell_type": "code",
   "execution_count": 104,
   "id": "c2038f14",
   "metadata": {},
   "outputs": [],
   "source": [
    "with open(\"yazilarim1.txt\",\"r+\",encoding=\"utf-8\") as fayl:\n",
    "    listim = fayl.readlines()\n",
    "    listim.insert(3,\"Sanan Samandarli\\n\")\n",
    "    fayl.seek(0)\n",
    "    for setir in listim:\n",
    "        fayl.write(setir)"
   ]
  },
  {
   "cell_type": "code",
   "execution_count": 107,
   "id": "8968a72b",
   "metadata": {},
   "outputs": [
    {
     "name": "stdout",
     "output_type": "stream",
     "text": [
      "Ulvi\n",
      "Adil\n",
      "Rasim\n",
      "Sanan Samandarli\n",
      "Rahim\n",
      "Edalet\n",
      "Orxan\n",
      "ElvinRahim\n",
      "\n"
     ]
    }
   ],
   "source": [
    "with open(\"yazilarim1.txt\",\"r\",encoding=\"utf-8\") as fayl:\n",
    "    print(fayl.read())"
   ]
  },
  {
   "cell_type": "code",
   "execution_count": 108,
   "id": "cb3e5933",
   "metadata": {},
   "outputs": [],
   "source": [
    "with open(\"yazilarim1.txt\",\"r+\",encoding=\"utf-8\") as fayl:\n",
    "    listim = fayl.readlines()\n",
    "    listim.insert(3,\"Arif Karimov\\n\")\n",
    "    fayl.seek(0)\n",
    "    fayl.writelines(listim)   # fayl.writelines()"
   ]
  },
  {
   "cell_type": "code",
   "execution_count": 109,
   "id": "dcf7d09b",
   "metadata": {},
   "outputs": [
    {
     "name": "stdout",
     "output_type": "stream",
     "text": [
      "Ulvi\n",
      "Adil\n",
      "Rasim\n",
      "Arif Karimov\n",
      "Sanan Samandarli\n",
      "Rahim\n",
      "Edalet\n",
      "Orxan\n",
      "ElvinRahim\n",
      "\n"
     ]
    }
   ],
   "source": [
    "with open(\"yazilarim1.txt\",\"r\",encoding=\"utf-8\") as fayl:\n",
    "    print(fayl.read())"
   ]
  },
  {
   "cell_type": "code",
   "execution_count": 110,
   "id": "2080da64",
   "metadata": {},
   "outputs": [],
   "source": [
    "a = \"Ulvi,Allahverdiyev\""
   ]
  },
  {
   "cell_type": "code",
   "execution_count": 111,
   "id": "19045e8f",
   "metadata": {},
   "outputs": [
    {
     "data": {
      "text/plain": [
       "'Ulvi,Allahverdiyev'"
      ]
     },
     "execution_count": 111,
     "metadata": {},
     "output_type": "execute_result"
    }
   ],
   "source": [
    "a"
   ]
  },
  {
   "cell_type": "code",
   "execution_count": 112,
   "id": "c738db93",
   "metadata": {},
   "outputs": [
    {
     "data": {
      "text/plain": [
       "['Ulvi', 'Allahverdiyev']"
      ]
     },
     "execution_count": 112,
     "metadata": {},
     "output_type": "execute_result"
    }
   ],
   "source": [
    "a.split(\",\")"
   ]
  },
  {
   "cell_type": "code",
   "execution_count": 113,
   "id": "8e4763a6",
   "metadata": {},
   "outputs": [],
   "source": [
    "qiymet = \"Ulvi Allahverdiyev,95\""
   ]
  },
  {
   "cell_type": "code",
   "execution_count": 115,
   "id": "5ffabbd2",
   "metadata": {},
   "outputs": [],
   "source": [
    "a = qiymet.split(\",\")"
   ]
  },
  {
   "cell_type": "code",
   "execution_count": 116,
   "id": "74fa48eb",
   "metadata": {},
   "outputs": [
    {
     "data": {
      "text/plain": [
       "'Ulvi Allahverdiyev'"
      ]
     },
     "execution_count": 116,
     "metadata": {},
     "output_type": "execute_result"
    }
   ],
   "source": [
    "a[0]"
   ]
  },
  {
   "cell_type": "code",
   "execution_count": 117,
   "id": "d9519ca6",
   "metadata": {},
   "outputs": [
    {
     "data": {
      "text/plain": [
       "'95'"
      ]
     },
     "execution_count": 117,
     "metadata": {},
     "output_type": "execute_result"
    }
   ],
   "source": [
    "a[1]"
   ]
  },
  {
   "cell_type": "code",
   "execution_count": null,
   "id": "be4ebe23",
   "metadata": {},
   "outputs": [],
   "source": []
  }
 ],
 "metadata": {
  "kernelspec": {
   "display_name": "Python 3",
   "language": "python",
   "name": "python3"
  },
  "language_info": {
   "codemirror_mode": {
    "name": "ipython",
    "version": 3
   },
   "file_extension": ".py",
   "mimetype": "text/x-python",
   "name": "python",
   "nbconvert_exporter": "python",
   "pygments_lexer": "ipython3",
   "version": "3.8.8"
  }
 },
 "nbformat": 4,
 "nbformat_minor": 5
}
