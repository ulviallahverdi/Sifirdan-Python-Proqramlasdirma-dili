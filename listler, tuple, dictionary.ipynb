{
 "cells": [
  {
   "cell_type": "code",
   "execution_count": 1,
   "id": "09b9ad4e",
   "metadata": {},
   "outputs": [],
   "source": [
    "# Bugunun dersleri!\n",
    "\n",
    "# List verilənlər tipi\n",
    "# Tuple verilənlər tipi və onun oxşarları\n",
    "# Dictionary (sozluk) verilənlərin tipi\n",
    "\n",
    "#Verilenlerin tipleri \n",
    "# String\n",
    "# Integer\n",
    "# List\n",
    "# Tuple\n",
    "# Dictionary"
   ]
  },
  {
   "cell_type": "code",
   "execution_count": 2,
   "id": "29180019",
   "metadata": {},
   "outputs": [],
   "source": [
    "listim = [3,4,5,5.6,\"Alma\"]"
   ]
  },
  {
   "cell_type": "code",
   "execution_count": 3,
   "id": "be70e8d2",
   "metadata": {},
   "outputs": [
    {
     "data": {
      "text/plain": [
       "[3, 4, 5, 5.6, 'Alma']"
      ]
     },
     "execution_count": 3,
     "metadata": {},
     "output_type": "execute_result"
    }
   ],
   "source": [
    "listim"
   ]
  },
  {
   "cell_type": "code",
   "execution_count": 4,
   "id": "1aaeb1a5",
   "metadata": {},
   "outputs": [
    {
     "data": {
      "text/plain": [
       "[2, 3, 4, 5, 5, 6, 7, 8]"
      ]
     },
     "execution_count": 4,
     "metadata": {},
     "output_type": "execute_result"
    }
   ],
   "source": [
    "list2 = [2,3,4,5,5,6,7,8]\n",
    "list2"
   ]
  },
  {
   "cell_type": "code",
   "execution_count": 5,
   "id": "7bfe3796",
   "metadata": {},
   "outputs": [],
   "source": [
    "bos_list = []"
   ]
  },
  {
   "cell_type": "code",
   "execution_count": 6,
   "id": "ead31d13",
   "metadata": {},
   "outputs": [
    {
     "data": {
      "text/plain": [
       "[]"
      ]
     },
     "execution_count": 6,
     "metadata": {},
     "output_type": "execute_result"
    }
   ],
   "source": [
    "bos_list"
   ]
  },
  {
   "cell_type": "code",
   "execution_count": 7,
   "id": "0daf1e1f",
   "metadata": {},
   "outputs": [
    {
     "data": {
      "text/plain": [
       "str"
      ]
     },
     "execution_count": 7,
     "metadata": {},
     "output_type": "execute_result"
    }
   ],
   "source": [
    "a= \"salam\"\n",
    "type(a)"
   ]
  },
  {
   "cell_type": "code",
   "execution_count": 8,
   "id": "1d876e92",
   "metadata": {},
   "outputs": [
    {
     "data": {
      "text/plain": [
       "int"
      ]
     },
     "execution_count": 8,
     "metadata": {},
     "output_type": "execute_result"
    }
   ],
   "source": [
    "b = 2\n",
    "type(b)"
   ]
  },
  {
   "cell_type": "code",
   "execution_count": 9,
   "id": "f3d9ae58",
   "metadata": {},
   "outputs": [
    {
     "data": {
      "text/plain": [
       "list"
      ]
     },
     "execution_count": 9,
     "metadata": {},
     "output_type": "execute_result"
    }
   ],
   "source": [
    "c = list()\n",
    "type(c)"
   ]
  },
  {
   "cell_type": "code",
   "execution_count": 10,
   "id": "2a07ad69",
   "metadata": {},
   "outputs": [],
   "source": [
    "listim = [0,0,0,0,5,3,3,4,6,8,3,2,4,7,8]"
   ]
  },
  {
   "cell_type": "code",
   "execution_count": 11,
   "id": "0aed56af",
   "metadata": {},
   "outputs": [
    {
     "data": {
      "text/plain": [
       "[0, 0, 0, 0, 5, 3, 3, 4, 6, 8, 3, 2, 4, 7, 8]"
      ]
     },
     "execution_count": 11,
     "metadata": {},
     "output_type": "execute_result"
    }
   ],
   "source": [
    "listim"
   ]
  },
  {
   "cell_type": "code",
   "execution_count": 12,
   "id": "e8e6aba1",
   "metadata": {},
   "outputs": [],
   "source": [
    "deyer = \"Salam\""
   ]
  },
  {
   "cell_type": "code",
   "execution_count": 15,
   "id": "e903164d",
   "metadata": {},
   "outputs": [
    {
     "name": "stdout",
     "output_type": "stream",
     "text": [
      "S.a.l.a.m\n"
     ]
    }
   ],
   "source": [
    "print(*deyer,sep=\".\")"
   ]
  },
  {
   "cell_type": "code",
   "execution_count": 16,
   "id": "dd4d1d3b",
   "metadata": {},
   "outputs": [
    {
     "data": {
      "text/plain": [
       "'Salam'"
      ]
     },
     "execution_count": 16,
     "metadata": {},
     "output_type": "execute_result"
    }
   ],
   "source": [
    "deyer"
   ]
  },
  {
   "cell_type": "code",
   "execution_count": 17,
   "id": "739dcd3f",
   "metadata": {},
   "outputs": [],
   "source": [
    "lst = list(deyer)"
   ]
  },
  {
   "cell_type": "code",
   "execution_count": 18,
   "id": "1fb03d9d",
   "metadata": {},
   "outputs": [
    {
     "data": {
      "text/plain": [
       "['S', 'a', 'l', 'a', 'm']"
      ]
     },
     "execution_count": 18,
     "metadata": {},
     "output_type": "execute_result"
    }
   ],
   "source": [
    "lst"
   ]
  },
  {
   "cell_type": "code",
   "execution_count": 19,
   "id": "60a7c54e",
   "metadata": {},
   "outputs": [
    {
     "name": "stdout",
     "output_type": "stream",
     "text": [
      "S a l a m\n"
     ]
    }
   ],
   "source": [
    "print(*\"Salam\")"
   ]
  },
  {
   "cell_type": "code",
   "execution_count": 20,
   "id": "575501c0",
   "metadata": {},
   "outputs": [],
   "source": [
    "# Listlerin indekslenmesi ve parcalanmasi"
   ]
  },
  {
   "cell_type": "code",
   "execution_count": 21,
   "id": "b0a8f132",
   "metadata": {},
   "outputs": [
    {
     "data": {
      "text/plain": [
       "[3, 4, 5, 6, 7, 7, 8, 9, 5, 3, 2, 5, 7, 8]"
      ]
     },
     "execution_count": 21,
     "metadata": {},
     "output_type": "execute_result"
    }
   ],
   "source": [
    "listim = [3,4,5,6,7,7,8,9,5,3,2,5,7,8]\n",
    "listim"
   ]
  },
  {
   "cell_type": "code",
   "execution_count": 22,
   "id": "e021acd4",
   "metadata": {},
   "outputs": [
    {
     "data": {
      "text/plain": [
       "'s'"
      ]
     },
     "execution_count": 22,
     "metadata": {},
     "output_type": "execute_result"
    }
   ],
   "source": [
    "a = \"salam\"\n",
    "a[0]"
   ]
  },
  {
   "cell_type": "code",
   "execution_count": 23,
   "id": "5837715d",
   "metadata": {},
   "outputs": [
    {
     "data": {
      "text/plain": [
       "3"
      ]
     },
     "execution_count": 23,
     "metadata": {},
     "output_type": "execute_result"
    }
   ],
   "source": [
    "listim[0]"
   ]
  },
  {
   "cell_type": "code",
   "execution_count": 25,
   "id": "3296830b",
   "metadata": {},
   "outputs": [
    {
     "data": {
      "text/plain": [
       "7"
      ]
     },
     "execution_count": 25,
     "metadata": {},
     "output_type": "execute_result"
    }
   ],
   "source": [
    "listim[-2]"
   ]
  },
  {
   "cell_type": "code",
   "execution_count": 27,
   "id": "cb21659a",
   "metadata": {},
   "outputs": [
    {
     "data": {
      "text/plain": [
       "8"
      ]
     },
     "execution_count": 27,
     "metadata": {},
     "output_type": "execute_result"
    }
   ],
   "source": [
    "listim[6]"
   ]
  },
  {
   "cell_type": "code",
   "execution_count": 28,
   "id": "67f9eff4",
   "metadata": {},
   "outputs": [
    {
     "data": {
      "text/plain": [
       "8"
      ]
     },
     "execution_count": 28,
     "metadata": {},
     "output_type": "execute_result"
    }
   ],
   "source": [
    "listim[len(listim)-1]\n"
   ]
  },
  {
   "cell_type": "code",
   "execution_count": 29,
   "id": "edba0495",
   "metadata": {},
   "outputs": [
    {
     "data": {
      "text/plain": [
       "14"
      ]
     },
     "execution_count": 29,
     "metadata": {},
     "output_type": "execute_result"
    }
   ],
   "source": [
    "len(listim)"
   ]
  },
  {
   "cell_type": "code",
   "execution_count": 30,
   "id": "1ef06629",
   "metadata": {},
   "outputs": [
    {
     "data": {
      "text/plain": [
       "8"
      ]
     },
     "execution_count": 30,
     "metadata": {},
     "output_type": "execute_result"
    }
   ],
   "source": [
    "listim[-1]"
   ]
  },
  {
   "cell_type": "code",
   "execution_count": 31,
   "id": "72e90c68",
   "metadata": {},
   "outputs": [
    {
     "ename": "IndexError",
     "evalue": "list index out of range",
     "output_type": "error",
     "traceback": [
      "\u001b[1;31m---------------------------------------------------------------------------\u001b[0m",
      "\u001b[1;31mIndexError\u001b[0m                                Traceback (most recent call last)",
      "\u001b[1;32m<ipython-input-31-a651ec0e4afb>\u001b[0m in \u001b[0;36m<module>\u001b[1;34m\u001b[0m\n\u001b[1;32m----> 1\u001b[1;33m \u001b[0mlistim\u001b[0m\u001b[1;33m[\u001b[0m\u001b[1;36m15\u001b[0m\u001b[1;33m]\u001b[0m\u001b[1;33m\u001b[0m\u001b[1;33m\u001b[0m\u001b[0m\n\u001b[0m",
      "\u001b[1;31mIndexError\u001b[0m: list index out of range"
     ]
    }
   ],
   "source": [
    "listim[15]"
   ]
  },
  {
   "cell_type": "code",
   "execution_count": 33,
   "id": "17c062bd",
   "metadata": {},
   "outputs": [
    {
     "data": {
      "text/plain": [
       "[4, 5, 6, 7]"
      ]
     },
     "execution_count": 33,
     "metadata": {},
     "output_type": "execute_result"
    }
   ],
   "source": [
    "listim\n",
    "listim[1:5]"
   ]
  },
  {
   "cell_type": "code",
   "execution_count": 34,
   "id": "4876ad18",
   "metadata": {},
   "outputs": [
    {
     "data": {
      "text/plain": [
       "[3, 4, 5, 6, 7, 7, 8, 9, 5, 3, 2, 5, 7, 8]"
      ]
     },
     "execution_count": 34,
     "metadata": {},
     "output_type": "execute_result"
    }
   ],
   "source": [
    "listim"
   ]
  },
  {
   "cell_type": "code",
   "execution_count": 35,
   "id": "9cb1abb9",
   "metadata": {},
   "outputs": [
    {
     "data": {
      "text/plain": [
       "[7, 8, 9, 5, 3, 2, 5, 7, 8]"
      ]
     },
     "execution_count": 35,
     "metadata": {},
     "output_type": "execute_result"
    }
   ],
   "source": [
    "listim[5:]"
   ]
  },
  {
   "cell_type": "code",
   "execution_count": 36,
   "id": "5172755c",
   "metadata": {},
   "outputs": [
    {
     "data": {
      "text/plain": [
       "[3, 5, 7, 8, 5, 2, 7]"
      ]
     },
     "execution_count": 36,
     "metadata": {},
     "output_type": "execute_result"
    }
   ],
   "source": [
    "listim[::2]"
   ]
  },
  {
   "cell_type": "code",
   "execution_count": 37,
   "id": "304980e7",
   "metadata": {},
   "outputs": [],
   "source": [
    "#deyerlerimiz[noqteden evvel solu:sagi ise sagi kesi : bu isareden sonra ise atlamadir]"
   ]
  },
  {
   "cell_type": "code",
   "execution_count": 40,
   "id": "c80a0c66",
   "metadata": {},
   "outputs": [],
   "source": [
    "listim = listim[::-1]"
   ]
  },
  {
   "cell_type": "code",
   "execution_count": 39,
   "id": "7cd2a28b",
   "metadata": {},
   "outputs": [
    {
     "data": {
      "text/plain": [
       "[3, 4, 5, 6, 7, 7, 8, 9, 5, 3, 2, 5, 7, 8]"
      ]
     },
     "execution_count": 39,
     "metadata": {},
     "output_type": "execute_result"
    }
   ],
   "source": [
    "listim"
   ]
  },
  {
   "cell_type": "code",
   "execution_count": 41,
   "id": "e652860c",
   "metadata": {},
   "outputs": [
    {
     "data": {
      "text/plain": [
       "[8, 7, 5, 2, 3, 5, 9, 8, 7, 7, 6, 5, 4, 3]"
      ]
     },
     "execution_count": 41,
     "metadata": {},
     "output_type": "execute_result"
    }
   ],
   "source": [
    "listim"
   ]
  },
  {
   "cell_type": "code",
   "execution_count": 42,
   "id": "9a8ce174",
   "metadata": {},
   "outputs": [],
   "source": [
    "listim = listim[::-1]"
   ]
  },
  {
   "cell_type": "code",
   "execution_count": 43,
   "id": "5ab93ead",
   "metadata": {},
   "outputs": [
    {
     "data": {
      "text/plain": [
       "[3, 4, 5, 6, 7, 7, 8, 9, 5, 3, 2, 5, 7, 8]"
      ]
     },
     "execution_count": 43,
     "metadata": {},
     "output_type": "execute_result"
    }
   ],
   "source": [
    "listim"
   ]
  },
  {
   "cell_type": "code",
   "execution_count": 47,
   "id": "e3941e29",
   "metadata": {},
   "outputs": [],
   "source": [
    "listim1 = [1,2,3,4,5,\"salam\"]\n",
    "listim2 = [6,7,8,9,10,\"dunya\"]\n",
    "assigned_list = listim1 + listim2"
   ]
  },
  {
   "cell_type": "code",
   "execution_count": 48,
   "id": "692bcbce",
   "metadata": {},
   "outputs": [
    {
     "data": {
      "text/plain": [
       "[1, 2, 3, 4, 5, 'salam', 6, 7, 8, 9, 10, 'dunya']"
      ]
     },
     "execution_count": 48,
     "metadata": {},
     "output_type": "execute_result"
    }
   ],
   "source": [
    "assigned_list"
   ]
  },
  {
   "cell_type": "code",
   "execution_count": 50,
   "id": "591bc7b5",
   "metadata": {},
   "outputs": [
    {
     "data": {
      "text/plain": [
       "int"
      ]
     },
     "execution_count": 50,
     "metadata": {},
     "output_type": "execute_result"
    }
   ],
   "source": [
    "type(assigned_list[1])"
   ]
  },
  {
   "cell_type": "code",
   "execution_count": 51,
   "id": "29878d69",
   "metadata": {},
   "outputs": [],
   "source": [
    "listim = [1,2,3,4]\n",
    "listim = listim + [\"Ulvi\"]"
   ]
  },
  {
   "cell_type": "code",
   "execution_count": 52,
   "id": "6a306bf3",
   "metadata": {},
   "outputs": [
    {
     "data": {
      "text/plain": [
       "[1, 2, 3, 4, 'Ulvi']"
      ]
     },
     "execution_count": 52,
     "metadata": {},
     "output_type": "execute_result"
    }
   ],
   "source": [
    "listim"
   ]
  },
  {
   "cell_type": "code",
   "execution_count": 54,
   "id": "41898f2d",
   "metadata": {},
   "outputs": [
    {
     "ename": "TypeError",
     "evalue": "'str' object does not support item assignment",
     "output_type": "error",
     "traceback": [
      "\u001b[1;31m---------------------------------------------------------------------------\u001b[0m",
      "\u001b[1;31mTypeError\u001b[0m                                 Traceback (most recent call last)",
      "\u001b[1;32m<ipython-input-54-9c4638446666>\u001b[0m in \u001b[0;36m<module>\u001b[1;34m\u001b[0m\n\u001b[0;32m      1\u001b[0m \u001b[0ma\u001b[0m \u001b[1;33m=\u001b[0m \u001b[1;34m\"salam\"\u001b[0m\u001b[1;33m\u001b[0m\u001b[1;33m\u001b[0m\u001b[0m\n\u001b[1;32m----> 2\u001b[1;33m \u001b[0ma\u001b[0m\u001b[1;33m[\u001b[0m\u001b[1;36m0\u001b[0m\u001b[1;33m]\u001b[0m \u001b[1;33m=\u001b[0m \u001b[1;34m\"t\"\u001b[0m\u001b[1;33m\u001b[0m\u001b[1;33m\u001b[0m\u001b[0m\n\u001b[0m",
      "\u001b[1;31mTypeError\u001b[0m: 'str' object does not support item assignment"
     ]
    }
   ],
   "source": [
    "a = \"salam\"\n",
    "a[0] = \"t\""
   ]
  },
  {
   "cell_type": "code",
   "execution_count": 55,
   "id": "30dbb302",
   "metadata": {},
   "outputs": [
    {
     "data": {
      "text/plain": [
       "[1, 2, 3, 4, 'Ulvi']"
      ]
     },
     "execution_count": 55,
     "metadata": {},
     "output_type": "execute_result"
    }
   ],
   "source": [
    "listim"
   ]
  },
  {
   "cell_type": "code",
   "execution_count": 56,
   "id": "890d44c3",
   "metadata": {},
   "outputs": [],
   "source": [
    "listim[1] = 5"
   ]
  },
  {
   "cell_type": "code",
   "execution_count": 57,
   "id": "0aad5ea2",
   "metadata": {},
   "outputs": [
    {
     "data": {
      "text/plain": [
       "[1, 5, 3, 4, 'Ulvi']"
      ]
     },
     "execution_count": 57,
     "metadata": {},
     "output_type": "execute_result"
    }
   ],
   "source": [
    "listim"
   ]
  },
  {
   "cell_type": "code",
   "execution_count": 58,
   "id": "2160efd7",
   "metadata": {},
   "outputs": [
    {
     "data": {
      "text/plain": [
       "[1, 5, 3, 4, 'Ulvi']"
      ]
     },
     "execution_count": 58,
     "metadata": {},
     "output_type": "execute_result"
    }
   ],
   "source": [
    "listim"
   ]
  },
  {
   "cell_type": "code",
   "execution_count": 59,
   "id": "c7add7d3",
   "metadata": {},
   "outputs": [
    {
     "data": {
      "text/plain": [
       "[1, 5, 3, 4, 'Ulvi', 1, 5, 3, 4, 'Ulvi', 1, 5, 3, 4, 'Ulvi']"
      ]
     },
     "execution_count": 59,
     "metadata": {},
     "output_type": "execute_result"
    }
   ],
   "source": [
    "listim * 3"
   ]
  },
  {
   "cell_type": "code",
   "execution_count": 60,
   "id": "3e5861b4",
   "metadata": {},
   "outputs": [
    {
     "data": {
      "text/plain": [
       "[1, 5, 3, 4, 'Ulvi']"
      ]
     },
     "execution_count": 60,
     "metadata": {},
     "output_type": "execute_result"
    }
   ],
   "source": [
    "listim"
   ]
  },
  {
   "cell_type": "code",
   "execution_count": 61,
   "id": "6abbdfc5",
   "metadata": {},
   "outputs": [
    {
     "data": {
      "text/plain": [
       "[1, 5, 3, 4, 'Ulvi']"
      ]
     },
     "execution_count": 61,
     "metadata": {},
     "output_type": "execute_result"
    }
   ],
   "source": [
    "# OOP - Object Oriented Programming\n",
    "# Metodlar - \n",
    "# append() - en sona deyer elave edir\n",
    "\n",
    "listim"
   ]
  },
  {
   "cell_type": "code",
   "execution_count": 62,
   "id": "ba0824a3",
   "metadata": {},
   "outputs": [],
   "source": [
    "listim.append(\"Allahverdiyev\")"
   ]
  },
  {
   "cell_type": "code",
   "execution_count": 63,
   "id": "f9c1ba1a",
   "metadata": {},
   "outputs": [
    {
     "data": {
      "text/plain": [
       "[1, 5, 3, 4, 'Ulvi', 'Allahverdiyev']"
      ]
     },
     "execution_count": 63,
     "metadata": {},
     "output_type": "execute_result"
    }
   ],
   "source": [
    "listim"
   ]
  },
  {
   "cell_type": "code",
   "execution_count": 66,
   "id": "dfe2d0ac",
   "metadata": {},
   "outputs": [
    {
     "data": {
      "text/plain": [
       "[1, 5, 3, 4, 'Ulvi', 'Allahverdiyev', 34, 34]"
      ]
     },
     "execution_count": 66,
     "metadata": {},
     "output_type": "execute_result"
    }
   ],
   "source": [
    "listim.append(34)\n",
    "listim"
   ]
  },
  {
   "cell_type": "code",
   "execution_count": 67,
   "id": "eb38e5d7",
   "metadata": {},
   "outputs": [
    {
     "data": {
      "text/plain": [
       "[1, 5, 3, 4, 'Ulvi', 'Allahverdiyev', 34, 34]"
      ]
     },
     "execution_count": 67,
     "metadata": {},
     "output_type": "execute_result"
    }
   ],
   "source": [
    "# pop() metodu - sonu deyeri sili\n",
    "listim\n"
   ]
  },
  {
   "cell_type": "code",
   "execution_count": 71,
   "id": "cc7de1a0",
   "metadata": {},
   "outputs": [
    {
     "data": {
      "text/plain": [
       "'Allahverdiyev'"
      ]
     },
     "execution_count": 71,
     "metadata": {},
     "output_type": "execute_result"
    }
   ],
   "source": [
    "listim.pop()"
   ]
  },
  {
   "cell_type": "code",
   "execution_count": 69,
   "id": "c23f8f4c",
   "metadata": {},
   "outputs": [
    {
     "data": {
      "text/plain": [
       "[1, 5, 3, 4, 'Ulvi', 'Allahverdiyev', 34]"
      ]
     },
     "execution_count": 69,
     "metadata": {},
     "output_type": "execute_result"
    }
   ],
   "source": [
    "listim"
   ]
  },
  {
   "cell_type": "code",
   "execution_count": 72,
   "id": "8677ea9c",
   "metadata": {},
   "outputs": [],
   "source": [
    "deyelerimiz = [1,2,3,4]\n",
    "deyer = deyelerimiz.pop(2)"
   ]
  },
  {
   "cell_type": "code",
   "execution_count": 75,
   "id": "29405a2d",
   "metadata": {},
   "outputs": [
    {
     "data": {
      "text/plain": [
       "3"
      ]
     },
     "execution_count": 75,
     "metadata": {},
     "output_type": "execute_result"
    }
   ],
   "source": [
    "deyer"
   ]
  },
  {
   "cell_type": "code",
   "execution_count": 78,
   "id": "8f499046",
   "metadata": {},
   "outputs": [
    {
     "data": {
      "text/plain": [
       "[1, 2, 4]"
      ]
     },
     "execution_count": 78,
     "metadata": {},
     "output_type": "execute_result"
    }
   ],
   "source": [
    "deyelerimiz"
   ]
  },
  {
   "cell_type": "code",
   "execution_count": 80,
   "id": "fa85b97a",
   "metadata": {},
   "outputs": [
    {
     "data": {
      "text/plain": [
       "10"
      ]
     },
     "execution_count": 80,
     "metadata": {},
     "output_type": "execute_result"
    }
   ],
   "source": [
    "test = [1,2,3,4,5,6,7,8,9,10,\"Ulvi\"]\n",
    "test.pop(-1)\n",
    "test.pop(len(test)-1)"
   ]
  },
  {
   "cell_type": "code",
   "execution_count": 81,
   "id": "73078a87",
   "metadata": {},
   "outputs": [
    {
     "ename": "IndexError",
     "evalue": "list index out of range",
     "output_type": "error",
     "traceback": [
      "\u001b[1;31m---------------------------------------------------------------------------\u001b[0m",
      "\u001b[1;31mIndexError\u001b[0m                                Traceback (most recent call last)",
      "\u001b[1;32m<ipython-input-81-058bc597f56b>\u001b[0m in \u001b[0;36m<module>\u001b[1;34m\u001b[0m\n\u001b[1;32m----> 1\u001b[1;33m \u001b[0mtest\u001b[0m\u001b[1;33m[\u001b[0m\u001b[1;36m20\u001b[0m\u001b[1;33m]\u001b[0m\u001b[1;33m\u001b[0m\u001b[1;33m\u001b[0m\u001b[0m\n\u001b[0m",
      "\u001b[1;31mIndexError\u001b[0m: list index out of range"
     ]
    }
   ],
   "source": [
    "test[20]"
   ]
  },
  {
   "cell_type": "code",
   "execution_count": 85,
   "id": "6a36f5fc",
   "metadata": {},
   "outputs": [
    {
     "name": "stdout",
     "output_type": "stream",
     "text": [
      "Salam Ulvi test\n"
     ]
    }
   ],
   "source": [
    "print(\"Salam Ulvi {}\" . format(\"test\"    ))"
   ]
  },
  {
   "cell_type": "code",
   "execution_count": 86,
   "id": "ccb9fc9a",
   "metadata": {},
   "outputs": [],
   "source": [
    "# sort() - nizama salir"
   ]
  },
  {
   "cell_type": "code",
   "execution_count": 87,
   "id": "53cc5e68",
   "metadata": {},
   "outputs": [
    {
     "data": {
      "text/plain": [
       "[0, 1, 2, 2, 3, 4, 5, 5, 5, 6, 7, 7, 9, 9]"
      ]
     },
     "execution_count": 87,
     "metadata": {},
     "output_type": "execute_result"
    }
   ],
   "source": [
    "a = [1,6,7,9,4,2,5,7,9,0,5,3,2,5]\n",
    "a.sort()\n",
    "a"
   ]
  },
  {
   "cell_type": "code",
   "execution_count": 88,
   "id": "40c89a6a",
   "metadata": {},
   "outputs": [
    {
     "data": {
      "text/plain": [
       "[0, 1, 2, 2, 3, 4, 5, 5, 5, 6, 7, 7, 9, 9]"
      ]
     },
     "execution_count": 88,
     "metadata": {},
     "output_type": "execute_result"
    }
   ],
   "source": [
    "a"
   ]
  },
  {
   "cell_type": "code",
   "execution_count": 89,
   "id": "ccb5614c",
   "metadata": {},
   "outputs": [
    {
     "data": {
      "text/plain": [
       "[0, 1, 2, 2, 3, 4, 5, 5, 5, 6, 7, 7, 9, 9]"
      ]
     },
     "execution_count": 89,
     "metadata": {},
     "output_type": "execute_result"
    }
   ],
   "source": [
    "a"
   ]
  },
  {
   "cell_type": "code",
   "execution_count": 90,
   "id": "348221d1",
   "metadata": {},
   "outputs": [
    {
     "data": {
      "text/plain": [
       "[1, 2, 2, 3]"
      ]
     },
     "execution_count": 90,
     "metadata": {},
     "output_type": "execute_result"
    }
   ],
   "source": [
    "a[1:5]"
   ]
  },
  {
   "cell_type": "code",
   "execution_count": 91,
   "id": "196ae267",
   "metadata": {},
   "outputs": [
    {
     "data": {
      "text/plain": [
       "[0, 1, 2, 2, 3, 4, 5, 5, 5, 6, 7, 7, 9, 9]"
      ]
     },
     "execution_count": 91,
     "metadata": {},
     "output_type": "execute_result"
    }
   ],
   "source": [
    "a"
   ]
  },
  {
   "cell_type": "code",
   "execution_count": 92,
   "id": "0423b5d5",
   "metadata": {},
   "outputs": [
    {
     "data": {
      "text/plain": [
       "['Alma', 'Armud', 'Gilas', 'Heyvan', 'Nar', 'Portagal']"
      ]
     },
     "execution_count": 92,
     "metadata": {},
     "output_type": "execute_result"
    }
   ],
   "source": [
    "# a.metodlar - listi birbasa deyisiklik etmesi ucundir!!!\n",
    "b = [\"Alma\",\"Heyvan\",\"Nar\",\"Armud\",\"Gilas\",\"Portagal\"]\n",
    "b.sort()\n",
    "b"
   ]
  },
  {
   "cell_type": "code",
   "execution_count": 93,
   "id": "13f62631",
   "metadata": {},
   "outputs": [
    {
     "data": {
      "text/plain": [
       "[0, 1, 2, 2, 3, 4, 5, 5, 5, 6, 7, 7, 9, 9]"
      ]
     },
     "execution_count": 93,
     "metadata": {},
     "output_type": "execute_result"
    }
   ],
   "source": [
    "a"
   ]
  },
  {
   "cell_type": "code",
   "execution_count": 96,
   "id": "d53ad404",
   "metadata": {},
   "outputs": [
    {
     "data": {
      "text/plain": [
       "[9, 9, 7, 7, 6, 5, 5, 5, 4, 3, 2, 2, 1, 0]"
      ]
     },
     "execution_count": 96,
     "metadata": {},
     "output_type": "execute_result"
    }
   ],
   "source": [
    "a = [1,6,7,9,4,2,5,7,9,0,5,3,2,5]\n",
    "a.sort(reverse=True)\n",
    "a\n",
    "# True - Dogru\n",
    "# False - Yanlis"
   ]
  },
  {
   "cell_type": "code",
   "execution_count": 97,
   "id": "862a5eb4",
   "metadata": {},
   "outputs": [
    {
     "data": {
      "text/plain": [
       "[9, 9, 7, 7, 6, 5, 5, 5, 4, 3, 2, 2, 1, 0]"
      ]
     },
     "execution_count": 97,
     "metadata": {},
     "output_type": "execute_result"
    }
   ],
   "source": [
    "a\n"
   ]
  },
  {
   "cell_type": "code",
   "execution_count": 98,
   "id": "13307851",
   "metadata": {},
   "outputs": [
    {
     "data": {
      "text/plain": [
       "['Portagal', 'Nar', 'Heyvan', 'Gilas', 'Armud', 'Alma']"
      ]
     },
     "execution_count": 98,
     "metadata": {},
     "output_type": "execute_result"
    }
   ],
   "source": [
    "b = [\"Alma\",\"Heyvan\",\"Nar\",\"Armud\",\"Gilas\",\"Portagal\"]\n",
    "b.sort(reverse=True)\n",
    "b"
   ]
  },
  {
   "cell_type": "code",
   "execution_count": 99,
   "id": "8c4b7b40",
   "metadata": {},
   "outputs": [
    {
     "data": {
      "text/plain": [
       "[[1, 2, 3], [4, 5, 6], [6, 7, 8]]"
      ]
     },
     "execution_count": 99,
     "metadata": {},
     "output_type": "execute_result"
    }
   ],
   "source": [
    "listim1 = [1,2,3]\n",
    "listim2 = [4,5,6]\n",
    "listim3 = [6,7,8]\n",
    "\n",
    "yenilistim = [listim1,listim2,listim3]\n",
    "yenilistim"
   ]
  },
  {
   "cell_type": "code",
   "execution_count": 100,
   "id": "ac4e516f",
   "metadata": {},
   "outputs": [
    {
     "data": {
      "text/plain": [
       "[1, 2, 3]"
      ]
     },
     "execution_count": 100,
     "metadata": {},
     "output_type": "execute_result"
    }
   ],
   "source": [
    "yenilistim[0]"
   ]
  },
  {
   "cell_type": "code",
   "execution_count": 101,
   "id": "0912612c",
   "metadata": {},
   "outputs": [
    {
     "data": {
      "text/plain": [
       "[4, 5, 6]"
      ]
     },
     "execution_count": 101,
     "metadata": {},
     "output_type": "execute_result"
    }
   ],
   "source": [
    "yenilistim[1]"
   ]
  },
  {
   "cell_type": "code",
   "execution_count": 102,
   "id": "6e5cc333",
   "metadata": {},
   "outputs": [
    {
     "data": {
      "text/plain": [
       "[6, 7, 8]"
      ]
     },
     "execution_count": 102,
     "metadata": {},
     "output_type": "execute_result"
    }
   ],
   "source": [
    "yenilistim[2]"
   ]
  },
  {
   "cell_type": "code",
   "execution_count": 103,
   "id": "39bb2ff0",
   "metadata": {},
   "outputs": [],
   "source": [
    "yenilistim = [[[1,[1,2,3,4],3,4], 2, 3], [4, 5, 6], [6, 7, 8]]"
   ]
  },
  {
   "cell_type": "code",
   "execution_count": 104,
   "id": "543e741d",
   "metadata": {},
   "outputs": [
    {
     "data": {
      "text/plain": [
       "[[[1, [1, 2, 3, 4], 3, 4], 2, 3], [4, 5, 6], [6, 7, 8]]"
      ]
     },
     "execution_count": 104,
     "metadata": {},
     "output_type": "execute_result"
    }
   ],
   "source": [
    "yenilistim"
   ]
  },
  {
   "cell_type": "code",
   "execution_count": 105,
   "id": "fc4f0c00",
   "metadata": {},
   "outputs": [
    {
     "data": {
      "text/plain": [
       "[[1, [1, 2, 3, 4], 3, 4], 2, 3]"
      ]
     },
     "execution_count": 105,
     "metadata": {},
     "output_type": "execute_result"
    }
   ],
   "source": [
    "yenilistim[0]"
   ]
  },
  {
   "cell_type": "code",
   "execution_count": 106,
   "id": "e593fd06",
   "metadata": {},
   "outputs": [
    {
     "data": {
      "text/plain": [
       "[1, [1, 2, 3, 4], 3, 4]"
      ]
     },
     "execution_count": 106,
     "metadata": {},
     "output_type": "execute_result"
    }
   ],
   "source": [
    "yenilistim[0][0]"
   ]
  },
  {
   "cell_type": "code",
   "execution_count": 108,
   "id": "5c5fccd8",
   "metadata": {},
   "outputs": [
    {
     "data": {
      "text/plain": [
       "[1, 2, 3, 4]"
      ]
     },
     "execution_count": 108,
     "metadata": {},
     "output_type": "execute_result"
    }
   ],
   "source": [
    "yenilistim[0][0][1]"
   ]
  },
  {
   "cell_type": "code",
   "execution_count": 109,
   "id": "09b3f775",
   "metadata": {},
   "outputs": [
    {
     "data": {
      "text/plain": [
       "list"
      ]
     },
     "execution_count": 109,
     "metadata": {},
     "output_type": "execute_result"
    }
   ],
   "source": [
    "list"
   ]
  },
  {
   "cell_type": "code",
   "execution_count": 110,
   "id": "5e8d6c4a",
   "metadata": {},
   "outputs": [
    {
     "data": {
      "text/plain": [
       "<function print>"
      ]
     },
     "execution_count": 110,
     "metadata": {},
     "output_type": "execute_result"
    }
   ],
   "source": [
    "print"
   ]
  },
  {
   "cell_type": "code",
   "execution_count": 111,
   "id": "ba02b78f",
   "metadata": {},
   "outputs": [
    {
     "data": {
      "text/plain": [
       "<function len(obj, /)>"
      ]
     },
     "execution_count": 111,
     "metadata": {},
     "output_type": "execute_result"
    }
   ],
   "source": [
    "len"
   ]
  },
  {
   "cell_type": "code",
   "execution_count": 112,
   "id": "f1cb12a8",
   "metadata": {},
   "outputs": [
    {
     "data": {
      "text/plain": [
       "type"
      ]
     },
     "execution_count": 112,
     "metadata": {},
     "output_type": "execute_result"
    }
   ],
   "source": [
    "type"
   ]
  },
  {
   "cell_type": "code",
   "execution_count": 113,
   "id": "ce66633b",
   "metadata": {},
   "outputs": [
    {
     "data": {
      "text/plain": [
       "str"
      ]
     },
     "execution_count": 113,
     "metadata": {},
     "output_type": "execute_result"
    }
   ],
   "source": [
    "str"
   ]
  },
  {
   "cell_type": "code",
   "execution_count": 114,
   "id": "cd88055f",
   "metadata": {},
   "outputs": [
    {
     "data": {
      "text/plain": [
       "list"
      ]
     },
     "execution_count": 114,
     "metadata": {},
     "output_type": "execute_result"
    }
   ],
   "source": [
    "list"
   ]
  },
  {
   "cell_type": "code",
   "execution_count": 115,
   "id": "4b04abd8",
   "metadata": {},
   "outputs": [
    {
     "data": {
      "text/plain": [
       "int"
      ]
     },
     "execution_count": 115,
     "metadata": {},
     "output_type": "execute_result"
    }
   ],
   "source": [
    "int"
   ]
  },
  {
   "cell_type": "code",
   "execution_count": 116,
   "id": "461aad33",
   "metadata": {},
   "outputs": [
    {
     "data": {
      "text/plain": [
       "float"
      ]
     },
     "execution_count": 116,
     "metadata": {},
     "output_type": "execute_result"
    }
   ],
   "source": [
    "float"
   ]
  },
  {
   "cell_type": "code",
   "execution_count": 117,
   "id": "54acea64",
   "metadata": {},
   "outputs": [
    {
     "data": {
      "text/plain": [
       "list"
      ]
     },
     "execution_count": 117,
     "metadata": {},
     "output_type": "execute_result"
    }
   ],
   "source": [
    "a = list()\n",
    "type(a)"
   ]
  },
  {
   "cell_type": "code",
   "execution_count": 118,
   "id": "d04cf696",
   "metadata": {},
   "outputs": [],
   "source": [
    "# Tuplelar - deyisdirile bilmeyen data tipi - verilenler tipi\n",
    "tuples = (1,2,3,4,5,6,7,8,9)"
   ]
  },
  {
   "cell_type": "code",
   "execution_count": 119,
   "id": "08e7def2",
   "metadata": {},
   "outputs": [
    {
     "data": {
      "text/plain": [
       "tuple"
      ]
     },
     "execution_count": 119,
     "metadata": {},
     "output_type": "execute_result"
    }
   ],
   "source": [
    "type(tuples)"
   ]
  },
  {
   "cell_type": "code",
   "execution_count": 120,
   "id": "817bd8cb",
   "metadata": {},
   "outputs": [
    {
     "data": {
      "text/plain": [
       "(1, 2, 3, 4, 5, 6, 7, 8, 9)"
      ]
     },
     "execution_count": 120,
     "metadata": {},
     "output_type": "execute_result"
    }
   ],
   "source": [
    "tuples"
   ]
  },
  {
   "cell_type": "code",
   "execution_count": 121,
   "id": "6b491036",
   "metadata": {},
   "outputs": [],
   "source": [
    "a = (1)"
   ]
  },
  {
   "cell_type": "code",
   "execution_count": 122,
   "id": "fc6e10cb",
   "metadata": {},
   "outputs": [
    {
     "data": {
      "text/plain": [
       "1"
      ]
     },
     "execution_count": 122,
     "metadata": {},
     "output_type": "execute_result"
    }
   ],
   "source": [
    "a"
   ]
  },
  {
   "cell_type": "code",
   "execution_count": 123,
   "id": "12a40684",
   "metadata": {},
   "outputs": [
    {
     "data": {
      "text/plain": [
       "int"
      ]
     },
     "execution_count": 123,
     "metadata": {},
     "output_type": "execute_result"
    }
   ],
   "source": [
    "type(a)"
   ]
  },
  {
   "cell_type": "code",
   "execution_count": 124,
   "id": "c518c6b8",
   "metadata": {},
   "outputs": [],
   "source": [
    "a = (1,)"
   ]
  },
  {
   "cell_type": "code",
   "execution_count": 125,
   "id": "7da90471",
   "metadata": {},
   "outputs": [
    {
     "data": {
      "text/plain": [
       "tuple"
      ]
     },
     "execution_count": 125,
     "metadata": {},
     "output_type": "execute_result"
    }
   ],
   "source": [
    "type(a)"
   ]
  },
  {
   "cell_type": "code",
   "execution_count": 126,
   "id": "4ecf6c6b",
   "metadata": {},
   "outputs": [],
   "source": [
    "tuples = (1,2,3,4,5,6,7,8,9)"
   ]
  },
  {
   "cell_type": "code",
   "execution_count": 140,
   "id": "08e2b2ff",
   "metadata": {},
   "outputs": [
    {
     "ename": "ValueError",
     "evalue": "tuple.index(x): x not in tuple",
     "output_type": "error",
     "traceback": [
      "\u001b[1;31m---------------------------------------------------------------------------\u001b[0m",
      "\u001b[1;31mValueError\u001b[0m                                Traceback (most recent call last)",
      "\u001b[1;32m<ipython-input-140-d969742e2d14>\u001b[0m in \u001b[0;36m<module>\u001b[1;34m\u001b[0m\n\u001b[1;32m----> 1\u001b[1;33m \u001b[0mtuples\u001b[0m\u001b[1;33m.\u001b[0m\u001b[0mindex\u001b[0m\u001b[1;33m(\u001b[0m\u001b[1;36m4\u001b[0m\u001b[1;33m)\u001b[0m\u001b[1;33m\u001b[0m\u001b[1;33m\u001b[0m\u001b[0m\n\u001b[0m",
      "\u001b[1;31mValueError\u001b[0m: tuple.index(x): x not in tuple"
     ]
    }
   ],
   "source": [
    "tuples.index(4)"
   ]
  },
  {
   "cell_type": "code",
   "execution_count": 129,
   "id": "b07a2c33",
   "metadata": {},
   "outputs": [
    {
     "data": {
      "text/plain": [
       "9"
      ]
     },
     "execution_count": 129,
     "metadata": {},
     "output_type": "execute_result"
    }
   ],
   "source": [
    "tuples[-1]"
   ]
  },
  {
   "cell_type": "code",
   "execution_count": 138,
   "id": "aae3edfe",
   "metadata": {},
   "outputs": [],
   "source": [
    "# index() metodu - hansi indeksde hansi deyerin oldugunu size gosterir\n",
    "tuples=(\"Ulvi\",1990,\"Azerbaycan\",1800)"
   ]
  },
  {
   "cell_type": "code",
   "execution_count": 134,
   "id": "ad9f9445",
   "metadata": {},
   "outputs": [
    {
     "data": {
      "text/plain": [
       "['__add__',\n",
       " '__class__',\n",
       " '__contains__',\n",
       " '__delattr__',\n",
       " '__dir__',\n",
       " '__doc__',\n",
       " '__eq__',\n",
       " '__format__',\n",
       " '__ge__',\n",
       " '__getattribute__',\n",
       " '__getitem__',\n",
       " '__getnewargs__',\n",
       " '__gt__',\n",
       " '__hash__',\n",
       " '__init__',\n",
       " '__init_subclass__',\n",
       " '__iter__',\n",
       " '__le__',\n",
       " '__len__',\n",
       " '__lt__',\n",
       " '__mul__',\n",
       " '__ne__',\n",
       " '__new__',\n",
       " '__reduce__',\n",
       " '__reduce_ex__',\n",
       " '__repr__',\n",
       " '__rmul__',\n",
       " '__setattr__',\n",
       " '__sizeof__',\n",
       " '__str__',\n",
       " '__subclasshook__',\n",
       " 'count',\n",
       " 'index']"
      ]
     },
     "execution_count": 134,
     "metadata": {},
     "output_type": "execute_result"
    }
   ],
   "source": [
    "dir(tuples)"
   ]
  },
  {
   "cell_type": "code",
   "execution_count": 135,
   "id": "bb804506",
   "metadata": {},
   "outputs": [
    {
     "ename": "ValueError",
     "evalue": "tuple.index(x): x not in tuple",
     "output_type": "error",
     "traceback": [
      "\u001b[1;31m---------------------------------------------------------------------------\u001b[0m",
      "\u001b[1;31mValueError\u001b[0m                                Traceback (most recent call last)",
      "\u001b[1;32m<ipython-input-135-6d05cf6b185f>\u001b[0m in \u001b[0;36m<module>\u001b[1;34m\u001b[0m\n\u001b[1;32m----> 1\u001b[1;33m \u001b[0mtuples\u001b[0m\u001b[1;33m.\u001b[0m\u001b[0mindex\u001b[0m\u001b[1;33m(\u001b[0m\u001b[1;34m\"Ulvi\"\u001b[0m\u001b[1;33m)\u001b[0m\u001b[1;33m\u001b[0m\u001b[1;33m\u001b[0m\u001b[0m\n\u001b[0m",
      "\u001b[1;31mValueError\u001b[0m: tuple.index(x): x not in tuple"
     ]
    }
   ],
   "source": [
    "tuples.index(\"Ulvi\")"
   ]
  },
  {
   "cell_type": "code",
   "execution_count": 137,
   "id": "f32adaf2",
   "metadata": {},
   "outputs": [
    {
     "data": {
      "text/plain": [
       "4"
      ]
     },
     "execution_count": 137,
     "metadata": {},
     "output_type": "execute_result"
    }
   ],
   "source": [
    "deyer = (1,2,3,4,\"salam\")\n",
    "deyer.index(\"salam\")"
   ]
  },
  {
   "cell_type": "code",
   "execution_count": 141,
   "id": "71e5ed3a",
   "metadata": {},
   "outputs": [
    {
     "data": {
      "text/plain": [
       "4"
      ]
     },
     "execution_count": 141,
     "metadata": {},
     "output_type": "execute_result"
    }
   ],
   "source": [
    "deyer.index(\"salam\")"
   ]
  },
  {
   "cell_type": "code",
   "execution_count": 142,
   "id": "d20523bd",
   "metadata": {},
   "outputs": [
    {
     "data": {
      "text/plain": [
       "'salam'"
      ]
     },
     "execution_count": 142,
     "metadata": {},
     "output_type": "execute_result"
    }
   ],
   "source": [
    "deyer[4]"
   ]
  },
  {
   "cell_type": "code",
   "execution_count": 143,
   "id": "8921df9b",
   "metadata": {},
   "outputs": [
    {
     "data": {
      "text/plain": [
       "tuple"
      ]
     },
     "execution_count": 143,
     "metadata": {},
     "output_type": "execute_result"
    }
   ],
   "source": [
    "type(deyer)"
   ]
  },
  {
   "cell_type": "code",
   "execution_count": 144,
   "id": "05b88437",
   "metadata": {},
   "outputs": [
    {
     "data": {
      "text/plain": [
       "1"
      ]
     },
     "execution_count": 144,
     "metadata": {},
     "output_type": "execute_result"
    }
   ],
   "source": [
    "deyer.count(4)"
   ]
  },
  {
   "cell_type": "code",
   "execution_count": 145,
   "id": "5d81218f",
   "metadata": {},
   "outputs": [],
   "source": [
    "deyer = (1,1,1,1,1,1,4,4,4,4,6,7,8,9)"
   ]
  },
  {
   "cell_type": "code",
   "execution_count": 146,
   "id": "d2126c3f",
   "metadata": {},
   "outputs": [
    {
     "data": {
      "text/plain": [
       "6"
      ]
     },
     "execution_count": 146,
     "metadata": {},
     "output_type": "execute_result"
    }
   ],
   "source": [
    "deyer.count(1)"
   ]
  },
  {
   "cell_type": "code",
   "execution_count": 147,
   "id": "4325125a",
   "metadata": {},
   "outputs": [
    {
     "data": {
      "text/plain": [
       "('Ulvi', 1990, 'Azerbaycan', 1800)"
      ]
     },
     "execution_count": 147,
     "metadata": {},
     "output_type": "execute_result"
    }
   ],
   "source": [
    "tuples"
   ]
  },
  {
   "cell_type": "code",
   "execution_count": 149,
   "id": "36263709",
   "metadata": {},
   "outputs": [
    {
     "ename": "TypeError",
     "evalue": "'tuple' object does not support item assignment",
     "output_type": "error",
     "traceback": [
      "\u001b[1;31m---------------------------------------------------------------------------\u001b[0m",
      "\u001b[1;31mTypeError\u001b[0m                                 Traceback (most recent call last)",
      "\u001b[1;32m<ipython-input-149-518f4ffa8101>\u001b[0m in \u001b[0;36m<module>\u001b[1;34m\u001b[0m\n\u001b[1;32m----> 1\u001b[1;33m \u001b[0mtuples\u001b[0m\u001b[1;33m[\u001b[0m\u001b[1;36m0\u001b[0m\u001b[1;33m]\u001b[0m \u001b[1;33m=\u001b[0m \u001b[1;34m\"Rasim\"\u001b[0m\u001b[1;33m\u001b[0m\u001b[1;33m\u001b[0m\u001b[0m\n\u001b[0m",
      "\u001b[1;31mTypeError\u001b[0m: 'tuple' object does not support item assignment"
     ]
    }
   ],
   "source": [
    "tuples[0] = \"Rasim\""
   ]
  },
  {
   "cell_type": "code",
   "execution_count": 150,
   "id": "0713e14f",
   "metadata": {},
   "outputs": [
    {
     "ename": "AttributeError",
     "evalue": "'tuple' object has no attribute 'remove'",
     "output_type": "error",
     "traceback": [
      "\u001b[1;31m---------------------------------------------------------------------------\u001b[0m",
      "\u001b[1;31mAttributeError\u001b[0m                            Traceback (most recent call last)",
      "\u001b[1;32m<ipython-input-150-1cfa63744a7f>\u001b[0m in \u001b[0;36m<module>\u001b[1;34m\u001b[0m\n\u001b[0;32m      2\u001b[0m \u001b[1;31m# Deyisilmeyen tapa tipi ise - tuple,str -dir\u001b[0m\u001b[1;33m\u001b[0m\u001b[1;33m\u001b[0m\u001b[1;33m\u001b[0m\u001b[0m\n\u001b[0;32m      3\u001b[0m \u001b[1;33m\u001b[0m\u001b[0m\n\u001b[1;32m----> 4\u001b[1;33m \u001b[0mtuples\u001b[0m\u001b[1;33m.\u001b[0m\u001b[0mremove\u001b[0m\u001b[1;33m(\u001b[0m\u001b[1;34m\"Ulvi\"\u001b[0m\u001b[1;33m)\u001b[0m\u001b[1;33m\u001b[0m\u001b[1;33m\u001b[0m\u001b[0m\n\u001b[0m",
      "\u001b[1;31mAttributeError\u001b[0m: 'tuple' object has no attribute 'remove'"
     ]
    }
   ],
   "source": [
    "# Deyisilen data tipleri - list\n",
    "# Deyisilmeyen tapa tipi ise - tuple,str -dir\n",
    "\n",
    "tuples.remove(\"Ulvi\")"
   ]
  },
  {
   "cell_type": "code",
   "execution_count": 151,
   "id": "bcc661d0",
   "metadata": {},
   "outputs": [],
   "source": [
    "# Read Only (yalniz oxunabilen) - Writable (yazila veya pozula bilen)\n",
    "\n",
    "\n",
    "\n",
    "\n",
    "# Dictionary - Sozluk , Luget"
   ]
  },
  {
   "cell_type": "code",
   "execution_count": 152,
   "id": "8b929ea3",
   "metadata": {},
   "outputs": [
    {
     "data": {
      "text/plain": [
       "dict"
      ]
     },
     "execution_count": 152,
     "metadata": {},
     "output_type": "execute_result"
    }
   ],
   "source": [
    "a = dict()\n",
    "type(a)"
   ]
  },
  {
   "cell_type": "code",
   "execution_count": 153,
   "id": "faaae0bd",
   "metadata": {},
   "outputs": [
    {
     "data": {
      "text/plain": [
       "dict"
      ]
     },
     "execution_count": 153,
     "metadata": {},
     "output_type": "execute_result"
    }
   ],
   "source": [
    "dict"
   ]
  },
  {
   "cell_type": "code",
   "execution_count": 154,
   "id": "de4d2e06",
   "metadata": {},
   "outputs": [],
   "source": [
    "luget = {\"sifir\":0,\"bir\":1,\"iki\":2,\"uc\":3}"
   ]
  },
  {
   "cell_type": "code",
   "execution_count": 155,
   "id": "dbab012f",
   "metadata": {},
   "outputs": [
    {
     "data": {
      "text/plain": [
       "{'sifir': 0, 'bir': 1, 'iki': 2, 'uc': 3}"
      ]
     },
     "execution_count": 155,
     "metadata": {},
     "output_type": "execute_result"
    }
   ],
   "source": [
    "luget"
   ]
  },
  {
   "cell_type": "code",
   "execution_count": 156,
   "id": "c51c5702",
   "metadata": {},
   "outputs": [],
   "source": [
    "luget = {}"
   ]
  },
  {
   "cell_type": "code",
   "execution_count": 157,
   "id": "0e9b39dc",
   "metadata": {},
   "outputs": [
    {
     "data": {
      "text/plain": [
       "{}"
      ]
     },
     "execution_count": 157,
     "metadata": {},
     "output_type": "execute_result"
    }
   ],
   "source": [
    "luget"
   ]
  },
  {
   "cell_type": "code",
   "execution_count": 158,
   "id": "b61c1940",
   "metadata": {},
   "outputs": [
    {
     "data": {
      "text/plain": [
       "dict"
      ]
     },
     "execution_count": 158,
     "metadata": {},
     "output_type": "execute_result"
    }
   ],
   "source": [
    "type(luget)"
   ]
  },
  {
   "cell_type": "code",
   "execution_count": 159,
   "id": "5b69ed0d",
   "metadata": {},
   "outputs": [
    {
     "data": {
      "text/plain": [
       "{}"
      ]
     },
     "execution_count": 159,
     "metadata": {},
     "output_type": "execute_result"
    }
   ],
   "source": [
    "luget"
   ]
  },
  {
   "cell_type": "code",
   "execution_count": 160,
   "id": "34fd8d7a",
   "metadata": {},
   "outputs": [],
   "source": [
    "luget = {\"sifir\":0,\"bir\":1,\"iki\":2,\"uc\":3}\n",
    "# Keys are on the left  - Acarlar solda olur!\n",
    "# Values are on the right - Deyerler ise sagda olur!"
   ]
  },
  {
   "cell_type": "code",
   "execution_count": 161,
   "id": "03b01387",
   "metadata": {},
   "outputs": [
    {
     "data": {
      "text/plain": [
       "{'sifir': 0, 'bir': 1, 'iki': 2, 'uc': 3}"
      ]
     },
     "execution_count": 161,
     "metadata": {},
     "output_type": "execute_result"
    }
   ],
   "source": [
    "luget"
   ]
  },
  {
   "cell_type": "code",
   "execution_count": 162,
   "id": "7818ccd1",
   "metadata": {},
   "outputs": [
    {
     "data": {
      "text/plain": [
       "1"
      ]
     },
     "execution_count": 162,
     "metadata": {},
     "output_type": "execute_result"
    }
   ],
   "source": [
    "luget[\"bir\"]"
   ]
  },
  {
   "cell_type": "code",
   "execution_count": 163,
   "id": "6e2448d1",
   "metadata": {},
   "outputs": [
    {
     "data": {
      "text/plain": [
       "3"
      ]
     },
     "execution_count": 163,
     "metadata": {},
     "output_type": "execute_result"
    }
   ],
   "source": [
    "luget[\"uc\"]"
   ]
  },
  {
   "cell_type": "code",
   "execution_count": 164,
   "id": "d69fac77",
   "metadata": {},
   "outputs": [
    {
     "ename": "KeyError",
     "evalue": "'bes'",
     "output_type": "error",
     "traceback": [
      "\u001b[1;31m---------------------------------------------------------------------------\u001b[0m",
      "\u001b[1;31mKeyError\u001b[0m                                  Traceback (most recent call last)",
      "\u001b[1;32m<ipython-input-164-cd298fc502d2>\u001b[0m in \u001b[0;36m<module>\u001b[1;34m\u001b[0m\n\u001b[1;32m----> 1\u001b[1;33m \u001b[0mluget\u001b[0m\u001b[1;33m[\u001b[0m\u001b[1;34m\"bes\"\u001b[0m\u001b[1;33m]\u001b[0m\u001b[1;33m\u001b[0m\u001b[1;33m\u001b[0m\u001b[0m\n\u001b[0m",
      "\u001b[1;31mKeyError\u001b[0m: 'bes'"
     ]
    }
   ],
   "source": [
    "luget[\"bes\"]"
   ]
  },
  {
   "cell_type": "code",
   "execution_count": 165,
   "id": "3a51d32e",
   "metadata": {},
   "outputs": [
    {
     "ename": "KeyError",
     "evalue": "1",
     "output_type": "error",
     "traceback": [
      "\u001b[1;31m---------------------------------------------------------------------------\u001b[0m",
      "\u001b[1;31mKeyError\u001b[0m                                  Traceback (most recent call last)",
      "\u001b[1;32m<ipython-input-165-34497b721ba4>\u001b[0m in \u001b[0;36m<module>\u001b[1;34m\u001b[0m\n\u001b[1;32m----> 1\u001b[1;33m \u001b[0mluget\u001b[0m\u001b[1;33m[\u001b[0m\u001b[1;36m1\u001b[0m\u001b[1;33m]\u001b[0m\u001b[1;33m\u001b[0m\u001b[1;33m\u001b[0m\u001b[0m\n\u001b[0m",
      "\u001b[1;31mKeyError\u001b[0m: 1"
     ]
    }
   ],
   "source": [
    "luget[1]"
   ]
  },
  {
   "cell_type": "code",
   "execution_count": 166,
   "id": "dcda862a",
   "metadata": {},
   "outputs": [],
   "source": [
    "luget={\"bir\":[1,2,3,4],\"iki\":[[1,2],[3,4],[5,6]], \"uc\": 15}"
   ]
  },
  {
   "cell_type": "code",
   "execution_count": 167,
   "id": "694af002",
   "metadata": {},
   "outputs": [
    {
     "data": {
      "text/plain": [
       "{'bir': [1, 2, 3, 4], 'iki': [[1, 2], [3, 4], [5, 6]], 'uc': 15}"
      ]
     },
     "execution_count": 167,
     "metadata": {},
     "output_type": "execute_result"
    }
   ],
   "source": [
    "luget"
   ]
  },
  {
   "cell_type": "code",
   "execution_count": 169,
   "id": "b1fb52b8",
   "metadata": {},
   "outputs": [
    {
     "data": {
      "text/plain": [
       "[[1, 2], [3, 4], [5, 6]]"
      ]
     },
     "execution_count": 169,
     "metadata": {},
     "output_type": "execute_result"
    }
   ],
   "source": [
    "luget[\"iki\"]"
   ]
  },
  {
   "cell_type": "code",
   "execution_count": 170,
   "id": "a3852a09",
   "metadata": {},
   "outputs": [
    {
     "data": {
      "text/plain": [
       "[1, 2]"
      ]
     },
     "execution_count": 170,
     "metadata": {},
     "output_type": "execute_result"
    }
   ],
   "source": [
    "luget[\"iki\"][0]"
   ]
  },
  {
   "cell_type": "code",
   "execution_count": 171,
   "id": "54c68a12",
   "metadata": {},
   "outputs": [
    {
     "data": {
      "text/plain": [
       "2"
      ]
     },
     "execution_count": 171,
     "metadata": {},
     "output_type": "execute_result"
    }
   ],
   "source": [
    "luget[\"iki\"][0][1]"
   ]
  },
  {
   "cell_type": "code",
   "execution_count": 172,
   "id": "a85fa463",
   "metadata": {},
   "outputs": [
    {
     "data": {
      "text/plain": [
       "15"
      ]
     },
     "execution_count": 172,
     "metadata": {},
     "output_type": "execute_result"
    }
   ],
   "source": [
    "luget[\"uc\"]\n",
    "a = 1\n",
    "a+=1\n",
    "a = a + 1"
   ]
  },
  {
   "cell_type": "code",
   "execution_count": 173,
   "id": "0fa6f42f",
   "metadata": {},
   "outputs": [],
   "source": [
    "luget[\"uc\"] += 5"
   ]
  },
  {
   "cell_type": "code",
   "execution_count": 174,
   "id": "d9a84e2c",
   "metadata": {},
   "outputs": [
    {
     "data": {
      "text/plain": [
       "20"
      ]
     },
     "execution_count": 174,
     "metadata": {},
     "output_type": "execute_result"
    }
   ],
   "source": [
    "luget[\"uc\"]"
   ]
  },
  {
   "cell_type": "code",
   "execution_count": 175,
   "id": "0bf82406",
   "metadata": {},
   "outputs": [
    {
     "data": {
      "text/plain": [
       "{'bir': [1, 2, 3, 4], 'iki': [[1, 2], [3, 4], [5, 6]], 'uc': 20}"
      ]
     },
     "execution_count": 175,
     "metadata": {},
     "output_type": "execute_result"
    }
   ],
   "source": [
    "luget"
   ]
  },
  {
   "cell_type": "code",
   "execution_count": 176,
   "id": "a7539857",
   "metadata": {},
   "outputs": [],
   "source": [
    "a = {\"bir\":1,\"iki\":2,\"uc\":3}\n"
   ]
  },
  {
   "cell_type": "code",
   "execution_count": 177,
   "id": "0b6a7025",
   "metadata": {},
   "outputs": [
    {
     "data": {
      "text/plain": [
       "{'bir': 1, 'iki': 2, 'uc': 3}"
      ]
     },
     "execution_count": 177,
     "metadata": {},
     "output_type": "execute_result"
    }
   ],
   "source": [
    "a"
   ]
  },
  {
   "cell_type": "code",
   "execution_count": 178,
   "id": "a4d1247a",
   "metadata": {},
   "outputs": [],
   "source": [
    "a[\"dord\"] = 4"
   ]
  },
  {
   "cell_type": "code",
   "execution_count": 179,
   "id": "e4354cb7",
   "metadata": {},
   "outputs": [
    {
     "data": {
      "text/plain": [
       "{'bir': 1, 'iki': 2, 'uc': 3, 'dord': 4}"
      ]
     },
     "execution_count": 179,
     "metadata": {},
     "output_type": "execute_result"
    }
   ],
   "source": [
    "a"
   ]
  },
  {
   "cell_type": "code",
   "execution_count": 180,
   "id": "c48fa54a",
   "metadata": {},
   "outputs": [
    {
     "data": {
      "text/plain": [
       "{'bir': 1, 'iki': 2, 'uc': 3, 'dord': 4}"
      ]
     },
     "execution_count": 180,
     "metadata": {},
     "output_type": "execute_result"
    }
   ],
   "source": [
    "a"
   ]
  },
  {
   "cell_type": "code",
   "execution_count": 181,
   "id": "3d8205e7",
   "metadata": {},
   "outputs": [],
   "source": [
    "#Dynamic adding - Dinamik elave olunma"
   ]
  },
  {
   "cell_type": "code",
   "execution_count": 182,
   "id": "fe9b903b",
   "metadata": {},
   "outputs": [],
   "source": [
    "# Ic ice dictionary"
   ]
  },
  {
   "cell_type": "code",
   "execution_count": 183,
   "id": "99eae903",
   "metadata": {},
   "outputs": [],
   "source": [
    "a = {\"saylar\":{\"bir\":1,\"iki\":2,\"uc\":3}, \"meyveler\": {\"gilas\":\"yaz\",\"portagal\":\"qish\",\"alca\":\"yay\"}}"
   ]
  },
  {
   "cell_type": "code",
   "execution_count": 184,
   "id": "7d532651",
   "metadata": {},
   "outputs": [
    {
     "data": {
      "text/plain": [
       "{'saylar': {'bir': 1, 'iki': 2, 'uc': 3},\n",
       " 'meyveler': {'gilas': 'yaz', 'portagal': 'qish', 'alca': 'yay'}}"
      ]
     },
     "execution_count": 184,
     "metadata": {},
     "output_type": "execute_result"
    }
   ],
   "source": [
    "a"
   ]
  },
  {
   "cell_type": "code",
   "execution_count": 186,
   "id": "2acbfddf",
   "metadata": {},
   "outputs": [
    {
     "data": {
      "text/plain": [
       "1"
      ]
     },
     "execution_count": 186,
     "metadata": {},
     "output_type": "execute_result"
    }
   ],
   "source": [
    "a[\"saylar\"][\"bir\"]"
   ]
  },
  {
   "cell_type": "code",
   "execution_count": 187,
   "id": "112b0763",
   "metadata": {},
   "outputs": [
    {
     "data": {
      "text/plain": [
       "{'gilas': 'yaz', 'portagal': 'qish', 'alca': 'yay'}"
      ]
     },
     "execution_count": 187,
     "metadata": {},
     "output_type": "execute_result"
    }
   ],
   "source": [
    "a[\"meyveler\"]"
   ]
  },
  {
   "cell_type": "code",
   "execution_count": 188,
   "id": "d38b8df6",
   "metadata": {},
   "outputs": [
    {
     "data": {
      "text/plain": [
       "'qish'"
      ]
     },
     "execution_count": 188,
     "metadata": {},
     "output_type": "execute_result"
    }
   ],
   "source": [
    "a[\"meyveler\"][\"portagal\"]"
   ]
  },
  {
   "cell_type": "code",
   "execution_count": 189,
   "id": "58e9d9eb",
   "metadata": {},
   "outputs": [
    {
     "data": {
      "text/plain": [
       "dict_values([1, 2, 3])"
      ]
     },
     "execution_count": 189,
     "metadata": {},
     "output_type": "execute_result"
    }
   ],
   "source": [
    "# Dictionary Metodlari\n",
    "yeni_dictionary = {\"bir\":1,\"iki\":2,\"uc\":3}\n",
    "yeni_dictionary.values()\n"
   ]
  },
  {
   "cell_type": "code",
   "execution_count": 192,
   "id": "6f463c29",
   "metadata": {},
   "outputs": [
    {
     "data": {
      "text/plain": [
       "dict_keys(['bir', 'iki', 'uc'])"
      ]
     },
     "execution_count": 192,
     "metadata": {},
     "output_type": "execute_result"
    }
   ],
   "source": [
    "yeni_dictionary.keys()"
   ]
  },
  {
   "cell_type": "code",
   "execution_count": 195,
   "id": "7aa4bf00",
   "metadata": {},
   "outputs": [],
   "source": [
    "a = yeni_dictionary.items()"
   ]
  },
  {
   "cell_type": "code",
   "execution_count": 196,
   "id": "191db64d",
   "metadata": {},
   "outputs": [
    {
     "data": {
      "text/plain": [
       "dict_items([('bir', 1), ('iki', 2), ('uc', 3)])"
      ]
     },
     "execution_count": 196,
     "metadata": {},
     "output_type": "execute_result"
    }
   ],
   "source": [
    "a"
   ]
  },
  {
   "cell_type": "code",
   "execution_count": 197,
   "id": "850f2212",
   "metadata": {},
   "outputs": [
    {
     "data": {
      "text/plain": [
       "dict_items"
      ]
     },
     "execution_count": 197,
     "metadata": {},
     "output_type": "execute_result"
    }
   ],
   "source": [
    "type(a)"
   ]
  },
  {
   "cell_type": "code",
   "execution_count": 198,
   "id": "66760fa4",
   "metadata": {},
   "outputs": [
    {
     "data": {
      "text/plain": [
       "['__class__',\n",
       " '__contains__',\n",
       " '__delattr__',\n",
       " '__delitem__',\n",
       " '__dir__',\n",
       " '__doc__',\n",
       " '__eq__',\n",
       " '__format__',\n",
       " '__ge__',\n",
       " '__getattribute__',\n",
       " '__getitem__',\n",
       " '__gt__',\n",
       " '__hash__',\n",
       " '__init__',\n",
       " '__init_subclass__',\n",
       " '__iter__',\n",
       " '__le__',\n",
       " '__len__',\n",
       " '__lt__',\n",
       " '__ne__',\n",
       " '__new__',\n",
       " '__reduce__',\n",
       " '__reduce_ex__',\n",
       " '__repr__',\n",
       " '__reversed__',\n",
       " '__setattr__',\n",
       " '__setitem__',\n",
       " '__sizeof__',\n",
       " '__str__',\n",
       " '__subclasshook__',\n",
       " 'clear',\n",
       " 'copy',\n",
       " 'fromkeys',\n",
       " 'get',\n",
       " 'items',\n",
       " 'keys',\n",
       " 'pop',\n",
       " 'popitem',\n",
       " 'setdefault',\n",
       " 'update',\n",
       " 'values']"
      ]
     },
     "execution_count": 198,
     "metadata": {},
     "output_type": "execute_result"
    }
   ],
   "source": [
    "#list.metodu unutduz!!!\n",
    "dir(dict)"
   ]
  },
  {
   "cell_type": "code",
   "execution_count": 199,
   "id": "4e854c89",
   "metadata": {},
   "outputs": [
    {
     "data": {
      "text/plain": [
       "['__add__',\n",
       " '__class__',\n",
       " '__contains__',\n",
       " '__delattr__',\n",
       " '__delitem__',\n",
       " '__dir__',\n",
       " '__doc__',\n",
       " '__eq__',\n",
       " '__format__',\n",
       " '__ge__',\n",
       " '__getattribute__',\n",
       " '__getitem__',\n",
       " '__gt__',\n",
       " '__hash__',\n",
       " '__iadd__',\n",
       " '__imul__',\n",
       " '__init__',\n",
       " '__init_subclass__',\n",
       " '__iter__',\n",
       " '__le__',\n",
       " '__len__',\n",
       " '__lt__',\n",
       " '__mul__',\n",
       " '__ne__',\n",
       " '__new__',\n",
       " '__reduce__',\n",
       " '__reduce_ex__',\n",
       " '__repr__',\n",
       " '__reversed__',\n",
       " '__rmul__',\n",
       " '__setattr__',\n",
       " '__setitem__',\n",
       " '__sizeof__',\n",
       " '__str__',\n",
       " '__subclasshook__',\n",
       " 'append',\n",
       " 'clear',\n",
       " 'copy',\n",
       " 'count',\n",
       " 'extend',\n",
       " 'index',\n",
       " 'insert',\n",
       " 'pop',\n",
       " 'remove',\n",
       " 'reverse',\n",
       " 'sort']"
      ]
     },
     "execution_count": 199,
     "metadata": {},
     "output_type": "execute_result"
    }
   ],
   "source": [
    "dir(list)"
   ]
  },
  {
   "cell_type": "code",
   "execution_count": 200,
   "id": "2a9473ab",
   "metadata": {},
   "outputs": [
    {
     "data": {
      "text/plain": [
       "['__add__',\n",
       " '__class__',\n",
       " '__contains__',\n",
       " '__delattr__',\n",
       " '__dir__',\n",
       " '__doc__',\n",
       " '__eq__',\n",
       " '__format__',\n",
       " '__ge__',\n",
       " '__getattribute__',\n",
       " '__getitem__',\n",
       " '__getnewargs__',\n",
       " '__gt__',\n",
       " '__hash__',\n",
       " '__init__',\n",
       " '__init_subclass__',\n",
       " '__iter__',\n",
       " '__le__',\n",
       " '__len__',\n",
       " '__lt__',\n",
       " '__mod__',\n",
       " '__mul__',\n",
       " '__ne__',\n",
       " '__new__',\n",
       " '__reduce__',\n",
       " '__reduce_ex__',\n",
       " '__repr__',\n",
       " '__rmod__',\n",
       " '__rmul__',\n",
       " '__setattr__',\n",
       " '__sizeof__',\n",
       " '__str__',\n",
       " '__subclasshook__',\n",
       " 'capitalize',\n",
       " 'casefold',\n",
       " 'center',\n",
       " 'count',\n",
       " 'encode',\n",
       " 'endswith',\n",
       " 'expandtabs',\n",
       " 'find',\n",
       " 'format',\n",
       " 'format_map',\n",
       " 'index',\n",
       " 'isalnum',\n",
       " 'isalpha',\n",
       " 'isascii',\n",
       " 'isdecimal',\n",
       " 'isdigit',\n",
       " 'isidentifier',\n",
       " 'islower',\n",
       " 'isnumeric',\n",
       " 'isprintable',\n",
       " 'isspace',\n",
       " 'istitle',\n",
       " 'isupper',\n",
       " 'join',\n",
       " 'ljust',\n",
       " 'lower',\n",
       " 'lstrip',\n",
       " 'maketrans',\n",
       " 'partition',\n",
       " 'replace',\n",
       " 'rfind',\n",
       " 'rindex',\n",
       " 'rjust',\n",
       " 'rpartition',\n",
       " 'rsplit',\n",
       " 'rstrip',\n",
       " 'split',\n",
       " 'splitlines',\n",
       " 'startswith',\n",
       " 'strip',\n",
       " 'swapcase',\n",
       " 'title',\n",
       " 'translate',\n",
       " 'upper',\n",
       " 'zfill']"
      ]
     },
     "execution_count": 200,
     "metadata": {},
     "output_type": "execute_result"
    }
   ],
   "source": [
    "dir(str)"
   ]
  },
  {
   "cell_type": "code",
   "execution_count": 204,
   "id": "61eb48ca",
   "metadata": {},
   "outputs": [
    {
     "data": {
      "text/plain": [
       "True"
      ]
     },
     "execution_count": 204,
     "metadata": {},
     "output_type": "execute_result"
    }
   ],
   "source": [
    "a = \"ulvi\"\n",
    "a.islower()"
   ]
  },
  {
   "cell_type": "code",
   "execution_count": 208,
   "id": "3917458c",
   "metadata": {},
   "outputs": [
    {
     "data": {
      "text/plain": [
       "{'ulvi': 123}"
      ]
     },
     "execution_count": 208,
     "metadata": {},
     "output_type": "execute_result"
    }
   ],
   "source": [
    "a = {2:{\"ulvi\":123},3:[\"test\",\"ulvi\"]}\n",
    "a[2]"
   ]
  },
  {
   "cell_type": "code",
   "execution_count": 209,
   "id": "350bc7b5",
   "metadata": {},
   "outputs": [
    {
     "data": {
      "text/plain": [
       "['__class__',\n",
       " '__contains__',\n",
       " '__delattr__',\n",
       " '__delitem__',\n",
       " '__dir__',\n",
       " '__doc__',\n",
       " '__eq__',\n",
       " '__format__',\n",
       " '__ge__',\n",
       " '__getattribute__',\n",
       " '__getitem__',\n",
       " '__gt__',\n",
       " '__hash__',\n",
       " '__init__',\n",
       " '__init_subclass__',\n",
       " '__iter__',\n",
       " '__le__',\n",
       " '__len__',\n",
       " '__lt__',\n",
       " '__ne__',\n",
       " '__new__',\n",
       " '__reduce__',\n",
       " '__reduce_ex__',\n",
       " '__repr__',\n",
       " '__reversed__',\n",
       " '__setattr__',\n",
       " '__setitem__',\n",
       " '__sizeof__',\n",
       " '__str__',\n",
       " '__subclasshook__',\n",
       " 'clear',\n",
       " 'copy',\n",
       " 'fromkeys',\n",
       " 'get',\n",
       " 'items',\n",
       " 'keys',\n",
       " 'pop',\n",
       " 'popitem',\n",
       " 'setdefault',\n",
       " 'update',\n",
       " 'values']"
      ]
     },
     "execution_count": 209,
     "metadata": {},
     "output_type": "execute_result"
    }
   ],
   "source": [
    "dir(dict)"
   ]
  },
  {
   "cell_type": "code",
   "execution_count": 210,
   "id": "eb9c00de",
   "metadata": {},
   "outputs": [
    {
     "name": "stdout",
     "output_type": "stream",
     "text": [
      "34.000000\n"
     ]
    }
   ],
   "source": [
    "print(\"{:2f}\".format(34))"
   ]
  },
  {
   "cell_type": "code",
   "execution_count": null,
   "id": "aae0b1b6",
   "metadata": {},
   "outputs": [],
   "source": []
  }
 ],
 "metadata": {
  "kernelspec": {
   "display_name": "Python 3",
   "language": "python",
   "name": "python3"
  },
  "language_info": {
   "codemirror_mode": {
    "name": "ipython",
    "version": 3
   },
   "file_extension": ".py",
   "mimetype": "text/x-python",
   "name": "python",
   "nbconvert_exporter": "python",
   "pygments_lexer": "ipython3",
   "version": "3.8.8"
  }
 },
 "nbformat": 4,
 "nbformat_minor": 5
}
