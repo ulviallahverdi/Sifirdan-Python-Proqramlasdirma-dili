{
 "cells": [
  {
   "cell_type": "markdown",
   "metadata": {},
   "source": [
    "## İrəli səviyyədə verilənlərin tipləri və obyektlər\n",
    "\n",
    "### Problem 1\n",
    "\n",
    "Əlinizdə uzun bir string olsun\n",
    "\n",
    "                \"ProgramlaşdırmaTapşırıqİrəliSəviyyəVerilənlərStrukturlarıvəObObyektləripynb\"\n",
    "                \n",
    "Bu stringin içərisində hərflərin frekansını( bir hərf neçə dəfə təkrarlandığı) tapmağa çalışın.\n",
    "\n",
    "***Qısa kömək : Kodlaşdırma praktikasında buna oxşar bir problem yazmışdıq.***\n",
    "\n",
    "\n"
   ]
  },
  {
   "cell_type": "markdown",
   "metadata": {},
   "source": [
    "### Problem 2\n",
    "\n",
    "\"şeir.txt\" adında bir fayl yaradın ve içərisində aşağıdakı sətirlər olsun.\n",
    "\n",
    "                        İnsana arxadır onun kamalı,\n",
    "                        Ağıldır hər kəsin dövləti malı.\n",
    "                        Halal ye, tərlan tək halal ov ara,\n",
    "                        Bənzəmə leş üstə qonan quşlara.\n",
    "                        Pis-yaxşı nəyin var, demək malındır,\n",
    "                        Lakin sənə vacib öz kamalındır.\n",
    "                        Ağzına qıfıl vur, yandır sözünü,\n",
    "                        Boş-boş söyləməkdən saxla özünü.\n",
    "                        Qana qəltan etsə də səni zəhmət tikanı,\n",
    "                        Çalışmaqdan usanma, işə alışdır canı.\n",
    "                        Yaxşılığı əzəldən adət etsən özünə,\n",
    "                        Yaxşılığın hər yanda qapı açar üzünə.\n",
    "                        Yersiz gülən dodağı bağlamağın yaxşıdır,\n",
    "                        Boş gülüşün yerinə ağlamağın yaxşıdır.\n",
    "                        Xidmət etmək sayılır kişilikdən nişana,\n",
    "                        Xalqına xidmət etmək bir şərəfdir insana.\n",
    "                        Körpü su üstündə olmasa, düşün,\n",
    "                        Kimə xeyri vardır belə körpünün.\n",
    "Bu faylın hərbir sətrini oxuyun. Sətirlərin baş hərflərini birbirinə əlavə edərək bir string yaradın və ekranda çap edin."
   ]
  },
  {
   "cell_type": "markdown",
   "metadata": {},
   "source": [
    "### Problem 3\n",
    "Əlinizdə \"mailler.txt\" adında , maillərin və bəzi yazıların olduğu bir fayl olsun. Bu faylın hər bir sətrini oxuyun və sadəcə mail formatına uyğun olanları ekrana çap edin.\n",
    "\n",
    "\n",
    "                        rahim.gadirov@gmail.com\n",
    "                        example@xyz.com\n",
    "                        adil.com\n",
    "                        rasim@gmail\n",
    "                        orxan.mammadov@yahoo.com\n",
    "                        \n",
    "                               //\n",
    "                               //\n",
    "                               //\n",
    "                               \n",
    "                        \n",
    "***Qısa kömək: Stringlərdə olan endswith and find metodundan istifadə edə bilərsiniz.***                        "
   ]
  },
  {
   "cell_type": "markdown",
   "metadata": {},
   "source": [
    "### Problem 4\n",
    "\n",
    "Əlinizdə 2 ədəd list olsun və bu listlərin ad və soyadlarını birləşdirərək ekrana ad və soyadları ***adlara*** görə sıralı bir şəkildə yazmağa çalını\n",
    "\n",
    "Elinizde 2 tane liste bulunsun. Bu listelerden isim ve soyisimleri birleştirerek , ekrana isim ve soyisimleri ***isimlere*** göre sıralı bir şekilde yazdırmaya çalışın.\n",
    "\n",
    "            isim -----> [\"Kerim\",\"Tarık\",\"Ezgi\",\"Kemal\",\"İlkay\",\"Şükran\",\"Merve\"]\n",
    "\n",
    "            soyisim ------> [\"Yılmaz\",\"Öztürk\",\"Dağdeviren\",\"Atatürk\",\"Dikmen\",\"Kaya\",\"Polat\"]\n",
    "            "
   ]
  },
  {
   "cell_type": "code",
   "execution_count": null,
   "metadata": {
    "collapsed": true
   },
   "outputs": [],
   "source": []
  }
 ],
 "metadata": {
  "kernelspec": {
   "display_name": "Python 3",
   "language": "python",
   "name": "python3"
  },
  "language_info": {
   "codemirror_mode": {
    "name": "ipython",
    "version": 3
   },
   "file_extension": ".py",
   "mimetype": "text/x-python",
   "name": "python",
   "nbconvert_exporter": "python",
   "pygments_lexer": "ipython3",
   "version": "3.8.8"
  }
 },
 "nbformat": 4,
 "nbformat_minor": 2
}
