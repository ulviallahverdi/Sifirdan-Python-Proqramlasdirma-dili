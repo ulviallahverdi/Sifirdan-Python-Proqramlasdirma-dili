{
 "cells": [
  {
   "cell_type": "code",
   "execution_count": 11,
   "id": "c40d46dc",
   "metadata": {},
   "outputs": [],
   "source": [
    "# Advance level of Strings"
   ]
  },
  {
   "cell_type": "code",
   "execution_count": 12,
   "id": "2401c4ac",
   "metadata": {
    "scrolled": true
   },
   "outputs": [
    {
     "data": {
      "text/plain": [
       "str"
      ]
     },
     "execution_count": 12,
     "metadata": {},
     "output_type": "execute_result"
    }
   ],
   "source": [
    "type(\"salam\")"
   ]
  },
  {
   "cell_type": "code",
   "execution_count": 13,
   "id": "9bf93bd7",
   "metadata": {},
   "outputs": [
    {
     "data": {
      "text/plain": [
       "['__add__',\n",
       " '__class__',\n",
       " '__contains__',\n",
       " '__delattr__',\n",
       " '__dir__',\n",
       " '__doc__',\n",
       " '__eq__',\n",
       " '__format__',\n",
       " '__ge__',\n",
       " '__getattribute__',\n",
       " '__getitem__',\n",
       " '__getnewargs__',\n",
       " '__gt__',\n",
       " '__hash__',\n",
       " '__init__',\n",
       " '__init_subclass__',\n",
       " '__iter__',\n",
       " '__le__',\n",
       " '__len__',\n",
       " '__lt__',\n",
       " '__mod__',\n",
       " '__mul__',\n",
       " '__ne__',\n",
       " '__new__',\n",
       " '__reduce__',\n",
       " '__reduce_ex__',\n",
       " '__repr__',\n",
       " '__rmod__',\n",
       " '__rmul__',\n",
       " '__setattr__',\n",
       " '__sizeof__',\n",
       " '__str__',\n",
       " '__subclasshook__',\n",
       " 'capitalize',\n",
       " 'casefold',\n",
       " 'center',\n",
       " 'count',\n",
       " 'encode',\n",
       " 'endswith',\n",
       " 'expandtabs',\n",
       " 'find',\n",
       " 'format',\n",
       " 'format_map',\n",
       " 'index',\n",
       " 'isalnum',\n",
       " 'isalpha',\n",
       " 'isascii',\n",
       " 'isdecimal',\n",
       " 'isdigit',\n",
       " 'isidentifier',\n",
       " 'islower',\n",
       " 'isnumeric',\n",
       " 'isprintable',\n",
       " 'isspace',\n",
       " 'istitle',\n",
       " 'isupper',\n",
       " 'join',\n",
       " 'ljust',\n",
       " 'lower',\n",
       " 'lstrip',\n",
       " 'maketrans',\n",
       " 'partition',\n",
       " 'replace',\n",
       " 'rfind',\n",
       " 'rindex',\n",
       " 'rjust',\n",
       " 'rpartition',\n",
       " 'rsplit',\n",
       " 'rstrip',\n",
       " 'split',\n",
       " 'splitlines',\n",
       " 'startswith',\n",
       " 'strip',\n",
       " 'swapcase',\n",
       " 'title',\n",
       " 'translate',\n",
       " 'upper',\n",
       " 'zfill']"
      ]
     },
     "execution_count": 13,
     "metadata": {},
     "output_type": "execute_result"
    }
   ],
   "source": [
    "dir(\"salam\")"
   ]
  },
  {
   "cell_type": "code",
   "execution_count": null,
   "id": "a19c89c1",
   "metadata": {},
   "outputs": [],
   "source": [
    "# upper() and lower()"
   ]
  },
  {
   "cell_type": "code",
   "execution_count": 14,
   "id": "5a12a538",
   "metadata": {},
   "outputs": [
    {
     "data": {
      "text/plain": [
       "'PYTHON'"
      ]
     },
     "execution_count": 14,
     "metadata": {},
     "output_type": "execute_result"
    }
   ],
   "source": [
    "\"python\".upper()"
   ]
  },
  {
   "cell_type": "code",
   "execution_count": 16,
   "id": "ea4da230",
   "metadata": {},
   "outputs": [
    {
     "data": {
      "text/plain": [
       "'python'"
      ]
     },
     "execution_count": 16,
     "metadata": {},
     "output_type": "execute_result"
    }
   ],
   "source": [
    "\"PYTHON\".lower()"
   ]
  },
  {
   "cell_type": "code",
   "execution_count": 17,
   "id": "bb0618cd",
   "metadata": {},
   "outputs": [
    {
     "data": {
      "text/plain": [
       "'ulvi'"
      ]
     },
     "execution_count": 17,
     "metadata": {},
     "output_type": "execute_result"
    }
   ],
   "source": [
    "\"uLvI\".lower()"
   ]
  },
  {
   "cell_type": "code",
   "execution_count": 18,
   "id": "95764b29",
   "metadata": {},
   "outputs": [
    {
     "data": {
      "text/plain": [
       "'ULVI'"
      ]
     },
     "execution_count": 18,
     "metadata": {},
     "output_type": "execute_result"
    }
   ],
   "source": [
    "\"uLvI\".upper()"
   ]
  },
  {
   "cell_type": "code",
   "execution_count": 19,
   "id": "6f75a978",
   "metadata": {},
   "outputs": [],
   "source": [
    "# replace()"
   ]
  },
  {
   "cell_type": "code",
   "execution_count": 21,
   "id": "9f5fc51c",
   "metadata": {},
   "outputs": [
    {
     "data": {
      "text/plain": [
       "'Hami ana sister qardas ata'"
      ]
     },
     "execution_count": 21,
     "metadata": {},
     "output_type": "execute_result"
    }
   ],
   "source": [
    "\"Hami ana baci qardas ata\".replace(\"baci\",\"sister\")"
   ]
  },
  {
   "cell_type": "code",
   "execution_count": 22,
   "id": "c6bd8fc9",
   "metadata": {},
   "outputs": [
    {
     "data": {
      "text/plain": [
       "'Gunzun'"
      ]
     },
     "execution_count": 22,
     "metadata": {},
     "output_type": "execute_result"
    }
   ],
   "source": [
    "\"Gunduz\".replace(\"duz\",\"zun\")"
   ]
  },
  {
   "cell_type": "code",
   "execution_count": 23,
   "id": "edf9fa62",
   "metadata": {},
   "outputs": [
    {
     "data": {
      "text/plain": [
       "'Python-Programming-Language'"
      ]
     },
     "execution_count": 23,
     "metadata": {},
     "output_type": "execute_result"
    }
   ],
   "source": [
    "\"Python Programming Language\".replace(\" \",\"-\")"
   ]
  },
  {
   "cell_type": "code",
   "execution_count": 24,
   "id": "c02cf9d2",
   "metadata": {},
   "outputs": [],
   "source": [
    "# startswith() and endswith()"
   ]
  },
  {
   "cell_type": "code",
   "execution_count": 25,
   "id": "4b8b13eb",
   "metadata": {},
   "outputs": [
    {
     "data": {
      "text/plain": [
       "True"
      ]
     },
     "execution_count": 25,
     "metadata": {},
     "output_type": "execute_result"
    }
   ],
   "source": [
    "\"Python\".startswith(\"P\")"
   ]
  },
  {
   "cell_type": "code",
   "execution_count": 26,
   "id": "5344aaf4",
   "metadata": {},
   "outputs": [
    {
     "data": {
      "text/plain": [
       "False"
      ]
     },
     "execution_count": 26,
     "metadata": {},
     "output_type": "execute_result"
    }
   ],
   "source": [
    "\"Python\".endswith(\"P\")"
   ]
  },
  {
   "cell_type": "code",
   "execution_count": 29,
   "id": "37540744",
   "metadata": {},
   "outputs": [
    {
     "data": {
      "text/plain": [
       "True"
      ]
     },
     "execution_count": 29,
     "metadata": {},
     "output_type": "execute_result"
    }
   ],
   "source": [
    "\"Python\".endswith(\"n\")"
   ]
  },
  {
   "cell_type": "code",
   "execution_count": 30,
   "id": "fd4c26d6",
   "metadata": {},
   "outputs": [],
   "source": [
    "# split()"
   ]
  },
  {
   "cell_type": "code",
   "execution_count": 32,
   "id": "642f3356",
   "metadata": {},
   "outputs": [],
   "source": [
    "listim = \"Python Programming Language\".split(\" \")"
   ]
  },
  {
   "cell_type": "code",
   "execution_count": 33,
   "id": "bce16c38",
   "metadata": {},
   "outputs": [
    {
     "data": {
      "text/plain": [
       "['Python', 'Programming', 'Language']"
      ]
     },
     "execution_count": 33,
     "metadata": {},
     "output_type": "execute_result"
    }
   ],
   "source": [
    "listim"
   ]
  },
  {
   "cell_type": "code",
   "execution_count": 36,
   "id": "cbaa0017",
   "metadata": {},
   "outputs": [],
   "source": [
    "listim = \"Python-CSS-Javascript-JS\""
   ]
  },
  {
   "cell_type": "code",
   "execution_count": 37,
   "id": "73fcf647",
   "metadata": {},
   "outputs": [
    {
     "data": {
      "text/plain": [
       "['Python', 'CSS', 'Javascript', 'JS']"
      ]
     },
     "execution_count": 37,
     "metadata": {},
     "output_type": "execute_result"
    }
   ],
   "source": [
    "listim.split(\"-\")"
   ]
  },
  {
   "cell_type": "code",
   "execution_count": 38,
   "id": "1e07e0f3",
   "metadata": {},
   "outputs": [],
   "source": [
    "# strip() , lstrip(), rstrip()\n",
    "# strip(x) - Stringin basinda ve sonunda olan x deyerini silir\n",
    "# lstrip() - Stringin sadece basinda olan x deyerini silir\n",
    "# rstrip() - String sadece sonunda olan x deyerini silir"
   ]
  },
  {
   "cell_type": "code",
   "execution_count": 39,
   "id": "cf2c1b7f",
   "metadata": {},
   "outputs": [
    {
     "data": {
      "text/plain": [
       "'python'"
      ]
     },
     "execution_count": 39,
     "metadata": {},
     "output_type": "execute_result"
    }
   ],
   "source": [
    "\"                python                     \".strip()"
   ]
  },
  {
   "cell_type": "code",
   "execution_count": 40,
   "id": "fa5b8617",
   "metadata": {},
   "outputs": [
    {
     "data": {
      "text/plain": [
       "'Ulvi'"
      ]
     },
     "execution_count": 40,
     "metadata": {},
     "output_type": "execute_result"
    }
   ],
   "source": [
    "\">>>>>>>>>>>>>>Ulvi>>>>>>>>>>>>>>>>>\".strip(\">\")"
   ]
  },
  {
   "cell_type": "code",
   "execution_count": 41,
   "id": "6de155be",
   "metadata": {},
   "outputs": [
    {
     "data": {
      "text/plain": [
       "'python                     '"
      ]
     },
     "execution_count": 41,
     "metadata": {},
     "output_type": "execute_result"
    }
   ],
   "source": [
    "\"                python                     \".lstrip()"
   ]
  },
  {
   "cell_type": "code",
   "execution_count": 42,
   "id": "50441216",
   "metadata": {},
   "outputs": [
    {
     "data": {
      "text/plain": [
       "'                python'"
      ]
     },
     "execution_count": 42,
     "metadata": {},
     "output_type": "execute_result"
    }
   ],
   "source": [
    "\"                python                     \".rstrip()"
   ]
  },
  {
   "cell_type": "code",
   "execution_count": 43,
   "id": "810d2feb",
   "metadata": {},
   "outputs": [],
   "source": [
    "# join()"
   ]
  },
  {
   "cell_type": "code",
   "execution_count": 44,
   "id": "f0129631",
   "metadata": {},
   "outputs": [],
   "source": [
    "listim = [\"21\",\"02\",\"2000\"]"
   ]
  },
  {
   "cell_type": "code",
   "execution_count": 45,
   "id": "253d9cf4",
   "metadata": {},
   "outputs": [
    {
     "data": {
      "text/plain": [
       "'21/02/2000'"
      ]
     },
     "execution_count": 45,
     "metadata": {},
     "output_type": "execute_result"
    }
   ],
   "source": [
    "\"/\".join(listim)"
   ]
  },
  {
   "cell_type": "code",
   "execution_count": 48,
   "id": "6dc47330",
   "metadata": {},
   "outputs": [],
   "source": [
    "list1 = (\"a\",\"b\",\"c\")"
   ]
  },
  {
   "cell_type": "code",
   "execution_count": 49,
   "id": "6471f653",
   "metadata": {},
   "outputs": [
    {
     "data": {
      "text/plain": [
       "'a.b.c'"
      ]
     },
     "execution_count": 49,
     "metadata": {},
     "output_type": "execute_result"
    }
   ],
   "source": [
    "\".\".join(list1)"
   ]
  },
  {
   "cell_type": "code",
   "execution_count": 50,
   "id": "45fcde64",
   "metadata": {},
   "outputs": [
    {
     "data": {
      "text/plain": [
       "5"
      ]
     },
     "execution_count": 50,
     "metadata": {},
     "output_type": "execute_result"
    }
   ],
   "source": [
    "# count()\n",
    "\"azerbaycan respublikasi konstitusiyasi\".count(\"a\")"
   ]
  },
  {
   "cell_type": "code",
   "execution_count": 51,
   "id": "8f1552df",
   "metadata": {},
   "outputs": [
    {
     "data": {
      "text/plain": [
       "2"
      ]
     },
     "execution_count": 51,
     "metadata": {},
     "output_type": "execute_result"
    }
   ],
   "source": [
    "\"azerbaycan respublikasi konstitusiyasi\".count(\" \")"
   ]
  },
  {
   "cell_type": "code",
   "execution_count": 52,
   "id": "c91aefb2",
   "metadata": {},
   "outputs": [],
   "source": [
    "#count(x,index): Stringin icindeki x deyerlerini verilen index deyerinden baslayaraq saymaga baslayir...\n",
    "    "
   ]
  },
  {
   "cell_type": "code",
   "execution_count": 53,
   "id": "ec26b9f2",
   "metadata": {},
   "outputs": [
    {
     "data": {
      "text/plain": [
       "1"
      ]
     },
     "execution_count": 53,
     "metadata": {},
     "output_type": "execute_result"
    }
   ],
   "source": [
    "\"azerbaycan respublikasi konstitusiyasi\".count(\" \",15)"
   ]
  },
  {
   "cell_type": "code",
   "execution_count": 54,
   "id": "74ecaa3f",
   "metadata": {},
   "outputs": [],
   "source": [
    "# find() ve rfind()"
   ]
  },
  {
   "cell_type": "code",
   "execution_count": 55,
   "id": "22c604c8",
   "metadata": {},
   "outputs": [
    {
     "data": {
      "text/plain": [
       "1"
      ]
     },
     "execution_count": 55,
     "metadata": {},
     "output_type": "execute_result"
    }
   ],
   "source": [
    "\"masin\".find(\"a\")"
   ]
  },
  {
   "cell_type": "code",
   "execution_count": 56,
   "id": "5b240946",
   "metadata": {},
   "outputs": [
    {
     "data": {
      "text/plain": [
       "3"
      ]
     },
     "execution_count": 56,
     "metadata": {},
     "output_type": "execute_result"
    }
   ],
   "source": [
    "\"masin\".find(\"i\")"
   ]
  },
  {
   "cell_type": "code",
   "execution_count": 58,
   "id": "c11f1a94",
   "metadata": {},
   "outputs": [
    {
     "data": {
      "text/plain": [
       "-1"
      ]
     },
     "execution_count": 58,
     "metadata": {},
     "output_type": "execute_result"
    }
   ],
   "source": [
    "\"masin\".rfind(\"A\")"
   ]
  },
  {
   "cell_type": "code",
   "execution_count": 59,
   "id": "96bc91bf",
   "metadata": {},
   "outputs": [],
   "source": [
    "# SET-ler\n",
    "#Set nece yaradilir?"
   ]
  },
  {
   "cell_type": "code",
   "execution_count": 60,
   "id": "78c109b9",
   "metadata": {},
   "outputs": [],
   "source": [
    "x = set()"
   ]
  },
  {
   "cell_type": "code",
   "execution_count": 61,
   "id": "c3c49308",
   "metadata": {},
   "outputs": [
    {
     "data": {
      "text/plain": [
       "set"
      ]
     },
     "execution_count": 61,
     "metadata": {},
     "output_type": "execute_result"
    }
   ],
   "source": [
    "type(x)"
   ]
  },
  {
   "cell_type": "code",
   "execution_count": 63,
   "id": "3f08b4b6",
   "metadata": {},
   "outputs": [],
   "source": [
    "listim = [1,2,3,4,4,5,5,5,4,3,2,5,6,7,8,9]"
   ]
  },
  {
   "cell_type": "code",
   "execution_count": 64,
   "id": "8eb804cb",
   "metadata": {},
   "outputs": [
    {
     "data": {
      "text/plain": [
       "[1, 2, 3, 4, 4, 5, 5, 5, 4, 3, 2, 5, 6, 7, 8, 9]"
      ]
     },
     "execution_count": 64,
     "metadata": {},
     "output_type": "execute_result"
    }
   ],
   "source": [
    "listim"
   ]
  },
  {
   "cell_type": "code",
   "execution_count": 65,
   "id": "be93f759",
   "metadata": {},
   "outputs": [],
   "source": [
    "x= set(listim)"
   ]
  },
  {
   "cell_type": "code",
   "execution_count": 66,
   "id": "0e585e35",
   "metadata": {},
   "outputs": [
    {
     "data": {
      "text/plain": [
       "{1, 2, 3, 4, 5, 6, 7, 8, 9}"
      ]
     },
     "execution_count": 66,
     "metadata": {},
     "output_type": "execute_result"
    }
   ],
   "source": [
    "x"
   ]
  },
  {
   "cell_type": "code",
   "execution_count": 67,
   "id": "00fca97f",
   "metadata": {},
   "outputs": [],
   "source": [
    "x = {1,1,1}"
   ]
  },
  {
   "cell_type": "code",
   "execution_count": 68,
   "id": "54be786b",
   "metadata": {},
   "outputs": [
    {
     "data": {
      "text/plain": [
       "{1}"
      ]
     },
     "execution_count": 68,
     "metadata": {},
     "output_type": "execute_result"
    }
   ],
   "source": [
    "x"
   ]
  },
  {
   "cell_type": "code",
   "execution_count": 69,
   "id": "8b6603db",
   "metadata": {},
   "outputs": [],
   "source": [
    "x = set(\"Python Proqramlasdirma Dili\")"
   ]
  },
  {
   "cell_type": "code",
   "execution_count": 70,
   "id": "7b3e2da4",
   "metadata": {},
   "outputs": [
    {
     "data": {
      "text/plain": [
       "{' ',\n",
       " 'D',\n",
       " 'P',\n",
       " 'a',\n",
       " 'd',\n",
       " 'h',\n",
       " 'i',\n",
       " 'l',\n",
       " 'm',\n",
       " 'n',\n",
       " 'o',\n",
       " 'q',\n",
       " 'r',\n",
       " 's',\n",
       " 't',\n",
       " 'y'}"
      ]
     },
     "execution_count": 70,
     "metadata": {},
     "output_type": "execute_result"
    }
   ],
   "source": [
    "x"
   ]
  },
  {
   "cell_type": "code",
   "execution_count": 71,
   "id": "dab9ca99",
   "metadata": {},
   "outputs": [],
   "source": [
    "x = {\"Python\",\"Php\",\"Python\"}"
   ]
  },
  {
   "cell_type": "code",
   "execution_count": 72,
   "id": "715ec955",
   "metadata": {},
   "outputs": [
    {
     "data": {
      "text/plain": [
       "{'Php', 'Python'}"
      ]
     },
     "execution_count": 72,
     "metadata": {},
     "output_type": "execute_result"
    }
   ],
   "source": [
    "x"
   ]
  },
  {
   "cell_type": "code",
   "execution_count": 73,
   "id": "8ffa3d9a",
   "metadata": {},
   "outputs": [
    {
     "name": "stdout",
     "output_type": "stream",
     "text": [
      "Php\n",
      "Python\n"
     ]
    }
   ],
   "source": [
    "for i in x:\n",
    "    print(i)"
   ]
  },
  {
   "cell_type": "code",
   "execution_count": 74,
   "id": "455749a0",
   "metadata": {},
   "outputs": [
    {
     "ename": "TypeError",
     "evalue": "'set' object is not subscriptable",
     "output_type": "error",
     "traceback": [
      "\u001b[1;31m---------------------------------------------------------------------------\u001b[0m",
      "\u001b[1;31mTypeError\u001b[0m                                 Traceback (most recent call last)",
      "\u001b[1;32m<ipython-input-74-2f755f117ac9>\u001b[0m in \u001b[0;36m<module>\u001b[1;34m\u001b[0m\n\u001b[1;32m----> 1\u001b[1;33m \u001b[0mx\u001b[0m\u001b[1;33m[\u001b[0m\u001b[1;36m0\u001b[0m\u001b[1;33m]\u001b[0m\u001b[1;33m\u001b[0m\u001b[1;33m\u001b[0m\u001b[0m\n\u001b[0m",
      "\u001b[1;31mTypeError\u001b[0m: 'set' object is not subscriptable"
     ]
    }
   ],
   "source": [
    "x[0]"
   ]
  },
  {
   "cell_type": "code",
   "execution_count": 75,
   "id": "da212720",
   "metadata": {},
   "outputs": [
    {
     "ename": "TypeError",
     "evalue": "'set' object is not subscriptable",
     "output_type": "error",
     "traceback": [
      "\u001b[1;31m---------------------------------------------------------------------------\u001b[0m",
      "\u001b[1;31mTypeError\u001b[0m                                 Traceback (most recent call last)",
      "\u001b[1;32m<ipython-input-75-0faeec768fac>\u001b[0m in \u001b[0;36m<module>\u001b[1;34m\u001b[0m\n\u001b[1;32m----> 1\u001b[1;33m \u001b[0mx\u001b[0m\u001b[1;33m[\u001b[0m\u001b[1;34m\"Python\"\u001b[0m\u001b[1;33m]\u001b[0m\u001b[1;33m\u001b[0m\u001b[1;33m\u001b[0m\u001b[0m\n\u001b[0m",
      "\u001b[1;31mTypeError\u001b[0m: 'set' object is not subscriptable"
     ]
    }
   ],
   "source": [
    "x[\"Python\"]"
   ]
  },
  {
   "cell_type": "code",
   "execution_count": 76,
   "id": "d6d4e77d",
   "metadata": {},
   "outputs": [],
   "source": [
    "listim = list({1,2,3,4,5,6})"
   ]
  },
  {
   "cell_type": "code",
   "execution_count": 77,
   "id": "8ea49e18",
   "metadata": {},
   "outputs": [
    {
     "data": {
      "text/plain": [
       "1"
      ]
     },
     "execution_count": 77,
     "metadata": {},
     "output_type": "execute_result"
    }
   ],
   "source": [
    "listim[0]"
   ]
  },
  {
   "cell_type": "code",
   "execution_count": 78,
   "id": "af86363f",
   "metadata": {},
   "outputs": [],
   "source": [
    "x = {1,2,3}\n",
    "x.add(4)"
   ]
  },
  {
   "cell_type": "code",
   "execution_count": 79,
   "id": "a4c98077",
   "metadata": {},
   "outputs": [
    {
     "data": {
      "text/plain": [
       "{1, 2, 3, 4}"
      ]
     },
     "execution_count": 79,
     "metadata": {},
     "output_type": "execute_result"
    }
   ],
   "source": [
    "x"
   ]
  },
  {
   "cell_type": "code",
   "execution_count": 80,
   "id": "bdff4fd7",
   "metadata": {},
   "outputs": [],
   "source": [
    "set1 = {1,2,3,10,34,100,-4}\n",
    "set2 = {1,2,56,34,22,-1}"
   ]
  },
  {
   "cell_type": "code",
   "execution_count": 81,
   "id": "944045dc",
   "metadata": {},
   "outputs": [
    {
     "data": {
      "text/plain": [
       "{-4, 3, 10, 100}"
      ]
     },
     "execution_count": 81,
     "metadata": {},
     "output_type": "execute_result"
    }
   ],
   "source": [
    "set1.difference(set2)"
   ]
  },
  {
   "cell_type": "code",
   "execution_count": 82,
   "id": "45da64a0",
   "metadata": {},
   "outputs": [
    {
     "data": {
      "text/plain": [
       "{-1, 22, 56}"
      ]
     },
     "execution_count": 82,
     "metadata": {},
     "output_type": "execute_result"
    }
   ],
   "source": [
    "set2.difference(set1)"
   ]
  },
  {
   "cell_type": "code",
   "execution_count": 83,
   "id": "c5be2a91",
   "metadata": {},
   "outputs": [
    {
     "data": {
      "text/plain": [
       "{-4, 1, 2, 3, 10, 34, 100}"
      ]
     },
     "execution_count": 83,
     "metadata": {},
     "output_type": "execute_result"
    }
   ],
   "source": [
    "set1"
   ]
  },
  {
   "cell_type": "code",
   "execution_count": 84,
   "id": "bfa04ab5",
   "metadata": {},
   "outputs": [
    {
     "data": {
      "text/plain": [
       "{-4, 1, 2, 3, 10, 34, 100}"
      ]
     },
     "execution_count": 84,
     "metadata": {},
     "output_type": "execute_result"
    }
   ],
   "source": [
    "set1"
   ]
  },
  {
   "cell_type": "code",
   "execution_count": 85,
   "id": "5b9c3617",
   "metadata": {},
   "outputs": [
    {
     "data": {
      "text/plain": [
       "{-1, 1, 2, 22, 34, 56}"
      ]
     },
     "execution_count": 85,
     "metadata": {},
     "output_type": "execute_result"
    }
   ],
   "source": [
    "set2"
   ]
  },
  {
   "cell_type": "code",
   "execution_count": 86,
   "id": "f7c01504",
   "metadata": {},
   "outputs": [],
   "source": [
    "set1.difference_update(set2)"
   ]
  },
  {
   "cell_type": "code",
   "execution_count": 87,
   "id": "68af5cf8",
   "metadata": {},
   "outputs": [
    {
     "data": {
      "text/plain": [
       "{-4, 3, 10, 100}"
      ]
     },
     "execution_count": 87,
     "metadata": {},
     "output_type": "execute_result"
    }
   ],
   "source": [
    "set1"
   ]
  },
  {
   "cell_type": "code",
   "execution_count": 88,
   "id": "67900e01",
   "metadata": {},
   "outputs": [
    {
     "data": {
      "text/plain": [
       "{-4, 3, 10, 100}"
      ]
     },
     "execution_count": 88,
     "metadata": {},
     "output_type": "execute_result"
    }
   ],
   "source": [
    "set1"
   ]
  },
  {
   "cell_type": "code",
   "execution_count": 91,
   "id": "57788e42",
   "metadata": {},
   "outputs": [],
   "source": [
    "set1.discard(3)"
   ]
  },
  {
   "cell_type": "code",
   "execution_count": 92,
   "id": "eb5d7df2",
   "metadata": {},
   "outputs": [
    {
     "data": {
      "text/plain": [
       "{-4, 10, 100}"
      ]
     },
     "execution_count": 92,
     "metadata": {},
     "output_type": "execute_result"
    }
   ],
   "source": [
    "set1"
   ]
  },
  {
   "cell_type": "code",
   "execution_count": 93,
   "id": "c5dbc88b",
   "metadata": {},
   "outputs": [],
   "source": [
    "set1.discard(100)"
   ]
  },
  {
   "cell_type": "code",
   "execution_count": 94,
   "id": "0c6fab41",
   "metadata": {},
   "outputs": [
    {
     "data": {
      "text/plain": [
       "{-4, 10}"
      ]
     },
     "execution_count": 94,
     "metadata": {},
     "output_type": "execute_result"
    }
   ],
   "source": [
    "set1"
   ]
  },
  {
   "cell_type": "code",
   "execution_count": 95,
   "id": "9f9dcf6c",
   "metadata": {},
   "outputs": [],
   "source": [
    "set1 = {1,2,3,4,5,6,7,8,9,10,-3}"
   ]
  },
  {
   "cell_type": "code",
   "execution_count": 96,
   "id": "7dd45484",
   "metadata": {},
   "outputs": [],
   "source": [
    "set2 = {4,5,6,7,87,9,10,-3,-5}"
   ]
  },
  {
   "cell_type": "code",
   "execution_count": 97,
   "id": "ab11ce48",
   "metadata": {},
   "outputs": [
    {
     "data": {
      "text/plain": [
       "{-3, 4, 5, 6, 7, 9, 10}"
      ]
     },
     "execution_count": 97,
     "metadata": {},
     "output_type": "execute_result"
    }
   ],
   "source": [
    "set1.intersection(set2)"
   ]
  },
  {
   "cell_type": "code",
   "execution_count": 98,
   "id": "f67dfdc5",
   "metadata": {},
   "outputs": [
    {
     "data": {
      "text/plain": [
       "{-3, 1, 2, 3, 4, 5, 6, 7, 8, 9, 10}"
      ]
     },
     "execution_count": 98,
     "metadata": {},
     "output_type": "execute_result"
    }
   ],
   "source": [
    "set1"
   ]
  },
  {
   "cell_type": "code",
   "execution_count": 99,
   "id": "bfa57155",
   "metadata": {},
   "outputs": [],
   "source": [
    "set1.intersection_update(set2)"
   ]
  },
  {
   "cell_type": "code",
   "execution_count": 100,
   "id": "58412ecf",
   "metadata": {},
   "outputs": [
    {
     "data": {
      "text/plain": [
       "{-3, 4, 5, 6, 7, 9, 10}"
      ]
     },
     "execution_count": 100,
     "metadata": {},
     "output_type": "execute_result"
    }
   ],
   "source": [
    "set1"
   ]
  },
  {
   "cell_type": "code",
   "execution_count": 101,
   "id": "56e38d27",
   "metadata": {},
   "outputs": [
    {
     "data": {
      "text/plain": [
       "['__and__',\n",
       " '__class__',\n",
       " '__contains__',\n",
       " '__delattr__',\n",
       " '__dir__',\n",
       " '__doc__',\n",
       " '__eq__',\n",
       " '__format__',\n",
       " '__ge__',\n",
       " '__getattribute__',\n",
       " '__gt__',\n",
       " '__hash__',\n",
       " '__iand__',\n",
       " '__init__',\n",
       " '__init_subclass__',\n",
       " '__ior__',\n",
       " '__isub__',\n",
       " '__iter__',\n",
       " '__ixor__',\n",
       " '__le__',\n",
       " '__len__',\n",
       " '__lt__',\n",
       " '__ne__',\n",
       " '__new__',\n",
       " '__or__',\n",
       " '__rand__',\n",
       " '__reduce__',\n",
       " '__reduce_ex__',\n",
       " '__repr__',\n",
       " '__ror__',\n",
       " '__rsub__',\n",
       " '__rxor__',\n",
       " '__setattr__',\n",
       " '__sizeof__',\n",
       " '__str__',\n",
       " '__sub__',\n",
       " '__subclasshook__',\n",
       " '__xor__',\n",
       " 'add',\n",
       " 'clear',\n",
       " 'copy',\n",
       " 'difference',\n",
       " 'difference_update',\n",
       " 'discard',\n",
       " 'intersection',\n",
       " 'intersection_update',\n",
       " 'isdisjoint',\n",
       " 'issubset',\n",
       " 'issuperset',\n",
       " 'pop',\n",
       " 'remove',\n",
       " 'symmetric_difference',\n",
       " 'symmetric_difference_update',\n",
       " 'union',\n",
       " 'update']"
      ]
     },
     "execution_count": 101,
     "metadata": {},
     "output_type": "execute_result"
    }
   ],
   "source": [
    "dir(set())"
   ]
  },
  {
   "cell_type": "code",
   "execution_count": 102,
   "id": "28de6aeb",
   "metadata": {},
   "outputs": [
    {
     "data": {
      "text/plain": [
       "False"
      ]
     },
     "execution_count": 102,
     "metadata": {},
     "output_type": "execute_result"
    }
   ],
   "source": [
    "set1.isdisjoint(set2)"
   ]
  },
  {
   "cell_type": "code",
   "execution_count": 103,
   "id": "721d7ad1",
   "metadata": {},
   "outputs": [
    {
     "data": {
      "text/plain": [
       "False"
      ]
     },
     "execution_count": 103,
     "metadata": {},
     "output_type": "execute_result"
    }
   ],
   "source": [
    "set2.isdisjoint(set1)"
   ]
  },
  {
   "cell_type": "code",
   "execution_count": 105,
   "id": "bbc94ee9",
   "metadata": {},
   "outputs": [
    {
     "data": {
      "text/plain": [
       "True"
      ]
     },
     "execution_count": 105,
     "metadata": {},
     "output_type": "execute_result"
    }
   ],
   "source": [
    "set1 = {1,2,3,4}\n",
    "set2 = {5,6,7,8}\n",
    "set1.isdisjoint(set2)\n",
    "#keshismesi bos oldugunda isdisjoint - True deyerini geri donerir "
   ]
  },
  {
   "cell_type": "code",
   "execution_count": 106,
   "id": "9bd5d000",
   "metadata": {},
   "outputs": [
    {
     "data": {
      "text/plain": [
       "True"
      ]
     },
     "execution_count": 106,
     "metadata": {},
     "output_type": "execute_result"
    }
   ],
   "source": [
    "set1 = {1,2,3}\n",
    "set2 = {1,2,3,4,5}\n",
    "set3 = {5,6,7}\n",
    "\n",
    "set1.issubset(set2)"
   ]
  },
  {
   "cell_type": "code",
   "execution_count": 107,
   "id": "3a1eb232",
   "metadata": {},
   "outputs": [
    {
     "data": {
      "text/plain": [
       "False"
      ]
     },
     "execution_count": 107,
     "metadata": {},
     "output_type": "execute_result"
    }
   ],
   "source": [
    "set1 = {1,2,3}\n",
    "set2 = {1,2,3,4,5}\n",
    "set3 = {5,6,7}\n",
    "\n",
    "set1.issubset(set3)"
   ]
  },
  {
   "cell_type": "code",
   "execution_count": 108,
   "id": "67868bb0",
   "metadata": {},
   "outputs": [
    {
     "data": {
      "text/plain": [
       "False"
      ]
     },
     "execution_count": 108,
     "metadata": {},
     "output_type": "execute_result"
    }
   ],
   "source": [
    "set2.issubset(set1)"
   ]
  },
  {
   "cell_type": "code",
   "execution_count": 109,
   "id": "54fb117f",
   "metadata": {},
   "outputs": [],
   "source": [
    "# union() - metodudur"
   ]
  },
  {
   "cell_type": "code",
   "execution_count": 110,
   "id": "1804ea8b",
   "metadata": {},
   "outputs": [],
   "source": [
    "set1 = {1,2,3,10,34,100,-10}\n",
    "set2 = {1,2,23,34,-4}"
   ]
  },
  {
   "cell_type": "code",
   "execution_count": 111,
   "id": "2d824acb",
   "metadata": {},
   "outputs": [
    {
     "data": {
      "text/plain": [
       "{-10, -4, 1, 2, 3, 10, 23, 34, 100}"
      ]
     },
     "execution_count": 111,
     "metadata": {},
     "output_type": "execute_result"
    }
   ],
   "source": [
    "set1.union(set2)"
   ]
  },
  {
   "cell_type": "code",
   "execution_count": 112,
   "id": "feb3b3a4",
   "metadata": {},
   "outputs": [
    {
     "data": {
      "text/plain": [
       "{-10, 1, 2, 3, 10, 34, 100}"
      ]
     },
     "execution_count": 112,
     "metadata": {},
     "output_type": "execute_result"
    }
   ],
   "source": [
    "set1"
   ]
  },
  {
   "cell_type": "code",
   "execution_count": 113,
   "id": "15ac96b3",
   "metadata": {},
   "outputs": [],
   "source": [
    "set1.update(set2)"
   ]
  },
  {
   "cell_type": "code",
   "execution_count": 114,
   "id": "99133c9c",
   "metadata": {},
   "outputs": [
    {
     "data": {
      "text/plain": [
       "{-10, -4, 1, 2, 3, 10, 23, 34, 100}"
      ]
     },
     "execution_count": 114,
     "metadata": {},
     "output_type": "execute_result"
    }
   ],
   "source": [
    "set1"
   ]
  },
  {
   "cell_type": "code",
   "execution_count": 115,
   "id": "c2e452cd",
   "metadata": {},
   "outputs": [],
   "source": [
    "# append()\n",
    "listim = [1,2,3]\n",
    "listim.append(4)"
   ]
  },
  {
   "cell_type": "code",
   "execution_count": 116,
   "id": "4b2928c8",
   "metadata": {},
   "outputs": [
    {
     "data": {
      "text/plain": [
       "[1, 2, 3, 4]"
      ]
     },
     "execution_count": 116,
     "metadata": {},
     "output_type": "execute_result"
    }
   ],
   "source": [
    "listim"
   ]
  },
  {
   "cell_type": "code",
   "execution_count": 118,
   "id": "a3ba8962",
   "metadata": {},
   "outputs": [],
   "source": [
    "# extend() - bir liste basqa bir listin deyerlerini elave etmemizi temin edir."
   ]
  },
  {
   "cell_type": "code",
   "execution_count": 119,
   "id": "0705139d",
   "metadata": {},
   "outputs": [],
   "source": [
    "list1 = [1,2,3,4]\n",
    "list1.extend([10,11,12])"
   ]
  },
  {
   "cell_type": "code",
   "execution_count": 120,
   "id": "751e35d3",
   "metadata": {},
   "outputs": [
    {
     "data": {
      "text/plain": [
       "[1, 2, 3, 4, 10, 11, 12]"
      ]
     },
     "execution_count": 120,
     "metadata": {},
     "output_type": "execute_result"
    }
   ],
   "source": [
    "list1"
   ]
  },
  {
   "cell_type": "code",
   "execution_count": 121,
   "id": "8c69b58e",
   "metadata": {},
   "outputs": [],
   "source": [
    "# insert() - listin mueyyne bir indeskine bir deyer elave etmemizi temin edir."
   ]
  },
  {
   "cell_type": "code",
   "execution_count": 122,
   "id": "a8b9c9ec",
   "metadata": {},
   "outputs": [],
   "source": [
    "listim = [1,2,3,4,4,5,6,76,7,8,9]\n",
    "listim.insert(4,66)"
   ]
  },
  {
   "cell_type": "code",
   "execution_count": 123,
   "id": "93e3e836",
   "metadata": {},
   "outputs": [
    {
     "data": {
      "text/plain": [
       "[1, 2, 3, 4, 66, 4, 5, 6, 76, 7, 8, 9]"
      ]
     },
     "execution_count": 123,
     "metadata": {},
     "output_type": "execute_result"
    }
   ],
   "source": [
    "listim"
   ]
  },
  {
   "cell_type": "code",
   "execution_count": 124,
   "id": "cb3b5bf5",
   "metadata": {},
   "outputs": [],
   "source": [
    "# pop() eger deyer verilmezse sonuncunu silir"
   ]
  },
  {
   "cell_type": "code",
   "execution_count": 125,
   "id": "14f734e7",
   "metadata": {},
   "outputs": [
    {
     "data": {
      "text/plain": [
       "[1, 2, 3, 4, 66, 4, 5, 6, 76, 7, 8, 9]"
      ]
     },
     "execution_count": 125,
     "metadata": {},
     "output_type": "execute_result"
    }
   ],
   "source": [
    "listim"
   ]
  },
  {
   "cell_type": "code",
   "execution_count": 127,
   "id": "eedcb048",
   "metadata": {},
   "outputs": [
    {
     "data": {
      "text/plain": [
       "66"
      ]
     },
     "execution_count": 127,
     "metadata": {},
     "output_type": "execute_result"
    }
   ],
   "source": [
    "listim.pop(4)"
   ]
  },
  {
   "cell_type": "code",
   "execution_count": 128,
   "id": "dd4195db",
   "metadata": {},
   "outputs": [
    {
     "data": {
      "text/plain": [
       "[1, 2, 3, 4, 4, 5, 6, 76, 7, 8, 9]"
      ]
     },
     "execution_count": 128,
     "metadata": {},
     "output_type": "execute_result"
    }
   ],
   "source": [
    "listim"
   ]
  },
  {
   "cell_type": "code",
   "execution_count": 129,
   "id": "27bc5d19",
   "metadata": {},
   "outputs": [],
   "source": [
    "# remove() - verdiyimiz deyerleri listden cixartmagimiz temin edir."
   ]
  },
  {
   "cell_type": "code",
   "execution_count": 130,
   "id": "d798d939",
   "metadata": {},
   "outputs": [],
   "source": [
    "list1 = [\"Python\",\"PHP\",\"Java\",\"C\"]"
   ]
  },
  {
   "cell_type": "code",
   "execution_count": 131,
   "id": "7563ec3a",
   "metadata": {},
   "outputs": [],
   "source": [
    "list1.remove(\"Python\")"
   ]
  },
  {
   "cell_type": "code",
   "execution_count": 132,
   "id": "23ac9584",
   "metadata": {},
   "outputs": [
    {
     "data": {
      "text/plain": [
       "['PHP', 'Java', 'C']"
      ]
     },
     "execution_count": 132,
     "metadata": {},
     "output_type": "execute_result"
    }
   ],
   "source": [
    "list1"
   ]
  },
  {
   "cell_type": "code",
   "execution_count": 133,
   "id": "989bae71",
   "metadata": {},
   "outputs": [
    {
     "ename": "ValueError",
     "evalue": "list.remove(x): x not in list",
     "output_type": "error",
     "traceback": [
      "\u001b[1;31m---------------------------------------------------------------------------\u001b[0m",
      "\u001b[1;31mValueError\u001b[0m                                Traceback (most recent call last)",
      "\u001b[1;32m<ipython-input-133-894e0d3b64f8>\u001b[0m in \u001b[0;36m<module>\u001b[1;34m\u001b[0m\n\u001b[1;32m----> 1\u001b[1;33m \u001b[0mlist1\u001b[0m\u001b[1;33m.\u001b[0m\u001b[0mremove\u001b[0m\u001b[1;33m(\u001b[0m\u001b[1;34m\"Python\"\u001b[0m\u001b[1;33m)\u001b[0m\u001b[1;33m\u001b[0m\u001b[1;33m\u001b[0m\u001b[0m\n\u001b[0m",
      "\u001b[1;31mValueError\u001b[0m: list.remove(x): x not in list"
     ]
    }
   ],
   "source": [
    "list1.remove(\"Python\")"
   ]
  },
  {
   "cell_type": "code",
   "execution_count": 134,
   "id": "3f664722",
   "metadata": {},
   "outputs": [],
   "source": [
    "# index() metodu verilen bir deyerin basdan baslayaraq hansi indekstde olduunu deyir.\n",
    "# deyer listde yoxdursa xeta qaytarir, eger ekstra index deyeri teyin edilse, \n",
    "# index metodu() deyer bu indeksden axtarmaga calisir."
   ]
  },
  {
   "cell_type": "code",
   "execution_count": 135,
   "id": "68c33906",
   "metadata": {},
   "outputs": [],
   "source": [
    "list1 = [1,2,3,4,3,3,5,6,7,8,9]"
   ]
  },
  {
   "cell_type": "code",
   "execution_count": 136,
   "id": "5f31f5d8",
   "metadata": {},
   "outputs": [
    {
     "data": {
      "text/plain": [
       "2"
      ]
     },
     "execution_count": 136,
     "metadata": {},
     "output_type": "execute_result"
    }
   ],
   "source": [
    "list1.index(3)"
   ]
  },
  {
   "cell_type": "code",
   "execution_count": 138,
   "id": "cef1dc51",
   "metadata": {},
   "outputs": [
    {
     "data": {
      "text/plain": [
       "4"
      ]
     },
     "execution_count": 138,
     "metadata": {},
     "output_type": "execute_result"
    }
   ],
   "source": [
    "list1.index(3,3) # 3 deyeri 3.indeskden etibaren axtarildigindan 4.cu indeksde"
   ]
  },
  {
   "cell_type": "code",
   "execution_count": 139,
   "id": "69ee35f4",
   "metadata": {},
   "outputs": [
    {
     "ename": "ValueError",
     "evalue": "'Python' is not in list",
     "output_type": "error",
     "traceback": [
      "\u001b[1;31m---------------------------------------------------------------------------\u001b[0m",
      "\u001b[1;31mValueError\u001b[0m                                Traceback (most recent call last)",
      "\u001b[1;32m<ipython-input-139-0f8c6a66573b>\u001b[0m in \u001b[0;36m<module>\u001b[1;34m\u001b[0m\n\u001b[1;32m----> 1\u001b[1;33m \u001b[0mlist1\u001b[0m\u001b[1;33m.\u001b[0m\u001b[0mindex\u001b[0m\u001b[1;33m(\u001b[0m\u001b[1;34m\"Python\"\u001b[0m\u001b[1;33m)\u001b[0m\u001b[1;33m\u001b[0m\u001b[1;33m\u001b[0m\u001b[0m\n\u001b[0m",
      "\u001b[1;31mValueError\u001b[0m: 'Python' is not in list"
     ]
    }
   ],
   "source": [
    "list1.index(\"Python\")"
   ]
  },
  {
   "cell_type": "code",
   "execution_count": 140,
   "id": "9ff3973c",
   "metadata": {},
   "outputs": [
    {
     "data": {
      "text/plain": [
       "5"
      ]
     },
     "execution_count": 140,
     "metadata": {},
     "output_type": "execute_result"
    }
   ],
   "source": [
    "list1.index(3,5)"
   ]
  },
  {
   "cell_type": "code",
   "execution_count": 141,
   "id": "e37445a6",
   "metadata": {},
   "outputs": [],
   "source": [
    "# count() - metodu verilen bir deyerin listde nece defe olduunu sayir."
   ]
  },
  {
   "cell_type": "code",
   "execution_count": 142,
   "id": "91183c5c",
   "metadata": {},
   "outputs": [],
   "source": [
    "listim = [1,2,3,4,5,6,1,1,1,1,1,1,1,1,8]"
   ]
  },
  {
   "cell_type": "code",
   "execution_count": 143,
   "id": "dd87f7a1",
   "metadata": {},
   "outputs": [
    {
     "data": {
      "text/plain": [
       "9"
      ]
     },
     "execution_count": 143,
     "metadata": {},
     "output_type": "execute_result"
    }
   ],
   "source": [
    "listim.count(1)"
   ]
  },
  {
   "cell_type": "code",
   "execution_count": 144,
   "id": "47a2cc76",
   "metadata": {},
   "outputs": [
    {
     "data": {
      "text/plain": [
       "0"
      ]
     },
     "execution_count": 144,
     "metadata": {},
     "output_type": "execute_result"
    }
   ],
   "source": [
    "listim.count(10)"
   ]
  },
  {
   "cell_type": "code",
   "execution_count": 145,
   "id": "215e32f1",
   "metadata": {},
   "outputs": [],
   "source": [
    "listim.sort()"
   ]
  },
  {
   "cell_type": "code",
   "execution_count": 146,
   "id": "fcfce65d",
   "metadata": {},
   "outputs": [
    {
     "data": {
      "text/plain": [
       "[1, 1, 1, 1, 1, 1, 1, 1, 1, 2, 3, 4, 5, 6, 8]"
      ]
     },
     "execution_count": 146,
     "metadata": {},
     "output_type": "execute_result"
    }
   ],
   "source": [
    "listim"
   ]
  },
  {
   "cell_type": "code",
   "execution_count": 148,
   "id": "e1b74b02",
   "metadata": {},
   "outputs": [],
   "source": [
    "list2 = [\"Pyhthon\",\"Java\",\"C\"]\n",
    "list2.sort()"
   ]
  },
  {
   "cell_type": "code",
   "execution_count": 150,
   "id": "f3298918",
   "metadata": {},
   "outputs": [
    {
     "data": {
      "text/plain": [
       "['C', 'Java', 'Pyhthon']"
      ]
     },
     "execution_count": 150,
     "metadata": {},
     "output_type": "execute_result"
    }
   ],
   "source": [
    "list2"
   ]
  },
  {
   "cell_type": "code",
   "execution_count": 151,
   "id": "8408699a",
   "metadata": {},
   "outputs": [],
   "source": [
    "listim = [12,-2,3,1,34,100]"
   ]
  },
  {
   "cell_type": "code",
   "execution_count": 157,
   "id": "57ea406e",
   "metadata": {},
   "outputs": [],
   "source": [
    "listim.sort(reverse = True)"
   ]
  },
  {
   "cell_type": "code",
   "execution_count": 155,
   "id": "79ffc781",
   "metadata": {},
   "outputs": [
    {
     "data": {
      "text/plain": [
       "[-2, 1, 3, 12, 34, 100]"
      ]
     },
     "execution_count": 155,
     "metadata": {},
     "output_type": "execute_result"
    }
   ],
   "source": [
    "listim"
   ]
  },
  {
   "cell_type": "code",
   "execution_count": 158,
   "id": "221d3f5c",
   "metadata": {},
   "outputs": [],
   "source": [
    "list2 = [\"Pyhthon\",\"Java\",\"C\"]\n",
    "list2.sort(reverse = True)"
   ]
  },
  {
   "cell_type": "code",
   "execution_count": 159,
   "id": "3ca897b5",
   "metadata": {},
   "outputs": [
    {
     "data": {
      "text/plain": [
       "['Pyhthon', 'Java', 'C']"
      ]
     },
     "execution_count": 159,
     "metadata": {},
     "output_type": "execute_result"
    }
   ],
   "source": [
    "list2"
   ]
  },
  {
   "cell_type": "code",
   "execution_count": 160,
   "id": "2be778fe",
   "metadata": {},
   "outputs": [],
   "source": [
    "list2 = [\"Pyhthon\",\"Java\",\"C\"]\n",
    "list2.sort(reverse = False)"
   ]
  },
  {
   "cell_type": "code",
   "execution_count": 161,
   "id": "64c14ae1",
   "metadata": {},
   "outputs": [
    {
     "data": {
      "text/plain": [
       "['C', 'Java', 'Pyhthon']"
      ]
     },
     "execution_count": 161,
     "metadata": {},
     "output_type": "execute_result"
    }
   ],
   "source": [
    "list2"
   ]
  },
  {
   "cell_type": "code",
   "execution_count": 166,
   "id": "cc575954",
   "metadata": {},
   "outputs": [
    {
     "data": {
      "text/plain": [
       "'0b111'"
      ]
     },
     "execution_count": 166,
     "metadata": {},
     "output_type": "execute_result"
    }
   ],
   "source": [
    "bin(7)"
   ]
  },
  {
   "cell_type": "code",
   "execution_count": 167,
   "id": "563ce7e4",
   "metadata": {},
   "outputs": [
    {
     "data": {
      "text/plain": [
       "'0b10011'"
      ]
     },
     "execution_count": 167,
     "metadata": {},
     "output_type": "execute_result"
    }
   ],
   "source": [
    "bin(19)"
   ]
  },
  {
   "cell_type": "code",
   "execution_count": 168,
   "id": "999afd6f",
   "metadata": {},
   "outputs": [
    {
     "data": {
      "text/plain": [
       "'0x20'"
      ]
     },
     "execution_count": 168,
     "metadata": {},
     "output_type": "execute_result"
    }
   ],
   "source": [
    "hex(32)"
   ]
  },
  {
   "cell_type": "code",
   "execution_count": 169,
   "id": "229a6f66",
   "metadata": {},
   "outputs": [
    {
     "data": {
      "text/plain": [
       "'0x1f4'"
      ]
     },
     "execution_count": 169,
     "metadata": {},
     "output_type": "execute_result"
    }
   ],
   "source": [
    "hex(500)"
   ]
  },
  {
   "cell_type": "code",
   "execution_count": 170,
   "id": "40a2909e",
   "metadata": {},
   "outputs": [
    {
     "data": {
      "text/plain": [
       "4"
      ]
     },
     "execution_count": 170,
     "metadata": {},
     "output_type": "execute_result"
    }
   ],
   "source": [
    "abs(-4)"
   ]
  },
  {
   "cell_type": "code",
   "execution_count": 171,
   "id": "e4300aad",
   "metadata": {},
   "outputs": [
    {
     "data": {
      "text/plain": [
       "4"
      ]
     },
     "execution_count": 171,
     "metadata": {},
     "output_type": "execute_result"
    }
   ],
   "source": [
    "round(3.7)"
   ]
  },
  {
   "cell_type": "code",
   "execution_count": 172,
   "id": "e046142a",
   "metadata": {},
   "outputs": [
    {
     "data": {
      "text/plain": [
       "3"
      ]
     },
     "execution_count": 172,
     "metadata": {},
     "output_type": "execute_result"
    }
   ],
   "source": [
    "round(3.2)"
   ]
  },
  {
   "cell_type": "code",
   "execution_count": 173,
   "id": "b6332534",
   "metadata": {},
   "outputs": [],
   "source": [
    "list1 = [1,2,3,4,5]"
   ]
  },
  {
   "cell_type": "code",
   "execution_count": 174,
   "id": "21234536",
   "metadata": {},
   "outputs": [
    {
     "data": {
      "text/plain": [
       "5"
      ]
     },
     "execution_count": 174,
     "metadata": {},
     "output_type": "execute_result"
    }
   ],
   "source": [
    "max(list1)"
   ]
  },
  {
   "cell_type": "code",
   "execution_count": 175,
   "id": "c3bbdf49",
   "metadata": {},
   "outputs": [
    {
     "data": {
      "text/plain": [
       "1"
      ]
     },
     "execution_count": 175,
     "metadata": {},
     "output_type": "execute_result"
    }
   ],
   "source": [
    "min(list1)"
   ]
  },
  {
   "cell_type": "code",
   "execution_count": 177,
   "id": "7de3f72a",
   "metadata": {},
   "outputs": [
    {
     "data": {
      "text/plain": [
       "15"
      ]
     },
     "execution_count": 177,
     "metadata": {},
     "output_type": "execute_result"
    }
   ],
   "source": [
    "sum(list1) # icerisindeki deyerleri toplayir."
   ]
  },
  {
   "cell_type": "code",
   "execution_count": 178,
   "id": "ca54e235",
   "metadata": {},
   "outputs": [
    {
     "data": {
      "text/plain": [
       "289"
      ]
     },
     "execution_count": 178,
     "metadata": {},
     "output_type": "execute_result"
    }
   ],
   "source": [
    "pow(17,2)"
   ]
  },
  {
   "cell_type": "code",
   "execution_count": null,
   "id": "92f79498",
   "metadata": {},
   "outputs": [],
   "source": []
  }
 ],
 "metadata": {
  "kernelspec": {
   "display_name": "Python 3",
   "language": "python",
   "name": "python3"
  },
  "language_info": {
   "codemirror_mode": {
    "name": "ipython",
    "version": 3
   },
   "file_extension": ".py",
   "mimetype": "text/x-python",
   "name": "python",
   "nbconvert_exporter": "python",
   "pygments_lexer": "ipython3",
   "version": "3.8.8"
  }
 },
 "nbformat": 4,
 "nbformat_minor": 5
}
