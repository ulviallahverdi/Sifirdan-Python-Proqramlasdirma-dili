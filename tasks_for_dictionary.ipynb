{
 "cells": [
  {
   "cell_type": "code",
   "execution_count": null,
   "id": "d2f044f9",
   "metadata": {},
   "outputs": [],
   "source": [
    "# Məsələ 1\n",
    "\n",
    "# Istifadəçidən 2 dəyər alın və onları dictionary verilənlər tipi kimi açar və dəyər prinsipində ekrana yazdırın.\n",
    "\n",
    "\n",
    "# Məsələ 2\n",
    "# dic1={1:10, 2:20}\n",
    "# dic2={3:30, 4:40}\n",
    "# dic3={5:50,6:60}\n",
    "\n",
    "# Netice olmalıdır: {1:10, 2:20, 3:30, 4:40, 5:50, 6:60}\n",
    "\n",
    "# Məsələ 3\n",
    "# Verilmiş iki listi birləşdirin və listin içərisində təkrarlanan bir ədədi seçib onu ekranda göstərin!\n",
    "# a = [1,2,3,4,5,6]\n",
    "# b = [7,8,9,10,11,12]\n",
    "\n",
    "# Məsələ 4\n",
    "# Dictionary verilənlər tipi üzrə lügət (tərcümə) yaradın. Bu lügət 2 dildə (Azərbaycan, İngilis) olacaq. \n",
    "# Mən orada \"Azerbaycan\" və ya \"İngilis\" seçərək və oradanda hansı sözü tərcümə edcəyimi seçə bilim və nəticə çıxsın!\n",
    "# Bu tərcümə prosesi \"Azerbaycan\" seçdiyim halda Azərbaycan dilindən İngilis dilinə , \"İngilis\" seçdiyim halda Azərbaycan dilinə çevirsin.\n",
    "# * şərt deyil çox söz olsun 4-5 söz olsa yetər!\n",
    "\n",
    "# Məsələ 5\n",
    "# Sizə verilmiş 3 listi qarşılıqlı şəkildə dictonary tipinə çevirin və nəticə aşağıdakı kimi olsun!\n",
    "# Nəticə belə olacaq: \n",
    "###     ['T001', 'T002', 'T003', 'T004']\n",
    "###     ['Aqil Allahverdiyev', 'Ziyadkhan Taghiyev', 'Rasim Abdullayev', 'Elvin Ibrahimov']\n",
    "###     [86, 99, 79, 62]\n",
    "\n",
    "\n",
    "#### [{'T001': {'Aqil Allahverdiyev': 86}}, {'T002': {'Ziyadkhan Taghiyev': 99}}, {'T003': {'Rasim Abdullayev': 79}}, {'T004': {'Elvin Ibrahimov': 62}}]\n",
    "\n",
    "# Məsələ 6\n",
    "# Sizə aşağıdakı kimi list verilmişdir!\n",
    "#    [{'id': '#FF0000', 'color': 'Red'}, {'id': '#800000', 'color': 'Maroon'}, {'id': '#FFFF00', 'color': 'Yellow'}, {'id': '#808000', 'color': 'Olive'}]\n",
    "# Listdən: #FF0000 silin və nəticə aşağıdakı kimi olsun!\n",
    "# [{'id': '#800000', 'color': 'Maroon'}, {'id': '#FFFF00', 'color': 'Yellow'}, {'id': '#808000', 'color': 'Olive'}]"
   ]
  }
 ],
 "metadata": {
  "kernelspec": {
   "display_name": "Python 3",
   "language": "python",
   "name": "python3"
  },
  "language_info": {
   "codemirror_mode": {
    "name": "ipython",
    "version": 3
   },
   "file_extension": ".py",
   "mimetype": "text/x-python",
   "name": "python",
   "nbconvert_exporter": "python",
   "pygments_lexer": "ipython3",
   "version": "3.8.8"
  }
 },
 "nbformat": 4,
 "nbformat_minor": 5
}
