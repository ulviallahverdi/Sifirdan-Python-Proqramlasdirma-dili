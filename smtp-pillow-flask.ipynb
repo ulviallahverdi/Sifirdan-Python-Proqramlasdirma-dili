{
 "cells": [
  {
   "cell_type": "markdown",
   "id": "e8f36cfe",
   "metadata": {},
   "source": [
    "#### SMTP modulu ile email gondermek! # Send mail transfer protocol"
   ]
  },
  {
   "cell_type": "markdown",
   "id": "acc07a1b",
   "metadata": {},
   "source": [
    "https://myaccount.google.com/lesssecureapps"
   ]
  },
  {
   "cell_type": "code",
   "execution_count": 7,
   "id": "8912f56f",
   "metadata": {},
   "outputs": [],
   "source": [
    "#TCP/IP - Transmission Control Protocol - Internet Protocol\n",
    "# email: pythonsmtp3@gmail.com\n",
    "# login: pythonsmtp3@gmail.com\n",
    "#smtp-server : smtp.gmail.com / smtp-relay.gmail.com\n",
    "# Password: Baku2022"
   ]
  },
  {
   "cell_type": "code",
   "execution_count": 11,
   "id": "74da9c5c",
   "metadata": {},
   "outputs": [
    {
     "name": "stdout",
     "output_type": "stream",
     "text": [
      "E-mail ugurlar gonderildi...\n"
     ]
    }
   ],
   "source": [
    "import smtplib\n",
    "from email.mime.multipart import MIMEMultipart\n",
    "from email.mime.text import MIMEText\n",
    "import sys\n",
    "\n",
    "mesaj = MIMEMultipart() # Mail strukturumuzu yaratmaga komek edir\n",
    "\n",
    "mesaj[\"From\"] = \"pythontest3@gmail.com\" # Email kimden gedecek\n",
    "mesaj[\"To\"] = \"allahverdiulvi@gmail.com\" # Kime gondereceyik\n",
    "mesaj[\"Subject\"] = \"SMTP ile mail gondermek\" # Mailin movzusu\n",
    "\n",
    "#Mailin icerisi\n",
    "yazi = \"\"\"\n",
    "\n",
    "Salam, Python ile email gonderirem.\n",
    "Bu ise menim ikinci emailimdir!!!\n",
    "\n",
    "Ulvi Allahverdiyev\n",
    "\n",
    "\"\"\"\n",
    "mesaj_icerisi = MIMEText(yazi,\"plain\") #Mailmizin icerisini bu sinifden yaradcagiq\n",
    "mesaj.attach(mesaj_icerisi) # Mailimizin icerisini mail struktumuza elave edirik\n",
    "\n",
    "try:\n",
    "    mail = smtplib.SMTP(\"smtp.gmail.com\",587) # SMTP obyektimizi yaradiriqi ve gmail smtp serverine-baglaniriq\n",
    "    mail.ehlo() # SMTp serverine ozumuzu tanidiriq\n",
    "    mail.starttls() #Adresimizin ve sifremizin xususi sifreleme metodu ucun vacibdir\n",
    "    mail.login(\"pythonsmtp3\",\"Baku2022\") # SMTP serverine giris edirik, Oz mail adresinizi ve sifremizin yaziriq\n",
    "    mail.sendmail(mesaj[\"From\"],mesaj[\"To\"],mesaj.as_string()) # Mailimizi gonderirik\n",
    "    print(\"E-mail ugurla gonderildi...\")\n",
    "    mail.close() #SMTP serverimizin baglantisini qiririq.\n",
    "    \n",
    "except:\n",
    "    sys.stderr.write(\"E-mail gondermek ugursuz...\") # Herhansi bir baglanti xetasi olanda veya mail gondermek zamani bu xetaniversin\n",
    "    sys.stderr.flush()"
   ]
  },
  {
   "cell_type": "code",
   "execution_count": 12,
   "id": "80ef4ceb",
   "metadata": {},
   "outputs": [],
   "source": [
    "# https://pillow.readthedocs.io/en/stable/"
   ]
  },
  {
   "cell_type": "code",
   "execution_count": null,
   "id": "ff410795",
   "metadata": {},
   "outputs": [],
   "source": []
  }
 ],
 "metadata": {
  "kernelspec": {
   "display_name": "Python 3",
   "language": "python",
   "name": "python3"
  },
  "language_info": {
   "codemirror_mode": {
    "name": "ipython",
    "version": 3
   },
   "file_extension": ".py",
   "mimetype": "text/x-python",
   "name": "python",
   "nbconvert_exporter": "python",
   "pygments_lexer": "ipython3",
   "version": "3.8.8"
  }
 },
 "nbformat": 4,
 "nbformat_minor": 5
}
