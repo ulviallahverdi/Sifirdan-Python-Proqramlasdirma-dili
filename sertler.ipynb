{
 "cells": [
  {
   "cell_type": "code",
   "execution_count": 2,
   "id": "8cd93b2f",
   "metadata": {},
   "outputs": [],
   "source": [
    "# Məntiqi dəyərlər və qarşılaşdırma operatorları\n",
    "# Məntiqi bağlayıcılar və operatoru\n",
    "# Şərtli vəziyyətlər - if else bloku\n",
    "# Şərtli vəziyyətlər - if elif else bloku"
   ]
  },
  {
   "cell_type": "code",
   "execution_count": 3,
   "id": "9a82aafa",
   "metadata": {},
   "outputs": [
    {
     "name": "stdout",
     "output_type": "stream",
     "text": [
      "<class 'bool'>\n"
     ]
    }
   ],
   "source": [
    "# Boolean  - bool()\n",
    "# True ve False\n",
    "\n",
    "a = True\n",
    "print(type(a))"
   ]
  },
  {
   "cell_type": "code",
   "execution_count": 4,
   "id": "ddc67eef",
   "metadata": {},
   "outputs": [
    {
     "name": "stdout",
     "output_type": "stream",
     "text": [
      "<class 'bool'>\n"
     ]
    }
   ],
   "source": [
    "b = False\n",
    "print(type(b))"
   ]
  },
  {
   "cell_type": "code",
   "execution_count": 5,
   "id": "f9e274e2",
   "metadata": {},
   "outputs": [
    {
     "data": {
      "text/plain": [
       "5"
      ]
     },
     "execution_count": 5,
     "metadata": {},
     "output_type": "execute_result"
    }
   ],
   "source": [
    "int(5.5)"
   ]
  },
  {
   "cell_type": "code",
   "execution_count": 6,
   "id": "448c6e76",
   "metadata": {},
   "outputs": [
    {
     "data": {
      "text/plain": [
       "True"
      ]
     },
     "execution_count": 6,
     "metadata": {},
     "output_type": "execute_result"
    }
   ],
   "source": [
    "bool(14.5)"
   ]
  },
  {
   "cell_type": "code",
   "execution_count": 7,
   "id": "f8fc67b7",
   "metadata": {},
   "outputs": [
    {
     "data": {
      "text/plain": [
       "True"
      ]
     },
     "execution_count": 7,
     "metadata": {},
     "output_type": "execute_result"
    }
   ],
   "source": [
    "bool(-5)"
   ]
  },
  {
   "cell_type": "code",
   "execution_count": 8,
   "id": "26a6ed1b",
   "metadata": {},
   "outputs": [
    {
     "data": {
      "text/plain": [
       "True"
      ]
     },
     "execution_count": 8,
     "metadata": {},
     "output_type": "execute_result"
    }
   ],
   "source": [
    "bool(\"salam\")"
   ]
  },
  {
   "cell_type": "code",
   "execution_count": 9,
   "id": "cff227a7",
   "metadata": {},
   "outputs": [
    {
     "data": {
      "text/plain": [
       "True"
      ]
     },
     "execution_count": 9,
     "metadata": {},
     "output_type": "execute_result"
    }
   ],
   "source": [
    "bool(14.5)"
   ]
  },
  {
   "cell_type": "code",
   "execution_count": 10,
   "id": "a91cea32",
   "metadata": {},
   "outputs": [
    {
     "data": {
      "text/plain": [
       "False"
      ]
     },
     "execution_count": 10,
     "metadata": {},
     "output_type": "execute_result"
    }
   ],
   "source": [
    "bool(0)"
   ]
  },
  {
   "cell_type": "code",
   "execution_count": 13,
   "id": "cd71c8cd",
   "metadata": {},
   "outputs": [
    {
     "data": {
      "text/plain": [
       "False"
      ]
     },
     "execution_count": 13,
     "metadata": {},
     "output_type": "execute_result"
    }
   ],
   "source": [
    "bool(\"\")"
   ]
  },
  {
   "cell_type": "code",
   "execution_count": 14,
   "id": "8fac93d9",
   "metadata": {},
   "outputs": [
    {
     "data": {
      "text/plain": [
       "True"
      ]
     },
     "execution_count": 14,
     "metadata": {},
     "output_type": "execute_result"
    }
   ],
   "source": [
    "bool(\" \")"
   ]
  },
  {
   "cell_type": "code",
   "execution_count": 15,
   "id": "eb7663be",
   "metadata": {},
   "outputs": [
    {
     "data": {
      "text/plain": [
       "False"
      ]
     },
     "execution_count": 15,
     "metadata": {},
     "output_type": "execute_result"
    }
   ],
   "source": [
    "bool(0.0)"
   ]
  },
  {
   "cell_type": "code",
   "execution_count": 16,
   "id": "c2f50846",
   "metadata": {},
   "outputs": [
    {
     "data": {
      "text/plain": [
       "False"
      ]
     },
     "execution_count": 16,
     "metadata": {},
     "output_type": "execute_result"
    }
   ],
   "source": [
    "bool(0)"
   ]
  },
  {
   "cell_type": "code",
   "execution_count": 17,
   "id": "8972491e",
   "metadata": {},
   "outputs": [
    {
     "data": {
      "text/plain": [
       "True"
      ]
     },
     "execution_count": 17,
     "metadata": {},
     "output_type": "execute_result"
    }
   ],
   "source": [
    "2 > 1"
   ]
  },
  {
   "cell_type": "code",
   "execution_count": 18,
   "id": "f20179f2",
   "metadata": {},
   "outputs": [
    {
     "data": {
      "text/plain": [
       "True"
      ]
     },
     "execution_count": 18,
     "metadata": {},
     "output_type": "execute_result"
    }
   ],
   "source": [
    "1 < 2"
   ]
  },
  {
   "cell_type": "code",
   "execution_count": 19,
   "id": "9d693729",
   "metadata": {},
   "outputs": [
    {
     "data": {
      "text/plain": [
       "False"
      ]
     },
     "execution_count": 19,
     "metadata": {},
     "output_type": "execute_result"
    }
   ],
   "source": [
    "1 > 2"
   ]
  },
  {
   "cell_type": "code",
   "execution_count": 21,
   "id": "55f562af",
   "metadata": {},
   "outputs": [
    {
     "name": "stdout",
     "output_type": "stream",
     "text": [
      "False\n"
     ]
    }
   ],
   "source": [
    "c = None\n",
    "print(bool(c))"
   ]
  },
  {
   "cell_type": "code",
   "execution_count": 22,
   "id": "1bbc3d4b",
   "metadata": {},
   "outputs": [
    {
     "ename": "NameError",
     "evalue": "name 'test' is not defined",
     "output_type": "error",
     "traceback": [
      "\u001b[1;31m---------------------------------------------------------------------------\u001b[0m",
      "\u001b[1;31mNameError\u001b[0m                                 Traceback (most recent call last)",
      "\u001b[1;32m<ipython-input-22-b95d9406e433>\u001b[0m in \u001b[0;36m<module>\u001b[1;34m\u001b[0m\n\u001b[1;32m----> 1\u001b[1;33m \u001b[0mtest\u001b[0m \u001b[1;33m*\u001b[0m \u001b[1;36m2\u001b[0m\u001b[1;33m\u001b[0m\u001b[1;33m\u001b[0m\u001b[0m\n\u001b[0m",
      "\u001b[1;31mNameError\u001b[0m: name 'test' is not defined"
     ]
    }
   ],
   "source": [
    "test * 2"
   ]
  },
  {
   "cell_type": "code",
   "execution_count": 23,
   "id": "472277f5",
   "metadata": {},
   "outputs": [
    {
     "ename": "TypeError",
     "evalue": "unsupported operand type(s) for *: 'NoneType' and 'int'",
     "output_type": "error",
     "traceback": [
      "\u001b[1;31m---------------------------------------------------------------------------\u001b[0m",
      "\u001b[1;31mTypeError\u001b[0m                                 Traceback (most recent call last)",
      "\u001b[1;32m<ipython-input-23-39d20db95277>\u001b[0m in \u001b[0;36m<module>\u001b[1;34m\u001b[0m\n\u001b[0;32m      1\u001b[0m \u001b[0mtest\u001b[0m \u001b[1;33m=\u001b[0m \u001b[1;32mNone\u001b[0m\u001b[1;33m\u001b[0m\u001b[1;33m\u001b[0m\u001b[0m\n\u001b[1;32m----> 2\u001b[1;33m \u001b[0mtest\u001b[0m \u001b[1;33m*\u001b[0m \u001b[1;36m2\u001b[0m\u001b[1;33m\u001b[0m\u001b[1;33m\u001b[0m\u001b[0m\n\u001b[0m",
      "\u001b[1;31mTypeError\u001b[0m: unsupported operand type(s) for *: 'NoneType' and 'int'"
     ]
    }
   ],
   "source": [
    "test = None\n",
    "test * 2"
   ]
  },
  {
   "cell_type": "code",
   "execution_count": 24,
   "id": "e2e16a5f",
   "metadata": {},
   "outputs": [],
   "source": [
    "# Qarşılaşdırma operatorları\n",
    "# ==  - iki deyer birbirine berbaerdise True, deyilse False deyeri cixardacaq\n",
    "# !=  - iki deyer bir birine beraber deyilse True, diger veziyyetlerde False\n",
    "# >   - soldaki deyer sagdakindan boyukdurse True, eksidirse False olacaq\n",
    "# <   - soldaki deyer sagdakindan kicikdirse True, eksidirse False olacaq\n",
    "# >=  - soldaki deyer sagdakindan boyuk ve beraberdise True, eksidirse False olacaq\n",
    "# <=  - soldaki deyer sagdakindan kicik ve berbaberdise True, eksidirse False olacaq"
   ]
  },
  {
   "cell_type": "code",
   "execution_count": 26,
   "id": "4ad449f9",
   "metadata": {},
   "outputs": [
    {
     "data": {
      "text/plain": [
       "True"
      ]
     },
     "execution_count": 26,
     "metadata": {},
     "output_type": "execute_result"
    }
   ],
   "source": [
    "\"Ulvi\" == \"Ulvi\""
   ]
  },
  {
   "cell_type": "code",
   "execution_count": 27,
   "id": "912acd91",
   "metadata": {},
   "outputs": [
    {
     "data": {
      "text/plain": [
       "False"
      ]
     },
     "execution_count": 27,
     "metadata": {},
     "output_type": "execute_result"
    }
   ],
   "source": [
    "\"Ulvi\" == \"Ulvit\""
   ]
  },
  {
   "cell_type": "code",
   "execution_count": 29,
   "id": "9c5c28fa",
   "metadata": {},
   "outputs": [
    {
     "data": {
      "text/plain": [
       "False"
      ]
     },
     "execution_count": 29,
     "metadata": {},
     "output_type": "execute_result"
    }
   ],
   "source": [
    "\"Rasim\" == \"Ulvi\""
   ]
  },
  {
   "cell_type": "code",
   "execution_count": 30,
   "id": "c7ae9a4c",
   "metadata": {},
   "outputs": [
    {
     "data": {
      "text/plain": [
       "False"
      ]
     },
     "execution_count": 30,
     "metadata": {},
     "output_type": "execute_result"
    }
   ],
   "source": [
    "\"Ulvi\" < \"Rasim\""
   ]
  },
  {
   "cell_type": "code",
   "execution_count": 31,
   "id": "25ef0ebf",
   "metadata": {},
   "outputs": [
    {
     "data": {
      "text/plain": [
       "True"
      ]
     },
     "execution_count": 31,
     "metadata": {},
     "output_type": "execute_result"
    }
   ],
   "source": [
    "2 < 3"
   ]
  },
  {
   "cell_type": "code",
   "execution_count": 32,
   "id": "ac5353b5",
   "metadata": {},
   "outputs": [
    {
     "data": {
      "text/plain": [
       "False"
      ]
     },
     "execution_count": 32,
     "metadata": {},
     "output_type": "execute_result"
    }
   ],
   "source": [
    "3 < 2"
   ]
  },
  {
   "cell_type": "code",
   "execution_count": 33,
   "id": "53bc17a2",
   "metadata": {},
   "outputs": [
    {
     "data": {
      "text/plain": [
       "True"
      ]
     },
     "execution_count": 33,
     "metadata": {},
     "output_type": "execute_result"
    }
   ],
   "source": [
    "54 >= 54"
   ]
  },
  {
   "cell_type": "code",
   "execution_count": 34,
   "id": "427821f5",
   "metadata": {},
   "outputs": [
    {
     "data": {
      "text/plain": [
       "False"
      ]
     },
     "execution_count": 34,
     "metadata": {},
     "output_type": "execute_result"
    }
   ],
   "source": [
    "54 > 54"
   ]
  },
  {
   "cell_type": "code",
   "execution_count": 35,
   "id": "1f20e068",
   "metadata": {},
   "outputs": [
    {
     "data": {
      "text/plain": [
       "True"
      ]
     },
     "execution_count": 35,
     "metadata": {},
     "output_type": "execute_result"
    }
   ],
   "source": [
    "54 == 54"
   ]
  },
  {
   "cell_type": "code",
   "execution_count": 36,
   "id": "5473ee09",
   "metadata": {},
   "outputs": [
    {
     "data": {
      "text/plain": [
       "True"
      ]
     },
     "execution_count": 36,
     "metadata": {},
     "output_type": "execute_result"
    }
   ],
   "source": [
    "38 <= 45"
   ]
  },
  {
   "cell_type": "code",
   "execution_count": 37,
   "id": "44466e58",
   "metadata": {},
   "outputs": [
    {
     "data": {
      "text/plain": [
       "True"
      ]
     },
     "execution_count": 37,
     "metadata": {},
     "output_type": "execute_result"
    }
   ],
   "source": [
    "2 != 3"
   ]
  },
  {
   "cell_type": "code",
   "execution_count": 38,
   "id": "23d2d4a6",
   "metadata": {},
   "outputs": [
    {
     "data": {
      "text/plain": [
       "True"
      ]
     },
     "execution_count": 38,
     "metadata": {},
     "output_type": "execute_result"
    }
   ],
   "source": [
    "3 != 2"
   ]
  },
  {
   "cell_type": "code",
   "execution_count": 39,
   "id": "f2dedbc5",
   "metadata": {},
   "outputs": [
    {
     "data": {
      "text/plain": [
       "False"
      ]
     },
     "execution_count": 39,
     "metadata": {},
     "output_type": "execute_result"
    }
   ],
   "source": [
    "2 != 2"
   ]
  },
  {
   "cell_type": "code",
   "execution_count": 41,
   "id": "54bcbb2d",
   "metadata": {},
   "outputs": [
    {
     "data": {
      "text/plain": [
       "True"
      ]
     },
     "execution_count": 41,
     "metadata": {},
     "output_type": "execute_result"
    }
   ],
   "source": [
    "2 == 2"
   ]
  },
  {
   "cell_type": "code",
   "execution_count": 43,
   "id": "928d8b50",
   "metadata": {},
   "outputs": [],
   "source": [
    "# Məntiqi bağlayıcılar və operatoru"
   ]
  },
  {
   "cell_type": "code",
   "execution_count": 44,
   "id": "48d4cef3",
   "metadata": {},
   "outputs": [
    {
     "data": {
      "text/plain": [
       "True"
      ]
     },
     "execution_count": 44,
     "metadata": {},
     "output_type": "execute_result"
    }
   ],
   "source": [
    "1 < 2 and \"Ulvi\" == \"Ulvi\""
   ]
  },
  {
   "cell_type": "code",
   "execution_count": 45,
   "id": "9ff3605d",
   "metadata": {},
   "outputs": [],
   "source": [
    "# and baglayicisi solu ve sagi mutleq sekilde MUST icra olunmalidir!"
   ]
  },
  {
   "cell_type": "code",
   "execution_count": 48,
   "id": "e7b7a66e",
   "metadata": {},
   "outputs": [
    {
     "data": {
      "text/plain": [
       "False"
      ]
     },
     "execution_count": 48,
     "metadata": {},
     "output_type": "execute_result"
    }
   ],
   "source": [
    "1 > 2 and \"Ulvit\" == \"Ulvi\""
   ]
  },
  {
   "cell_type": "code",
   "execution_count": 52,
   "id": "214fb758",
   "metadata": {},
   "outputs": [
    {
     "data": {
      "text/plain": [
       "False"
      ]
     },
     "execution_count": 52,
     "metadata": {},
     "output_type": "execute_result"
    }
   ],
   "source": [
    "2 == 2 and 3.14 < 2.54 and \"Alma\" != \"Armud\""
   ]
  },
  {
   "cell_type": "code",
   "execution_count": 54,
   "id": "ad583a0d",
   "metadata": {},
   "outputs": [
    {
     "data": {
      "text/plain": [
       "True"
      ]
     },
     "execution_count": 54,
     "metadata": {},
     "output_type": "execute_result"
    }
   ],
   "source": [
    "1 > 2 or \"Ulvi\" != \"Rasim\""
   ]
  },
  {
   "cell_type": "code",
   "execution_count": 55,
   "id": "09cbe537",
   "metadata": {},
   "outputs": [
    {
     "data": {
      "text/plain": [
       "True"
      ]
     },
     "execution_count": 55,
     "metadata": {},
     "output_type": "execute_result"
    }
   ],
   "source": [
    "2 > 3 or \"Ulvi\" != \"Adil\" or 3.14 < 4.32"
   ]
  },
  {
   "cell_type": "code",
   "execution_count": 56,
   "id": "e8af469c",
   "metadata": {},
   "outputs": [
    {
     "data": {
      "text/plain": [
       "True"
      ]
     },
     "execution_count": 56,
     "metadata": {},
     "output_type": "execute_result"
    }
   ],
   "source": [
    "True or False"
   ]
  },
  {
   "cell_type": "code",
   "execution_count": 57,
   "id": "d1cc1c9f",
   "metadata": {},
   "outputs": [
    {
     "data": {
      "text/plain": [
       "False"
      ]
     },
     "execution_count": 57,
     "metadata": {},
     "output_type": "execute_result"
    }
   ],
   "source": [
    "False or False"
   ]
  },
  {
   "cell_type": "code",
   "execution_count": 58,
   "id": "1a9fb154",
   "metadata": {},
   "outputs": [
    {
     "data": {
      "text/plain": [
       "False"
      ]
     },
     "execution_count": 58,
     "metadata": {},
     "output_type": "execute_result"
    }
   ],
   "source": [
    "False and False"
   ]
  },
  {
   "cell_type": "code",
   "execution_count": 59,
   "id": "9ce9a334",
   "metadata": {},
   "outputs": [
    {
     "data": {
      "text/plain": [
       "False"
      ]
     },
     "execution_count": 59,
     "metadata": {},
     "output_type": "execute_result"
    }
   ],
   "source": [
    "True and False"
   ]
  },
  {
   "cell_type": "code",
   "execution_count": 61,
   "id": "d79839ee",
   "metadata": {},
   "outputs": [
    {
     "data": {
      "text/plain": [
       "False"
      ]
     },
     "execution_count": 61,
     "metadata": {},
     "output_type": "execute_result"
    }
   ],
   "source": [
    "# not operatoru\n",
    "not 2 == 2"
   ]
  },
  {
   "cell_type": "code",
   "execution_count": 63,
   "id": "0fd3370b",
   "metadata": {},
   "outputs": [
    {
     "data": {
      "text/plain": [
       "True"
      ]
     },
     "execution_count": 63,
     "metadata": {},
     "output_type": "execute_result"
    }
   ],
   "source": [
    "2 == 2 and not 3 <2"
   ]
  },
  {
   "cell_type": "code",
   "execution_count": 64,
   "id": "6be36ab1",
   "metadata": {},
   "outputs": [
    {
     "data": {
      "text/plain": [
       "False"
      ]
     },
     "execution_count": 64,
     "metadata": {},
     "output_type": "execute_result"
    }
   ],
   "source": [
    "\"Python\" == \"Php\""
   ]
  },
  {
   "cell_type": "code",
   "execution_count": 65,
   "id": "1da00e6c",
   "metadata": {},
   "outputs": [
    {
     "data": {
      "text/plain": [
       "True"
      ]
     },
     "execution_count": 65,
     "metadata": {},
     "output_type": "execute_result"
    }
   ],
   "source": [
    "not \"Python\" == \"Php\""
   ]
  },
  {
   "cell_type": "code",
   "execution_count": 66,
   "id": "adf119cd",
   "metadata": {},
   "outputs": [
    {
     "data": {
      "text/plain": [
       "True"
      ]
     },
     "execution_count": 66,
     "metadata": {},
     "output_type": "execute_result"
    }
   ],
   "source": [
    "not (2.14 > 3.49 or (2 != 2 and \"Ulvi\" == \"Ulvi\"))"
   ]
  },
  {
   "cell_type": "code",
   "execution_count": 67,
   "id": "07ec7dac",
   "metadata": {},
   "outputs": [
    {
     "data": {
      "text/plain": [
       "False"
      ]
     },
     "execution_count": 67,
     "metadata": {},
     "output_type": "execute_result"
    }
   ],
   "source": [
    "\"Taksi\" < \"Kitab\" and (\"Usaq\" < \"Boyuk\" or (not 14))"
   ]
  },
  {
   "cell_type": "code",
   "execution_count": 68,
   "id": "d46e7c46",
   "metadata": {},
   "outputs": [
    {
     "data": {
      "text/plain": [
       "False"
      ]
     },
     "execution_count": 68,
     "metadata": {},
     "output_type": "execute_result"
    }
   ],
   "source": [
    "\"Taksi\" < \"Kitab\""
   ]
  },
  {
   "cell_type": "code",
   "execution_count": 69,
   "id": "3c4d9e25",
   "metadata": {},
   "outputs": [],
   "source": [
    "# Python is case sensitive!!!\n",
    "# Python xarakterlere hessas bir dildir umumiyyetle istenilen diller sensitive case sayilir!!!\n",
    "\n",
    "a = 2\n",
    "A = 3"
   ]
  },
  {
   "cell_type": "code",
   "execution_count": 70,
   "id": "1e99ee87",
   "metadata": {},
   "outputs": [
    {
     "data": {
      "text/plain": [
       "2"
      ]
     },
     "execution_count": 70,
     "metadata": {},
     "output_type": "execute_result"
    }
   ],
   "source": [
    "a"
   ]
  },
  {
   "cell_type": "code",
   "execution_count": 71,
   "id": "1d8389c3",
   "metadata": {},
   "outputs": [
    {
     "data": {
      "text/plain": [
       "3"
      ]
     },
     "execution_count": 71,
     "metadata": {},
     "output_type": "execute_result"
    }
   ],
   "source": [
    "A"
   ]
  },
  {
   "cell_type": "code",
   "execution_count": 72,
   "id": "bb1bfb72",
   "metadata": {},
   "outputs": [
    {
     "data": {
      "text/plain": [
       "False"
      ]
     },
     "execution_count": 72,
     "metadata": {},
     "output_type": "execute_result"
    }
   ],
   "source": [
    "\"a\" < \"A\""
   ]
  },
  {
   "cell_type": "code",
   "execution_count": 75,
   "id": "7857ac62",
   "metadata": {},
   "outputs": [
    {
     "data": {
      "text/plain": [
       "False"
      ]
     },
     "execution_count": 75,
     "metadata": {},
     "output_type": "execute_result"
    }
   ],
   "source": [
    "\"A\" == \"a\""
   ]
  },
  {
   "cell_type": "code",
   "execution_count": 76,
   "id": "82b8ea94",
   "metadata": {},
   "outputs": [
    {
     "data": {
      "text/plain": [
       "True"
      ]
     },
     "execution_count": 76,
     "metadata": {},
     "output_type": "execute_result"
    }
   ],
   "source": [
    "\"a\" > \"Z\""
   ]
  },
  {
   "cell_type": "code",
   "execution_count": 77,
   "id": "42601bd1",
   "metadata": {},
   "outputs": [
    {
     "data": {
      "text/plain": [
       "True"
      ]
     },
     "execution_count": 77,
     "metadata": {},
     "output_type": "execute_result"
    }
   ],
   "source": [
    "\"Usaq\" > \"Boyuk\""
   ]
  },
  {
   "cell_type": "code",
   "execution_count": 78,
   "id": "298d3f40",
   "metadata": {},
   "outputs": [],
   "source": [
    "# Şərtli vəziyyətlər - if else bloku"
   ]
  },
  {
   "cell_type": "code",
   "execution_count": 79,
   "id": "a05321ff",
   "metadata": {},
   "outputs": [
    {
     "name": "stdout",
     "output_type": "stream",
     "text": [
      "9\n"
     ]
    }
   ],
   "source": [
    "a = 2\n",
    "b = 3\n",
    "c = 4\n",
    "print(a+b+c)"
   ]
  },
  {
   "cell_type": "code",
   "execution_count": 80,
   "id": "d292cf27",
   "metadata": {},
   "outputs": [
    {
     "name": "stdout",
     "output_type": "stream",
     "text": [
      "2\n",
      "Salam\n"
     ]
    }
   ],
   "source": [
    "a = 2 # Blok 1-e aid kodlar\n",
    "\n",
    "if (a == 2):\n",
    "    print(a) # Blok 2-ye aid kodlar\n",
    "print(\"Salam\") # Blok 1-e aid kodlar"
   ]
  },
  {
   "cell_type": "code",
   "execution_count": 82,
   "id": "d06a3dec",
   "metadata": {},
   "outputs": [
    {
     "name": "stdout",
     "output_type": "stream",
     "text": [
      "2\n",
      "Salam\n"
     ]
    }
   ],
   "source": [
    "a = 2 # Blok 1-e aid kodlar\n",
    "\n",
    "if (a != 3):\n",
    "    print(a) # Blok 2-ye aid kodlar\n",
    "print(\"Salam\") # Blok 1-e aid kodlar"
   ]
  },
  {
   "cell_type": "code",
   "execution_count": 85,
   "id": "fb715e3b",
   "metadata": {},
   "outputs": [
    {
     "name": "stdout",
     "output_type": "stream",
     "text": [
      "yasinizi daxil edin = 14\n",
      "Bu yere gire bilmezsiniz, cunki yasiniz 18-den asagidir!\n"
     ]
    }
   ],
   "source": [
    "# if bloknunun yazilis qaydasi asagidaki kimidir!!!!\n",
    "# if (şərtimiz):\n",
    "       # if bloku - eger sert duz olsa (True) bu hissedeki kod isleyecek! ve bu hissedeki butun kodlar if blokuna aiddir!\n",
    "       # if bloku - bir deyer girmekle baslayir\n",
    "        # ve edilecek islerde burada olur\n",
    "        \n",
    "# 18 yasin olub olmadigini yoxlamaq ucun bir kontrol edirik\n",
    "age = int(input(\"yasinizi daxil edin = \"))\n",
    "\n",
    "if (age < 18):\n",
    "    print(\"Bu yere gire bilmezsiniz, cunki yasiniz 18-den asagidir!\")\n"
   ]
  },
  {
   "cell_type": "code",
   "execution_count": 88,
   "id": "2240f371",
   "metadata": {},
   "outputs": [
    {
     "name": "stdout",
     "output_type": "stream",
     "text": [
      "a = -6\n",
      "Menfi reqemdir\n"
     ]
    }
   ],
   "source": [
    "# reqemin musbet veya menfi oldugunu yoxlayaq\n",
    "reqem = int(input(\"a = \"))\n",
    "\n",
    "if (reqem < 0):\n",
    "    print(\"Menfi reqemdir\")"
   ]
  },
  {
   "cell_type": "code",
   "execution_count": 89,
   "id": "1fa606a9",
   "metadata": {},
   "outputs": [
    {
     "data": {
      "text/plain": [
       "True"
      ]
     },
     "execution_count": 89,
     "metadata": {},
     "output_type": "execute_result"
    }
   ],
   "source": [
    "-6 < 0"
   ]
  },
  {
   "cell_type": "code",
   "execution_count": 92,
   "id": "d45eaffd",
   "metadata": {},
   "outputs": [
    {
     "name": "stdout",
     "output_type": "stream",
     "text": [
      "yasinizi daxil edin = 24\n",
      "Mekana xos geldiniz!!!!\n"
     ]
    }
   ],
   "source": [
    "age = int(input(\"yasinizi daxil edin = \"))\n",
    "\n",
    "if (age < 18):\n",
    "    print(\"Bu yere gire bilmezsiniz, cunki yasiniz 18-den asagidir!\")\n",
    "print(\"Mekana xos geldiniz!!!!\")"
   ]
  },
  {
   "cell_type": "code",
   "execution_count": 93,
   "id": "45ca1635",
   "metadata": {},
   "outputs": [
    {
     "name": "stdout",
     "output_type": "stream",
     "text": [
      "yasinizi daxil edin = 17\n",
      "Bu yere gire bilmezsiniz, cunki yasiniz 18-den asagidir!\n",
      "Mekana xos geldiniz!!!!\n"
     ]
    }
   ],
   "source": [
    "age = int(input(\"yasinizi daxil edin = \"))\n",
    "\n",
    "if (age < 18):\n",
    "    print(\"Bu yere gire bilmezsiniz, cunki yasiniz 18-den asagidir!\")\n",
    "print(\"Mekana xos geldiniz!!!!\")\n"
   ]
  },
  {
   "cell_type": "code",
   "execution_count": 94,
   "id": "07f67010",
   "metadata": {},
   "outputs": [
    {
     "name": "stdout",
     "output_type": "stream",
     "text": [
      "yasinizi daxil edin = 17\n",
      "Bu yere gire bilmezsiniz, cunki yasiniz 18-den asagidir!\n"
     ]
    }
   ],
   "source": [
    "# else bloku ise girir !!!!\n",
    "age = int(input(\"yasinizi daxil edin = \"))\n",
    "\n",
    "if (age < 18):\n",
    "    print(\"Bu yere gire bilmezsiniz, cunki yasiniz 18-den asagidir!\")\n",
    "else:\n",
    "    print(\"Mekana xos geldiniz!!!!\")\n"
   ]
  },
  {
   "cell_type": "code",
   "execution_count": 95,
   "id": "1f899235",
   "metadata": {},
   "outputs": [
    {
     "name": "stdout",
     "output_type": "stream",
     "text": [
      "yasinizi daxil edin = 24\n",
      "Mekana xos geldiniz!!!!\n"
     ]
    }
   ],
   "source": [
    "# else bloku ise girir !!!!\n",
    "age = int(input(\"yasinizi daxil edin = \"))\n",
    "\n",
    "if (age < 18):\n",
    "    print(\"Bu yere gire bilmezsiniz, cunki yasiniz 18-den asagidir!\")\n",
    "else: # diger butun hallarda\n",
    "    print(\"Mekana xos geldiniz!!!!\")\n"
   ]
  },
  {
   "cell_type": "code",
   "execution_count": 96,
   "id": "509f22e8",
   "metadata": {},
   "outputs": [
    {
     "ename": "SyntaxError",
     "evalue": "invalid syntax (<ipython-input-96-799a5525ec80>, line 1)",
     "output_type": "error",
     "traceback": [
      "\u001b[1;36m  File \u001b[1;32m\"<ipython-input-96-799a5525ec80>\"\u001b[1;36m, line \u001b[1;32m1\u001b[0m\n\u001b[1;33m    else:\u001b[0m\n\u001b[1;37m    ^\u001b[0m\n\u001b[1;31mSyntaxError\u001b[0m\u001b[1;31m:\u001b[0m invalid syntax\n"
     ]
    }
   ],
   "source": [
    "else:\n",
    "    print(\"salam\")"
   ]
  },
  {
   "cell_type": "code",
   "execution_count": 97,
   "id": "42b64eff",
   "metadata": {},
   "outputs": [
    {
     "name": "stdout",
     "output_type": "stream",
     "text": [
      "yasinizi daxil edin = 24\n",
      "Mekana xos geldiniz!\n"
     ]
    }
   ],
   "source": [
    "# if - elif - else\n",
    "# else bloku ise girir !!!!\n",
    "age = int(input(\"yasinizi daxil edin = \"))\n",
    "\n",
    "if (age < 18):\n",
    "    print(\"Bu yere gire bilmezsiniz, cunki yasiniz 18-den asagidir!\")\n",
    "if (age >= 18):\n",
    "    print(\"Mekana xos geldiniz!\")\n",
    "else:\n",
    "    print(\"diger butun neticeler\")"
   ]
  },
  {
   "cell_type": "code",
   "execution_count": 100,
   "id": "0c8f174c",
   "metadata": {},
   "outputs": [
    {
     "name": "stdout",
     "output_type": "stream",
     "text": [
      "b= 5\n",
      "b - 0 dan boyukdur\n"
     ]
    }
   ],
   "source": [
    "b = int(input(\"b= \"))\n",
    "\n",
    "if b > 0:\n",
    "    print(\"b - 0 dan boyukdur\")\n",
    "elif b == 0:\n",
    "    print(\"b - 0 a beraberdir\")\n",
    "elif b < 0:\n",
    "    print(\"b - 0 dan kicikdir!\")\n",
    "elif b != 0:\n",
    "    print(\"B 0-a beraber deyil\")\n",
    "elif b== 5:\n",
    "    print(\"b 5-e baerbadir\")\n",
    "else:\n",
    "    print(\"diger butun hallar\")"
   ]
  },
  {
   "cell_type": "code",
   "execution_count": 101,
   "id": "a8b4e9e6",
   "metadata": {},
   "outputs": [
    {
     "name": "stdout",
     "output_type": "stream",
     "text": [
      "Zehmet olmasa bir emeliyyat secin: 2\n",
      "emeliyyat 2 secildi\n"
     ]
    }
   ],
   "source": [
    "emeliyyat = int(input(\"Zehmet olmasa bir emeliyyat secin: \")) # 3 eded emeliyyatimiz olsun\n",
    "\n",
    "if emeliyyat == 1:\n",
    "    print(\"emeliyyat 1 secildi\")\n",
    "elif emeliyyat == 2:\n",
    "    print(\"emeliyyat 2 secildi\")\n",
    "elif emeliyyat == 3:\n",
    "    print(\"emeliyyat 3 secildi!\")\n",
    "else:\n",
    "    print(\"zehmet olmasa bir emeliyyat secin\")"
   ]
  },
  {
   "cell_type": "code",
   "execution_count": 102,
   "id": "b68b8ba0",
   "metadata": {},
   "outputs": [
    {
     "name": "stdout",
     "output_type": "stream",
     "text": [
      "Zehmet olmasa bir emeliyyat secin: 3\n",
      "emeliyyat 3 secildi!\n"
     ]
    }
   ],
   "source": [
    "emeliyyat = int(input(\"Zehmet olmasa bir emeliyyat secin: \")) # 3 eded emeliyyatimiz olsun\n",
    "\n",
    "if emeliyyat == 1:\n",
    "    print(\"emeliyyat 1 secildi\")\n",
    "elif emeliyyat == 2:\n",
    "    print(\"emeliyyat 2 secildi\")\n",
    "elif emeliyyat == 3:\n",
    "    print(\"emeliyyat 3 secildi!\")\n",
    "else:\n",
    "    print(\"zehmet olmasa bir emeliyyat secin\")\n"
   ]
  },
  {
   "cell_type": "code",
   "execution_count": 104,
   "id": "d0ec53b0",
   "metadata": {},
   "outputs": [
    {
     "name": "stdout",
     "output_type": "stream",
     "text": [
      "Zehmet olmasa bir emeliyyat secin: 4\n",
      "zehmet olmasa duzgun bir emeliyyat secin\n"
     ]
    }
   ],
   "source": [
    "emeliyyat = int(input(\"Zehmet olmasa bir emeliyyat secin: \")) # 3 eded emeliyyatimiz olsun\n",
    "\n",
    "if emeliyyat == 1:\n",
    "    print(\"emeliyyat 1 secildi\")\n",
    "elif emeliyyat == 2:\n",
    "    print(\"emeliyyat 2 secildi\")\n",
    "elif emeliyyat == 3:\n",
    "    print(\"emeliyyat 3 secildi!\")\n",
    "else:\n",
    "    print(\"zehmet olmasa duzgun bir emeliyyat secin\")\n"
   ]
  },
  {
   "cell_type": "code",
   "execution_count": 105,
   "id": "e498afe4",
   "metadata": {},
   "outputs": [
    {
     "ename": "SyntaxError",
     "evalue": "invalid syntax (<ipython-input-105-69c191100b1a>, line 3)",
     "output_type": "error",
     "traceback": [
      "\u001b[1;36m  File \u001b[1;32m\"<ipython-input-105-69c191100b1a>\"\u001b[1;36m, line \u001b[1;32m3\u001b[0m\n\u001b[1;33m    elif emeliyyat == 2:\u001b[0m\n\u001b[1;37m    ^\u001b[0m\n\u001b[1;31mSyntaxError\u001b[0m\u001b[1;31m:\u001b[0m invalid syntax\n"
     ]
    }
   ],
   "source": [
    "emeliyyat = int(input(\"Zehmet olmasa bir emeliyyat secin: \")) # 3 eded emeliyyatimiz olsun\n",
    "\n",
    "elif emeliyyat == 2:\n",
    "    print(\"emeliyyat 2 secildi\")\n",
    "elif emeliyyat == 3:\n",
    "    print(\"emeliyyat 3 secildi!\")\n",
    "else:\n",
    "    print(\"zehmet olmasa duzgun bir emeliyyat secin\")\n"
   ]
  },
  {
   "cell_type": "code",
   "execution_count": 110,
   "id": "197dd71d",
   "metadata": {},
   "outputs": [
    {
     "name": "stdout",
     "output_type": "stream",
     "text": [
      "Qiymetinizi daxil edin: 93\n",
      "BA\n"
     ]
    }
   ],
   "source": [
    "# elif - else if\n",
    "note = float(input(\"Qiymetinizi daxil edin: \"))\n",
    "\n",
    "if note >= 95:\n",
    "    print(\"AA\")\n",
    "elif note >= 85:\n",
    "    print(\"BA\")\n",
    "elif note >= 90:\n",
    "    print(\"BA\")\n",
    "elif note >= 80:\n",
    "    print(\"BB\")\n",
    "elif note >= 75:\n",
    "    print(\"CB\")\n",
    "elif note >= 70:\n",
    "    print(\"CC\")\n",
    "elif note >= 65:\n",
    "    print(\"DC\")\n",
    "elif note >= 60:\n",
    "    print(\"DD\")\n",
    "else:\n",
    "    print(\"imtahandan kesildiniz!\")\n",
    "    "
   ]
  },
  {
   "cell_type": "code",
   "execution_count": 112,
   "id": "9d637f70",
   "metadata": {},
   "outputs": [
    {
     "name": "stdout",
     "output_type": "stream",
     "text": [
      "Qiymetinizi daxil edin: 99\n",
      "AA\n",
      "BA\n",
      "BA\n",
      "BB\n",
      "CB\n",
      "CC\n",
      "DC\n",
      "DD\n"
     ]
    }
   ],
   "source": [
    "# elif - else if\n",
    "note = float(input(\"Qiymetinizi daxil edin: \"))\n",
    "\n",
    "if note >= 95:\n",
    "    print(\"AA\")\n",
    "if note >= 85:\n",
    "    print(\"BA\")\n",
    "if note >= 90:\n",
    "    print(\"BA\")\n",
    "if note >= 80:\n",
    "    print(\"BB\")\n",
    "if note >= 75:\n",
    "    print(\"CB\")\n",
    "if note >= 70:\n",
    "    print(\"CC\")\n",
    "if note >= 65:\n",
    "    print(\"DC\")\n",
    "if note >= 60:\n",
    "    print(\"DD\")\n",
    "else:\n",
    "    print(\"imtahandan kesildiniz!\")\n",
    "    "
   ]
  },
  {
   "cell_type": "code",
   "execution_count": 116,
   "id": "bb5110b0",
   "metadata": {},
   "outputs": [
    {
     "name": "stdout",
     "output_type": "stream",
     "text": [
      "**************\n",
      " Istifadeci Girisi \n",
      " ****************\n",
      "Istifadeci adinizi girin:ulvi\n",
      "Sifrenizi girin: 12345\n",
      "Sisteme ugurla giris etdiniz!\n"
     ]
    }
   ],
   "source": [
    "# Istifadeci adi ve sifre ile sisteme giris (Authentication) proqrami yazaq!\n",
    "print(\"**************\\n Istifadeci Girisi \\n ****************\")\n",
    "\n",
    "istifadeci_adi = \"ulvi\" # ssitemde qeydiyyatda olan login\n",
    "sifre = \"12345\" # sistemde qeydiyyatli olan sifreniz\n",
    "\n",
    "login = input(\"Istifadeci adinizi girin:\")\n",
    "password = input(\"Sifrenizi girin: \")\n",
    "\n",
    "if (login != istifadeci_adi and password == sifre):\n",
    "    print(\"Istifadeci adiniz yalnisdir!\")\n",
    "elif (login == istifadeci_adi and password != sifre):\n",
    "    print(\"Sifreniz yanlisdir\")\n",
    "elif (login != istifadeci_adi and password != sifre):\n",
    "    print(\"Sifreniz ve istifadeci adiniz yalnisdir!\")\n",
    "else:\n",
    "    print(\"Sisteme ugurla giris etdiniz!\")"
   ]
  },
  {
   "cell_type": "code",
   "execution_count": 121,
   "id": "e70a2c32",
   "metadata": {},
   "outputs": [
    {
     "name": "stdout",
     "output_type": "stream",
     "text": [
      "\n",
      "---------------------------------------\n",
      "Calculator proqramimiza xosgeldiniz!\n",
      "\n",
      "1. Toplama emeliyyati\n",
      "2. Cixma emeliyyati\n",
      "3. Vurma emeliyyati\n",
      "4. Bolme emeliyyati\n",
      "----------------------------------------\n",
      "\n",
      "birinci reqem33\n",
      "ikinci reqem44\n",
      "Emeliyyat nomresini secin: 6\n",
      "Zehmet olmasa duzgun bir emeliyyat secin!\n"
     ]
    }
   ],
   "source": [
    "print(\"\"\"\n",
    "---------------------------------------\n",
    "Calculator proqramimiza xosgeldiniz!\n",
    "\n",
    "1. Toplama emeliyyati\n",
    "2. Cixma emeliyyati\n",
    "3. Vurma emeliyyati\n",
    "4. Bolme emeliyyati\n",
    "----------------------------------------\n",
    "\"\"\")\n",
    "\n",
    "a = int(input(\"birinci reqem\"))\n",
    "b = int(input(\"ikinci reqem\"))\n",
    "\n",
    "emeliyyat = input(\"Emeliyyat nomresini secin: \")\n",
    "\n",
    "if (emeliyyat == \"1\"): # Toplama emeliyyati\n",
    "    print(\"{} ile {}-nin toplami {}-dir.\".format(a,b,a+b))\n",
    "elif (emeliyyat == \"2\"): # Cixma emeliyyati\n",
    "    print(\"{} ile {}-nin cixarsaq bu {}-dir.\".format(a,b,a-b))\n",
    "elif (emeliyyat == \"3\"): # Vurma emeliyyati\n",
    "    print(\"{} ile {}-nin hasili {}-dir.\".format(a,b,a*b))\n",
    "elif (emeliyyat == \"4\"): # Bolme emeliyyati\n",
    "    print(\"{} ile {}-nin bolunse bu {}-dir.\".format(a,b,a/b))\n",
    "else:\n",
    "    print(\"Zehmet olmasa duzgun bir emeliyyat secin!\")\n",
    "\n",
    "\n",
    "\n",
    "    \n",
    "\n"
   ]
  },
  {
   "cell_type": "code",
   "execution_count": null,
   "id": "d34619dd",
   "metadata": {},
   "outputs": [],
   "source": []
  }
 ],
 "metadata": {
  "kernelspec": {
   "display_name": "Python 3",
   "language": "python",
   "name": "python3"
  },
  "language_info": {
   "codemirror_mode": {
    "name": "ipython",
    "version": 3
   },
   "file_extension": ".py",
   "mimetype": "text/x-python",
   "name": "python",
   "nbconvert_exporter": "python",
   "pygments_lexer": "ipython3",
   "version": "3.8.8"
  }
 },
 "nbformat": 4,
 "nbformat_minor": 5
}
